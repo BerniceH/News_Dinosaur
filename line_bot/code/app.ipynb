{
 "cells": [
  {
   "cell_type": "code",
   "execution_count": 1,
   "metadata": {},
   "outputs": [
    {
     "data": {
      "text/plain": [
       "'\\n    1.建立跟redis的連線\\n    2.抓secret_key裡面的資料\\n    3.啟用API伺服器基本樣板，啟用伺服器基本\\n    4.撰寫用戶關注事件發生時的動作(follow event)\\n    5.收到按鈕（postback）的封包後(postback event)\\n    6.針對message event的設定\\n    7.啟動server\\n\\n'"
      ]
     },
     "execution_count": 1,
     "metadata": {},
     "output_type": "execute_result"
    }
   ],
   "source": [
    "\"\"\"\n",
    "    1.建立跟redis的連線\n",
    "    2.抓secret_key裡面的資料\n",
    "    3.啟用API伺服器基本樣板，啟用伺服器基本\n",
    "    4.撰寫用戶關注事件發生時的動作(follow event)\n",
    "    5.收到按鈕（postback）的封包後(postback event)\n",
    "    6.針對message event的設定\n",
    "    7.啟動server\n",
    "\n",
    "\"\"\""
   ]
  },
  {
   "cell_type": "code",
   "execution_count": 2,
   "metadata": {},
   "outputs": [
    {
     "name": "stdout",
     "output_type": "stream",
     "text": [
      "Requirement already satisfied: line-bot-sdk in /opt/conda/lib/python3.7/site-packages (1.8.0)\n",
      "Requirement already satisfied: future in /opt/conda/lib/python3.7/site-packages (from line-bot-sdk) (0.17.1)\n",
      "Requirement already satisfied: requests>=2.0 in /opt/conda/lib/python3.7/site-packages (from line-bot-sdk) (2.21.0)\n",
      "Requirement already satisfied: chardet<3.1.0,>=3.0.2 in /opt/conda/lib/python3.7/site-packages (from requests>=2.0->line-bot-sdk) (3.0.4)\n",
      "Requirement already satisfied: idna<2.9,>=2.5 in /opt/conda/lib/python3.7/site-packages (from requests>=2.0->line-bot-sdk) (2.8)\n",
      "Requirement already satisfied: certifi>=2017.4.17 in /opt/conda/lib/python3.7/site-packages (from requests>=2.0->line-bot-sdk) (2018.11.29)\n",
      "Requirement already satisfied: urllib3<1.25,>=1.21.1 in /opt/conda/lib/python3.7/site-packages (from requests>=2.0->line-bot-sdk) (1.24.1)\n"
     ]
    }
   ],
   "source": [
    "#正式上線時要放在dockerfile中\n",
    "!pip install line-bot-sdk\n"
   ]
  },
  {
   "cell_type": "code",
   "execution_count": 3,
   "metadata": {},
   "outputs": [],
   "source": [
    "import os \n",
    "\n",
    "#擷取EC2裡面的ip位置，主要用於test.py\n",
    "#ip_location=os.environ.get('IPA_ENV')\n",
    "#請改成自己律定API Server的container name\n",
    "ip_location='chatbot_api'\n"
   ]
  },
  {
   "cell_type": "code",
   "execution_count": 4,
   "metadata": {},
   "outputs": [],
   "source": [
    "\"\"\"\n",
    "\n",
    "    2.抓secret_key裡面的資料（由於是本機執行，所以secret_key可放在本機，之後要上AWS，要放在S3，不能放在github，有安全顧慮）\n",
    "    \n",
    "\n",
    "\"\"\"\n",
    "# 載入json處理套件\n",
    "import json\n",
    "\n",
    "# 載入基礎設定檔，本機執行所以路徑可以相對位置，在test.py要改成絕對路徑，因為是使用kernel開啟\n",
    "secretFile=json.load(open(\"./secret_key\",'r'))\n",
    "\n",
    "# 從linebot 套件包裡引用 LineBotApi 與 WebhookHandler 類別\n",
    "from linebot import (\n",
    "    LineBotApi, WebhookHandler\n",
    ")\n",
    "\n",
    "# channel_access_token是用於傳送封包去給line的認證使用類似這個是私鑰，而公鑰已經丟到line那邊，拿著這個就可以有VIP特權\n",
    "line_bot_api = LineBotApi(secretFile.get(\"channel_access_token\"))\n",
    "\n",
    "# secret_key是用於當line傳送封包過來時確定line是否為本尊，沒有被仿冒\n",
    "handler = WebhookHandler(secretFile.get(\"secret_key\"))\n",
    "\n",
    "# rich_menu_id用於將所指定的rich menu綁定到加好友的用戶上\n",
    "menu_id = secretFile.get(\"rich_menu_id\")\n",
    "server_url = secretFile.get(\"server_url\")\n"
   ]
  },
  {
   "cell_type": "code",
   "execution_count": 5,
   "metadata": {},
   "outputs": [],
   "source": [
    "\"\"\"\n",
    "\n",
    "  3.啟用伺服器基本樣板，啟用伺服器基本 \n",
    "\n",
    "\"\"\"\n",
    "\n",
    "# 引用Web Server套件\n",
    "from flask import Flask, request, abort\n",
    "\n",
    "# 從linebot 套件包裡引用 LineBotApi 與 WebhookHandler 類別\n",
    "from linebot import (\n",
    "    LineBotApi, WebhookHandler\n",
    ")\n",
    "\n",
    "# 引用無效簽章錯誤\n",
    "from linebot.exceptions import (\n",
    "    InvalidSignatureError\n",
    ")\n",
    "\n",
    "# 載入json處理套件\n",
    "import json\n",
    "\n",
    "\n",
    "# 設定Server啟用細節，這邊使用相對位置，test.py中使用絕對位置，因為是使用kernel開啟\n",
    "app = Flask(__name__,static_url_path = \"/images\" , static_folder = \"./images/\")\n",
    "\n",
    "\n",
    "# 啟動server對外接口，使Line能丟消息進來\n",
    "@app.route(\"/\", methods=['POST'])\n",
    "def callback():\n",
    "    # get X-Line-Signature header value\n",
    "    signature = request.headers['X-Line-Signature']\n",
    "\n",
    "    # get request body as text\n",
    "    body = request.get_data(as_text=True)\n",
    "    app.logger.info(\"Request body: \" + body)\n",
    "\n",
    "    # handle webhook body\n",
    "    try:\n",
    "        handler.handle(body, signature)\n",
    "    except InvalidSignatureError:\n",
    "        abort(400)\n",
    "\n",
    "    return 'OK'\n",
    "\n",
    "#製作一個測試用接口\n",
    "@app.route('/hello',methods=['GET'])\n",
    "def hello():\n",
    "    return 'Hello World!!'"
   ]
  },
  {
   "cell_type": "code",
   "execution_count": 6,
   "metadata": {},
   "outputs": [],
   "source": [
    "'''\n",
    "\n",
    "    4.撰寫用戶關注事件發生時的動作\n",
    "        1. 製作並定義旋轉門選單、flexbubble樣板選單\n",
    "        2. 取得用戶個資，並存回伺服器\n",
    "        3. 把先前製作好的自定義菜單，與用戶做綁定\n",
    "        4. 回應用戶，歡迎用的文字消息、圖片、及旋轉門選單\n",
    "        5. 製作用戶的redis資料\n",
    "\n",
    "'''\n",
    "# 將消息模型，文字收取消息與文字寄發消息，Follow事件引入\n",
    "from linebot.models import (\n",
    "    MessageEvent, FollowEvent, JoinEvent,\n",
    "    TextSendMessage, TemplateSendMessage,\n",
    "    TextMessage, ButtonsTemplate,\n",
    "    PostbackTemplateAction, MessageTemplateAction,\n",
    "    URITemplateAction,ImageSendMessage,CarouselTemplate,CarouselColumn,\n",
    "    FlexSendMessage,BubbleContainer,StickerSendMessage,ImageSendMessage\n",
    ")\n",
    "\n",
    "# 載入requests套件\n",
    "import requests\n"
   ]
  },
  {
   "cell_type": "markdown",
   "metadata": {},
   "source": [
    "#每日熱門推播內容的json格式\n",
    "flexBubbleContainerJsonString_dailyNews=\"\"\"\n",
    "{\n",
    "    \"type\": \"carousel\",\n",
    "    \"contents\": [\n",
    "      {\n",
    "        \"type\": \"bubble\",\n",
    "        \"hero\": {\n",
    "          \"type\": \"image\",\n",
    "          \"url\": \"https://cdn0.tnwcdn.com/wp-content/blogs.dir/1/files/2011/06/BBCNews1.jpg\",\n",
    "          \"size\": \"full\",\n",
    "          \"aspectRatio\": \"20:13\",\n",
    "          \"aspectMode\": \"cover\",\n",
    "          \"action\": {\n",
    "            \"type\": \"uri\",\n",
    "            \"label\": \"推播新聞1\",\n",
    "            \"uri\": \"https://www.google.com.tw/\"\n",
    "          }\n",
    "        },\n",
    "        \"body\": {\n",
    "          \"type\": \"box\",\n",
    "          \"layout\": \"vertical\",\n",
    "          \"spacing\": \"sm\",\n",
    "          \"contents\": [\n",
    "            {\n",
    "              \"type\": \"text\",\n",
    "              \"text\": \"熱門新聞\",\n",
    "              \"size\": \"xs\",\n",
    "              \"color\": \"#EA3E0D\"\n",
    "            },\n",
    "            {\n",
    "              \"type\": \"text\",\n",
    "              \"text\": \"推播新聞:標題1\",\n",
    "              \"size\": \"xl\",\n",
    "              \"weight\": \"bold\",\n",
    "              \"action\": {\n",
    "                \"type\": \"uri\",\n",
    "                \"label\": \"推播新聞1\",\n",
    "                \"uri\": \"https://www.google.com.tw/\"\n",
    "              },\n",
    "              \"wrap\": true\n",
    "            },\n",
    "            {\n",
    "              \"type\": \"box\",\n",
    "              \"layout\": \"baseline\",\n",
    "              \"flex\": 1,\n",
    "              \"contents\": [\n",
    "                {\n",
    "                  \"type\": \"text\",\n",
    "                  \"text\": \"新聞1:關鍵字\",\n",
    "                  \"flex\": 0,\n",
    "                  \"size\": \"lg\",\n",
    "                  \"weight\": \"regular\",\n",
    "                  \"action\": {\n",
    "                    \"type\": \"uri\",\n",
    "                    \"label\": \"推播新聞1\",\n",
    "                    \"uri\": \"https://www.google.com.tw/\"\n",
    "                  },\n",
    "                  \"wrap\": true\n",
    "                }\n",
    "              ]\n",
    "            },\n",
    "            {\n",
    "              \"type\": \"text\",\n",
    "              \"text\": \"新聞來源1\",\n",
    "              \"flex\": 0,\n",
    "              \"margin\": \"none\",\n",
    "              \"size\": \"xs\",\n",
    "              \"align\": \"end\",\n",
    "              \"gravity\": \"bottom\",\n",
    "              \"color\": \"#6B69C5\",\n",
    "              \"action\": {\n",
    "                \"type\": \"uri\",\n",
    "                \"label\": \"推播新聞3\",\n",
    "                \"uri\": \"https://www.google.com.tw/\"\n",
    "              },\n",
    "              \"wrap\": true\n",
    "            }\n",
    "          ]\n",
    "        },\n",
    "        \"footer\": {\n",
    "          \"type\": \"box\",\n",
    "          \"layout\": \"vertical\",\n",
    "          \"spacing\": \"sm\",\n",
    "          \"contents\": [\n",
    "            {\n",
    "              \"type\": \"button\",\n",
    "              \"action\": {\n",
    "                \"type\": \"uri\",\n",
    "                \"label\": \"來源 》新聞標題 1-2\",\n",
    "                \"uri\": \"https://linecorp.com\"\n",
    "              },\n",
    "              \"flex\": 2,\n",
    "              \"color\": \"#AAAAAA\",\n",
    "              \"style\": \"primary\"\n",
    "            },\n",
    "            {\n",
    "              \"type\": \"button\",\n",
    "              \"action\": {\n",
    "                \"type\": \"uri\",\n",
    "                \"label\": \"來源 》 新聞標題 1-3\",\n",
    "                \"uri\": \"https://linecorp.com\"\n",
    "              }\n",
    "            }\n",
    "          ]\n",
    "        }\n",
    "      },\n",
    "      {\n",
    "        \"type\": \"bubble\",\n",
    "        \"hero\": {\n",
    "          \"type\": \"image\",\n",
    "          \"url\": \"https://cdn0.tnwcdn.com/wp-content/blogs.dir/1/files/2011/06/BBCNews1.jpg\",\n",
    "          \"size\": \"full\",\n",
    "          \"aspectRatio\": \"20:13\",\n",
    "          \"aspectMode\": \"cover\",\n",
    "          \"action\": {\n",
    "            \"type\": \"uri\",\n",
    "            \"label\": \"推播新聞2\",\n",
    "            \"uri\": \"https://www.google.com.tw/\"\n",
    "          }\n",
    "        },\n",
    "        \"body\": {\n",
    "          \"type\": \"box\",\n",
    "          \"layout\": \"vertical\",\n",
    "          \"spacing\": \"sm\",\n",
    "          \"contents\": [\n",
    "            {\n",
    "              \"type\": \"text\",\n",
    "              \"text\": \"熱門新聞\",\n",
    "              \"size\": \"xs\",\n",
    "              \"color\": \"#EA3E0D\"\n",
    "            },\n",
    "            {\n",
    "              \"type\": \"text\",\n",
    "              \"text\": \"推播新聞:標題2\",\n",
    "              \"size\": \"xl\",\n",
    "              \"weight\": \"bold\",\n",
    "              \"action\": {\n",
    "                \"type\": \"uri\",\n",
    "                \"label\": \"推播新聞2\",\n",
    "                \"uri\": \"https://www.google.com.tw/\"\n",
    "              },\n",
    "              \"wrap\": true\n",
    "            },\n",
    "            {\n",
    "              \"type\": \"box\",\n",
    "              \"layout\": \"baseline\",\n",
    "              \"flex\": 1,\n",
    "              \"contents\": [\n",
    "                {\n",
    "                  \"type\": \"text\",\n",
    "                  \"text\": \"新聞2:關鍵字\",\n",
    "                  \"flex\": 0,\n",
    "                  \"size\": \"lg\",\n",
    "                  \"weight\": \"regular\",\n",
    "                  \"action\": {\n",
    "                    \"type\": \"uri\",\n",
    "                    \"label\": \"推播新聞2\",\n",
    "                    \"uri\": \"https://www.google.com.tw/\"\n",
    "                  },\n",
    "                  \"wrap\": true\n",
    "                }\n",
    "              ]\n",
    "            },\n",
    "            {\n",
    "              \"type\": \"text\",\n",
    "              \"text\": \"新聞來源2\",\n",
    "              \"flex\": 0,\n",
    "              \"margin\": \"none\",\n",
    "              \"size\": \"xs\",\n",
    "              \"align\": \"end\",\n",
    "              \"gravity\": \"bottom\",\n",
    "              \"color\": \"#6B69C5\",\n",
    "              \"action\": {\n",
    "                \"type\": \"uri\",\n",
    "                \"label\": \"推播新聞2\",\n",
    "                \"uri\": \"https://www.google.com.tw/\"\n",
    "              },\n",
    "              \"wrap\": true\n",
    "            }\n",
    "          ]\n",
    "        },\n",
    "        \"footer\": {\n",
    "          \"type\": \"box\",\n",
    "          \"layout\": \"vertical\",\n",
    "          \"spacing\": \"sm\",\n",
    "          \"contents\": [\n",
    "            {\n",
    "              \"type\": \"button\",\n",
    "              \"action\": {\n",
    "                \"type\": \"uri\",\n",
    "                \"label\": \"來源 》新聞標題 2-2\",\n",
    "                \"uri\": \"https://linecorp.com\"\n",
    "              },\n",
    "              \"flex\": 2,\n",
    "              \"color\": \"#AAAAAA\",\n",
    "              \"style\": \"primary\"\n",
    "            },\n",
    "            {\n",
    "              \"type\": \"button\",\n",
    "              \"action\": {\n",
    "                \"type\": \"uri\",\n",
    "                \"label\": \"來源 》 新聞標題 2-3\",\n",
    "                \"uri\": \"https://linecorp.com\"\n",
    "              }\n",
    "            }\n",
    "          ]\n",
    "        }\n",
    "      },\n",
    "      {\n",
    "        \"type\": \"bubble\",\n",
    "        \"hero\": {\n",
    "          \"type\": \"image\",\n",
    "          \"url\": \"https://cdn0.tnwcdn.com/wp-content/blogs.dir/1/files/2011/06/BBCNews1.jpg\",\n",
    "          \"size\": \"full\",\n",
    "          \"aspectRatio\": \"20:13\",\n",
    "          \"aspectMode\": \"cover\",\n",
    "          \"action\": {\n",
    "            \"type\": \"uri\",\n",
    "            \"label\": \"推播新聞3\",\n",
    "            \"uri\": \"https://www.google.com.tw/\"\n",
    "          }\n",
    "        },\n",
    "        \"body\": {\n",
    "          \"type\": \"box\",\n",
    "          \"layout\": \"vertical\",\n",
    "          \"spacing\": \"sm\",\n",
    "          \"contents\": [\n",
    "            {\n",
    "              \"type\": \"text\",\n",
    "              \"text\": \"熱門新聞\",\n",
    "              \"size\": \"xs\",\n",
    "              \"color\": \"#EA3E0D\"\n",
    "            },\n",
    "            {\n",
    "              \"type\": \"text\",\n",
    "              \"text\": \"推播新聞:標題1\",\n",
    "              \"size\": \"xl\",\n",
    "              \"weight\": \"bold\",\n",
    "              \"action\": {\n",
    "                \"type\": \"uri\",\n",
    "                \"label\": \"推播新聞3\",\n",
    "                \"uri\": \"https://www.google.com.tw/\"\n",
    "              },\n",
    "              \"wrap\": true\n",
    "            },\n",
    "            {\n",
    "              \"type\": \"box\",\n",
    "              \"layout\": \"baseline\",\n",
    "              \"flex\": 1,\n",
    "              \"contents\": [\n",
    "                {\n",
    "                  \"type\": \"text\",\n",
    "                  \"text\": \"新聞2:關鍵字\",\n",
    "                  \"flex\": 0,\n",
    "                  \"size\": \"lg\",\n",
    "                  \"weight\": \"regular\",\n",
    "                  \"action\": {\n",
    "                    \"type\": \"uri\",\n",
    "                    \"label\": \"推播新聞3\",\n",
    "                    \"uri\": \"https://www.google.com.tw/\"\n",
    "                  },\n",
    "                  \"wrap\": true\n",
    "                }\n",
    "              ]\n",
    "            },\n",
    "            {\n",
    "              \"type\": \"text\",\n",
    "              \"text\": \"新聞來源3\",\n",
    "              \"flex\": 0,\n",
    "              \"margin\": \"none\",\n",
    "              \"size\": \"xs\",\n",
    "              \"align\": \"end\",\n",
    "              \"gravity\": \"bottom\",\n",
    "              \"color\": \"#6B69C5\",\n",
    "              \"action\": {\n",
    "                \"type\": \"uri\",\n",
    "                \"label\": \"推播新聞3\",\n",
    "                \"uri\": \"https://www.google.com.tw/\"\n",
    "              },\n",
    "              \"wrap\": true\n",
    "            }\n",
    "          ]\n",
    "        },\n",
    "        \"footer\": {\n",
    "          \"type\": \"box\",\n",
    "          \"layout\": \"vertical\",\n",
    "          \"spacing\": \"sm\",\n",
    "          \"contents\": [\n",
    "            {\n",
    "              \"type\": \"button\",\n",
    "              \"action\": {\n",
    "                \"type\": \"uri\",\n",
    "                \"label\": \"來源3-2 》新聞標題3-2\",\n",
    "                \"uri\": \"https://linecorp.com\"\n",
    "              },\n",
    "              \"flex\": 2,\n",
    "              \"color\": \"#AAAAAA\",\n",
    "              \"style\": \"primary\"\n",
    "            },\n",
    "            {\n",
    "              \"type\": \"button\",\n",
    "              \"action\": {\n",
    "                \"type\": \"uri\",\n",
    "                \"label\": \"來源3-3 》 新聞標題 3-3\",\n",
    "                \"uri\": \"https://linecorp.com\"\n",
    "              }\n",
    "            }\n",
    "          ]\n",
    "        }\n",
    "      }\n",
    "    ]\n",
    "}\"\"\""
   ]
  },
  {
   "cell_type": "code",
   "execution_count": 7,
   "metadata": {},
   "outputs": [],
   "source": [
    "flexBubbleContainerJsonString_dailyNews=\"\"\"\n",
    "{\n",
    "    \"type\": \"carousel\",\n",
    "    \"contents\": [\n",
    "      {\n",
    "        \"type\": \"bubble\",\n",
    "        \"hero\": {\n",
    "          \"type\": \"image\",\n",
    "          \"url\": \"%s\",\n",
    "          \"size\": \"full\",\n",
    "          \"aspectRatio\": \"20:13\",\n",
    "          \"aspectMode\": \"cover\",\n",
    "          \"action\": {\n",
    "            \"type\": \"uri\",\n",
    "            \"label\": \"推播新聞1\",\n",
    "            \"uri\": \"%s\"\n",
    "          }\n",
    "        },\n",
    "        \"body\": {\n",
    "          \"type\": \"box\",\n",
    "          \"layout\": \"vertical\",\n",
    "          \"spacing\": \"sm\",\n",
    "          \"contents\": [\n",
    "            {\n",
    "              \"type\": \"text\",\n",
    "              \"text\": \"熱門新聞\",\n",
    "              \"size\": \"xs\",\n",
    "              \"color\": \"#EA3E0D\"\n",
    "            },\n",
    "            {\n",
    "              \"type\": \"text\",\n",
    "              \"text\": \"%s\",\n",
    "              \"size\": \"xl\",\n",
    "              \"weight\": \"bold\",\n",
    "              \"action\": {\n",
    "                \"type\": \"uri\",\n",
    "                \"label\": \"推播新聞1\",\n",
    "                \"uri\": \"%s\"\n",
    "              },\n",
    "              \"wrap\": true\n",
    "            },\n",
    "            {\n",
    "              \"type\": \"box\",\n",
    "              \"layout\": \"baseline\",\n",
    "              \"flex\": 1,\n",
    "              \"contents\": [\n",
    "                {\n",
    "                  \"type\": \"text\",\n",
    "                  \"text\": \"%s\",\n",
    "                  \"flex\": 0,\n",
    "                  \"size\": \"lg\",\n",
    "                  \"weight\": \"regular\",\n",
    "                  \"wrap\": true\n",
    "                }\n",
    "              ]\n",
    "            },\n",
    "            {\n",
    "              \"type\": \"text\",\n",
    "              \"text\": \"%s\",\n",
    "              \"flex\": 0,\n",
    "              \"margin\": \"none\",\n",
    "              \"size\": \"xs\",\n",
    "              \"align\": \"end\",\n",
    "              \"gravity\": \"bottom\",\n",
    "              \"color\": \"#6B69C5\",\n",
    "              \"wrap\": true\n",
    "            }\n",
    "          ]\n",
    "        },\n",
    "        \"footer\": {\n",
    "          \"type\": \"box\",\n",
    "          \"layout\": \"vertical\",\n",
    "          \"spacing\": \"sm\",\n",
    "          \"contents\": [\n",
    "            {\n",
    "              \"type\": \"button\",\n",
    "              \"action\": {\n",
    "                \"type\": \"uri\",\n",
    "                \"label\": \"%s\",\n",
    "                \"uri\": \"%s\"\n",
    "              },\n",
    "              \"flex\": 2,\n",
    "              \"color\": \"#AAAAAA\",\n",
    "              \"style\": \"primary\"\n",
    "            },\n",
    "            {\n",
    "              \"type\": \"button\",\n",
    "              \"action\": {\n",
    "                \"type\": \"uri\",\n",
    "                \"label\": \"%s\",\n",
    "                \"uri\": \"%s\"\n",
    "              }\n",
    "            }\n",
    "          ]\n",
    "        }\n",
    "      },\n",
    "      {\n",
    "        \"type\": \"bubble\",\n",
    "        \"hero\": {\n",
    "          \"type\": \"image\",\n",
    "          \"url\": \"%s\",\n",
    "          \"size\": \"full\",\n",
    "          \"aspectRatio\": \"20:13\",\n",
    "          \"aspectMode\": \"cover\",\n",
    "          \"action\": {\n",
    "            \"type\": \"uri\",\n",
    "            \"label\": \"推播新聞2\",\n",
    "            \"uri\": \"%s\"\n",
    "          }\n",
    "        },\n",
    "        \"body\": {\n",
    "          \"type\": \"box\",\n",
    "          \"layout\": \"vertical\",\n",
    "          \"spacing\": \"sm\",\n",
    "          \"contents\": [\n",
    "            {\n",
    "              \"type\": \"text\",\n",
    "              \"text\": \"熱門新聞\",\n",
    "              \"size\": \"xs\",\n",
    "              \"color\": \"#EA3E0D\"\n",
    "            },\n",
    "            {\n",
    "              \"type\": \"text\",\n",
    "              \"text\": \"%s\",\n",
    "              \"size\": \"xl\",\n",
    "              \"weight\": \"bold\",\n",
    "              \"action\": {\n",
    "                \"type\": \"uri\",\n",
    "                \"label\": \"推播新聞2\",\n",
    "                \"uri\": \"%s\"\n",
    "              },\n",
    "              \"wrap\": true\n",
    "            },\n",
    "            {\n",
    "              \"type\": \"box\",\n",
    "              \"layout\": \"baseline\",\n",
    "              \"flex\": 1,\n",
    "              \"contents\": [\n",
    "                {\n",
    "                  \"type\": \"text\",\n",
    "                  \"text\": \"%s\",\n",
    "                  \"flex\": 0,\n",
    "                  \"size\": \"lg\",\n",
    "                  \"weight\": \"regular\",\n",
    "                  \"wrap\": true\n",
    "                }\n",
    "              ]\n",
    "            },\n",
    "            {\n",
    "              \"type\": \"text\",\n",
    "              \"text\": \"%s\",\n",
    "              \"flex\": 0,\n",
    "              \"margin\": \"none\",\n",
    "              \"size\": \"xs\",\n",
    "              \"align\": \"end\",\n",
    "              \"gravity\": \"bottom\",\n",
    "              \"color\": \"#6B69C5\",\n",
    "              \"wrap\": true\n",
    "            }\n",
    "          ]\n",
    "        },\n",
    "        \"footer\": {\n",
    "          \"type\": \"box\",\n",
    "          \"layout\": \"vertical\",\n",
    "          \"spacing\": \"sm\",\n",
    "          \"contents\": [\n",
    "            {\n",
    "              \"type\": \"button\",\n",
    "              \"action\": {\n",
    "                \"type\": \"uri\",\n",
    "                \"label\": \"%s\",\n",
    "                \"uri\": \"%s\"\n",
    "              },\n",
    "              \"flex\": 2,\n",
    "              \"color\": \"#AAAAAA\",\n",
    "              \"style\": \"primary\"\n",
    "            },\n",
    "            {\n",
    "              \"type\": \"button\",\n",
    "              \"action\": {\n",
    "                \"type\": \"uri\",\n",
    "                \"label\": \"%s\",\n",
    "                \"uri\": \"%s\"\n",
    "              }\n",
    "            }\n",
    "          ]\n",
    "        }\n",
    "      },\n",
    "      {\n",
    "        \"type\": \"bubble\",\n",
    "        \"hero\": {\n",
    "          \"type\": \"image\",\n",
    "          \"url\": \"%s\",\n",
    "          \"size\": \"full\",\n",
    "          \"aspectRatio\": \"20:13\",\n",
    "          \"aspectMode\": \"cover\",\n",
    "          \"action\": {\n",
    "            \"type\": \"uri\",\n",
    "            \"label\": \"推播新聞3\",\n",
    "            \"uri\": \"%s\"\n",
    "          }\n",
    "        },\n",
    "        \"body\": {\n",
    "          \"type\": \"box\",\n",
    "          \"layout\": \"vertical\",\n",
    "          \"spacing\": \"sm\",\n",
    "          \"contents\": [\n",
    "            {\n",
    "              \"type\": \"text\",\n",
    "              \"text\": \"熱門新聞\",\n",
    "              \"size\": \"xs\",\n",
    "              \"color\": \"#EA3E0D\"\n",
    "            },\n",
    "            {\n",
    "              \"type\": \"text\",\n",
    "              \"text\": \"%s\",\n",
    "              \"size\": \"xl\",\n",
    "              \"weight\": \"bold\",\n",
    "              \"action\": {\n",
    "                \"type\": \"uri\",\n",
    "                \"label\": \"推播新聞3\",\n",
    "                \"uri\": \"%s\"\n",
    "              },\n",
    "              \"wrap\": true\n",
    "            },\n",
    "            {\n",
    "              \"type\": \"box\",\n",
    "              \"layout\": \"baseline\",\n",
    "              \"flex\": 1,\n",
    "              \"contents\": [\n",
    "                {\n",
    "                  \"type\": \"text\",\n",
    "                  \"text\": \"%s\",\n",
    "                  \"flex\": 0,\n",
    "                  \"size\": \"lg\",\n",
    "                  \"weight\": \"regular\",\n",
    "                  \"wrap\": true\n",
    "                }\n",
    "              ]\n",
    "            },\n",
    "            {\n",
    "              \"type\": \"text\",\n",
    "              \"text\": \"%s\",\n",
    "              \"flex\": 0,\n",
    "              \"margin\": \"none\",\n",
    "              \"size\": \"xs\",\n",
    "              \"align\": \"end\",\n",
    "              \"gravity\": \"bottom\",\n",
    "              \"color\": \"#6B69C5\",\n",
    "              \"wrap\": true\n",
    "            }\n",
    "          ]\n",
    "        },\n",
    "        \"footer\": {\n",
    "          \"type\": \"box\",\n",
    "          \"layout\": \"vertical\",\n",
    "          \"spacing\": \"sm\",\n",
    "          \"contents\": [\n",
    "            {\n",
    "              \"type\": \"button\",\n",
    "              \"action\": {\n",
    "                \"type\": \"uri\",\n",
    "                \"label\": \"%s\",\n",
    "                \"uri\": \"%s\"\n",
    "              },\n",
    "              \"flex\": 2,\n",
    "              \"color\": \"#AAAAAA\",\n",
    "              \"style\": \"primary\"\n",
    "            },\n",
    "            {\n",
    "              \"type\": \"button\",\n",
    "              \"action\": {\n",
    "                \"type\": \"uri\",\n",
    "                \"label\": \"%s\",\n",
    "                \"uri\": \"%s\"\n",
    "              }\n",
    "            }\n",
    "          ]\n",
    "        }\n",
    "      }\n",
    "    ]\n",
    "}\"\"\""
   ]
  },
  {
   "cell_type": "code",
   "execution_count": 8,
   "metadata": {},
   "outputs": [],
   "source": [
    "#每日熱門推播json格式\n",
    "flexBubbleContainerJsonString_TLDR=\"\"\"\n",
    "{\n",
    "    \"type\": \"carousel\",\n",
    "    \"contents\": [\n",
    "      {\n",
    "        \"type\": \"bubble\",\n",
    "        \"direction\": \"ltr\",\n",
    "        \"header\": {\n",
    "          \"type\": \"box\",\n",
    "          \"layout\": \"vertical\",\n",
    "          \"contents\": [\n",
    "            {\n",
    "              \"type\": \"text\",\n",
    "              \"text\": \"懶人包《 邱議瑩「陪睡說」》\",\n",
    "              \"size\": \"md\",\n",
    "              \"align\": \"center\",\n",
    "              \"weight\": \"bold\",\n",
    "              \"color\": \"#3F3F3F\"\n",
    "            }\n",
    "          ]\n",
    "        },\n",
    "        \"hero\": {\n",
    "          \"type\": \"image\",\n",
    "          \"url\": \"https://i.ytimg.com/vi/k8poEUlG_UY/maxresdefault.jpg\",\n",
    "          \"size\": \"full\",\n",
    "          \"aspectRatio\": \"1.51:1\",\n",
    "          \"aspectMode\": \"cover\"\n",
    "        },\n",
    "        \"body\": {\n",
    "          \"type\": \"box\",\n",
    "          \"layout\": \"vertical\",\n",
    "          \"contents\": [\n",
    "            {\n",
    "              \"type\": \"text\",\n",
    "              \"text\": \"邱議瑩爆出失言風波，九合一選舉期間，民進黨立委邱議瑩於LINE群組...\",\n",
    "              \"size\": \"xs\",\n",
    "              \"align\": \"start\",\n",
    "              \"color\": \"#5846B6\",\n",
    "              \"wrap\": true\n",
    "            }\n",
    "          ]\n",
    "        },\n",
    "        \"footer\": {\n",
    "          \"type\": \"box\",\n",
    "          \"layout\": \"horizontal\",\n",
    "          \"contents\": [\n",
    "            {\n",
    "              \"type\": \"button\",\n",
    "              \"action\": {\n",
    "                \"type\": \"uri\",\n",
    "                \"label\": \"瞭解更多...\",\n",
    "                \"uri\": \"line://app/1622323314-WBMeekk2\"\n",
    "              },\n",
    "              \"color\": \"#2EC732\",\n",
    "              \"style\": \"primary\"\n",
    "            }\n",
    "          ]\n",
    "        }\n",
    "      },\n",
    "      {\n",
    "        \"type\": \"bubble\",\n",
    "        \"direction\": \"ltr\",\n",
    "        \"header\": {\n",
    "          \"type\": \"box\",\n",
    "          \"layout\": \"vertical\",\n",
    "          \"contents\": [\n",
    "            {\n",
    "              \"type\": \"text\",\n",
    "              \"text\": \"懶人包《「 蜂蜜檸檬」吳蕚洋》\",\n",
    "              \"size\": \"md\",\n",
    "              \"align\": \"center\",\n",
    "              \"gravity\": \"center\",\n",
    "              \"weight\": \"bold\",\n",
    "              \"color\": \"#3F3F3F\"\n",
    "            }\n",
    "          ]\n",
    "        },\n",
    "        \"hero\": {\n",
    "          \"type\": \"image\",\n",
    "          \"url\": \"https://i.ytimg.com/vi/MGMcgB27y0U/maxresdefault.jpg\",\n",
    "          \"size\": \"full\",\n",
    "          \"aspectRatio\": \"1.51:1\",\n",
    "          \"aspectMode\": \"cover\"\n",
    "        },\n",
    "        \"body\": {\n",
    "          \"type\": \"box\",\n",
    "          \"layout\": \"vertical\",\n",
    "          \"contents\": [\n",
    "            {\n",
    "              \"type\": \"text\",\n",
    "              \"text\": \"2018年，台北市長無黨籍候選人吳蕚洋，在電視辯論會上，強力推薦「蜂蜜...\",\n",
    "              \"size\": \"xs\",\n",
    "              \"align\": \"start\",\n",
    "              \"weight\": \"regular\",\n",
    "              \"color\": \"#5846B6\",\n",
    "              \"wrap\": true\n",
    "            }\n",
    "          ]\n",
    "        },\n",
    "        \"footer\": {\n",
    "          \"type\": \"box\",\n",
    "          \"layout\": \"horizontal\",\n",
    "          \"contents\": [\n",
    "            {\n",
    "              \"type\": \"button\",\n",
    "              \"action\": {\n",
    "                \"type\": \"uri\",\n",
    "                \"label\": \"瞭解更多...\",\n",
    "                \"uri\": \"line://app/1622323314-Aag44MMp\"\n",
    "              },\n",
    "              \"color\": \"#2EC732\",\n",
    "              \"style\": \"primary\"\n",
    "            }\n",
    "          ]\n",
    "        }\n",
    "      },\n",
    "      {\n",
    "        \"type\": \"bubble\",\n",
    "        \"direction\": \"ltr\",\n",
    "        \"header\": {\n",
    "          \"type\": \"box\",\n",
    "          \"layout\": \"vertical\",\n",
    "          \"contents\": [\n",
    "            {\n",
    "              \"type\": \"text\",\n",
    "              \"text\": \"懶人包《 金馬獎發言風波》\",\n",
    "              \"align\": \"center\",\n",
    "              \"weight\": \"bold\",\n",
    "              \"color\": \"#3F3F3F\"\n",
    "            }\n",
    "          ]\n",
    "        },\n",
    "        \"hero\": {\n",
    "          \"type\": \"image\",\n",
    "          \"url\": \"https://static01.hket.com/res/v3/image/content/2210000/2211013/1118001_1024.jpg\",\n",
    "          \"size\": \"full\",\n",
    "          \"aspectRatio\": \"1.51:1\",\n",
    "          \"aspectMode\": \"cover\"\n",
    "        },\n",
    "        \"body\": {\n",
    "          \"type\": \"box\",\n",
    "          \"layout\": \"vertical\",\n",
    "          \"contents\": [\n",
    "            {\n",
    "              \"type\": \"text\",\n",
    "              \"text\": \"金馬55版獎典禮上，太陽花紀錄片《我們的青春，在台灣》導演傅榆，上台受獎...\",\n",
    "              \"size\": \"xs\",\n",
    "              \"align\": \"start\",\n",
    "              \"color\": \"#5846B6\",\n",
    "              \"wrap\": true\n",
    "            }\n",
    "          ]\n",
    "        },\n",
    "        \"footer\": {\n",
    "          \"type\": \"box\",\n",
    "          \"layout\": \"horizontal\",\n",
    "          \"contents\": [\n",
    "            {\n",
    "              \"type\": \"button\",\n",
    "              \"action\": {\n",
    "                \"type\": \"uri\",\n",
    "                \"label\": \"瞭解更多..\",\n",
    "                \"uri\": \"line://app/1622323314-XKLeeJJq\"\n",
    "              },\n",
    "              \"color\": \"#2EC732\",\n",
    "              \"style\": \"primary\"\n",
    "            }\n",
    "          ]\n",
    "        }\n",
    "      },\n",
    "      {\n",
    "        \"type\": \"bubble\",\n",
    "        \"direction\": \"ltr\",\n",
    "        \"header\": {\n",
    "          \"type\": \"box\",\n",
    "          \"layout\": \"vertical\",\n",
    "          \"contents\": [\n",
    "            {\n",
    "              \"type\": \"text\",\n",
    "              \"text\": \"懶人包《吳敦義「 母豬說」》\",\n",
    "              \"size\": \"md\",\n",
    "              \"align\": \"center\",\n",
    "              \"weight\": \"bold\",\n",
    "              \"color\": \"#3F3F3F\"\n",
    "            }\n",
    "          ]\n",
    "        },\n",
    "        \"hero\": {\n",
    "          \"type\": \"image\",\n",
    "          \"url\": \"https://i.ytimg.com/vi/seY1Z9cTiTY/maxresdefault.jpg\",\n",
    "          \"size\": \"full\",\n",
    "          \"aspectRatio\": \"1.51:1\",\n",
    "          \"aspectMode\": \"cover\"\n",
    "        },\n",
    "        \"body\": {\n",
    "          \"type\": \"box\",\n",
    "          \"layout\": \"vertical\",\n",
    "          \"contents\": [\n",
    "            {\n",
    "              \"type\": \"text\",\n",
    "              \"text\": \"九合一大選前，吳敦義以國民黨黨主席身分，南下為替高雄市長候選人韓國瑜輔選...\",\n",
    "              \"size\": \"xs\",\n",
    "              \"align\": \"start\",\n",
    "              \"weight\": \"regular\",\n",
    "              \"color\": \"#5846B6\",\n",
    "              \"wrap\": true\n",
    "            }\n",
    "          ]\n",
    "        },\n",
    "        \"footer\": {\n",
    "          \"type\": \"box\",\n",
    "          \"layout\": \"horizontal\",\n",
    "          \"contents\": [\n",
    "            {\n",
    "              \"type\": \"button\",\n",
    "              \"action\": {\n",
    "                \"type\": \"uri\",\n",
    "                \"label\": \"瞭解更多...\",\n",
    "                \"uri\": \"line://app/1622323314-NGZLL77M\"\n",
    "              },\n",
    "              \"color\": \"#2EC732\",\n",
    "              \"style\": \"primary\"\n",
    "            }\n",
    "          ]\n",
    "        }\n",
    "      }\n",
    "    ]\n",
    "}\"\"\""
   ]
  },
  {
   "cell_type": "code",
   "execution_count": 9,
   "metadata": {},
   "outputs": [],
   "source": [
    "import requests\n",
    "import json\n",
    "\n",
    "def get_today_push():\n",
    "    ip_location='chatbot_api'\n",
    "    Endpoint='http://%s:5000/push_news' % (ip_location)\n",
    "    push=requests.get(Endpoint)\n",
    "    push = push.json()\n",
    "\n",
    "    def first_push(title_id): \n",
    "        Endpoint='http://%s:5000/push_needed/%s'% (ip_location, title_id)\n",
    "        response=requests.get(Endpoint)\n",
    "        ans = response.json()\n",
    "        Endpoint='http://%s:5000/keyword_title/%s'% (ip_location, ans[\"title\"])\n",
    "        response=requests.get(Endpoint)\n",
    "        ans['kw'] = response.json()\n",
    "        ans['kw'] = \"、\".join(ans['kw'][:3])\n",
    "        return ans\n",
    "\n",
    "\n",
    "    def inner_push(title_id): \n",
    "        Endpoint='http://%s:5000/push_needed/%s'% (ip_location, title_id)\n",
    "        response=requests.get(Endpoint)\n",
    "        ans = response.json()\n",
    "        if ans['origin'] == 'TVBS新聞台':\n",
    "            ans['origin'] = 'TVBS'\n",
    "        elif ans['origin'] == 'SETN三立新聞網':\n",
    "            ans['origin'] = '三立新聞'\n",
    "\n",
    "        ans['label'] = ans['origin']+ \"》\"+ ans['title'][:10] + \"...\"\n",
    "        return ans\n",
    "\n",
    "\n",
    "    a1 = first_push(push['part_a1'])\n",
    "    a1[\"url\"] = push['part_a1_url']\n",
    "\n",
    "    a2 = inner_push(push['part_a2'])\n",
    "    a2[\"url\"] = push['part_a2_url']\n",
    "\n",
    "    a3 = inner_push(push['part_a3'])\n",
    "    a3[\"url\"] = push['part_a3_url']\n",
    "\n",
    "    b1 = first_push(push['part_b1'])\n",
    "    b1[\"url\"] = push['part_b1_url']\n",
    "\n",
    "    b2 = inner_push(push['part_b2'])\n",
    "    b2[\"url\"] = push['part_b2_url']\n",
    "\n",
    "    b3 = inner_push(push['part_b3'])\n",
    "    b3[\"url\"] = push['part_b3_url']\n",
    "\n",
    "    c1 = first_push(push['part_c1'])\n",
    "    c1[\"url\"] = push['part_c1_url']\n",
    "\n",
    "    c2 = inner_push(push['part_c2'])\n",
    "    c2[\"url\"] = push['part_c2_url']\n",
    "\n",
    "    c3 = inner_push(push['part_c3'])\n",
    "    c3[\"url\"] = push['part_c3_url']\n",
    "\n",
    "    flexbu = flexBubbleContainerJsonString_dailyNews % (\n",
    "        a1[\"img_url\"], a1[\"url\"], a1[\"title\"], a1[\"url\"], a1[\"kw\"], a1[\"origin\"],a2['label'], a2['url'],a3['label'], a3['url'],\n",
    "        b1[\"img_url\"], b1[\"url\"], b1[\"title\"], b1[\"url\"], b1[\"kw\"], b1[\"origin\"],b2['label'], b2['url'],b3['label'], b3['url'],\n",
    "        c1[\"img_url\"], c1[\"url\"], c1[\"title\"], c1[\"url\"], c1[\"kw\"], c1[\"origin\"],c2['label'], c2['url'],c3['label'], c3['url'])\n",
    "    bubbleContainer_dailyNews=CarouselContainer.new_from_json_dict(json.loads(flexbu))\n",
    "    flexBubbleSendMessage_dailyNews = FlexSendMessage(alt_text=\"熱門新聞推播\",contents=bubbleContainer_dailyNews)\n",
    "    return flexBubbleSendMessage_dailyNews\n",
    "    "
   ]
  },
  {
   "cell_type": "code",
   "execution_count": 10,
   "metadata": {},
   "outputs": [],
   "source": [
    "#將每日新聞推播json格式讀進 FlexSendMessage，並命名flexBubbleSendMessage_dailyNews\n",
    "#將懶人包json格式讀進FlexSendMessage，並命名flexBubbleSendMessage_TLDR\n",
    "from linebot.models import(\n",
    "    FlexSendMessage,BubbleContainer,CarouselContainer,QuickReply,QuickReplyButton,PostbackAction\n",
    ")\n",
    "\n",
    "import json\n",
    "# bubbleContainer_dailyNews=CarouselContainer.new_from_json_dict(json.loads(get_today_push()))\n",
    "# flexBubbleSendMessage_dailyNews = FlexSendMessage(alt_text=\"熱門新聞推播\",contents=bubbleContainer_dailyNews)\n",
    "\n",
    "bubbleContainer_TLDR=CarouselContainer.new_from_json_dict(json.loads(flexBubbleContainerJsonString_TLDR))\n",
    "flexBubbleSendMessage_TLDR = FlexSendMessage(alt_text=\"懶人包\",contents=bubbleContainer_TLDR)"
   ]
  },
  {
   "cell_type": "code",
   "execution_count": 11,
   "metadata": {},
   "outputs": [],
   "source": [
    "# 告知handler，如果收到FollowEvent，則做下面的方法處理\n",
    "@handler.add(FollowEvent)\n",
    "def reply_text_and_get_user_profile(event):\n",
    "\n",
    "    # 取出消息內User的資料\n",
    "    user_profile = line_bot_api.get_profile(event.source.user_id)\n",
    "    \n",
    "    # 將用戶資訊做成合適Json\n",
    "    users = {  \n",
    "        \"user_id\": user_profile.user_id,\n",
    "        \"display_name\": user_profile.display_name,\n",
    "        \"status_message\" : user_profile.status_message,\n",
    "        \"picture_url\" : user_profile.picture_url\n",
    "    }\n",
    "    \n",
    "    # 將json傳回API Server\n",
    "    Endpoint='http://%s:5000/users' % (ip_location)\n",
    "    \n",
    "    # header要特別註明是json格式\n",
    "    Header={'Content-Type':'application/json'}\n",
    "    \n",
    "    # 傳送post對API server新增資料 \n",
    "    Response=requests.post(Endpoint,headers=Header,data=json.dumps(users))\n",
    "    \n",
    "    #印出Response的資料訊息\n",
    "    print(Response)\n",
    "    print(Response.text)\n",
    "\n",
    "\n",
    "    \n",
    "    # 將菜單綁定在用戶身上\n",
    "    # 要到Line官方server進行這像工作，這是官方的指定接口\n",
    "    linkMenuEndpoint='https://api.line.me/v2/bot/user/%s/richmenu/%s' % (user_profile.user_id, menu_id)\n",
    "    \n",
    "    # 官方指定的header\n",
    "    linkMenuRequestHeader={'Content-Type':'image/jpeg','Authorization':'Bearer %s' % secretFile[\"channel_access_token\"]}\n",
    "    \n",
    "    # 傳送post method封包進行綁定菜單到用戶上\n",
    "    lineLinkMenuResponse=requests.post(linkMenuEndpoint,headers=linkMenuRequestHeader)\n",
    "\n",
    "\n",
    "    #歡迎詞\n",
    "    #針對剛加入的用戶回覆文字消息、圖片、旋轉門選單\n",
    "    get_today_push()\n",
    "    reply_message_list = [\n",
    "                    TextSendMessage(text=\"👋我是新聞呆腦獸!😘\\n感謝 %s 使用我們的新聞平台❤\\n\\n🌵🛸每天會推播三則當日最熱門的新聞給您🗿🚀\\n\\n👉也可以輸入「彩蛋」，查看所有可輸入文字👈\\n\\n萬一您覺得提醒的次數有點多，您可以在本畫面的聊天室設定選單中，將「提醒」⏰的功能關掉喔！?\" % (user_profile.display_name) ),    \n",
    "                    get_today_push(),\n",
    "                ] \n",
    "    \n",
    "    #推送訊息給官方Line\n",
    "    line_bot_api.reply_message(\n",
    "        event.reply_token,\n",
    "        reply_message_list    \n",
    "    )"
   ]
  },
  {
   "cell_type": "code",
   "execution_count": 12,
   "metadata": {},
   "outputs": [],
   "source": [
    "\"\"\"\n",
    "點選功能選單\n",
    "懶人包:TLDR   關鍵字查詢:KeyWordSearch 投票結果:VoteResult 區塊鏈查詢:BC_Search\n",
    "        \n",
    "\"\"\"\n",
    "from linebot.models import PostbackEvent, URIAction\n",
    "from urllib.parse import parse_qs\n",
    "\n",
    "\n",
    "#用戶點擊button後，觸發postback event，對其回傳做相對應處理\n",
    "@handler.add(PostbackEvent)\n",
    "def handle_post_message(event):\n",
    "    #抓取user資料\n",
    "    user_profile = event.source.user_id\n",
    "    \n",
    "    #抓取postback action的data\n",
    "    data = event.postback.data\n",
    "    \n",
    "    data=parse_qs(data)\n",
    "    print(data)\n",
    "   \n",
    "    #點選選單\n",
    "   \n",
    "    if data['type'] == ['TLDR']:\n",
    "        #每要求出題後，redis 的total增加一\n",
    "        reply_message_list = [\n",
    "            TextSendMessage(text=\"⌛正在幫您查詢懶人包...\\n\\n🎯懶人包的訊息實用嗎❓記得給我們評論哦❗😉 \" ),\n",
    "            flexBubbleSendMessage_TLDR\n",
    "        ]\n",
    "        \n",
    "        line_bot_api.reply_message(event.reply_token, reply_message_list)\n",
    "        \n",
    "        \n",
    "    elif data['type'] == ['KeyWordSearch']:\n",
    "        \n",
    "        Endpoint='http://%s:5000/seven_days_kwyword/'% (ip_location)\n",
    "\n",
    "        response=requests.get(Endpoint)\n",
    "        kw = response.json()\n",
    "        quickreply = TextSendMessage(\n",
    "                        text='選擇關鍵字：',\n",
    "                        quick_reply=QuickReply(\n",
    "                            items=[\n",
    "                                QuickReplyButton(\n",
    "                                    #使用postback action類似按鈕的概念\n",
    "                                    action=PostbackAction(label=kw[0],\n",
    "                                                          #使用了data裝query string的方式，一次裝多個變數\n",
    "                                                          #這邊使用true_answer()來幫助取得result的值（判斷對或錯）\n",
    "                                                          data=\"type=kwd&value=%s\" %(kw[0]),\n",
    "                                                          #按了按鈕之後的會有的回覆\n",
    "                                                          text=kw[0]\n",
    "                                                         )\n",
    "                                ),\n",
    "                                QuickReplyButton(\n",
    "                                    action=PostbackAction(label=kw[1],\n",
    "                                                          data=\"type=kwd&value=%s\" %(kw[1]),\n",
    "                                                          text=kw[1]\n",
    "                                                         )\n",
    "                                ),\n",
    "                                QuickReplyButton(\n",
    "                                    action=PostbackAction(label=kw[2],\n",
    "                                                          data=\"type=kwd&value=%s\" %(kw[2]),\n",
    "                                                          text=kw[2]\n",
    "                                                         )\n",
    "                                ),\n",
    "                                QuickReplyButton(\n",
    "                                    action=PostbackAction(label=kw[3],\n",
    "                                                          data=\"type=kwd&value=%s\" %(kw[3]),\n",
    "                                                          text=kw[3]\n",
    "                                                         )\n",
    "                                ),\n",
    "                                QuickReplyButton(\n",
    "                                    action=PostbackAction(label=\"更多...\",\n",
    "                                                          data=\"type=more\",\n",
    "                                                          text='更多...'\n",
    "                                                         )\n",
    "                                ),\n",
    "                                \n",
    "                            ]))\n",
    "            \n",
    "        reply_message_list = [\n",
    "        TextSendMessage(text=\"👉您可以直接點選下列關鍵字，或按下「更多」輸入您想要查🔍的關鍵字🧐\" ),\n",
    "        quickreply\n",
    "        ]\n",
    "        \n",
    "        line_bot_api.reply_message(event.reply_token, reply_message_list)\n",
    "        \n",
    "         \n",
    "        \n",
    "    elif data['type'] == [\"kwd\"]:\n",
    "        \n",
    "        keyword_res = data['value'][0] + \"連結 :\\n\"+\"https://871e9e6c.ngrok.io/KeyWord3/\"+data['value'][0]+\"/\"\n",
    "        reply_message_list = [\n",
    "        TextSendMessage(text=keyword_res)]\n",
    "        \n",
    "        line_bot_api.reply_message(event.reply_token, reply_message_list)\n",
    "        \n",
    "    elif data['type'] == ['more']:\n",
    "        reply_message_list = [\n",
    "        TextSendMessage(text=\"查更多關鍵字 :\\n line://app/1622323314-gVMjjXXG\" )]\n",
    "        \n",
    "        line_bot_api.reply_message(event.reply_token, reply_message_list)    \n",
    "    else:\n",
    "        pass\n"
   ]
  },
  {
   "cell_type": "code",
   "execution_count": 13,
   "metadata": {},
   "outputs": [],
   "source": [
    "#彩蛋設計，回覆使用者文字輸入\n",
    "@handler.add(MessageEvent, message=TextMessage)\n",
    "#將這次event的參數抓進來\n",
    "def handle_message(event):\n",
    "    user_profile = event.source.user_id\n",
    "\n",
    "    if  event.message.text== \"新年快樂\":\n",
    "        line_bot_api.reply_message(\n",
    "        event.reply_token,\n",
    "        StickerSendMessage(package_id='1',sticker_id='114'))\n",
    "        \n",
    "    elif  (\"謝謝\" in event.message.text) == True:\n",
    "        line_bot_api.reply_message(\n",
    "        event.reply_token,\n",
    "        StickerSendMessage(package_id='1',sticker_id='2'))\n",
    "        \n",
    "    elif event.message.text== \"製作團隊\":\n",
    "        line_bot_api.reply_message(\n",
    "        event.reply_token,\n",
    "        ImageSendMessage(original_content_url=\"https://i.imgur.com/v5bpX8b.png\",\n",
    "        preview_image_url=\"https://i.imgur.com/v5bpX8b.png\"))\n",
    "    \n",
    "    elif event.message.text== \"示範影片\":\n",
    "        reply_message_list = [\n",
    "        TextSendMessage(text=\"測試版 :https://www.youtube.com/watch?v=EBRzNqH9etU\" )\n",
    "        ]\n",
    "        line_bot_api.reply_message(event.reply_token, reply_message_list)\n",
    "    elif event.message.text== \"彩蛋\":\n",
    "        reply_message_list = [\n",
    "        TextSendMessage(text=\"💃可輸入「示範影片」、「今日新聞」、「製作團隊」、「彩蛋」、「愛江山更愛美人」、「一隻牛」、「謝謝」、「新年快樂」🕺🏽\" )\n",
    "        ]\n",
    "        line_bot_api.reply_message(event.reply_token, reply_message_list)\n",
    "        \n",
    "#模糊比對，只要輸入中有出現一隻牛就會回覆    \n",
    "    elif (\"一隻牛\" in event.message.text) == True:\n",
    "        reply_message_list = [\n",
    "            TextSendMessage(text=\"嗯...讓我思考一下\" ),\n",
    "            TextSendMessage(text=\"神曲支援 :https://www.youtube.com/watch?v=rkxhQOev7Wo\" )\n",
    "        ]\n",
    "        \n",
    "        line_bot_api.reply_message(event.reply_token, reply_message_list)\n",
    "        \n",
    "    elif (\"愛江山更愛美人\" in event.message.text) == True:\n",
    "        reply_message_list = [\n",
    "            TextSendMessage(text=\"嗯...讓我思考一下\" ),\n",
    "            TextSendMessage(text=\"神曲支援 :https://www.youtube.com/watch?v=91RS6TrnUIc\" )\n",
    "        ]\n",
    "        \n",
    "        line_bot_api.reply_message(event.reply_token, reply_message_list)\n",
    "    elif event.message.text== \"今日新聞\":\n",
    "        \n",
    "        reply_message_list = [\n",
    "                    TextSendMessage(text=\"今日上午最熱門的三則新聞\" ),    \n",
    "                    get_today_push()\n",
    "        ] \n",
    "    \n",
    "        line_bot_api.reply_message(event.reply_token, reply_message_list )\n",
    "        "
   ]
  },
  {
   "cell_type": "code",
   "execution_count": 14,
   "metadata": {},
   "outputs": [],
   "source": [
    "import requests\n",
    "import json\n",
    "\n",
    "ip_location='chatbot_api'\n",
    "\n",
    "@app.route(\"/pushMessage\", methods=['GET'])\n",
    "def push_message():\n",
    "    Endpoint='http://%s:5000/users_id' % (ip_location)\n",
    "\n",
    "    Response=requests.get(Endpoint)\n",
    "    user_id_array = Response.json()\n",
    "    \n",
    "    line_bot_api.multicast(\n",
    "        user_id_array,\n",
    "        get_today_push()\n",
    "    )\n",
    "\n",
    "    return 'OK'"
   ]
  },
  {
   "cell_type": "code",
   "execution_count": 15,
   "metadata": {
    "scrolled": false
   },
   "outputs": [
    {
     "name": "stderr",
     "output_type": "stream",
     "text": [
      " * Running on http://0.0.0.0:5000/ (Press CTRL+C to quit)\n",
      "172.22.0.12 - - [09/Jan/2019 14:47:01] \"POST / HTTP/1.1\" 200 -\n"
     ]
    },
    {
     "name": "stdout",
     "output_type": "stream",
     "text": [
      "<Response [200]>\n",
      "{\n",
      "  \"status_describe\": \"User U29a07f94e16697b2829a39eac85fb46c ('\\u9732\\u9732 Christina',) is already registered.\"\n",
      "}\n",
      "\n"
     ]
    },
    {
     "name": "stderr",
     "output_type": "stream",
     "text": [
      "172.22.0.12 - - [09/Jan/2019 14:47:03] \"POST / HTTP/1.1\" 200 -\n",
      "172.22.0.12 - - [09/Jan/2019 14:47:22] \"POST / HTTP/1.1\" 200 -\n",
      "172.22.0.12 - - [09/Jan/2019 14:47:28] \"POST / HTTP/1.1\" 200 -\n",
      "172.22.0.12 - - [09/Jan/2019 14:50:43] \"POST / HTTP/1.1\" 200 -\n",
      "172.22.0.12 - - [09/Jan/2019 14:50:49] \"POST / HTTP/1.1\" 200 -\n"
     ]
    },
    {
     "name": "stdout",
     "output_type": "stream",
     "text": [
      "<Response [200]>\n",
      "{\n",
      "  \"status_describe\": \"success add user\"\n",
      "}\n",
      "\n"
     ]
    },
    {
     "name": "stderr",
     "output_type": "stream",
     "text": [
      "172.22.0.12 - - [09/Jan/2019 15:02:41] \"POST / HTTP/1.1\" 200 -\n",
      "172.22.0.12 - - [09/Jan/2019 15:02:55] \"POST / HTTP/1.1\" 200 -\n"
     ]
    },
    {
     "name": "stdout",
     "output_type": "stream",
     "text": [
      "{'type': ['TLDR']}\n"
     ]
    },
    {
     "name": "stderr",
     "output_type": "stream",
     "text": [
      "172.22.0.12 - - [09/Jan/2019 15:02:56] \"POST / HTTP/1.1\" 200 -\n",
      "172.22.0.12 - - [09/Jan/2019 15:02:57] \"POST / HTTP/1.1\" 200 -\n"
     ]
    },
    {
     "name": "stdout",
     "output_type": "stream",
     "text": [
      "{'type': ['KeyWordSearch']}\n"
     ]
    },
    {
     "name": "stderr",
     "output_type": "stream",
     "text": [
      "172.22.0.12 - - [09/Jan/2019 15:02:58] \"POST / HTTP/1.1\" 200 -\n",
      "172.22.0.12 - - [09/Jan/2019 15:03:01] \"POST / HTTP/1.1\" 200 -\n"
     ]
    },
    {
     "name": "stdout",
     "output_type": "stream",
     "text": [
      "{'type': ['kwd'], 'value': ['習近平']}\n"
     ]
    },
    {
     "name": "stderr",
     "output_type": "stream",
     "text": [
      "172.22.0.12 - - [09/Jan/2019 15:03:02] \"POST / HTTP/1.1\" 200 -\n",
      "172.22.0.12 - - [09/Jan/2019 15:03:13] \"POST / HTTP/1.1\" 200 -\n"
     ]
    },
    {
     "name": "stdout",
     "output_type": "stream",
     "text": [
      "{'type': ['KeyWordSearch']}\n"
     ]
    },
    {
     "name": "stderr",
     "output_type": "stream",
     "text": [
      "172.22.0.12 - - [09/Jan/2019 15:03:13] \"POST / HTTP/1.1\" 200 -\n",
      "172.22.0.12 - - [09/Jan/2019 15:03:16] \"POST / HTTP/1.1\" 200 -\n"
     ]
    },
    {
     "name": "stdout",
     "output_type": "stream",
     "text": [
      "{'type': ['more']}\n"
     ]
    },
    {
     "name": "stderr",
     "output_type": "stream",
     "text": [
      "172.22.0.12 - - [09/Jan/2019 15:03:16] \"POST / HTTP/1.1\" 200 -\n"
     ]
    },
    {
     "name": "stdout",
     "output_type": "stream",
     "text": [
      "{'type': ['TLDR']}\n"
     ]
    },
    {
     "name": "stderr",
     "output_type": "stream",
     "text": [
      "172.22.0.12 - - [09/Jan/2019 15:03:41] \"POST / HTTP/1.1\" 200 -\n"
     ]
    },
    {
     "name": "stdout",
     "output_type": "stream",
     "text": [
      "{'type': ['TLDR']}\n"
     ]
    },
    {
     "name": "stderr",
     "output_type": "stream",
     "text": [
      "172.22.0.12 - - [09/Jan/2019 15:03:41] \"POST / HTTP/1.1\" 200 -\n",
      "172.22.0.12 - - [09/Jan/2019 15:03:53] \"POST / HTTP/1.1\" 200 -\n"
     ]
    },
    {
     "name": "stdout",
     "output_type": "stream",
     "text": [
      "{'type': ['TLDR']}\n"
     ]
    },
    {
     "name": "stderr",
     "output_type": "stream",
     "text": [
      "172.22.0.12 - - [09/Jan/2019 15:03:54] \"POST / HTTP/1.1\" 200 -\n"
     ]
    },
    {
     "name": "stdout",
     "output_type": "stream",
     "text": [
      "{'type': ['KeyWordSearch']}\n"
     ]
    },
    {
     "name": "stderr",
     "output_type": "stream",
     "text": [
      "172.22.0.12 - - [09/Jan/2019 15:04:09] \"POST / HTTP/1.1\" 200 -\n",
      "172.22.0.12 - - [09/Jan/2019 15:04:09] \"POST / HTTP/1.1\" 200 -\n",
      "172.22.0.12 - - [09/Jan/2019 15:04:11] \"POST / HTTP/1.1\" 200 -\n"
     ]
    },
    {
     "name": "stdout",
     "output_type": "stream",
     "text": [
      "{'type': ['TLDR']}\n"
     ]
    },
    {
     "name": "stderr",
     "output_type": "stream",
     "text": [
      "172.22.0.12 - - [09/Jan/2019 15:04:11] \"POST / HTTP/1.1\" 200 -\n"
     ]
    },
    {
     "name": "stdout",
     "output_type": "stream",
     "text": [
      "{'type': ['TLDR']}\n"
     ]
    },
    {
     "name": "stderr",
     "output_type": "stream",
     "text": [
      "172.22.0.12 - - [09/Jan/2019 15:04:32] \"POST / HTTP/1.1\" 200 -\n",
      "172.22.0.12 - - [09/Jan/2019 15:04:32] \"POST / HTTP/1.1\" 200 -\n"
     ]
    },
    {
     "name": "stdout",
     "output_type": "stream",
     "text": [
      "{'type': ['TLDR']}\n"
     ]
    },
    {
     "name": "stderr",
     "output_type": "stream",
     "text": [
      "172.22.0.12 - - [09/Jan/2019 15:07:22] \"POST / HTTP/1.1\" 200 -\n",
      "172.22.0.12 - - [09/Jan/2019 15:07:22] \"POST / HTTP/1.1\" 200 -\n",
      "172.22.0.12 - - [09/Jan/2019 15:23:42] \"POST / HTTP/1.1\" 200 -\n"
     ]
    },
    {
     "name": "stdout",
     "output_type": "stream",
     "text": [
      "{'type': ['KeyWordSearch']}\n"
     ]
    },
    {
     "name": "stderr",
     "output_type": "stream",
     "text": [
      "172.22.0.12 - - [09/Jan/2019 15:23:42] \"POST / HTTP/1.1\" 200 -\n",
      "172.22.0.12 - - [09/Jan/2019 15:23:45] \"POST / HTTP/1.1\" 200 -\n"
     ]
    },
    {
     "name": "stdout",
     "output_type": "stream",
     "text": [
      "{'type': ['more']}\n"
     ]
    },
    {
     "name": "stderr",
     "output_type": "stream",
     "text": [
      "172.22.0.12 - - [09/Jan/2019 15:23:45] \"POST / HTTP/1.1\" 200 -\n",
      "172.22.0.12 - - [09/Jan/2019 15:26:45] \"POST / HTTP/1.1\" 200 -\n"
     ]
    },
    {
     "name": "stdout",
     "output_type": "stream",
     "text": [
      "<Response [200]>\n",
      "{\n",
      "  \"status_describe\": \"success add user\"\n",
      "}\n",
      "\n"
     ]
    },
    {
     "name": "stderr",
     "output_type": "stream",
     "text": [
      "172.22.0.12 - - [09/Jan/2019 15:26:46] \"POST / HTTP/1.1\" 200 -\n"
     ]
    },
    {
     "name": "stdout",
     "output_type": "stream",
     "text": [
      "{'type': ['KeyWordSearch']}\n"
     ]
    },
    {
     "name": "stderr",
     "output_type": "stream",
     "text": [
      "172.22.0.12 - - [09/Jan/2019 15:26:53] \"POST / HTTP/1.1\" 200 -\n",
      "172.22.0.12 - - [09/Jan/2019 15:26:54] \"POST / HTTP/1.1\" 200 -\n",
      "172.22.0.12 - - [09/Jan/2019 15:26:56] \"POST / HTTP/1.1\" 200 -\n",
      "172.22.0.12 - - [09/Jan/2019 15:26:57] \"POST / HTTP/1.1\" 200 -\n"
     ]
    },
    {
     "name": "stdout",
     "output_type": "stream",
     "text": [
      "{'type': ['more']}\n"
     ]
    },
    {
     "name": "stderr",
     "output_type": "stream",
     "text": [
      "172.22.0.12 - - [09/Jan/2019 15:30:08] \"POST / HTTP/1.1\" 200 -\n"
     ]
    },
    {
     "name": "stdout",
     "output_type": "stream",
     "text": [
      "{'type': ['TLDR']}\n"
     ]
    },
    {
     "name": "stderr",
     "output_type": "stream",
     "text": [
      "172.22.0.12 - - [09/Jan/2019 15:30:08] \"POST / HTTP/1.1\" 200 -\n"
     ]
    },
    {
     "name": "stdout",
     "output_type": "stream",
     "text": [
      "{'type': ['KeyWordSearch']}\n"
     ]
    },
    {
     "name": "stderr",
     "output_type": "stream",
     "text": [
      "172.22.0.12 - - [09/Jan/2019 15:58:12] \"POST / HTTP/1.1\" 200 -\n",
      "172.22.0.12 - - [09/Jan/2019 15:58:13] \"POST / HTTP/1.1\" 200 -\n"
     ]
    },
    {
     "name": "stdout",
     "output_type": "stream",
     "text": [
      "{'type': ['more']}\n"
     ]
    },
    {
     "name": "stderr",
     "output_type": "stream",
     "text": [
      "172.22.0.12 - - [09/Jan/2019 15:58:15] \"POST / HTTP/1.1\" 200 -\n",
      "172.22.0.12 - - [09/Jan/2019 15:58:16] \"POST / HTTP/1.1\" 200 -\n"
     ]
    },
    {
     "name": "stdout",
     "output_type": "stream",
     "text": [
      "{'type': ['KeyWordSearch']}\n"
     ]
    },
    {
     "name": "stderr",
     "output_type": "stream",
     "text": [
      "172.22.0.12 - - [09/Jan/2019 17:29:34] \"POST / HTTP/1.1\" 200 -\n",
      "172.22.0.12 - - [09/Jan/2019 17:29:34] \"POST / HTTP/1.1\" 200 -\n",
      "172.22.0.7 - - [09/Jan/2019 17:43:46] \"GET /pushMessage HTTP/1.1\" 200 -\n"
     ]
    },
    {
     "name": "stdout",
     "output_type": "stream",
     "text": [
      "{'type': ['KeyWordSearch']}\n"
     ]
    },
    {
     "name": "stderr",
     "output_type": "stream",
     "text": [
      "172.22.0.12 - - [09/Jan/2019 18:51:16] \"POST / HTTP/1.1\" 200 -\n",
      "172.22.0.12 - - [09/Jan/2019 18:51:17] \"POST / HTTP/1.1\" 200 -\n",
      "172.22.0.12 - - [09/Jan/2019 18:51:21] \"POST / HTTP/1.1\" 200 -\n"
     ]
    },
    {
     "name": "stdout",
     "output_type": "stream",
     "text": [
      "{'type': ['kwd'], 'value': ['蔡英文']}\n"
     ]
    },
    {
     "name": "stderr",
     "output_type": "stream",
     "text": [
      "172.22.0.12 - - [09/Jan/2019 18:51:21] \"POST / HTTP/1.1\" 200 -\n",
      "172.22.0.12 - - [09/Jan/2019 19:56:53] \"POST / HTTP/1.1\" 200 -\n"
     ]
    },
    {
     "name": "stdout",
     "output_type": "stream",
     "text": [
      "{'type': ['KeyWordSearch']}\n"
     ]
    },
    {
     "name": "stderr",
     "output_type": "stream",
     "text": [
      "172.22.0.12 - - [09/Jan/2019 19:56:54] \"POST / HTTP/1.1\" 200 -\n",
      "172.22.0.12 - - [09/Jan/2019 20:16:53] \"POST / HTTP/1.1\" 200 -\n"
     ]
    },
    {
     "name": "stdout",
     "output_type": "stream",
     "text": [
      "{'type': ['more']}\n"
     ]
    },
    {
     "name": "stderr",
     "output_type": "stream",
     "text": [
      "172.22.0.12 - - [09/Jan/2019 20:16:54] \"POST / HTTP/1.1\" 200 -\n"
     ]
    },
    {
     "name": "stdout",
     "output_type": "stream",
     "text": [
      "{'type': ['KeyWordSearch']}\n"
     ]
    },
    {
     "name": "stderr",
     "output_type": "stream",
     "text": [
      "172.22.0.12 - - [09/Jan/2019 20:17:16] \"POST / HTTP/1.1\" 200 -\n",
      "172.22.0.12 - - [09/Jan/2019 20:17:17] \"POST / HTTP/1.1\" 200 -\n",
      "172.22.0.12 - - [09/Jan/2019 20:49:28] \"POST / HTTP/1.1\" 200 -\n",
      "172.22.0.12 - - [09/Jan/2019 20:49:38] \"POST / HTTP/1.1\" 200 -\n",
      "172.22.0.12 - - [09/Jan/2019 20:49:47] \"POST / HTTP/1.1\" 200 -\n",
      "172.22.0.12 - - [09/Jan/2019 20:50:09] \"POST / HTTP/1.1\" 200 -\n",
      "172.22.0.12 - - [09/Jan/2019 20:50:26] \"POST / HTTP/1.1\" 200 -\n"
     ]
    },
    {
     "name": "stdout",
     "output_type": "stream",
     "text": [
      "<Response [200]>\n",
      "{\n",
      "  \"status_describe\": \"success add user\"\n",
      "}\n",
      "\n"
     ]
    },
    {
     "name": "stderr",
     "output_type": "stream",
     "text": [
      "172.22.0.12 - - [09/Jan/2019 20:50:28] \"POST / HTTP/1.1\" 200 -\n",
      "172.22.0.12 - - [09/Jan/2019 20:51:01] \"POST / HTTP/1.1\" 200 -\n",
      "172.22.0.12 - - [09/Jan/2019 20:51:38] \"POST / HTTP/1.1\" 200 -\n",
      "172.22.0.12 - - [09/Jan/2019 20:52:20] \"POST / HTTP/1.1\" 200 -\n",
      "172.22.0.12 - - [09/Jan/2019 20:53:06] \"POST / HTTP/1.1\" 200 -\n",
      "172.22.0.12 - - [09/Jan/2019 20:55:00] \"POST / HTTP/1.1\" 200 -\n",
      "172.22.0.12 - - [09/Jan/2019 20:55:17] \"POST / HTTP/1.1\" 200 -\n",
      "172.22.0.12 - - [09/Jan/2019 20:55:32] \"POST / HTTP/1.1\" 200 -\n"
     ]
    },
    {
     "name": "stdout",
     "output_type": "stream",
     "text": [
      "{'type': ['KeyWordSearch']}\n"
     ]
    },
    {
     "name": "stderr",
     "output_type": "stream",
     "text": [
      "172.22.0.12 - - [09/Jan/2019 20:56:50] \"POST / HTTP/1.1\" 200 -\n",
      "172.22.0.12 - - [09/Jan/2019 20:56:51] \"POST / HTTP/1.1\" 200 -\n",
      "172.22.0.12 - - [09/Jan/2019 20:56:54] \"POST / HTTP/1.1\" 200 -\n"
     ]
    },
    {
     "name": "stdout",
     "output_type": "stream",
     "text": [
      "{'type': ['kwd'], 'value': ['台灣']}\n"
     ]
    },
    {
     "name": "stderr",
     "output_type": "stream",
     "text": [
      "172.22.0.12 - - [09/Jan/2019 20:56:54] \"POST / HTTP/1.1\" 200 -\n"
     ]
    },
    {
     "name": "stdout",
     "output_type": "stream",
     "text": [
      "{'type': ['TLDR']}\n"
     ]
    },
    {
     "name": "stderr",
     "output_type": "stream",
     "text": [
      "172.22.0.12 - - [09/Jan/2019 20:57:04] \"POST / HTTP/1.1\" 200 -\n",
      "172.22.0.12 - - [09/Jan/2019 20:57:04] \"POST / HTTP/1.1\" 200 -\n"
     ]
    },
    {
     "name": "stdout",
     "output_type": "stream",
     "text": [
      "<Response [200]>\n",
      "{\n",
      "  \"status_describe\": \"success add user\"\n",
      "}\n",
      "\n"
     ]
    },
    {
     "name": "stderr",
     "output_type": "stream",
     "text": [
      "172.22.0.12 - - [09/Jan/2019 21:01:21] \"POST / HTTP/1.1\" 200 -\n",
      "172.22.0.12 - - [09/Jan/2019 21:01:58] \"POST / HTTP/1.1\" 200 -\n"
     ]
    },
    {
     "name": "stdout",
     "output_type": "stream",
     "text": [
      "{'type': ['TLDR']}\n"
     ]
    },
    {
     "name": "stderr",
     "output_type": "stream",
     "text": [
      "172.22.0.12 - - [09/Jan/2019 21:01:58] \"POST / HTTP/1.1\" 200 -\n"
     ]
    },
    {
     "name": "stdout",
     "output_type": "stream",
     "text": [
      "{'type': ['KeyWordSearch']}\n"
     ]
    },
    {
     "name": "stderr",
     "output_type": "stream",
     "text": [
      "172.22.0.12 - - [09/Jan/2019 21:04:26] \"POST / HTTP/1.1\" 200 -\n",
      "172.22.0.12 - - [09/Jan/2019 21:04:27] \"POST / HTTP/1.1\" 200 -\n",
      "172.22.0.12 - - [09/Jan/2019 21:04:43] \"POST / HTTP/1.1\" 200 -\n"
     ]
    },
    {
     "name": "stdout",
     "output_type": "stream",
     "text": [
      "{'type': ['more']}\n"
     ]
    },
    {
     "name": "stderr",
     "output_type": "stream",
     "text": [
      "172.22.0.12 - - [09/Jan/2019 21:04:43] \"POST / HTTP/1.1\" 200 -\n"
     ]
    },
    {
     "name": "stdout",
     "output_type": "stream",
     "text": [
      "{'type': ['KeyWordSearch']}\n"
     ]
    },
    {
     "name": "stderr",
     "output_type": "stream",
     "text": [
      "172.22.0.12 - - [09/Jan/2019 21:06:25] \"POST / HTTP/1.1\" 200 -\n",
      "172.22.0.12 - - [09/Jan/2019 21:06:26] \"POST / HTTP/1.1\" 200 -\n",
      "172.22.0.12 - - [09/Jan/2019 21:06:27] \"POST / HTTP/1.1\" 200 -\n"
     ]
    },
    {
     "name": "stdout",
     "output_type": "stream",
     "text": [
      "{'type': ['more']}\n"
     ]
    },
    {
     "name": "stderr",
     "output_type": "stream",
     "text": [
      "172.22.0.12 - - [09/Jan/2019 21:06:28] \"POST / HTTP/1.1\" 200 -\n"
     ]
    },
    {
     "name": "stdout",
     "output_type": "stream",
     "text": [
      "{'type': ['KeyWordSearch']}\n"
     ]
    },
    {
     "name": "stderr",
     "output_type": "stream",
     "text": [
      "172.22.0.12 - - [09/Jan/2019 21:06:39] \"POST / HTTP/1.1\" 200 -\n",
      "172.22.0.12 - - [09/Jan/2019 21:06:40] \"POST / HTTP/1.1\" 200 -\n",
      "172.22.0.12 - - [09/Jan/2019 21:10:36] \"POST / HTTP/1.1\" 200 -\n"
     ]
    },
    {
     "name": "stdout",
     "output_type": "stream",
     "text": [
      "{'type': ['TLDR']}\n"
     ]
    },
    {
     "name": "stderr",
     "output_type": "stream",
     "text": [
      "172.22.0.12 - - [09/Jan/2019 21:10:37] \"POST / HTTP/1.1\" 200 -\n"
     ]
    },
    {
     "name": "stdout",
     "output_type": "stream",
     "text": [
      "{'type': ['KeyWordSearch']}\n"
     ]
    },
    {
     "name": "stderr",
     "output_type": "stream",
     "text": [
      "172.22.0.12 - - [09/Jan/2019 21:10:40] \"POST / HTTP/1.1\" 200 -\n",
      "172.22.0.12 - - [09/Jan/2019 21:10:41] \"POST / HTTP/1.1\" 200 -\n",
      "172.22.0.12 - - [09/Jan/2019 21:12:36] \"POST / HTTP/1.1\" 200 -\n"
     ]
    },
    {
     "name": "stdout",
     "output_type": "stream",
     "text": [
      "{'type': ['KeyWordSearch']}\n"
     ]
    },
    {
     "name": "stderr",
     "output_type": "stream",
     "text": [
      "172.22.0.12 - - [09/Jan/2019 21:12:37] \"POST / HTTP/1.1\" 200 -\n",
      "172.22.0.12 - - [09/Jan/2019 21:12:40] \"POST / HTTP/1.1\" 200 -\n"
     ]
    },
    {
     "name": "stdout",
     "output_type": "stream",
     "text": [
      "{'type': ['more']}\n"
     ]
    },
    {
     "name": "stderr",
     "output_type": "stream",
     "text": [
      "172.22.0.12 - - [09/Jan/2019 21:12:40] \"POST / HTTP/1.1\" 200 -\n"
     ]
    },
    {
     "name": "stdout",
     "output_type": "stream",
     "text": [
      "{'type': ['KeyWordSearch']}\n"
     ]
    },
    {
     "name": "stderr",
     "output_type": "stream",
     "text": [
      "172.22.0.12 - - [09/Jan/2019 21:19:56] \"POST / HTTP/1.1\" 200 -\n",
      "172.22.0.12 - - [09/Jan/2019 21:19:57] \"POST / HTTP/1.1\" 200 -\n",
      "172.22.0.12 - - [09/Jan/2019 21:20:02] \"POST / HTTP/1.1\" 200 -\n"
     ]
    },
    {
     "name": "stdout",
     "output_type": "stream",
     "text": [
      "{'type': ['more']}\n"
     ]
    },
    {
     "name": "stderr",
     "output_type": "stream",
     "text": [
      "172.22.0.12 - - [09/Jan/2019 21:20:02] \"POST / HTTP/1.1\" 200 -\n",
      "172.22.0.12 - - [09/Jan/2019 21:29:41] \"POST / HTTP/1.1\" 200 -\n"
     ]
    },
    {
     "name": "stdout",
     "output_type": "stream",
     "text": [
      "{'type': ['KeyWordSearch']}\n"
     ]
    },
    {
     "name": "stderr",
     "output_type": "stream",
     "text": [
      "172.22.0.12 - - [09/Jan/2019 21:29:42] \"POST / HTTP/1.1\" 200 -\n",
      "172.22.0.12 - - [09/Jan/2019 21:29:44] \"POST / HTTP/1.1\" 200 -\n"
     ]
    },
    {
     "name": "stdout",
     "output_type": "stream",
     "text": [
      "{'type': ['more']}\n"
     ]
    },
    {
     "name": "stderr",
     "output_type": "stream",
     "text": [
      "172.22.0.12 - - [09/Jan/2019 21:29:44] \"POST / HTTP/1.1\" 200 -\n"
     ]
    },
    {
     "name": "stdout",
     "output_type": "stream",
     "text": [
      "{'type': ['KeyWordSearch']}\n"
     ]
    },
    {
     "name": "stderr",
     "output_type": "stream",
     "text": [
      "172.22.0.12 - - [09/Jan/2019 22:10:46] \"POST / HTTP/1.1\" 200 -\n",
      "172.22.0.12 - - [09/Jan/2019 22:10:47] \"POST / HTTP/1.1\" 200 -\n",
      "172.22.0.12 - - [09/Jan/2019 22:10:49] \"POST / HTTP/1.1\" 200 -\n"
     ]
    },
    {
     "name": "stdout",
     "output_type": "stream",
     "text": [
      "{'type': ['more']}\n"
     ]
    },
    {
     "name": "stderr",
     "output_type": "stream",
     "text": [
      "172.22.0.12 - - [09/Jan/2019 22:10:49] \"POST / HTTP/1.1\" 200 -\n",
      "172.22.0.12 - - [09/Jan/2019 22:57:58] \"POST / HTTP/1.1\" 200 -\n"
     ]
    },
    {
     "name": "stdout",
     "output_type": "stream",
     "text": [
      "{'type': ['KeyWordSearch']}\n"
     ]
    },
    {
     "name": "stderr",
     "output_type": "stream",
     "text": [
      "172.22.0.12 - - [10/Jan/2019 07:06:45] \"POST / HTTP/1.1\" 200 -\n",
      "172.22.0.12 - - [10/Jan/2019 07:06:46] \"POST / HTTP/1.1\" 200 -\n",
      "172.22.0.12 - - [10/Jan/2019 07:06:48] \"POST / HTTP/1.1\" 200 -\n",
      "172.22.0.12 - - [10/Jan/2019 07:06:49] \"POST / HTTP/1.1\" 200 -\n"
     ]
    },
    {
     "name": "stdout",
     "output_type": "stream",
     "text": [
      "{'type': ['more']}\n"
     ]
    },
    {
     "name": "stderr",
     "output_type": "stream",
     "text": [
      "172.22.0.12 - - [10/Jan/2019 07:07:06] \"POST / HTTP/1.1\" 200 -\n"
     ]
    },
    {
     "name": "stdout",
     "output_type": "stream",
     "text": [
      "{'type': ['TLDR']}\n"
     ]
    },
    {
     "name": "stderr",
     "output_type": "stream",
     "text": [
      "172.22.0.12 - - [10/Jan/2019 07:07:07] \"POST / HTTP/1.1\" 200 -\n"
     ]
    },
    {
     "name": "stdout",
     "output_type": "stream",
     "text": [
      "{'type': ['KeyWordSearch']}\n"
     ]
    },
    {
     "name": "stderr",
     "output_type": "stream",
     "text": [
      "172.22.0.12 - - [10/Jan/2019 07:07:10] \"POST / HTTP/1.1\" 200 -\n",
      "172.22.0.12 - - [10/Jan/2019 07:07:11] \"POST / HTTP/1.1\" 200 -\n",
      "172.22.0.12 - - [10/Jan/2019 07:07:12] \"POST / HTTP/1.1\" 200 -\n"
     ]
    },
    {
     "name": "stdout",
     "output_type": "stream",
     "text": [
      "{'type': ['more']}\n"
     ]
    },
    {
     "name": "stderr",
     "output_type": "stream",
     "text": [
      "172.22.0.12 - - [10/Jan/2019 07:07:13] \"POST / HTTP/1.1\" 200 -\n"
     ]
    },
    {
     "name": "stdout",
     "output_type": "stream",
     "text": [
      "{'type': ['KeyWordSearch']}\n"
     ]
    },
    {
     "name": "stderr",
     "output_type": "stream",
     "text": [
      "172.22.0.12 - - [10/Jan/2019 08:51:56] \"POST / HTTP/1.1\" 200 -\n",
      "172.22.0.12 - - [10/Jan/2019 08:51:56] \"POST / HTTP/1.1\" 200 -\n"
     ]
    },
    {
     "name": "stdout",
     "output_type": "stream",
     "text": [
      "{'type': ['KeyWordSearch']}\n"
     ]
    },
    {
     "name": "stderr",
     "output_type": "stream",
     "text": [
      "172.22.0.12 - - [10/Jan/2019 09:21:15] \"POST / HTTP/1.1\" 200 -\n",
      "172.22.0.12 - - [10/Jan/2019 09:21:16] \"POST / HTTP/1.1\" 200 -\n",
      "172.22.0.12 - - [10/Jan/2019 09:21:16] \"POST / HTTP/1.1\" 200 -\n"
     ]
    },
    {
     "name": "stdout",
     "output_type": "stream",
     "text": [
      "{'type': ['more']}\n"
     ]
    },
    {
     "name": "stderr",
     "output_type": "stream",
     "text": [
      "172.22.0.12 - - [10/Jan/2019 09:21:17] \"POST / HTTP/1.1\" 200 -\n",
      "172.22.0.12 - - [10/Jan/2019 09:51:46] \"POST / HTTP/1.1\" 200 -\n"
     ]
    },
    {
     "name": "stdout",
     "output_type": "stream",
     "text": [
      "<Response [200]>\n",
      "{\n",
      "  \"status_describe\": \"User U0adb429de2dab5781e339b9494c5ee69 ('\\u6797\\u5b63\\u5100',) is already registered.\"\n",
      "}\n",
      "\n"
     ]
    },
    {
     "name": "stderr",
     "output_type": "stream",
     "text": [
      "172.22.0.12 - - [10/Jan/2019 09:51:48] \"POST / HTTP/1.1\" 200 -\n"
     ]
    },
    {
     "name": "stdout",
     "output_type": "stream",
     "text": [
      "{'type': ['KeyWordSearch']}\n"
     ]
    },
    {
     "name": "stderr",
     "output_type": "stream",
     "text": [
      "172.22.0.12 - - [10/Jan/2019 10:25:39] \"POST / HTTP/1.1\" 200 -\n",
      "172.22.0.12 - - [10/Jan/2019 10:25:40] \"POST / HTTP/1.1\" 200 -\n",
      "172.22.0.12 - - [10/Jan/2019 10:25:42] \"POST / HTTP/1.1\" 200 -\n"
     ]
    },
    {
     "name": "stdout",
     "output_type": "stream",
     "text": [
      "{'type': ['kwd'], 'value': ['台灣']}\n"
     ]
    },
    {
     "name": "stderr",
     "output_type": "stream",
     "text": [
      "172.22.0.12 - - [10/Jan/2019 10:25:42] \"POST / HTTP/1.1\" 200 -\n"
     ]
    },
    {
     "name": "stdout",
     "output_type": "stream",
     "text": [
      "<Response [200]>\n",
      "{\n",
      "  \"status_describe\": \"success add user\"\n",
      "}\n",
      "\n"
     ]
    },
    {
     "name": "stderr",
     "output_type": "stream",
     "text": [
      "172.22.0.12 - - [10/Jan/2019 11:14:37] \"POST / HTTP/1.1\" 200 -\n"
     ]
    },
    {
     "name": "stdout",
     "output_type": "stream",
     "text": [
      "{'type': ['KeyWordSearch']}\n"
     ]
    },
    {
     "name": "stderr",
     "output_type": "stream",
     "text": [
      "172.22.0.12 - - [10/Jan/2019 11:15:09] \"POST / HTTP/1.1\" 200 -\n",
      "172.22.0.12 - - [10/Jan/2019 11:15:10] \"POST / HTTP/1.1\" 200 -\n",
      "172.22.0.12 - - [10/Jan/2019 11:15:11] \"POST / HTTP/1.1\" 200 -\n"
     ]
    },
    {
     "name": "stdout",
     "output_type": "stream",
     "text": [
      "{'type': ['kwd'], 'value': ['蔡英文']}\n"
     ]
    },
    {
     "name": "stderr",
     "output_type": "stream",
     "text": [
      "172.22.0.12 - - [10/Jan/2019 11:15:12] \"POST / HTTP/1.1\" 200 -\n"
     ]
    },
    {
     "name": "stdout",
     "output_type": "stream",
     "text": [
      "{'type': ['KeyWordSearch']}\n"
     ]
    },
    {
     "name": "stderr",
     "output_type": "stream",
     "text": [
      "172.22.0.12 - - [10/Jan/2019 11:15:18] \"POST / HTTP/1.1\" 200 -\n",
      "172.22.0.12 - - [10/Jan/2019 11:15:18] \"POST / HTTP/1.1\" 200 -\n",
      "172.22.0.12 - - [10/Jan/2019 11:15:19] \"POST / HTTP/1.1\" 200 -\n",
      "172.22.0.12 - - [10/Jan/2019 11:15:20] \"POST / HTTP/1.1\" 200 -\n"
     ]
    },
    {
     "name": "stdout",
     "output_type": "stream",
     "text": [
      "{'type': ['more']}\n"
     ]
    },
    {
     "name": "stderr",
     "output_type": "stream",
     "text": [
      "172.22.0.12 - - [10/Jan/2019 11:15:21] \"POST / HTTP/1.1\" 200 -\n",
      "172.22.0.12 - - [10/Jan/2019 11:15:26] \"POST / HTTP/1.1\" 200 -\n"
     ]
    },
    {
     "name": "stdout",
     "output_type": "stream",
     "text": [
      "{'type': ['TLDR']}\n"
     ]
    },
    {
     "name": "stderr",
     "output_type": "stream",
     "text": [
      "172.22.0.12 - - [10/Jan/2019 11:15:27] \"POST / HTTP/1.1\" 200 -\n"
     ]
    },
    {
     "name": "stdout",
     "output_type": "stream",
     "text": [
      "{'type': ['KeyWordSearch']}\n"
     ]
    },
    {
     "name": "stderr",
     "output_type": "stream",
     "text": [
      "172.22.0.12 - - [10/Jan/2019 11:16:29] \"POST / HTTP/1.1\" 200 -\n",
      "172.22.0.12 - - [10/Jan/2019 11:16:30] \"POST / HTTP/1.1\" 200 -\n",
      "172.22.0.12 - - [10/Jan/2019 11:16:32] \"POST / HTTP/1.1\" 200 -\n"
     ]
    },
    {
     "name": "stdout",
     "output_type": "stream",
     "text": [
      "{'type': ['more']}\n"
     ]
    },
    {
     "name": "stderr",
     "output_type": "stream",
     "text": [
      "172.22.0.12 - - [10/Jan/2019 11:16:32] \"POST / HTTP/1.1\" 200 -\n",
      "172.22.0.12 - - [10/Jan/2019 11:17:01] \"POST / HTTP/1.1\" 200 -\n"
     ]
    },
    {
     "name": "stdout",
     "output_type": "stream",
     "text": [
      "{'type': ['TLDR']}\n"
     ]
    },
    {
     "name": "stderr",
     "output_type": "stream",
     "text": [
      "172.22.0.12 - - [10/Jan/2019 11:17:05] \"POST / HTTP/1.1\" 200 -\n",
      "172.22.0.12 - - [10/Jan/2019 11:17:06] \"POST / HTTP/1.1\" 200 -\n",
      "172.22.0.12 - - [10/Jan/2019 11:17:11] \"POST / HTTP/1.1\" 200 -\n",
      "172.22.0.12 - - [10/Jan/2019 11:17:27] \"POST / HTTP/1.1\" 200 -\n",
      "172.22.0.12 - - [10/Jan/2019 11:18:19] \"POST / HTTP/1.1\" 200 -\n",
      "172.22.0.12 - - [10/Jan/2019 11:18:20] \"POST / HTTP/1.1\" 200 -\n"
     ]
    },
    {
     "name": "stdout",
     "output_type": "stream",
     "text": [
      "{'type': ['TLDR']}\n"
     ]
    },
    {
     "name": "stderr",
     "output_type": "stream",
     "text": [
      "172.22.0.12 - - [10/Jan/2019 11:18:20] \"POST / HTTP/1.1\" 200 -\n"
     ]
    },
    {
     "name": "stdout",
     "output_type": "stream",
     "text": [
      "{'type': ['TLDR']}\n"
     ]
    },
    {
     "name": "stderr",
     "output_type": "stream",
     "text": [
      "172.22.0.12 - - [10/Jan/2019 11:18:21] \"POST / HTTP/1.1\" 200 -\n"
     ]
    },
    {
     "name": "stdout",
     "output_type": "stream",
     "text": [
      "{'type': ['TLDR']}\n",
      "<Response [200]>\n",
      "{\n",
      "  \"status_describe\": \"success add user\"\n",
      "}\n",
      "\n"
     ]
    },
    {
     "name": "stderr",
     "output_type": "stream",
     "text": [
      "172.22.0.12 - - [10/Jan/2019 11:22:34] \"POST / HTTP/1.1\" 200 -\n",
      "172.22.0.12 - - [10/Jan/2019 11:23:32] \"POST / HTTP/1.1\" 200 -\n",
      "172.22.0.12 - - [10/Jan/2019 11:23:45] \"POST / HTTP/1.1\" 200 -\n",
      "172.22.0.12 - - [10/Jan/2019 11:24:04] \"POST / HTTP/1.1\" 200 -\n",
      "172.22.0.12 - - [10/Jan/2019 11:24:09] \"POST / HTTP/1.1\" 200 -\n",
      "172.22.0.12 - - [10/Jan/2019 11:24:19] \"POST / HTTP/1.1\" 200 -\n",
      "172.22.0.12 - - [10/Jan/2019 11:24:28] \"POST / HTTP/1.1\" 200 -\n",
      "172.22.0.12 - - [10/Jan/2019 11:27:39] \"POST / HTTP/1.1\" 200 -\n"
     ]
    },
    {
     "name": "stdout",
     "output_type": "stream",
     "text": [
      "<Response [200]>\n",
      "{\n",
      "  \"status_describe\": \"User U7e53d19f3da0487cd4940064c676bb09 ('Jian De Li',) is already registered.\"\n",
      "}\n",
      "\n"
     ]
    },
    {
     "name": "stderr",
     "output_type": "stream",
     "text": [
      "172.22.0.12 - - [10/Jan/2019 11:27:41] \"POST / HTTP/1.1\" 200 -\n",
      "172.22.0.12 - - [10/Jan/2019 11:27:45] \"POST / HTTP/1.1\" 200 -\n",
      "172.22.0.12 - - [10/Jan/2019 11:27:57] \"POST / HTTP/1.1\" 200 -\n",
      "172.22.0.12 - - [10/Jan/2019 11:29:24] \"POST / HTTP/1.1\" 200 -\n",
      "172.22.0.12 - - [10/Jan/2019 11:29:44] \"POST / HTTP/1.1\" 200 -\n",
      "172.22.0.12 - - [10/Jan/2019 11:29:54] \"POST / HTTP/1.1\" 200 -\n",
      "172.22.0.12 - - [10/Jan/2019 11:30:02] \"POST / HTTP/1.1\" 200 -\n"
     ]
    },
    {
     "name": "stdout",
     "output_type": "stream",
     "text": [
      "<Response [200]>\n",
      "{\n",
      "  \"status_describe\": \"success add user\"\n",
      "}\n",
      "\n"
     ]
    },
    {
     "name": "stderr",
     "output_type": "stream",
     "text": [
      "172.22.0.12 - - [10/Jan/2019 11:37:50] \"POST / HTTP/1.1\" 200 -\n",
      "172.22.0.12 - - [10/Jan/2019 11:59:44] \"POST / HTTP/1.1\" 200 -\n",
      "172.22.0.7 - - [10/Jan/2019 12:01:26] \"GET /pushMessage HTTP/1.1\" 200 -\n"
     ]
    },
    {
     "name": "stdout",
     "output_type": "stream",
     "text": [
      "{'type': ['KeyWordSearch']}\n"
     ]
    },
    {
     "name": "stderr",
     "output_type": "stream",
     "text": [
      "172.22.0.12 - - [10/Jan/2019 12:01:58] \"POST / HTTP/1.1\" 200 -\n",
      "172.22.0.12 - - [10/Jan/2019 12:01:59] \"POST / HTTP/1.1\" 200 -\n",
      "172.22.0.12 - - [10/Jan/2019 12:02:02] \"POST / HTTP/1.1\" 200 -\n"
     ]
    },
    {
     "name": "stdout",
     "output_type": "stream",
     "text": [
      "{'type': ['more']}\n"
     ]
    },
    {
     "name": "stderr",
     "output_type": "stream",
     "text": [
      "172.22.0.12 - - [10/Jan/2019 12:02:02] \"POST / HTTP/1.1\" 200 -\n"
     ]
    },
    {
     "name": "stdout",
     "output_type": "stream",
     "text": [
      "{'type': ['KeyWordSearch']}\n"
     ]
    },
    {
     "name": "stderr",
     "output_type": "stream",
     "text": [
      "172.22.0.12 - - [10/Jan/2019 12:05:12] \"POST / HTTP/1.1\" 200 -\n",
      "172.22.0.12 - - [10/Jan/2019 12:05:13] \"POST / HTTP/1.1\" 200 -\n"
     ]
    },
    {
     "name": "stdout",
     "output_type": "stream",
     "text": [
      "{'type': ['KeyWordSearch']}\n"
     ]
    },
    {
     "name": "stderr",
     "output_type": "stream",
     "text": [
      "172.22.0.12 - - [10/Jan/2019 12:05:13] \"POST / HTTP/1.1\" 200 -\n"
     ]
    },
    {
     "name": "stdout",
     "output_type": "stream",
     "text": [
      "{'type': ['TLDR']}\n"
     ]
    },
    {
     "name": "stderr",
     "output_type": "stream",
     "text": [
      "172.22.0.12 - - [10/Jan/2019 12:05:27] \"POST / HTTP/1.1\" 200 -\n",
      "172.22.0.12 - - [10/Jan/2019 12:05:27] \"POST / HTTP/1.1\" 200 -\n",
      "172.22.0.12 - - [10/Jan/2019 12:05:30] \"POST / HTTP/1.1\" 200 -\n"
     ]
    },
    {
     "name": "stdout",
     "output_type": "stream",
     "text": [
      "{'type': ['TLDR']}\n"
     ]
    },
    {
     "name": "stderr",
     "output_type": "stream",
     "text": [
      "172.22.0.12 - - [10/Jan/2019 12:05:30] \"POST / HTTP/1.1\" 200 -\n",
      "172.22.0.12 - - [10/Jan/2019 12:05:31] \"POST / HTTP/1.1\" 200 -\n"
     ]
    },
    {
     "name": "stdout",
     "output_type": "stream",
     "text": [
      "{'type': ['TLDR']}\n",
      "{'type': ['TLDR']}\n",
      "{'type': ['TLDR']}\n"
     ]
    },
    {
     "name": "stderr",
     "output_type": "stream",
     "text": [
      "172.22.0.12 - - [10/Jan/2019 12:05:32] \"POST / HTTP/1.1\" 200 -\n"
     ]
    },
    {
     "name": "stdout",
     "output_type": "stream",
     "text": [
      "{'type': ['TLDR']}\n"
     ]
    },
    {
     "name": "stderr",
     "output_type": "stream",
     "text": [
      "172.22.0.12 - - [10/Jan/2019 12:32:16] \"POST / HTTP/1.1\" 200 -\n",
      "172.22.0.12 - - [10/Jan/2019 12:32:16] \"POST / HTTP/1.1\" 200 -\n",
      "172.22.0.12 - - [10/Jan/2019 12:34:30] \"POST / HTTP/1.1\" 200 -\n",
      "172.22.0.12 - - [10/Jan/2019 12:34:43] \"POST / HTTP/1.1\" 200 -\n",
      "172.22.0.12 - - [10/Jan/2019 12:55:52] \"POST / HTTP/1.1\" 200 -\n",
      "172.22.0.12 - - [10/Jan/2019 14:16:44] \"POST / HTTP/1.1\" 200 -\n"
     ]
    },
    {
     "name": "stdout",
     "output_type": "stream",
     "text": [
      "{'type': ['TLDR']}\n"
     ]
    },
    {
     "name": "stderr",
     "output_type": "stream",
     "text": [
      "172.22.0.12 - - [10/Jan/2019 14:16:45] \"POST / HTTP/1.1\" 200 -\n"
     ]
    },
    {
     "name": "stdout",
     "output_type": "stream",
     "text": [
      "{'type': ['KeyWordSearch']}\n"
     ]
    },
    {
     "name": "stderr",
     "output_type": "stream",
     "text": [
      "172.22.0.12 - - [10/Jan/2019 14:16:46] \"POST / HTTP/1.1\" 200 -\n",
      "172.22.0.12 - - [10/Jan/2019 14:16:47] \"POST / HTTP/1.1\" 200 -\n",
      "172.22.0.12 - - [10/Jan/2019 14:30:09] \"POST / HTTP/1.1\" 200 -\n"
     ]
    },
    {
     "name": "stdout",
     "output_type": "stream",
     "text": [
      "<Response [200]>\n",
      "{\n",
      "  \"status_describe\": \"User U36bae6afd29f9e0beb8517791f6b2e83 ('\\u826f\\u69ae',) is already registered.\"\n",
      "}\n",
      "\n"
     ]
    },
    {
     "name": "stderr",
     "output_type": "stream",
     "text": [
      "172.22.0.12 - - [10/Jan/2019 14:30:10] \"POST / HTTP/1.1\" 200 -\n",
      "172.22.0.12 - - [10/Jan/2019 14:30:36] \"POST / HTTP/1.1\" 200 -\n"
     ]
    },
    {
     "name": "stdout",
     "output_type": "stream",
     "text": [
      "{'type': ['TLDR']}\n"
     ]
    },
    {
     "name": "stderr",
     "output_type": "stream",
     "text": [
      "172.22.0.12 - - [10/Jan/2019 14:30:36] \"POST / HTTP/1.1\" 200 -\n"
     ]
    },
    {
     "name": "stdout",
     "output_type": "stream",
     "text": [
      "{'type': ['KeyWordSearch']}\n"
     ]
    },
    {
     "name": "stderr",
     "output_type": "stream",
     "text": [
      "172.22.0.12 - - [10/Jan/2019 14:33:19] \"POST / HTTP/1.1\" 200 -\n",
      "172.22.0.12 - - [10/Jan/2019 14:33:20] \"POST / HTTP/1.1\" 200 -\n",
      "172.22.0.12 - - [10/Jan/2019 14:33:21] \"POST / HTTP/1.1\" 200 -\n"
     ]
    },
    {
     "name": "stdout",
     "output_type": "stream",
     "text": [
      "{'type': ['more']}\n"
     ]
    },
    {
     "name": "stderr",
     "output_type": "stream",
     "text": [
      "172.22.0.12 - - [10/Jan/2019 14:33:22] \"POST / HTTP/1.1\" 200 -\n",
      "172.22.0.12 - - [10/Jan/2019 16:13:58] \"POST / HTTP/1.1\" 200 -\n"
     ]
    },
    {
     "name": "stdout",
     "output_type": "stream",
     "text": [
      "{'type': ['TLDR']}\n"
     ]
    },
    {
     "name": "stderr",
     "output_type": "stream",
     "text": [
      "172.22.0.12 - - [10/Jan/2019 16:13:59] \"POST / HTTP/1.1\" 200 -\n"
     ]
    },
    {
     "name": "stdout",
     "output_type": "stream",
     "text": [
      "<Response [200]>\n",
      "{\n",
      "  \"status_describe\": \"success add user\"\n",
      "}\n",
      "\n"
     ]
    },
    {
     "name": "stderr",
     "output_type": "stream",
     "text": [
      "172.22.0.12 - - [10/Jan/2019 16:15:51] \"POST / HTTP/1.1\" 200 -\n",
      "172.22.0.12 - - [10/Jan/2019 16:16:39] \"POST / HTTP/1.1\" 200 -\n"
     ]
    },
    {
     "name": "stdout",
     "output_type": "stream",
     "text": [
      "{'type': ['TLDR']}\n"
     ]
    },
    {
     "name": "stderr",
     "output_type": "stream",
     "text": [
      "172.22.0.12 - - [10/Jan/2019 16:16:40] \"POST / HTTP/1.1\" 200 -\n"
     ]
    },
    {
     "name": "stdout",
     "output_type": "stream",
     "text": [
      "{'type': ['TLDR']}\n"
     ]
    },
    {
     "name": "stderr",
     "output_type": "stream",
     "text": [
      "172.22.0.12 - - [10/Jan/2019 22:52:05] \"POST / HTTP/1.1\" 200 -\n",
      "172.22.0.12 - - [10/Jan/2019 22:52:06] \"POST / HTTP/1.1\" 200 -\n"
     ]
    },
    {
     "name": "stdout",
     "output_type": "stream",
     "text": [
      "{'type': ['KeyWordSearch']}\n"
     ]
    },
    {
     "name": "stderr",
     "output_type": "stream",
     "text": [
      "172.22.0.12 - - [10/Jan/2019 22:52:11] \"POST / HTTP/1.1\" 200 -\n",
      "172.22.0.12 - - [10/Jan/2019 22:52:11] \"POST / HTTP/1.1\" 200 -\n",
      "172.22.0.12 - - [10/Jan/2019 22:52:14] \"POST / HTTP/1.1\" 200 -\n"
     ]
    },
    {
     "name": "stdout",
     "output_type": "stream",
     "text": [
      "{'type': ['kwd'], 'value': ['九二共識']}\n"
     ]
    },
    {
     "name": "stderr",
     "output_type": "stream",
     "text": [
      "172.22.0.12 - - [10/Jan/2019 22:52:14] \"POST / HTTP/1.1\" 200 -\n"
     ]
    },
    {
     "name": "stdout",
     "output_type": "stream",
     "text": [
      "{'type': ['KeyWordSearch']}\n"
     ]
    },
    {
     "name": "stderr",
     "output_type": "stream",
     "text": [
      "172.22.0.12 - - [11/Jan/2019 03:51:42] \"POST / HTTP/1.1\" 200 -\n",
      "172.22.0.12 - - [11/Jan/2019 03:51:42] \"POST / HTTP/1.1\" 200 -\n"
     ]
    },
    {
     "name": "stdout",
     "output_type": "stream",
     "text": [
      "{'type': ['TLDR']}\n"
     ]
    },
    {
     "name": "stderr",
     "output_type": "stream",
     "text": [
      "172.22.0.12 - - [11/Jan/2019 10:05:34] \"POST / HTTP/1.1\" 200 -\n",
      "172.22.0.12 - - [11/Jan/2019 10:05:34] \"POST / HTTP/1.1\" 200 -\n"
     ]
    },
    {
     "name": "stdout",
     "output_type": "stream",
     "text": [
      "{'type': ['KeyWordSearch']}\n"
     ]
    },
    {
     "name": "stderr",
     "output_type": "stream",
     "text": [
      "172.22.0.12 - - [11/Jan/2019 10:05:36] \"POST / HTTP/1.1\" 200 -\n",
      "172.22.0.12 - - [11/Jan/2019 10:05:37] \"POST / HTTP/1.1\" 200 -\n",
      "172.22.0.12 - - [11/Jan/2019 10:05:43] \"POST / HTTP/1.1\" 200 -\n"
     ]
    },
    {
     "name": "stdout",
     "output_type": "stream",
     "text": [
      "{'type': ['kwd'], 'value': ['蔡英文']}\n"
     ]
    },
    {
     "name": "stderr",
     "output_type": "stream",
     "text": [
      "172.22.0.12 - - [11/Jan/2019 10:05:43] \"POST / HTTP/1.1\" 200 -\n"
     ]
    },
    {
     "name": "stdout",
     "output_type": "stream",
     "text": [
      "{'type': ['KeyWordSearch']}\n"
     ]
    },
    {
     "name": "stderr",
     "output_type": "stream",
     "text": [
      "172.22.0.12 - - [11/Jan/2019 10:39:14] \"POST / HTTP/1.1\" 200 -\n",
      "172.22.0.12 - - [11/Jan/2019 10:39:15] \"POST / HTTP/1.1\" 200 -\n",
      "172.22.0.12 - - [11/Jan/2019 10:39:16] \"POST / HTTP/1.1\" 200 -\n"
     ]
    },
    {
     "name": "stdout",
     "output_type": "stream",
     "text": [
      "{'type': ['more']}\n"
     ]
    },
    {
     "name": "stderr",
     "output_type": "stream",
     "text": [
      "172.22.0.12 - - [11/Jan/2019 10:39:17] \"POST / HTTP/1.1\" 200 -\n",
      "172.22.0.7 - - [11/Jan/2019 12:00:00] \"GET /pushMessage HTTP/1.1\" 200 -\n"
     ]
    },
    {
     "name": "stdout",
     "output_type": "stream",
     "text": [
      "{'type': ['TLDR']}\n"
     ]
    },
    {
     "name": "stderr",
     "output_type": "stream",
     "text": [
      "172.22.0.12 - - [11/Jan/2019 12:00:14] \"POST / HTTP/1.1\" 200 -\n",
      "172.22.0.12 - - [11/Jan/2019 12:00:15] \"POST / HTTP/1.1\" 200 -\n",
      "172.22.0.12 - - [11/Jan/2019 12:00:45] \"POST / HTTP/1.1\" 200 -\n",
      "172.22.0.12 - - [11/Jan/2019 12:01:20] \"POST / HTTP/1.1\" 200 -\n"
     ]
    },
    {
     "name": "stdout",
     "output_type": "stream",
     "text": [
      "<Response [200]>\n",
      "{\n",
      "  \"status_describe\": \"success add user\"\n",
      "}\n",
      "\n"
     ]
    },
    {
     "name": "stderr",
     "output_type": "stream",
     "text": [
      "172.22.0.12 - - [11/Jan/2019 12:01:22] \"POST / HTTP/1.1\" 200 -\n",
      "172.22.0.12 - - [11/Jan/2019 12:11:27] \"POST / HTTP/1.1\" 200 -\n"
     ]
    },
    {
     "name": "stdout",
     "output_type": "stream",
     "text": [
      "{'type': ['TLDR']}\n"
     ]
    },
    {
     "name": "stderr",
     "output_type": "stream",
     "text": [
      "172.22.0.12 - - [11/Jan/2019 12:11:28] \"POST / HTTP/1.1\" 200 -\n",
      "172.22.0.12 - - [11/Jan/2019 12:11:34] \"POST / HTTP/1.1\" 200 -\n"
     ]
    },
    {
     "name": "stdout",
     "output_type": "stream",
     "text": [
      "{'type': ['TLDR']}\n"
     ]
    },
    {
     "name": "stderr",
     "output_type": "stream",
     "text": [
      "172.22.0.12 - - [11/Jan/2019 12:11:35] \"POST / HTTP/1.1\" 200 -\n"
     ]
    },
    {
     "name": "stdout",
     "output_type": "stream",
     "text": [
      "{'type': ['KeyWordSearch']}\n"
     ]
    },
    {
     "name": "stderr",
     "output_type": "stream",
     "text": [
      "172.22.0.12 - - [11/Jan/2019 12:11:36] \"POST / HTTP/1.1\" 200 -\n",
      "172.22.0.12 - - [11/Jan/2019 12:11:37] \"POST / HTTP/1.1\" 200 -\n",
      "172.22.0.12 - - [11/Jan/2019 12:11:43] \"POST / HTTP/1.1\" 200 -\n"
     ]
    },
    {
     "name": "stdout",
     "output_type": "stream",
     "text": [
      "{'type': ['TLDR']}\n"
     ]
    },
    {
     "name": "stderr",
     "output_type": "stream",
     "text": [
      "172.22.0.12 - - [11/Jan/2019 12:11:43] \"POST / HTTP/1.1\" 200 -\n",
      "172.22.0.12 - - [11/Jan/2019 12:13:39] \"POST / HTTP/1.1\" 200 -\n"
     ]
    },
    {
     "name": "stdout",
     "output_type": "stream",
     "text": [
      "{'type': ['KeyWordSearch']}\n"
     ]
    },
    {
     "name": "stderr",
     "output_type": "stream",
     "text": [
      "172.22.0.12 - - [11/Jan/2019 12:59:44] \"POST / HTTP/1.1\" 200 -\n",
      "172.22.0.12 - - [11/Jan/2019 12:59:44] \"POST / HTTP/1.1\" 200 -\n",
      "172.22.0.12 - - [11/Jan/2019 12:59:48] \"POST / HTTP/1.1\" 200 -\n"
     ]
    },
    {
     "name": "stdout",
     "output_type": "stream",
     "text": [
      "{'type': ['kwd'], 'value': ['韓國瑜']}\n"
     ]
    },
    {
     "name": "stderr",
     "output_type": "stream",
     "text": [
      "172.22.0.12 - - [11/Jan/2019 12:59:48] \"POST / HTTP/1.1\" 200 -\n"
     ]
    },
    {
     "name": "stdout",
     "output_type": "stream",
     "text": [
      "{'type': ['TLDR']}\n"
     ]
    },
    {
     "name": "stderr",
     "output_type": "stream",
     "text": [
      "172.22.0.12 - - [11/Jan/2019 14:45:53] \"POST / HTTP/1.1\" 200 -\n",
      "172.22.0.12 - - [11/Jan/2019 14:45:53] \"POST / HTTP/1.1\" 200 -\n"
     ]
    },
    {
     "name": "stdout",
     "output_type": "stream",
     "text": [
      "{'type': ['TLDR']}\n",
      "{'type': ['TLDR']}\n"
     ]
    },
    {
     "name": "stderr",
     "output_type": "stream",
     "text": [
      "172.22.0.12 - - [11/Jan/2019 16:39:43] \"POST / HTTP/1.1\" 200 -\n",
      "172.22.0.12 - - [11/Jan/2019 16:39:44] \"POST / HTTP/1.1\" 200 -\n"
     ]
    },
    {
     "name": "stdout",
     "output_type": "stream",
     "text": [
      "{'type': ['KeyWordSearch']}\n"
     ]
    },
    {
     "name": "stderr",
     "output_type": "stream",
     "text": [
      "172.22.0.12 - - [11/Jan/2019 19:02:44] \"POST / HTTP/1.1\" 200 -\n",
      "172.22.0.12 - - [11/Jan/2019 19:02:45] \"POST / HTTP/1.1\" 200 -\n"
     ]
    },
    {
     "name": "stdout",
     "output_type": "stream",
     "text": [
      "<Response [200]>\n",
      "{\n",
      "  \"status_describe\": \"success add user\"\n",
      "}\n",
      "\n"
     ]
    },
    {
     "name": "stderr",
     "output_type": "stream",
     "text": [
      "172.22.0.12 - - [11/Jan/2019 20:43:32] \"POST / HTTP/1.1\" 200 -\n"
     ]
    },
    {
     "name": "stdout",
     "output_type": "stream",
     "text": [
      "{'type': ['KeyWordSearch']}\n"
     ]
    },
    {
     "name": "stderr",
     "output_type": "stream",
     "text": [
      "172.22.0.12 - - [11/Jan/2019 20:43:47] \"POST / HTTP/1.1\" 200 -\n",
      "172.22.0.12 - - [11/Jan/2019 20:43:48] \"POST / HTTP/1.1\" 200 -\n",
      "172.22.0.12 - - [11/Jan/2019 20:44:36] \"POST / HTTP/1.1\" 200 -\n"
     ]
    },
    {
     "name": "stdout",
     "output_type": "stream",
     "text": [
      "{'type': ['TLDR']}\n"
     ]
    },
    {
     "name": "stderr",
     "output_type": "stream",
     "text": [
      "172.22.0.12 - - [11/Jan/2019 20:44:36] \"POST / HTTP/1.1\" 200 -\n",
      "172.22.0.12 - - [11/Jan/2019 20:44:47] \"POST / HTTP/1.1\" 200 -\n"
     ]
    },
    {
     "name": "stdout",
     "output_type": "stream",
     "text": [
      "{'type': ['KeyWordSearch']}\n"
     ]
    },
    {
     "name": "stderr",
     "output_type": "stream",
     "text": [
      "172.22.0.12 - - [11/Jan/2019 20:44:47] \"POST / HTTP/1.1\" 200 -\n"
     ]
    },
    {
     "name": "stdout",
     "output_type": "stream",
     "text": [
      "{'type': ['more']}\n"
     ]
    },
    {
     "name": "stderr",
     "output_type": "stream",
     "text": [
      "172.22.0.12 - - [11/Jan/2019 20:45:00] \"POST / HTTP/1.1\" 200 -\n",
      "172.22.0.12 - - [11/Jan/2019 20:45:00] \"POST / HTTP/1.1\" 200 -\n",
      "172.22.0.12 - - [11/Jan/2019 20:47:30] \"POST / HTTP/1.1\" 200 -\n"
     ]
    },
    {
     "name": "stdout",
     "output_type": "stream",
     "text": [
      "{'type': ['KeyWordSearch']}\n"
     ]
    },
    {
     "name": "stderr",
     "output_type": "stream",
     "text": [
      "172.22.0.12 - - [11/Jan/2019 20:47:31] \"POST / HTTP/1.1\" 200 -\n",
      "172.22.0.12 - - [11/Jan/2019 20:47:32] \"POST / HTTP/1.1\" 200 -\n",
      "172.22.0.12 - - [11/Jan/2019 20:47:33] \"POST / HTTP/1.1\" 200 -\n"
     ]
    },
    {
     "name": "stdout",
     "output_type": "stream",
     "text": [
      "{'type': ['kwd'], 'value': ['九二共識']}\n"
     ]
    },
    {
     "name": "stderr",
     "output_type": "stream",
     "text": [
      "172.22.0.12 - - [11/Jan/2019 20:47:34] \"POST / HTTP/1.1\" 200 -\n"
     ]
    },
    {
     "name": "stdout",
     "output_type": "stream",
     "text": [
      "{'type': ['KeyWordSearch']}\n"
     ]
    },
    {
     "name": "stderr",
     "output_type": "stream",
     "text": [
      "172.22.0.12 - - [11/Jan/2019 20:49:09] \"POST / HTTP/1.1\" 200 -\n",
      "172.22.0.12 - - [11/Jan/2019 20:49:09] \"POST / HTTP/1.1\" 200 -\n",
      "172.22.0.12 - - [11/Jan/2019 20:49:14] \"POST / HTTP/1.1\" 200 -\n"
     ]
    },
    {
     "name": "stdout",
     "output_type": "stream",
     "text": [
      "{'type': ['more']}\n"
     ]
    },
    {
     "name": "stderr",
     "output_type": "stream",
     "text": [
      "172.22.0.12 - - [11/Jan/2019 20:49:14] \"POST / HTTP/1.1\" 200 -\n",
      "172.22.0.12 - - [11/Jan/2019 20:55:32] \"POST / HTTP/1.1\" 200 -\n"
     ]
    },
    {
     "name": "stdout",
     "output_type": "stream",
     "text": [
      "{'type': ['TLDR']}\n"
     ]
    },
    {
     "name": "stderr",
     "output_type": "stream",
     "text": [
      "172.22.0.12 - - [11/Jan/2019 20:55:33] \"POST / HTTP/1.1\" 200 -\n"
     ]
    },
    {
     "name": "stdout",
     "output_type": "stream",
     "text": [
      "{'type': ['KeyWordSearch']}\n"
     ]
    },
    {
     "name": "stderr",
     "output_type": "stream",
     "text": [
      "172.22.0.12 - - [11/Jan/2019 20:55:49] \"POST / HTTP/1.1\" 200 -\n",
      "172.22.0.12 - - [11/Jan/2019 20:55:49] \"POST / HTTP/1.1\" 200 -\n",
      "172.22.0.12 - - [11/Jan/2019 20:56:21] \"POST / HTTP/1.1\" 200 -\n",
      "172.22.0.12 - - [11/Jan/2019 20:56:23] \"POST / HTTP/1.1\" 200 -\n",
      "172.22.0.12 - - [11/Jan/2019 20:56:33] \"POST / HTTP/1.1\" 200 -\n",
      "172.22.0.12 - - [11/Jan/2019 21:06:14] \"POST / HTTP/1.1\" 200 -\n"
     ]
    },
    {
     "name": "stdout",
     "output_type": "stream",
     "text": [
      "{'type': ['TLDR']}\n",
      "{'type': ['KeyWordSearch']}\n"
     ]
    },
    {
     "name": "stderr",
     "output_type": "stream",
     "text": [
      "172.22.0.12 - - [11/Jan/2019 21:06:15] \"POST / HTTP/1.1\" 200 -\n"
     ]
    },
    {
     "name": "stdout",
     "output_type": "stream",
     "text": [
      "{'type': ['KeyWordSearch']}\n"
     ]
    },
    {
     "name": "stderr",
     "output_type": "stream",
     "text": [
      "172.22.0.12 - - [11/Jan/2019 21:06:22] \"POST / HTTP/1.1\" 200 -\n",
      "172.22.0.12 - - [11/Jan/2019 21:06:23] \"POST / HTTP/1.1\" 200 -\n",
      "172.22.0.12 - - [11/Jan/2019 21:12:32] \"POST / HTTP/1.1\" 200 -\n"
     ]
    }
   ],
   "source": [
    "'''\n",
    "    7.啟動server\n",
    "    執行此句，啟動Server，觀察後，按左上方塊，停用Server\n",
    "\n",
    "'''\n",
    "\n",
    "if __name__ == \"__main__\":\n",
    "    app.run(host='0.0.0.0',port=5000)"
   ]
  },
  {
   "cell_type": "code",
   "execution_count": null,
   "metadata": {},
   "outputs": [],
   "source": []
  },
  {
   "cell_type": "code",
   "execution_count": null,
   "metadata": {},
   "outputs": [],
   "source": []
  },
  {
   "cell_type": "code",
   "execution_count": null,
   "metadata": {},
   "outputs": [],
   "source": []
  }
 ],
 "metadata": {
  "kernelspec": {
   "display_name": "Python 3",
   "language": "python",
   "name": "python3"
  },
  "language_info": {
   "codemirror_mode": {
    "name": "ipython",
    "version": 3
   },
   "file_extension": ".py",
   "mimetype": "text/x-python",
   "name": "python",
   "nbconvert_exporter": "python",
   "pygments_lexer": "ipython3",
   "version": "3.7.1"
  }
 },
 "nbformat": 4,
 "nbformat_minor": 2
}
