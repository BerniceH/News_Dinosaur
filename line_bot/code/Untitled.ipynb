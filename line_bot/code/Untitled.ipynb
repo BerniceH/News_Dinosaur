{
 "cells": [
  {
   "cell_type": "code",
   "execution_count": 10,
   "metadata": {},
   "outputs": [
    {
     "data": {
      "text/plain": [
       "['U29a07f94e16697b2829a39eac85fb46c',\n",
       " 'U2a2083a15a88e6a8bba986c760bb5c56',\n",
       " 'U33e7e0ad7e0902ac8dd319526ffacd84',\n",
       " 'U36bae6afd29f9e0beb8517791f6b2e83',\n",
       " 'U5523c611afe9b7f0bfb738a69aa992bc',\n",
       " 'U55a90979a40d7c47ea1e3b5aa3fdacc7',\n",
       " 'U85f18229c2e09b5793b6a6b13baa91a1',\n",
       " 'Ucc457c483e38fdf5206d9c9690cc6077',\n",
       " 'Ue86915b344f51b4ce3322e5faade6eb2']"
      ]
     },
     "execution_count": 10,
     "metadata": {},
     "output_type": "execute_result"
    }
   ],
   "source": [
    "ip_location='chatbot_api'\n",
    "Endpoint='http://%s:5000/users_id' % (ip_location)\n",
    "\n",
    "Response=requests.get(Endpoint)\n",
    "user_id_array = Response.json()\n",
    "user_id_array"
   ]
  },
  {
   "cell_type": "code",
   "execution_count": null,
   "metadata": {},
   "outputs": [],
   "source": []
  }
 ],
 "metadata": {
  "kernelspec": {
   "display_name": "Python 3",
   "language": "python",
   "name": "python3"
  },
  "language_info": {
   "codemirror_mode": {
    "name": "ipython",
    "version": 3
   },
   "file_extension": ".py",
   "mimetype": "text/x-python",
   "name": "python",
   "nbconvert_exporter": "python",
   "pygments_lexer": "ipython3",
   "version": "3.7.1"
  }
 },
 "nbformat": 4,
 "nbformat_minor": 2
}
