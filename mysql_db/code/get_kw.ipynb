{
 "cells": [
  {
   "cell_type": "code",
   "execution_count": null,
   "metadata": {},
   "outputs": [],
   "source": []
  },
  {
   "cell_type": "code",
   "execution_count": 3,
   "metadata": {},
   "outputs": [
    {
     "name": "stdout",
     "output_type": "stream",
     "text": [
      "Collecting pandas\n",
      "\u001b[?25l  Downloading https://files.pythonhosted.org/packages/e1/d8/feeb346d41f181e83fba45224ab14a8d8af019b48af742e047f3845d8cff/pandas-0.23.4-cp36-cp36m-manylinux1_x86_64.whl (8.9MB)\n",
      "\u001b[K    100% |████████████████████████████████| 8.9MB 2.1MB/s ta 0:00:011\n",
      "\u001b[?25hRequirement already satisfied: pytz>=2011k in /opt/conda/lib/python3.6/site-packages (from pandas) (2018.9)\n",
      "Collecting numpy>=1.9.0 (from pandas)\n",
      "\u001b[?25l  Downloading https://files.pythonhosted.org/packages/ff/7f/9d804d2348471c67a7d8b5f84f9bc59fd1cefa148986f2b74552f8573555/numpy-1.15.4-cp36-cp36m-manylinux1_x86_64.whl (13.9MB)\n",
      "\u001b[K    100% |████████████████████████████████| 13.9MB 2.2MB/s ta 0:00:01\n",
      "\u001b[?25hRequirement already satisfied: python-dateutil>=2.5.0 in /opt/conda/lib/python3.6/site-packages (from pandas) (2.7.3)\n",
      "Requirement already satisfied: six>=1.5 in /opt/conda/lib/python3.6/site-packages (from python-dateutil>=2.5.0->pandas) (1.11.0)\n",
      "Installing collected packages: numpy, pandas\n",
      "Successfully installed numpy-1.15.4 pandas-0.23.4\n"
     ]
    }
   ],
   "source": [
    "!pip install pandas\n"
   ]
  },
  {
   "cell_type": "code",
   "execution_count": 7,
   "metadata": {
    "scrolled": true
   },
   "outputs": [],
   "source": [
    "import pymysql\n",
    "import json\n",
    "import pandas as pd\n",
    "#建立與mysql的連線\n",
    "connd = pymysql.connect(host='db', port=3306, user='root', passwd='iii', db='chatbot_db',charset='utf8mb4')\n",
    "\n",
    "#方便用來跟mysql互動\n",
    "curs = connd.cursor()\n",
    "curs.execute(\n",
    "    '''select title, keyword from chatbot_db.Article_Keyword \n",
    "    Join chatbot_db.Keyword ON Article_Keyword.keyword_id = Keyword.keyword_id\n",
    "    Join chatbot_db.News ON Article_Keyword.title_id = News.title_id'''\n",
    "    )\n",
    "sad = curs.fetchall()\n",
    "curs.close()\n",
    "my_json = []\n",
    "for s in sad:\n",
    "    my_kw= {\n",
    "        \"title\": s[0],\n",
    "        \"keyword\": s[1]\n",
    "    }\n",
    "    my_json.append(my_kw)\n",
    "\n",
    "df_all = pd.DataFrame(columns=[\"title\", \"keyword\"])\n",
    "df = pd.DataFrame.from_dict(my_json, orient=\"columns\")\n",
    "    \n",
    "df.to_csv(\"keywords.csv\", index=False, sep= \"|\")"
   ]
  },
  {
   "cell_type": "code",
   "execution_count": 8,
   "metadata": {},
   "outputs": [],
   "source": [
    "import pymysql\n",
    "import json\n",
    "import pandas as pd\n",
    "#建立與mysql的連線\n",
    "connd = pymysql.connect(host='db', port=3306, user='root', passwd='iii', db='chatbot_db',charset='utf8mb4')\n",
    "\n",
    "#方便用來跟mysql互動\n",
    "curs = connd.cursor()\n",
    "curs.execute(\n",
    "    '''select title from chatbot_db.News'''\n",
    "    )\n",
    "sad = curs.fetchall()\n",
    "curs.close()\n",
    "my_json = []\n",
    "for s in sad:\n",
    "    my_kw= {\n",
    "        \"title\": s[0]\n",
    "    }\n",
    "    my_json.append(my_kw)\n",
    "\n",
    "df_all = pd.DataFrame(columns=[\"title\"])\n",
    "df = pd.DataFrame.from_dict(my_json, orient=\"columns\")\n",
    "    \n",
    "df.to_csv(\"titles.csv\", index=False)"
   ]
  },
  {
   "cell_type": "code",
   "execution_count": 14,
   "metadata": {},
   "outputs": [
    {
     "data": {
      "text/plain": [
       "(('「非洲豬瘟無藥物治療」 賴清德：國人勿從疫區網購肉品回台',\n",
       "  'https://img.appledaily.com.tw/images/ReNews/20181229/640_8123f40c331fef0a6fa7fdbcdcf56dee.jpg',\n",
       "  '蘋果日報'),)"
      ]
     },
     "execution_count": 14,
     "metadata": {},
     "output_type": "execute_result"
    }
   ],
   "source": [
    "import pymysql\n",
    "connd = pymysql.connect(host='db', port=3306, user='root', passwd='iii', db='chatbot_db',charset='utf8mb4')\n",
    "curs = connd.cursor()\n",
    "title_id = 500\n",
    "curs.execute(\n",
    "    'SELECT title, img_url, origin FROM chatbot_db.News JOIN chatbot_db.Origin ON News.origin_id = Origin.origin_id WHERE title_id = (\"%s\") ' % (title_id)\n",
    ")\n",
    "push = curs.fetchall()\n",
    "curs.close\n",
    "push"
   ]
  },
  {
   "cell_type": "code",
   "execution_count": null,
   "metadata": {},
   "outputs": [],
   "source": []
  }
 ],
 "metadata": {
  "kernelspec": {
   "display_name": "Python 3",
   "language": "python",
   "name": "python3"
  },
  "language_info": {
   "codemirror_mode": {
    "name": "ipython",
    "version": 3
   },
   "file_extension": ".py",
   "mimetype": "text/x-python",
   "name": "python",
   "nbconvert_exporter": "python",
   "pygments_lexer": "ipython3",
   "version": "3.6.5"
  }
 },
 "nbformat": 4,
 "nbformat_minor": 2
}
