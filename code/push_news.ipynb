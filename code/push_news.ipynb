{
 "cells": [
  {
   "cell_type": "code",
   "execution_count": 9,
   "metadata": {},
   "outputs": [],
   "source": [
    "import pandas as pd\n",
    "import json\n",
    "import gensim\n",
    "import glob\n",
    "from gensim.models.doc2vec import Doc2Vec\n",
    "import jieba\n",
    "\n",
    "\n",
    "def news_push(data, most_views_news1, most_views_news2, most_views_news3, most_views_news4):\n",
    "    df_all = pd.DataFrame(columns=[\"title_id\", \"origin_id\", \"title\", \"url\", \"content\"])\n",
    "    df = pd.DataFrame.from_dict(data, orient=\"columns\")\n",
    "    df_all = pd.concat([df_all, df], axis=0, ignore_index=True)\n",
    "\n",
    "    df = df_all\n",
    "    df = df.drop([\"url\"], axis=1)\n",
    "    df = df.drop([\"origin_id\"], axis=1)\n",
    "    df = df.drop([\"title\"], axis=1)\n",
    "\n",
    "    def split_news(news):\n",
    "        return \" \".join(jieba.cut(news))\n",
    "\n",
    "    def process_news(df):\n",
    "        df['content'] = df['content'].apply(split_news)\n",
    "        return df\n",
    "\n",
    "    df = process_news(df)\n",
    "\n",
    "    TaggededDocument = gensim.models.doc2vec.TaggedDocument\n",
    "\n",
    "    news_list = []\n",
    "    for i in range(0, len(df)):\n",
    "        news = list(df.iloc[i])\n",
    "        news_list.append(news)\n",
    "\n",
    "    x_train = []\n",
    "    for content, title_id in news_list:\n",
    "        word_list = content.split(' ')\n",
    "        l = len(word_list)\n",
    "        word_list[l - 1] = word_list[l - 1].strip()\n",
    "        document = TaggededDocument(word_list, tags=[title_id])\n",
    "        x_train.append(document)\n",
    "    c = x_train\n",
    "\n",
    "    model = Doc2Vec(x_train, min_count=1, window=3, vector_size=100, negative=5, workers=4)\n",
    "    model.train(x_train, total_examples=model.corpus_count, epochs=10)\n",
    "    model_dm = model\n",
    "\n",
    "    # 第一個推播\n",
    "    strl = df[\"title_id\"] == most_views_news1\n",
    "    news_index = int(str(df[strl][\"content\"]).split(\" \")[0])\n",
    "    test_text = df[strl][\"content\"][news_index].split(' ')\n",
    "    # 得到向量array命名為inferred_vector\n",
    "    inferred_vector = model_dm.infer_vector(doc_words=test_text, alpha=0.025, steps=500)\n",
    "\n",
    "    sims = model_dm.docvecs.most_similar([inferred_vector], topn=3)\n",
    "\n",
    "    title_id_list1 = []\n",
    "    for title_id, sim in sims:\n",
    "        title_id_list1.append(title_id)\n",
    "\n",
    "    # 第二個推播\n",
    "    strl = df[\"title_id\"] == most_views_news2\n",
    "    news_index = int(str(df[strl][\"content\"]).split(\" \")[0])\n",
    "    test_text = df[strl][\"content\"][news_index].split(' ')\n",
    "    # 得到向量array命名為inferred_vector\n",
    "    inferred_vector = model_dm.infer_vector(doc_words=test_text, alpha=0.025, steps=500)\n",
    "\n",
    "    sims = model_dm.docvecs.most_similar([inferred_vector], topn=3)\n",
    "\n",
    "    title_id_list2 = []\n",
    "    for title_id, sim in sims:\n",
    "        title_id_list2.append(title_id)\n",
    "\n",
    "    # 第三個推播\n",
    "    strl = df[\"title_id\"] == most_views_news3\n",
    "    news_index = int(str(df[strl][\"content\"]).split(\" \")[0])\n",
    "    test_text = df[strl][\"content\"][news_index].split(' ')\n",
    "    # 得到向量array命名為inferred_vector\n",
    "    inferred_vector = model_dm.infer_vector(doc_words=test_text, alpha=0.025, steps=500)\n",
    "\n",
    "    sims = model_dm.docvecs.most_similar([inferred_vector], topn=3)\n",
    "\n",
    "    title_id_list3 = []\n",
    "    for title_id, sim in sims:\n",
    "        title_id_list3.append(title_id)\n",
    "\n",
    "    # 第四個推播\n",
    "    strl = df[\"title_id\"] == most_views_news4\n",
    "    news_index = int(str(df[strl][\"content\"]).split(\" \")[0])\n",
    "    test_text = df[strl][\"content\"][news_index].split(' ')\n",
    "    # 得到向量array命名為inferred_vector\n",
    "    inferred_vector = model_dm.infer_vector(doc_words=test_text, alpha=0.025, steps=500)\n",
    "\n",
    "    sims = model_dm.docvecs.most_similar([inferred_vector], topn=3)\n",
    "\n",
    "    title_id_list4 = []\n",
    "    for title_id, sim in sims:\n",
    "        title_id_list4.append(title_id)\n",
    "\n",
    "    return (title_id_list1, title_id_list2, title_id_list3, title_id_list4)"
   ]
  },
  {
   "cell_type": "code",
   "execution_count": 10,
   "metadata": {},
   "outputs": [],
   "source": [
    "import requests\n",
    "import json\n",
    "\n",
    "def url_change_titleid(url):\n",
    "    ip_location='chatbot_api'\n",
    "    playload = {\"url\" : url}\n",
    "    Endpoint='http://%s:5000/get_title_id/' % (ip_location)\n",
    "\n",
    "    # header要特別註明是json格式\n",
    "    Header={'Content-Type':'application/json'}\n",
    "\n",
    "    # 傳送post對API server新增資料 \n",
    "    Response=requests.post(Endpoint,headers=Header,data=json.dumps(playload))\n",
    "\n",
    "    #印出Response的資料訊息\n",
    "\n",
    "    return Response.json()['title_id']"
   ]
  },
  {
   "cell_type": "code",
   "execution_count": null,
   "metadata": {},
   "outputs": [],
   "source": [
    "import requests\n",
    "import json\n",
    "\n",
    "def if_have_img(title_id):\n",
    "    ip_location='chatbot_api'\n",
    "    playload = {\"url\" : url}\n",
    "    Endpoint='http://%s:5000/get_title_id/' % (ip_location)\n",
    "\n",
    "    # header要特別註明是json格式\n",
    "    Header={'Content-Type':'application/json'}\n",
    "\n",
    "    # 傳送post對API server新增資料 \n",
    "    Response=requests.post(Endpoint,headers=Header,data=json.dumps(playload))\n",
    "\n",
    "    #印出Response的資料訊息\n",
    "\n",
    "    return Response.json()['title_id']"
   ]
  },
  {
   "cell_type": "code",
   "execution_count": 1,
   "metadata": {
    "scrolled": true
   },
   "outputs": [
    {
     "name": "stdout",
     "output_type": "stream",
     "text": [
      "{'url': 'https://tw.news.appledaily.com//politics/realtime/20190107/1496454/', 'views': 44}\n",
      "{'url': 'https://tw.news.appledaily.com//politics/realtime/20190107/1496333/', 'views': 158}\n",
      "{'url': 'https://tw.news.appledaily.com//politics/realtime/20190107/1496436/', 'views': 234}\n",
      "{'url': 'https://tw.news.appledaily.com//politics/realtime/20190107/1496385/', 'views': 12154}\n",
      "{'url': 'https://tw.news.appledaily.com//politics/realtime/20190107/1496284/', 'views': 4143}\n",
      "{'url': 'https://tw.news.appledaily.com//politics/realtime/20190107/1496412/', 'views': 1696}\n",
      "{'url': 'https://tw.news.appledaily.com//politics/realtime/20190107/1496290/', 'views': 2230}\n",
      "{'url': 'https://tw.news.appledaily.com//politics/realtime/20190107/1496418/', 'views': 4453}\n",
      "{'url': 'https://tw.news.appledaily.com//politics/realtime/20190107/1496411/', 'views': 1201}\n",
      "{'url': 'https://tw.news.appledaily.com//politics/realtime/20190107/1496405/', 'views': 7432}\n",
      "{'url': 'https://tw.news.appledaily.com//politics/realtime/20190107/1496408/', 'views': 2699}\n",
      "{'url': 'https://tw.news.appledaily.com//politics/realtime/20190107/1496392/', 'views': 5706}\n",
      "{'url': 'https://tw.news.appledaily.com//politics/realtime/20190107/1496406/', 'views': 5269}\n",
      "{'url': 'https://tw.news.appledaily.com//politics/realtime/20190107/1496329/', 'views': 24577}\n",
      "{'url': 'https://tw.news.appledaily.com//politics/realtime/20190107/1496332/', 'views': 52048}\n",
      "{'url': 'https://tw.news.appledaily.com//politics/realtime/20190107/1496338/', 'views': 2151}\n",
      "{'url': 'https://tw.news.appledaily.com//politics/realtime/20190107/1496362/', 'views': 4555}\n",
      "{'url': 'https://tw.news.appledaily.com//politics/realtime/20190107/1496397/', 'views': 3956}\n",
      "{'url': 'https://tw.news.appledaily.com//politics/realtime/20190107/1496399/', 'views': 4740}\n",
      "{'url': 'https://tw.news.appledaily.com//politics/realtime/20190107/1496357/', 'views': 3455}\n",
      "{'url': 'https://tw.news.appledaily.com//politics/realtime/20190107/1496360/', 'views': 7871}\n",
      "{'url': 'https://tw.news.appledaily.com//politics/realtime/20190107/1496316/', 'views': 18215}\n",
      "{'url': 'https://tw.news.appledaily.com//politics/realtime/20190107/1496346/', 'views': 5003}\n",
      "{'url': 'https://tw.news.appledaily.com//politics/realtime/20190107/1496344/', 'views': 11990}\n",
      "{'url': 'https://tw.news.appledaily.com//politics/realtime/20190107/1496254/', 'views': 868}\n",
      "{'url': 'https://tw.news.appledaily.com//politics/realtime/20190107/1496313/', 'views': 781}\n",
      "{'url': 'https://tw.news.appledaily.com//politics/realtime/20190107/1496157/', 'views': 25283}\n",
      "{'url': 'https://tw.news.appledaily.com//politics/realtime/20190107/1496256/', 'views': 3186}\n",
      "{'url': 'https://tw.news.appledaily.com//politics/realtime/20190107/1496249/', 'views': 1479}\n",
      "{'url': 'https://tw.news.appledaily.com//politics/realtime/20190107/1496253/', 'views': 2074}\n",
      "{'url': 'https://tw.news.appledaily.com//politics/realtime/20190107/1496179/', 'views': 25755}\n",
      "{'url': 'https://tw.news.appledaily.com//politics/realtime/20190107/1496160/', 'views': 10161}\n",
      "{'url': 'https://tw.news.appledaily.com//politics/realtime/20190107/1496205/', 'views': 2763}\n",
      "{'url': 'https://tw.news.appledaily.com//politics/realtime/20190107/1496207/', 'views': 7364}\n",
      "{'url': 'https://tw.news.appledaily.com//politics/realtime/20190107/1496171/', 'views': 1326}\n",
      "{'url': 'https://tw.news.appledaily.com//politics/realtime/20190107/1496156/', 'views': 4494}\n",
      "{'url': 'https://tw.news.appledaily.com//politics/realtime/20190107/1496161/', 'views': 9738}\n",
      "{'url': 'https://tw.news.appledaily.com//politics/realtime/20190107/1496098/', 'views': 13009}\n",
      "{'url': 'https://tw.news.appledaily.com//politics/realtime/20190107/1496141/', 'views': 4830}\n",
      "{'url': 'https://tw.news.appledaily.com//politics/realtime/20190107/1496123/', 'views': 707}\n",
      "{'url': 'https://tw.news.appledaily.com//politics/realtime/20190107/1496116/', 'views': 43096}\n",
      "{'url': 'https://tw.news.appledaily.com//politics/realtime/20190107/1496094/', 'views': 28610}\n",
      "{'url': 'https://tw.news.appledaily.com//politics/realtime/20190107/1496096/', 'views': 23592}\n",
      "{'url': 'https://tw.news.appledaily.com//politics/realtime/20190107/1496093/', 'views': 28704}\n",
      "{'url': 'https://tw.news.appledaily.com//politics/realtime/20190107/1496090/', 'views': 15841}\n",
      "{'url': 'https://tw.news.appledaily.com//politics/realtime/20190107/1496087/', 'views': 4701}\n",
      "{'url': 'https://tw.news.appledaily.com//politics/realtime/20190107/1496064/', 'views': 9056}\n",
      "{'url': 'https://tw.news.appledaily.com//politics/realtime/20190107/1495996/', 'views': 4784}\n",
      "{'url': 'https://tw.news.appledaily.com//politics/realtime/20190107/1496056/', 'views': 45727}\n",
      "{'url': 'https://tw.news.appledaily.com//politics/realtime/20190107/1496055/', 'views': 24360}\n",
      "{'url': 'https://tw.news.appledaily.com//politics/realtime/20190107/1496008/', 'views': 10757}\n",
      "{'url': 'https://tw.news.appledaily.com//politics/realtime/20190107/1496051/', 'views': 4683}\n"
     ]
    }
   ],
   "source": [
    "import requests\n",
    "import datetime\n",
    "from bs4 import BeautifulSoup\n",
    "\n",
    "if_end = True\n",
    "store_datetime = datetime.datetime.now().strftime(\"%Y/%m/%d\")\n",
    "my_json = []\n",
    "for page in range(1, 12):\n",
    "    if if_end == False:\n",
    "        break\n",
    "    href = \"https://tw.news.appledaily.com/politics/realtime/\"+ str(page)\n",
    "    res = requests.get(href)\n",
    "    html = BeautifulSoup(res.text)\n",
    "    all_news_1 = html.find_all(\"ul\", class_=\"rtddd slvl\")\n",
    "    for all_news in all_news_1:\n",
    "        if if_end == False:\n",
    "            break\n",
    "        news = all_news.find_all(\"a\")\n",
    "        for n in news:\n",
    "            my_news = {}\n",
    "            news_url =\"https://tw.news.appledaily.com/\" + str(n[\"href\"])\n",
    "            news_per = requests.get(news_url)\n",
    "            bs = BeautifulSoup(news_per.text)\n",
    "\n",
    "            if bs.find(\"div\", class_=\"ndArticle_view\") == None:\n",
    "                views = 0\n",
    "            else:\n",
    "                views = int(bs.find(\"div\", class_=\"ndArticle_view\").text)\n",
    "            date_time = bs.find(\"div\", class_=\"ndArticle_creat\").text.replace(\"出版時間：\", \"\").split(\" \")[0]\n",
    "            if not date_time == store_datetime:\n",
    "                if_end = False\n",
    "                break\n",
    "            my_news= {\"url\": news_url, \"views\": views}\n",
    "            my_json.append(my_news)\n",
    "            print(my_news)\n",
    "\n",
    "sorted_json = sorted(my_json ,key = lambda my_json:my_json['views'], reverse = True)\n",
    "\n"
   ]
  },
  {
   "cell_type": "code",
   "execution_count": 12,
   "metadata": {},
   "outputs": [
    {
     "data": {
      "text/plain": [
       "4864"
      ]
     },
     "execution_count": 12,
     "metadata": {},
     "output_type": "execute_result"
    }
   ],
   "source": [
    "url_change_titleid(sorted_json[0]['url'])\n"
   ]
  },
  {
   "cell_type": "code",
   "execution_count": 14,
   "metadata": {},
   "outputs": [
    {
     "data": {
      "text/plain": [
       "4897"
      ]
     },
     "execution_count": 14,
     "metadata": {},
     "output_type": "execute_result"
    }
   ],
   "source": [
    "url_change_titleid(sorted_json[1]['url'])"
   ]
  },
  {
   "cell_type": "code",
   "execution_count": 15,
   "metadata": {},
   "outputs": [
    {
     "data": {
      "text/plain": [
       "4889"
      ]
     },
     "execution_count": 15,
     "metadata": {},
     "output_type": "execute_result"
    }
   ],
   "source": [
    "url_change_titleid(sorted_json[2]['url'])"
   ]
  },
  {
   "cell_type": "code",
   "execution_count": 16,
   "metadata": {},
   "outputs": [
    {
     "data": {
      "text/plain": [
       "4891"
      ]
     },
     "execution_count": 16,
     "metadata": {},
     "output_type": "execute_result"
    }
   ],
   "source": [
    "url_change_titleid(sorted_json[3]['url'])"
   ]
  },
  {
   "cell_type": "code",
   "execution_count": 8,
   "metadata": {},
   "outputs": [],
   "source": [
    "import requests\n",
    "import json\n",
    "\n",
    "Endpoint='http://chatbot_api:5000/today_news'\n",
    "\n",
    "todaynews = requests.get(Endpoint)\n",
    "data = todaynews.json()"
   ]
  },
  {
   "cell_type": "code",
   "execution_count": 23,
   "metadata": {},
   "outputs": [
    {
     "name": "stderr",
     "output_type": "stream",
     "text": [
      "/opt/conda/lib/python3.6/site-packages/ipykernel_launcher.py:12: FutureWarning: Sorting because non-concatenation axis is not aligned. A future version\n",
      "of pandas will change to not sort by default.\n",
      "\n",
      "To accept the future behavior, pass 'sort=False'.\n",
      "\n",
      "To retain the current behavior and silence the warning, pass 'sort=True'.\n",
      "\n",
      "  if sys.path[0] == '':\n",
      "/opt/conda/lib/python3.6/site-packages/gensim/matutils.py:737: FutureWarning: Conversion of the second argument of issubdtype from `int` to `np.signedinteger` is deprecated. In future, it will be treated as `np.int64 == np.dtype(int).type`.\n",
      "  if np.issubdtype(vec.dtype, np.int):\n"
     ]
    }
   ],
   "source": [
    "p1, p2, p3, p4 = news_push(data, url_change_titleid(sorted_json[0]['url']), url_change_titleid(sorted_json[1]['url']), url_change_titleid(sorted_json[2]['url']), url_change_titleid(sorted_json[3]['url']))"
   ]
  },
  {
   "cell_type": "code",
   "execution_count": 25,
   "metadata": {},
   "outputs": [
    {
     "name": "stderr",
     "output_type": "stream",
     "text": [
      "/opt/conda/lib/python3.6/site-packages/ipykernel_launcher.py:12: FutureWarning: Sorting because non-concatenation axis is not aligned. A future version\n",
      "of pandas will change to not sort by default.\n",
      "\n",
      "To accept the future behavior, pass 'sort=False'.\n",
      "\n",
      "To retain the current behavior and silence the warning, pass 'sort=True'.\n",
      "\n",
      "  if sys.path[0] == '':\n",
      "/opt/conda/lib/python3.6/site-packages/gensim/matutils.py:737: FutureWarning: Conversion of the second argument of issubdtype from `int` to `np.signedinteger` is deprecated. In future, it will be treated as `np.int64 == np.dtype(int).type`.\n",
      "  if np.issubdtype(vec.dtype, np.int):\n"
     ]
    }
   ],
   "source": [
    "all_push_news= news_push(data, url_change_titleid(sorted_json[0]['url']), url_change_titleid(sorted_json[1]['url']), url_change_titleid(sorted_json[2]['url']), url_change_titleid(sorted_json[3]['url']))"
   ]
  },
  {
   "cell_type": "code",
   "execution_count": null,
   "metadata": {},
   "outputs": [],
   "source": [
    "def if_exit_img(my_list):\n",
    "    my_list[0]"
   ]
  },
  {
   "cell_type": "code",
   "execution_count": 29,
   "metadata": {},
   "outputs": [
    {
     "name": "stdout",
     "output_type": "stream",
     "text": [
      "([5069, 5107, 4970], [4897, 4852, 4765], [4788, 4889, 4995], [4891, 4786, 4997])\n"
     ]
    }
   ],
   "source": [
    "print(all_push_news)\n",
    "push_news = []\n",
    "for a in all_push_news:\n",
    "    if len(push_news) < 3:\n",
    "        if len(a) == 3:\n",
    "            push_news.append(a)\n"
   ]
  },
  {
   "cell_type": "code",
   "execution_count": null,
   "metadata": {},
   "outputs": [],
   "source": []
  }
 ],
 "metadata": {
  "kernelspec": {
   "display_name": "Python 3",
   "language": "python",
   "name": "python3"
  },
  "language_info": {
   "codemirror_mode": {
    "name": "ipython",
    "version": 3
   },
   "file_extension": ".py",
   "mimetype": "text/x-python",
   "name": "python",
   "nbconvert_exporter": "python",
   "pygments_lexer": "ipython3",
   "version": "3.6.5"
  }
 },
 "nbformat": 4,
 "nbformat_minor": 2
}
