{
 "cells": [
  {
   "cell_type": "code",
   "execution_count": 1,
   "metadata": {},
   "outputs": [],
   "source": [
    "#!pip install elasticsearch\n",
    "from elasticsearch import Elasticsearch"
   ]
  },
  {
   "cell_type": "code",
   "execution_count": 2,
   "metadata": {},
   "outputs": [],
   "source": [
    "# 建立Elasticsearch連線\n",
    "es = Elasticsearch(['elasticsearch:9200'])"
   ]
  },
  {
   "cell_type": "code",
   "execution_count": null,
   "metadata": {},
   "outputs": [],
   "source": []
  },
  {
   "cell_type": "code",
   "execution_count": 44,
   "metadata": {},
   "outputs": [],
   "source": [
    "import requests\n",
    "import json\n",
    "\n",
    "def url_change_titleid(url):\n",
    "    ip_location='chatbot_api'\n",
    "    playload = {\"url\" : url}\n",
    "    Endpoint='http://%s:5000/get_title_id/' % (ip_location)\n",
    "\n",
    "    # header要特別註明是json格式\n",
    "    Header={'Content-Type':'application/json'}\n",
    "\n",
    "    # 傳送post對API server新增資料 \n",
    "    Response=requests.post(Endpoint,headers=Header,data=json.dumps(playload))\n",
    "\n",
    "    #印出Response的資料訊息\n",
    "\n",
    "    return Response.json()['title_id']\n",
    "\n",
    "def article_search(text):\n",
    "    body = {\n",
    "            \"query\": {\n",
    "              \"match_phrase\": {\n",
    "                \"content\": {\n",
    "                  \"query\": text,\n",
    "                  \"slop\": 1\n",
    "                }\n",
    "              }\n",
    "            }\n",
    "    }\n",
    "    all_hit_news =  es.search(index = \"news\", doc_type = \"politics\", body = body)\n",
    "    news_list = []\n",
    "    if len(all_hit_news['hits']['hits']) <= 10:\n",
    "        for a in all_hit_news['hits']['hits']:\n",
    "            news_list.append(url_change_titleid(a['_source']['url']))\n",
    "    else:\n",
    "        for p in range(10):\n",
    "            news_list.append(url_change_titleid(all_hit_news['hits']['hits'][p]['_source']['url']))\n",
    "    \n",
    "    return news_list"
   ]
  },
  {
   "cell_type": "code",
   "execution_count": 45,
   "metadata": {},
   "outputs": [
    {
     "data": {
      "text/plain": [
       "[5025, 4995, 3615, 4845, 3783, 3681, 5053, 3394, 3584, 3591]"
      ]
     },
     "execution_count": 45,
     "metadata": {},
     "output_type": "execute_result"
    }
   ],
   "source": [
    "article_search(\"蔡英文\")"
   ]
  },
  {
   "cell_type": "code",
   "execution_count": null,
   "metadata": {},
   "outputs": [],
   "source": [
    "['hits']['hits'][0]['_source']"
   ]
  },
  {
   "cell_type": "code",
   "execution_count": 42,
   "metadata": {},
   "outputs": [
    {
     "name": "stdout",
     "output_type": "stream",
     "text": [
      "https://www.storm.mg/article/794155\n",
      "https://www.storm.mg/article/797466\n",
      "https://www.ettoday.net/news/20190103/1347029.htm\n",
      "https://www.setn.com/News.aspx?NewsID=481597\n",
      "https://tw.news.appledaily.com//politics/realtime/20190103/1494279/\n",
      "https://tw.news.appledaily.com//politics/realtime/20190103/1494301/\n",
      "https://www.ettoday.net/news/20190107/1350210.htm\n",
      "https://tw.news.appledaily.com//politics/realtime/20190103/1493981/\n",
      "https://tw.news.appledaily.com//politics/realtime/20190103/1494101/\n",
      "https://tw.news.appledaily.com//politics/realtime/20190103/1494172/\n"
     ]
    }
   ],
   "source": [
    "for a in article_search(\"蔡英文\")['hits']['hits']:\n",
    "    print(a['_source']['url'])"
   ]
  },
  {
   "cell_type": "code",
   "execution_count": null,
   "metadata": {},
   "outputs": [],
   "source": []
  }
 ],
 "metadata": {
  "kernelspec": {
   "display_name": "Python 3",
   "language": "python",
   "name": "python3"
  },
  "language_info": {
   "codemirror_mode": {
    "name": "ipython",
    "version": 3
   },
   "file_extension": ".py",
   "mimetype": "text/x-python",
   "name": "python",
   "nbconvert_exporter": "python",
   "pygments_lexer": "ipython3",
   "version": "3.6.5"
  }
 },
 "nbformat": 4,
 "nbformat_minor": 2
}
