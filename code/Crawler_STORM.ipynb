{
 "cells": [
  {
   "cell_type": "code",
   "execution_count": 2,
   "metadata": {},
   "outputs": [],
   "source": [
    "from urllib.request import urlopen\n",
    "from bs4 import BeautifulSoup\n",
    "import time\n",
    "import random\n",
    "import json"
   ]
  },
  {
   "cell_type": "code",
   "execution_count": 7,
   "metadata": {},
   "outputs": [
    {
     "name": "stdout",
     "output_type": "stream",
     "text": [
      "新聞來源: 風傳媒 THE STORM MEDIA\n",
      "新聞網址: https://www.storm.mg/article/743164\n",
      "新聞標題: 「敗選不能全算賴清德身上」　游盈隆：但賴著不走，就是奧客\n",
      "發佈時間: 2018-12-23 14:39\n",
      "作者: ['林瑋豐']\n",
      "內文: 民進黨主席候選人游盈隆今（23）日於臉書撰文指出，2018九合一地方大選民進黨遭遇空前挫敗後，民間社會普遍感受不到執政的民進黨有真心的反省與檢討。游盈隆就以內閣總辭舉例，2014年第一次九合一地方選舉，國民黨兵敗如山倒，11/29晚上選舉結果明朗後，行政院長江宜樺第一時間請辭獲准，毫無懸念的離開，12/8由毛治國接任。民進黨主席候選人游盈隆（見圖）說，敗選不能全算賴清德身上，但酒店打烊，還賴著不走，就是奧客。（資料照，顏麟宇攝）游盈隆說，國民黨用十天的時間完成內閣總辭，回應最新民意；反觀民進黨，同樣遭遇民意海嘯，同樣兵敗如山倒，但除了三位閣員走人，賴清德雖第一時間請辭，但被留任迄今，內閣並未總辭，前後已經29天，民進黨硬是被國民黨比下去，「可以說丟臉丟到家了」。游盈隆說民主政治就是責任政治，當中央執政表現失去民心而選舉大敗之時，執政黨必須對民意做出適當的回應，內閣第一時間總辭，是最常見的方式；當然，冰凍三尺，非一日之寒，民進黨這次地方選舉大敗，是選民跟蔡政府過去兩年半的施政算總帳。「蔡英文和林全該負責」「賴清德只當了一年三個月行政院長，帳不能完全算在他身上。」游盈隆說，俗話說：「冤有頭，債有主」，真正該負責的是蔡英文總統和前行政院長林全；但賴清德畢竟是現任行政院長，不要忘記英國首相邱吉爾曾說過的一句話，「酒店打烊，我就走人」，那是何等的瀟灑；如果酒店打烊，還賴著不走，就是奧客。游盈隆認為，持平而論，從去年九月上任以來，賴清德的表現可圈可點，他也因為這樣而成為民進黨最孚眾望的政治人物，即便在這次民進黨遭遇民意海嘯的教訓而受傷慘重，賴清德仍擁有一定高度的聲望，是2020可能的總統人選之一。游盈隆說，但歹戲拖棚，拖泥帶水的內閣總辭，讓人們感覺賴清德瞻前顧後，沒有擔當，也勢必讓他減弱中的道德光環更迅速減弱。游盈隆最後問到，「賴清德遲遲不走，究竟是賴清德的問題，還是蔡英文的問題，還是兩者都有？」人們心中或許各自有不同的答案。\n",
      "關鍵字: ['賴清德', '游盈隆', '2020總統大選', '政局動態']\n",
      "圖片網址: https://image.cache.storm.mg/styles/smg-800x533-fp-wm/s3/media/image/2018/12/07/20181207-111140_U4040_M481355_4d92.jpg?itok=K5f7tE1T\n",
      "\n",
      "\n",
      "新聞來源: 風傳媒 THE STORM MEDIA\n",
      "新聞網址: https://www.storm.mg/article/742821\n"
     ]
    },
    {
     "ename": "KeyboardInterrupt",
     "evalue": "",
     "output_type": "error",
     "traceback": [
      "\u001b[0;31m---------------------------------------------------------------------------\u001b[0m",
      "\u001b[0;31mKeyboardInterrupt\u001b[0m                         Traceback (most recent call last)",
      "\u001b[0;32m<ipython-input-7-763d889829d8>\u001b[0m in \u001b[0;36m<module>\u001b[0;34m()\u001b[0m\n\u001b[1;32m     19\u001b[0m \u001b[0;34m\u001b[0m\u001b[0m\n\u001b[1;32m     20\u001b[0m         \u001b[0mresponse\u001b[0m \u001b[0;34m=\u001b[0m \u001b[0murlopen\u001b[0m\u001b[0;34m(\u001b[0m\u001b[0mnews_url\u001b[0m\u001b[0;34m)\u001b[0m\u001b[0;34m\u001b[0m\u001b[0m\n\u001b[0;32m---> 21\u001b[0;31m         \u001b[0mhtml\u001b[0m \u001b[0;34m=\u001b[0m \u001b[0mBeautifulSoup\u001b[0m\u001b[0;34m(\u001b[0m\u001b[0mresponse\u001b[0m\u001b[0;34m)\u001b[0m\u001b[0;34m\u001b[0m\u001b[0m\n\u001b[0m\u001b[1;32m     22\u001b[0m \u001b[0;34m\u001b[0m\u001b[0m\n\u001b[1;32m     23\u001b[0m         \u001b[0mtitle\u001b[0m \u001b[0;34m=\u001b[0m \u001b[0mhtml\u001b[0m\u001b[0;34m.\u001b[0m\u001b[0mfind\u001b[0m\u001b[0;34m(\u001b[0m\u001b[0;34m\"h1\"\u001b[0m\u001b[0;34m,\u001b[0m \u001b[0mid\u001b[0m \u001b[0;34m=\u001b[0m \u001b[0;34m\"article_title\"\u001b[0m\u001b[0;34m)\u001b[0m\u001b[0;34m.\u001b[0m\u001b[0mtext\u001b[0m\u001b[0;34m\u001b[0m\u001b[0m\n",
      "\u001b[0;32m/opt/conda/lib/python3.6/site-packages/bs4/__init__.py\u001b[0m in \u001b[0;36m__init__\u001b[0;34m(self, markup, features, builder, parse_only, from_encoding, exclude_encodings, **kwargs)\u001b[0m\n\u001b[1;32m    280\u001b[0m             \u001b[0mself\u001b[0m\u001b[0;34m.\u001b[0m\u001b[0mreset\u001b[0m\u001b[0;34m(\u001b[0m\u001b[0;34m)\u001b[0m\u001b[0;34m\u001b[0m\u001b[0m\n\u001b[1;32m    281\u001b[0m             \u001b[0;32mtry\u001b[0m\u001b[0;34m:\u001b[0m\u001b[0;34m\u001b[0m\u001b[0m\n\u001b[0;32m--> 282\u001b[0;31m                 \u001b[0mself\u001b[0m\u001b[0;34m.\u001b[0m\u001b[0m_feed\u001b[0m\u001b[0;34m(\u001b[0m\u001b[0;34m)\u001b[0m\u001b[0;34m\u001b[0m\u001b[0m\n\u001b[0m\u001b[1;32m    283\u001b[0m                 \u001b[0;32mbreak\u001b[0m\u001b[0;34m\u001b[0m\u001b[0m\n\u001b[1;32m    284\u001b[0m             \u001b[0;32mexcept\u001b[0m \u001b[0mParserRejectedMarkup\u001b[0m\u001b[0;34m:\u001b[0m\u001b[0;34m\u001b[0m\u001b[0m\n",
      "\u001b[0;32m/opt/conda/lib/python3.6/site-packages/bs4/__init__.py\u001b[0m in \u001b[0;36m_feed\u001b[0;34m(self)\u001b[0m\n\u001b[1;32m    341\u001b[0m         \u001b[0mself\u001b[0m\u001b[0;34m.\u001b[0m\u001b[0mbuilder\u001b[0m\u001b[0;34m.\u001b[0m\u001b[0mreset\u001b[0m\u001b[0;34m(\u001b[0m\u001b[0;34m)\u001b[0m\u001b[0;34m\u001b[0m\u001b[0m\n\u001b[1;32m    342\u001b[0m \u001b[0;34m\u001b[0m\u001b[0m\n\u001b[0;32m--> 343\u001b[0;31m         \u001b[0mself\u001b[0m\u001b[0;34m.\u001b[0m\u001b[0mbuilder\u001b[0m\u001b[0;34m.\u001b[0m\u001b[0mfeed\u001b[0m\u001b[0;34m(\u001b[0m\u001b[0mself\u001b[0m\u001b[0;34m.\u001b[0m\u001b[0mmarkup\u001b[0m\u001b[0;34m)\u001b[0m\u001b[0;34m\u001b[0m\u001b[0m\n\u001b[0m\u001b[1;32m    344\u001b[0m         \u001b[0;31m# Close out any unfinished strings and close all the open tags.\u001b[0m\u001b[0;34m\u001b[0m\u001b[0;34m\u001b[0m\u001b[0m\n\u001b[1;32m    345\u001b[0m         \u001b[0mself\u001b[0m\u001b[0;34m.\u001b[0m\u001b[0mendData\u001b[0m\u001b[0;34m(\u001b[0m\u001b[0;34m)\u001b[0m\u001b[0;34m\u001b[0m\u001b[0m\n",
      "\u001b[0;32m/opt/conda/lib/python3.6/site-packages/bs4/builder/_html5lib.py\u001b[0m in \u001b[0;36mfeed\u001b[0;34m(self, markup)\u001b[0m\n\u001b[1;32m     70\u001b[0m             \u001b[0;32melse\u001b[0m\u001b[0;34m:\u001b[0m\u001b[0;34m\u001b[0m\u001b[0m\n\u001b[1;32m     71\u001b[0m                 \u001b[0mextra_kwargs\u001b[0m\u001b[0;34m[\u001b[0m\u001b[0;34m'encoding'\u001b[0m\u001b[0;34m]\u001b[0m \u001b[0;34m=\u001b[0m \u001b[0mself\u001b[0m\u001b[0;34m.\u001b[0m\u001b[0muser_specified_encoding\u001b[0m\u001b[0;34m\u001b[0m\u001b[0m\n\u001b[0;32m---> 72\u001b[0;31m         \u001b[0mdoc\u001b[0m \u001b[0;34m=\u001b[0m \u001b[0mparser\u001b[0m\u001b[0;34m.\u001b[0m\u001b[0mparse\u001b[0m\u001b[0;34m(\u001b[0m\u001b[0mmarkup\u001b[0m\u001b[0;34m,\u001b[0m \u001b[0;34m**\u001b[0m\u001b[0mextra_kwargs\u001b[0m\u001b[0;34m)\u001b[0m\u001b[0;34m\u001b[0m\u001b[0m\n\u001b[0m\u001b[1;32m     73\u001b[0m \u001b[0;34m\u001b[0m\u001b[0m\n\u001b[1;32m     74\u001b[0m         \u001b[0;31m# Set the character encoding detected by the tokenizer.\u001b[0m\u001b[0;34m\u001b[0m\u001b[0;34m\u001b[0m\u001b[0m\n",
      "\u001b[0;32m/opt/conda/lib/python3.6/site-packages/html5lib/html5parser.py\u001b[0m in \u001b[0;36mparse\u001b[0;34m(self, stream, *args, **kwargs)\u001b[0m\n\u001b[1;32m    287\u001b[0m \u001b[0;34m\u001b[0m\u001b[0m\n\u001b[1;32m    288\u001b[0m         \"\"\"\n\u001b[0;32m--> 289\u001b[0;31m         \u001b[0mself\u001b[0m\u001b[0;34m.\u001b[0m\u001b[0m_parse\u001b[0m\u001b[0;34m(\u001b[0m\u001b[0mstream\u001b[0m\u001b[0;34m,\u001b[0m \u001b[0;32mFalse\u001b[0m\u001b[0;34m,\u001b[0m \u001b[0;32mNone\u001b[0m\u001b[0;34m,\u001b[0m \u001b[0;34m*\u001b[0m\u001b[0margs\u001b[0m\u001b[0;34m,\u001b[0m \u001b[0;34m**\u001b[0m\u001b[0mkwargs\u001b[0m\u001b[0;34m)\u001b[0m\u001b[0;34m\u001b[0m\u001b[0m\n\u001b[0m\u001b[1;32m    290\u001b[0m         \u001b[0;32mreturn\u001b[0m \u001b[0mself\u001b[0m\u001b[0;34m.\u001b[0m\u001b[0mtree\u001b[0m\u001b[0;34m.\u001b[0m\u001b[0mgetDocument\u001b[0m\u001b[0;34m(\u001b[0m\u001b[0;34m)\u001b[0m\u001b[0;34m\u001b[0m\u001b[0m\n\u001b[1;32m    291\u001b[0m \u001b[0;34m\u001b[0m\u001b[0m\n",
      "\u001b[0;32m/opt/conda/lib/python3.6/site-packages/html5lib/html5parser.py\u001b[0m in \u001b[0;36m_parse\u001b[0;34m(self, stream, innerHTML, container, scripting, **kwargs)\u001b[0m\n\u001b[1;32m    132\u001b[0m \u001b[0;34m\u001b[0m\u001b[0m\n\u001b[1;32m    133\u001b[0m         \u001b[0;32mtry\u001b[0m\u001b[0;34m:\u001b[0m\u001b[0;34m\u001b[0m\u001b[0m\n\u001b[0;32m--> 134\u001b[0;31m             \u001b[0mself\u001b[0m\u001b[0;34m.\u001b[0m\u001b[0mmainLoop\u001b[0m\u001b[0;34m(\u001b[0m\u001b[0;34m)\u001b[0m\u001b[0;34m\u001b[0m\u001b[0m\n\u001b[0m\u001b[1;32m    135\u001b[0m         \u001b[0;32mexcept\u001b[0m \u001b[0m_ReparseException\u001b[0m\u001b[0;34m:\u001b[0m\u001b[0;34m\u001b[0m\u001b[0m\n\u001b[1;32m    136\u001b[0m             \u001b[0mself\u001b[0m\u001b[0;34m.\u001b[0m\u001b[0mreset\u001b[0m\u001b[0;34m(\u001b[0m\u001b[0;34m)\u001b[0m\u001b[0;34m\u001b[0m\u001b[0m\n",
      "\u001b[0;32m/opt/conda/lib/python3.6/site-packages/html5lib/html5parser.py\u001b[0m in \u001b[0;36mmainLoop\u001b[0;34m(self)\u001b[0m\n\u001b[1;32m    203\u001b[0m         \u001b[0mParseErrorToken\u001b[0m \u001b[0;34m=\u001b[0m \u001b[0mtokenTypes\u001b[0m\u001b[0;34m[\u001b[0m\u001b[0;34m\"ParseError\"\u001b[0m\u001b[0;34m]\u001b[0m\u001b[0;34m\u001b[0m\u001b[0m\n\u001b[1;32m    204\u001b[0m \u001b[0;34m\u001b[0m\u001b[0m\n\u001b[0;32m--> 205\u001b[0;31m         \u001b[0;32mfor\u001b[0m \u001b[0mtoken\u001b[0m \u001b[0;32min\u001b[0m \u001b[0mself\u001b[0m\u001b[0;34m.\u001b[0m\u001b[0mnormalizedTokens\u001b[0m\u001b[0;34m(\u001b[0m\u001b[0;34m)\u001b[0m\u001b[0;34m:\u001b[0m\u001b[0;34m\u001b[0m\u001b[0m\n\u001b[0m\u001b[1;32m    206\u001b[0m             \u001b[0mprev_token\u001b[0m \u001b[0;34m=\u001b[0m \u001b[0;32mNone\u001b[0m\u001b[0;34m\u001b[0m\u001b[0m\n\u001b[1;32m    207\u001b[0m             \u001b[0mnew_token\u001b[0m \u001b[0;34m=\u001b[0m \u001b[0mtoken\u001b[0m\u001b[0;34m\u001b[0m\u001b[0m\n",
      "\u001b[0;32m/opt/conda/lib/python3.6/site-packages/html5lib/html5parser.py\u001b[0m in \u001b[0;36mnormalizedTokens\u001b[0;34m(self)\u001b[0m\n\u001b[1;32m    262\u001b[0m \u001b[0;34m\u001b[0m\u001b[0m\n\u001b[1;32m    263\u001b[0m     \u001b[0;32mdef\u001b[0m \u001b[0mnormalizedTokens\u001b[0m\u001b[0;34m(\u001b[0m\u001b[0mself\u001b[0m\u001b[0;34m)\u001b[0m\u001b[0;34m:\u001b[0m\u001b[0;34m\u001b[0m\u001b[0m\n\u001b[0;32m--> 264\u001b[0;31m         \u001b[0;32mfor\u001b[0m \u001b[0mtoken\u001b[0m \u001b[0;32min\u001b[0m \u001b[0mself\u001b[0m\u001b[0;34m.\u001b[0m\u001b[0mtokenizer\u001b[0m\u001b[0;34m:\u001b[0m\u001b[0;34m\u001b[0m\u001b[0m\n\u001b[0m\u001b[1;32m    265\u001b[0m             \u001b[0;32myield\u001b[0m \u001b[0mself\u001b[0m\u001b[0;34m.\u001b[0m\u001b[0mnormalizeToken\u001b[0m\u001b[0;34m(\u001b[0m\u001b[0mtoken\u001b[0m\u001b[0;34m)\u001b[0m\u001b[0;34m\u001b[0m\u001b[0m\n\u001b[1;32m    266\u001b[0m \u001b[0;34m\u001b[0m\u001b[0m\n",
      "\u001b[0;32m/opt/conda/lib/python3.6/site-packages/html5lib/_tokenizer.py\u001b[0m in \u001b[0;36m__iter__\u001b[0;34m(self)\u001b[0m\n\u001b[1;32m     57\u001b[0m         \u001b[0;31m# Start processing. When EOF is reached self.state will return False\u001b[0m\u001b[0;34m\u001b[0m\u001b[0;34m\u001b[0m\u001b[0m\n\u001b[1;32m     58\u001b[0m         \u001b[0;31m# instead of True and the loop will terminate.\u001b[0m\u001b[0;34m\u001b[0m\u001b[0;34m\u001b[0m\u001b[0m\n\u001b[0;32m---> 59\u001b[0;31m         \u001b[0;32mwhile\u001b[0m \u001b[0mself\u001b[0m\u001b[0;34m.\u001b[0m\u001b[0mstate\u001b[0m\u001b[0;34m(\u001b[0m\u001b[0;34m)\u001b[0m\u001b[0;34m:\u001b[0m\u001b[0;34m\u001b[0m\u001b[0m\n\u001b[0m\u001b[1;32m     60\u001b[0m             \u001b[0;32mwhile\u001b[0m \u001b[0mself\u001b[0m\u001b[0;34m.\u001b[0m\u001b[0mstream\u001b[0m\u001b[0;34m.\u001b[0m\u001b[0merrors\u001b[0m\u001b[0;34m:\u001b[0m\u001b[0;34m\u001b[0m\u001b[0m\n\u001b[1;32m     61\u001b[0m                 \u001b[0;32myield\u001b[0m \u001b[0;34m{\u001b[0m\u001b[0;34m\"type\"\u001b[0m\u001b[0;34m:\u001b[0m \u001b[0mtokenTypes\u001b[0m\u001b[0;34m[\u001b[0m\u001b[0;34m\"ParseError\"\u001b[0m\u001b[0;34m]\u001b[0m\u001b[0;34m,\u001b[0m \u001b[0;34m\"data\"\u001b[0m\u001b[0;34m:\u001b[0m \u001b[0mself\u001b[0m\u001b[0;34m.\u001b[0m\u001b[0mstream\u001b[0m\u001b[0;34m.\u001b[0m\u001b[0merrors\u001b[0m\u001b[0;34m.\u001b[0m\u001b[0mpop\u001b[0m\u001b[0;34m(\u001b[0m\u001b[0;36m0\u001b[0m\u001b[0;34m)\u001b[0m\u001b[0;34m}\u001b[0m\u001b[0;34m\u001b[0m\u001b[0m\n",
      "\u001b[0;32m/opt/conda/lib/python3.6/site-packages/html5lib/_tokenizer.py\u001b[0m in \u001b[0;36mattributeNameState\u001b[0;34m(self)\u001b[0m\n\u001b[1;32m    879\u001b[0m         \u001b[0;32melif\u001b[0m \u001b[0mdata\u001b[0m \u001b[0;32min\u001b[0m \u001b[0masciiLetters\u001b[0m\u001b[0;34m:\u001b[0m\u001b[0;34m\u001b[0m\u001b[0m\n\u001b[1;32m    880\u001b[0m             \u001b[0mself\u001b[0m\u001b[0;34m.\u001b[0m\u001b[0mcurrentToken\u001b[0m\u001b[0;34m[\u001b[0m\u001b[0;34m\"data\"\u001b[0m\u001b[0;34m]\u001b[0m\u001b[0;34m[\u001b[0m\u001b[0;34m-\u001b[0m\u001b[0;36m1\u001b[0m\u001b[0;34m]\u001b[0m\u001b[0;34m[\u001b[0m\u001b[0;36m0\u001b[0m\u001b[0;34m]\u001b[0m \u001b[0;34m+=\u001b[0m \u001b[0mdata\u001b[0m \u001b[0;34m+\u001b[0m\u001b[0;31m\\\u001b[0m\u001b[0;34m\u001b[0m\u001b[0m\n\u001b[0;32m--> 881\u001b[0;31m                 \u001b[0mself\u001b[0m\u001b[0;34m.\u001b[0m\u001b[0mstream\u001b[0m\u001b[0;34m.\u001b[0m\u001b[0mcharsUntil\u001b[0m\u001b[0;34m(\u001b[0m\u001b[0masciiLetters\u001b[0m\u001b[0;34m,\u001b[0m \u001b[0;32mTrue\u001b[0m\u001b[0;34m)\u001b[0m\u001b[0;34m\u001b[0m\u001b[0m\n\u001b[0m\u001b[1;32m    882\u001b[0m             \u001b[0mleavingThisState\u001b[0m \u001b[0;34m=\u001b[0m \u001b[0;32mFalse\u001b[0m\u001b[0;34m\u001b[0m\u001b[0m\n\u001b[1;32m    883\u001b[0m         \u001b[0;32melif\u001b[0m \u001b[0mdata\u001b[0m \u001b[0;34m==\u001b[0m \u001b[0;34m\">\"\u001b[0m\u001b[0;34m:\u001b[0m\u001b[0;34m\u001b[0m\u001b[0m\n",
      "\u001b[0;31mKeyboardInterrupt\u001b[0m: "
     ]
    }
   ],
   "source": [
    "#選取政治版面頁數\n",
    "json_data = []    \n",
    "for page in range(1,5):\n",
    "    href = 'https://www.storm.mg/category/118/'+str(page)\n",
    "   \n",
    "    response = urlopen(href)\n",
    "    html = BeautifulSoup(response)\n",
    "    #找到特定範圍在選取網址列\n",
    "    newf = html.find(\"div\",class_ = \"middle_category_cards\")\n",
    "    #選取所有單篇網址列\n",
    "    news = newf.find_all(\"div\",class_ = \"category_card\")\n",
    "    #迴圈抓取整頁新聞連結\n",
    "    for r in news:\n",
    "        \n",
    "        print(\"新聞來源:\", \"風傳媒 THE STORM MEDIA\")\n",
    "        \n",
    "        news_url = r.find(\"a\",class_ = \"card_link\")[\"href\"]\n",
    "        print(\"新聞網址:\", news_url)\n",
    "        \n",
    "        response = urlopen(news_url)\n",
    "        html = BeautifulSoup(response)\n",
    "        \n",
    "        title = html.find(\"h1\", id = \"article_title\").text\n",
    "        print(\"新聞標題:\", title)\n",
    "        \n",
    "        date = html.find(\"span\", class_=\"info_time\").text\n",
    "        print(\"發佈時間:\", date)\n",
    "        \n",
    "        author = []\n",
    "        author_text = html.find(\"span\", class_=\"info_author\").text.replace(\"新新聞\",\"\")\n",
    "        author.append(author_text)\n",
    "        print(\"作者:\", author)\n",
    "        \n",
    "        content = html.find(\"div\", id=\"CMS_wrapper\").text.replace(\"\\n\",\"\").replace(\"\\t\",\"\")\n",
    "        print(\"內文:\", content)\n",
    "        \n",
    "        keyword = html.find(\"div\", id=\"tags_list_wrapepr\").text.split()\n",
    "        print(\"關鍵字:\", keyword)\n",
    "        \n",
    "        img_url = html.find(\"img\", id=\"feature_img\")[\"src\"]\n",
    "        print(\"圖片網址:\", img_url)\n",
    "               \n",
    "        print(\"\\n\")\n",
    "      \n",
    "        time.sleep (1)\n",
    "        \n",
    "        j = {\"source\": \"風傳媒 THE STORM MEDIA\" ,\"url\": news_url, \"title\": title, \"date_\": date, \"author\": author, \n",
    "             \"content\": content, \"kw\": keyword, \"img_url\": img_url}\n",
    "        json_data.append(j)\n",
    "      \n",
    "        time.sleep(random.randint(0,2))\n",
    "    time.sleep(random.randint(0,2))"
   ]
  },
  {
   "cell_type": "code",
   "execution_count": 6,
   "metadata": {},
   "outputs": [
    {
     "data": {
      "text/plain": [
       "{'source': '風傳媒 THE STORM MEDIA',\n",
       " 'url': 'https://www.storm.mg/article/730858',\n",
       " 'title': '新新聞》民主台灣將中國維權人士劉興聯、顏伯鈞擋國門外近3個月',\n",
       " 'date_': '2018-12-22 12:00',\n",
       " 'author': ['金哲烈'],\n",
       " 'content': '中國異議人士劉興聯、顏伯鈞（又名顏克芬）自九月二十七日搭機過境台灣時尋求政治庇護，已滯留桃園機場管制區近三個月。雖然陸委會主委陳明通承諾不會將兩人遣返中國或泰國，劉、顏卻遲未能獲許入境居留。扁政府時期逃亡到台灣、非法入境被收容的中國異議人士陳榮利、燕鵬等五人，於馬政府時期與另四名法輪功信徒被准長期居留；今年初台美共助反共青年王睿赴美；蔡政府今年五月則批准中國維權律師黃燕入境台灣居留至今，但劉興聯、顏伯鈞卻不得其門而入。溫和維權仍遭迫害尤其與馬、扁時期奔台的中國異議人士相較，劉、顏兩人維權方式溫和，卻仍受中國政府迫害，是中國國家主席習近平二○一二年就任後典型的政治受難者，台灣卻不再敞開大門，再次凸顯我國缺乏《難民法》制度化審核規範的窘況。《新新聞》為此專訪劉、顏兩人談過去的維權經歷，也剖析中國人權現況。顏伯鈞研讀碩士期間就持續關注弱勢群體的上訪維權，一二年開始參與中國民運人士許志永發起的「新公民運動」，要求官員公開財產，呼應當時中國反貪大勢。當時數千人在網路連署支持官員公開財產，顏伯鈞等運動夥伴也在公共場合拉布條宣揚理念，並積極宣傳習近平「全面貫徹憲法」的發言。顏伯鈞經兩個月從雲南逃到泰國，圖為顏在中泰轉運站。（顏伯鈞提供）商人出身的劉興聯，更加注意到中國政權掠奪民眾權利、財產的本質。他於一二年深受中國維權人士秦永敏言論啟發，一三年與秦、潘露共組玫瑰團隊，成立非政府組織「中國人權觀察」，劉並擔任秘書長。秦永敏主張開展政治對話，力爭和平轉型，還有人權至上、全民和解等政治理念。秦永敏是中國被關押最久的政治犯，從一九八一年以來陸續在牢獄中度過二十三年。最近一次是一五年被逮捕，被羈押到一八年才被以顛覆國家政權罪判處十三年刑期。關押、逃亡、偷渡，歷盡艱苦「中國政權愈發強悍，我們手無寸鐵，只能以非暴力、不合作的方式反抗。」劉興聯解釋為何玫瑰團隊持溫和立場，像是中國人權觀察官網發布的資訊，包括秦、劉等人共商、建議及敦促中國政治改革的公開信，並積極揭露各地維權事件、維權人士消息。顏伯鈞說：「朋友抓的抓、逃的逃，都沒什麼人了。」兩人也不得不走向逃亡路。顏伯鈞一三年至一四年開始被中國當局監控進而刑事拘留，一五年逃亡到泰國；劉興聯一五年被以「煽動顛覆國家政權罪」逮捕，關押八個多月，一七年流亡泰國，「再溫和的行動一旦挑戰政權就要被鎮壓，更證明習近平的極權統治。」劉興聯感慨道。顏伯鈞流亡泰國期間寫了《逃亡筆記》一書在日本出版，其中就詳述一四年底從雲南邊境一路偷渡至泰國的辛苦曲折；而也被邊控的劉興聯幾乎循相同路徑逃到泰國。書中寫道，一四年十二月八日，當時顏已被中國當局邊控，曾在昆明建水機場被扣留無法飛往泰國，所以用新購身分證買火車票從河北霸州出發，輾轉經鐵公路到大里，再搭巴士到雲南瑞麗，途中要用假身分證騙過邊防檢查。但顏伯鈞原本與友人商議從瑞麗出境到緬甸臘戍，再到曼德勒搭機到曼谷，沒想到因緬甸發生戰爭此路不通，只好改道從雲南景洪到緬甸小勐拉再從長計議。但計畫這麼一改，顏到泰國所花時間竟從一周增加到兩個月，過程中被收取各種制式、非制式的交通費。悲慘關押經驗讓他們不願返中顏伯鈞從瑞麗到景洪一路幸虧有力人士出手相助，才躲過邊控。但到了景洪，顏克芬與另一同行護照被扣的中國異議人士于豔華被當地國內安全保衛盯上，住處也有警方車輛監控，因此轉往雲南打洛鎮，再成功由當地人以摩托車送到緬甸小勐拉。出境到緬甸仍不平靜，顏伯鈞一行乘車從小勐拉前往景康途中，被不明人士驅車追趕，同樣靠當地朋友協助才脫困。而後顏伯鈞轉移至湄公河邊的索壘碼頭，順利乘船到近金三角地帶的寮國金木棉賭場。但當時金三角區域因戰爭十分緊張，邊境巡邏密集，偷渡根本不可行。一五年二月，經泰國友人牽線，顏、于兩人被一泰國警察帶到寮國會曬，再渡河到泰國清孔，歷經兩個多月的磨難，終於抵泰。顏伯鈞說，到曼谷後他在一家中醫診所打黑工，從事按摩及拔罐；劉興聯則在一泰北學校當義工教中文，換取吃住。但顏伯鈞表示，今年三月泰國警察已盯上他準備逮捕，十多次到診所抓人，幸虧有相熟的警察先通報躲藏，才不致被抓，依非法移民遣返回中國。顏伯鈞後來逃到泰北與劉興聯會合。今年九月上旬，兩人發現學校出現具中國官方背景的不明人士，「我們商議後可說是倉皇出逃，很快買了飛北京、過境台灣的機票。」劉興聯說道。顏伯鈞解釋，近幾年在泰國被抓捕、受審的中國異議人士增多，不得不謹慎以對任何風吹草動。經歷過中國慘無人道的關押經驗讓劉顏無論如何也不願回中國。顏伯鈞特別在《逃亡筆記》引述坐過牢的中國維權人士趙勇跟他說，中國檢察機關人員為收集到他們期望的罪證，不僅肉體上無情折磨，更在精神上進行摧殘。劉興聯2015年時曾被以「煽動顛覆國家政權罪」逮捕。（翻攝自玫瑰中國網站）顏伯鈞指出，他被刑拘時，審訊人員把小房間空調開得很冷，並在他身上淋水，到後來他已跟煙毒犯一樣，臉上鼻涕、眼淚齊流。劉興聯則說，他被關押在便於監視的玻璃屋內近九個月，完全不見陽光，每天照三餐被餵數十粒藥丸，導致左腎上腺長了腫瘤，壓迫導致高血壓及高血糖；審訊間還長時間播放如鋸木般的噪音，讓劉幾乎無法入眠，現在都還有耳鳴症狀，「那時靠默背《古蘭經》，憑藉信仰的力量才撐下來。」出生穆斯林家庭的劉興聯表示。聯合國證實兩人確有難民證「近日成都地下基督教會『秋雨聖約』百餘人被抓捕；新疆百萬維族人民進入再教育營等，中國人權現況只有持續惡化。」劉興聯表示，中共也透過大數據達到更嚴密的社會控制。顏伯鈞則認為中國遭遇中等收入陷阱，經濟體制往前改革，政治體制卻原地不動，社會矛盾尖銳化，導致習近平加強維穩力道，收緊控制。「我將會用生命捍衛我追求人權至上的主張。」劉興聯表示，聯合國已回函給台權會證實兩人確實有難民證，目前等待第三國批准政治庇護，但首選仍是民主自由的台灣准予長期居留。顏伯鈞出生：1974年，湖南省常德市學歷：中共中央黨校政治經濟學碩士經歷：北京工商大學嘉華學院副教授、獨立中文筆會會員維權運動經歷：2012年參與新公民運動，發起「公民要求官員公開財產」／2014年5月23日被刑事拘留，6月26日取保候審／2014年11月7日被限制出境後控制／2015年逃亡泰國劉興聯出生：1955年，陝西省西安市經歷：海南省經商維權運動經歷：2013年1月與秦永敏、潘露組建玫瑰團隊，擔任中國人權觀察秘書長／2015年6月19日被以涉嫌煽動顛覆國家政權罪逮捕，羈押於武漢市公安局安康醫院／2016年1月19日取保候審，軟禁海南島／2017年藉看病出逃泰國➤更多內容請看新新聞\\xa0',\n",
       " 'kw': ['維權', '政治庇護', '顛覆國家政權罪', '中國維權', '劉興聯', '顏伯鈞'],\n",
       " 'img_url': 'https://image.cache.storm.mg/styles/smg-800x533-fp/s3/media/image/2018/12/20/20181220-013225_U8719_M485201_5b67.JPG?itok=MOAP61Y_'}"
      ]
     },
     "execution_count": 6,
     "metadata": {},
     "output_type": "execute_result"
    }
   ],
   "source": [
    "j"
   ]
  },
  {
   "cell_type": "code",
   "execution_count": null,
   "metadata": {},
   "outputs": [],
   "source": []
  }
 ],
 "metadata": {
  "kernelspec": {
   "display_name": "Python 3",
   "language": "python",
   "name": "python3"
  },
  "language_info": {
   "codemirror_mode": {
    "name": "ipython",
    "version": 3
   },
   "file_extension": ".py",
   "mimetype": "text/x-python",
   "name": "python",
   "nbconvert_exporter": "python",
   "pygments_lexer": "ipython3",
   "version": "3.6.5"
  }
 },
 "nbformat": 4,
 "nbformat_minor": 2
}
