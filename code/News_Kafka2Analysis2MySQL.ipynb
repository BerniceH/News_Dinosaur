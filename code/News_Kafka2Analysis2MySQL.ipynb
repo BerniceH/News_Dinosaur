{
 "cells": [
  {
   "cell_type": "markdown",
   "metadata": {},
   "source": [
    "正則表達式:TVBS清理作者格式方法"
   ]
  },
  {
   "cell_type": "code",
   "execution_count": 1,
   "metadata": {},
   "outputs": [],
   "source": [
    "import re\n",
    "#作者欄位清理方法，要放author[0]\n",
    "def tvbs_author_etl(author_text):\n",
    "    author = []\n",
    "    author_text = re.sub(r\"記者  \", \"\", author_text)\n",
    "    author_text = re.sub(r\" / 攝影.*\", \"\", author_text)\n",
    "    author_text = re.sub(r\" / \", \"\", author_text)\n",
    "    author_text = re.sub(r\"編輯  \", \"\", author_text)\n",
    "    author_text = re.sub(r\" 報導\", \"\", author_text)\n",
    "    author_text = re.sub(r\" \", \",\", author_text)\n",
    "    #如果有多位作者，使用、斷開，並一一取出放進list\n",
    "    if author_text.find(\",\") != -1:\n",
    "        author_text = author_text.split(\",\")\n",
    "        for a in author_text:\n",
    "            author.append(a)\n",
    "    elif author_text == \"\":\n",
    "        author = []\n",
    "    else:\n",
    "        author.append(author_text)\n",
    "    return author"
   ]
  },
  {
   "cell_type": "markdown",
   "metadata": {},
   "source": [
    "正則表達式:SETN清理作者格式方法"
   ]
  },
  {
   "cell_type": "code",
   "execution_count": 2,
   "metadata": {},
   "outputs": [],
   "source": [
    "#SETN作者欄位清理方法，要放author[0]\n",
    "def setn_author_etl(author_text):\n",
    "    author = []\n",
    "    #將／XX報導XX字串清除\n",
    "    author_text = re.sub(r\"／.*報導.*\", \"\", author_text)\n",
    "    #將／XX特稿XX字串清除\n",
    "    author_text = re.sub(r\"／.*特稿.*\", \"\", author_text)\n",
    "    #將記者字串清除\n",
    "    author_text = re.sub(r\"記者\", \"\", author_text)\n",
    "    #將文／字串清除\n",
    "    author_text = re.sub(r\"文／\", \"\", author_text)\n",
    "    #如果有多位作者，使用、斷開，並一一取出放進list\n",
    "    if author_text.find(\"、\") != -1:\n",
    "        author_text = author_text.split(\"、\")\n",
    "        for a in author_text:\n",
    "            author.append(a)\n",
    "    elif author_text == \"\":\n",
    "        author = []\n",
    "    else:\n",
    "        author.append(author_text)\n",
    "    return author"
   ]
  },
  {
   "cell_type": "markdown",
   "metadata": {},
   "source": [
    "正則表達式:ETtoday清理作者格式方法"
   ]
  },
  {
   "cell_type": "code",
   "execution_count": 3,
   "metadata": {},
   "outputs": [],
   "source": [
    "#ETtoday作者欄位清理方法，要放author[0]\n",
    "def ettoday_author_etl(author_text):\n",
    "    author = []\n",
    "    author_text = re.sub(\"／.?.?報導.*\", \"\", author_text)\n",
    "    author_text = re.sub(\".*記者\", \"\", author_text)\n",
    "    author_text = re.sub(\"\\xa0\", \"\", author_text)\n",
    "    #如果有多位作者，使用、斷開，並一一取出放進list\n",
    "    if author_text.find(\"、\") != -1:\n",
    "        author_text = author_text.split(\"、\")\n",
    "        for a in author_text:\n",
    "            author.append(a)\n",
    "    elif author_text == \"\":\n",
    "        author = []\n",
    "    else:\n",
    "        author.append(author_text)\n",
    "    return author"
   ]
  },
  {
   "cell_type": "markdown",
   "metadata": {},
   "source": [
    "文章正反面情緒分析 需要的套件"
   ]
  },
  {
   "cell_type": "code",
   "execution_count": 4,
   "metadata": {},
   "outputs": [
    {
     "name": "stderr",
     "output_type": "stream",
     "text": [
      "Building prefix dict from the default dictionary ...\n",
      "Dumping model to file cache /tmp/jieba.cache\n",
      "Loading model cost 0.849 seconds.\n",
      "Prefix dict has been built succesfully.\n"
     ]
    }
   ],
   "source": [
    "#!pip install udicOpenData\n",
    "#!pip install Swinger\n",
    "#在dockerfile的指令\n",
    "#ADD ./dict_all.txt /opt/conda/lib/python3.6/site-packages/udicOpenData/dictionary/\n",
    "from udicOpenData.dictionary import *\n",
    "jieba.load_userdict(os.path.join(DIR_NAME, 'dict_all.txt'))\n",
    "#要等一下子\n",
    "from Swinger import Swinger"
   ]
  },
  {
   "cell_type": "markdown",
   "metadata": {},
   "source": [
    "文章正反面情緒分析方法"
   ]
  },
  {
   "cell_type": "code",
   "execution_count": 6,
   "metadata": {},
   "outputs": [],
   "source": [
    "s = None\n",
    "def emo_swinger(content, model='LogisticRegression'):\n",
    "    global s\n",
    "    if s == None:\n",
    "        s = Swinger()\n",
    "        s.load(model)\n",
    "    # default model= \"LogisticRegression\", 可替換為\"MultinomialNB\"\n",
    "    emo_result = s.swing(content)\n",
    "    if emo_result == \"pos\":\n",
    "        result = \"positive\"\n",
    "    elif emo_result == \"neg\":\n",
    "        result = \"negative\"\n",
    "    return result"
   ]
  },
  {
   "cell_type": "markdown",
   "metadata": {},
   "source": [
    "文章關鍵字 需要的套件"
   ]
  },
  {
   "cell_type": "code",
   "execution_count": 7,
   "metadata": {},
   "outputs": [],
   "source": [
    "import jieba.analyse"
   ]
  },
  {
   "cell_type": "markdown",
   "metadata": {},
   "source": [
    "文章關鍵字方法"
   ]
  },
  {
   "cell_type": "code",
   "execution_count": 8,
   "metadata": {},
   "outputs": [],
   "source": [
    "def keyword_analysis(content):\n",
    "    #default kewwords = 8\n",
    "    kws =jieba.analyse.extract_tags(content, 5)\n",
    "    return kws"
   ]
  },
  {
   "cell_type": "markdown",
   "metadata": {},
   "source": [
    "文章藍綠貼標分析 需要的套件"
   ]
  },
  {
   "cell_type": "code",
   "execution_count": 9,
   "metadata": {},
   "outputs": [],
   "source": [
    "#!pip install pandas \n",
    "import jieba\n",
    "import pandas as pd\n",
    "from sklearn.feature_extraction.text import CountVectorizer\n",
    "from sklearn.naive_bayes import MultinomialNB\n",
    "from sklearn.externals import joblib"
   ]
  },
  {
   "cell_type": "markdown",
   "metadata": {},
   "source": [
    "將jieba斷詞寫成方法"
   ]
  },
  {
   "cell_type": "code",
   "execution_count": 10,
   "metadata": {},
   "outputs": [],
   "source": [
    "def cutflow(p):\n",
    "    cutresult = \" \".join(jieba.cut(p))\n",
    "    return cutresult.replace(\"\\r\", \"\").replace(\"\\n\", \"\")"
   ]
  },
  {
   "cell_type": "markdown",
   "metadata": {},
   "source": [
    "載入詞向量模型與貝氏模型"
   ]
  },
  {
   "cell_type": "code",
   "execution_count": 11,
   "metadata": {},
   "outputs": [
    {
     "name": "stderr",
     "output_type": "stream",
     "text": [
      "/opt/conda/lib/python3.6/site-packages/sklearn/base.py:251: UserWarning: Trying to unpickle estimator MultinomialNB from version 0.20.1 when using version 0.20.2. This might lead to breaking code or invalid results. Use at your own risk.\n",
      "  UserWarning)\n",
      "/opt/conda/lib/python3.6/site-packages/sklearn/base.py:251: UserWarning: Trying to unpickle estimator CountVectorizer from version 0.20.1 when using version 0.20.2. This might lead to breaking code or invalid results. Use at your own risk.\n",
      "  UserWarning)\n"
     ]
    }
   ],
   "source": [
    "clg = joblib.load('clg') \n",
    "vec = joblib.load('vec') "
   ]
  },
  {
   "cell_type": "markdown",
   "metadata": {},
   "source": [
    "文章藍綠貼標分析方法:貝氏定理"
   ]
  },
  {
   "cell_type": "code",
   "execution_count": 12,
   "metadata": {},
   "outputs": [],
   "source": [
    "def label_predict(text):\n",
    "    docs_news = cutflow(text)\n",
    "    c=[{\"content\" : docs_news,\n",
    "       \"tag\" : 0}]\n",
    "    d = pd.DataFrame(c)\n",
    "    test_counts = vec.transform(d[\"content\"])\n",
    "    pre = clg.predict(test_counts)\n",
    "    label_result = list(pre)[0]\n",
    "    if label_result == '1':\n",
    "        result = \"blue\"\n",
    "    elif label_result == '0':\n",
    "        result = \"green\"\n",
    "    return result"
   ]
  },
  {
   "cell_type": "markdown",
   "metadata": {},
   "source": [
    "文章摘要分析 需要的套件"
   ]
  },
  {
   "cell_type": "code",
   "execution_count": 13,
   "metadata": {},
   "outputs": [],
   "source": [
    "#!pip install networkx\n",
    "#!pip install textrank4zh\n",
    "from  __future__  import print_function\n",
    "import jieba\n",
    "import numpy\n",
    "import networkx\n",
    "import sys\n",
    "import codecs \n",
    "from textrank4zh import TextRank4Keyword ,TextRank4Sentence"
   ]
  },
  {
   "cell_type": "markdown",
   "metadata": {},
   "source": [
    "文章摘要方法:TextRank"
   ]
  },
  {
   "cell_type": "code",
   "execution_count": 14,
   "metadata": {},
   "outputs": [],
   "source": [
    "def news_summary(text):\n",
    "    tr4s = TextRank4Sentence()\n",
    "    tr4s.analyze( text = text, lower = True , source = ' all_filters ' )\n",
    "    for item in tr4s.get_key_sentences( num = 1 ):\n",
    "        return item.sentence"
   ]
  },
  {
   "cell_type": "markdown",
   "metadata": {},
   "source": [
    "Elasticsearch 需要的套件"
   ]
  },
  {
   "cell_type": "code",
   "execution_count": 15,
   "metadata": {},
   "outputs": [],
   "source": [
    "#!pip install elasticsearch\n",
    "from elasticsearch import Elasticsearch"
   ]
  },
  {
   "cell_type": "code",
   "execution_count": 15,
   "metadata": {},
   "outputs": [],
   "source": [
    "# 建立Elasticsearch連線\n",
    "es = Elasticsearch(['elasticsearch:9200'])"
   ]
  },
  {
   "cell_type": "code",
   "execution_count": 16,
   "metadata": {},
   "outputs": [
    {
     "data": {
      "text/plain": [
       "{'acknowledged': True, 'shards_acknowledged': True, 'index': 'news'}"
      ]
     },
     "execution_count": 16,
     "metadata": {},
     "output_type": "execute_result"
    }
   ],
   "source": [
    "# 在Elasticsearch建立index，亦可加入body參數先定義mapping格式\n",
    "es.indices.create(index = 'news', ignore = 400)"
   ]
  },
  {
   "cell_type": "code",
   "execution_count": 17,
   "metadata": {},
   "outputs": [
    {
     "data": {
      "text/plain": [
       "{'acknowledged': True}"
      ]
     },
     "execution_count": 17,
     "metadata": {},
     "output_type": "execute_result"
    }
   ],
   "source": [
    "# 將Elasticsearch定義所放入的資料格式:mapping\n",
    "es.indices.put_mapping(index = \"news\",\n",
    "                       doc_type = \"politics\",                \n",
    "                       body = {\n",
    "                        \"properties\": {\n",
    "                            \"source\": {\"type\": \"text\"},\n",
    "                            \"url\": {\"type\": \"text\"},\n",
    "                            \"title\": {\"type\": \"text\"},\n",
    "                            \"date_\": {\"type\": \"text\"},\n",
    "                            \"author\": {\"type\": \"text\"},\n",
    "                            \"content\": {\"type\": \"text\"},\n",
    "                            \"kw\": {\"type\": \"text\"},\n",
    "                            \"img_url\": {\"type\": \"text\"},\n",
    "                            \"@timestamp\": {\"type\": \"date\"}\n",
    "                        }\n",
    "                    }\n",
    "                )"
   ]
  },
  {
   "cell_type": "code",
   "execution_count": 16,
   "metadata": {},
   "outputs": [],
   "source": [
    "# 為了將匯入資料的時間加入時區\n",
    "from datetime import datetime, timedelta, timezone\n",
    "tz_utc_8 = timezone(timedelta(hours=8)) # 創建時區UTC+8:00"
   ]
  },
  {
   "cell_type": "markdown",
   "metadata": {},
   "source": [
    "傳送log 需要的套件"
   ]
  },
  {
   "cell_type": "code",
   "execution_count": 17,
   "metadata": {},
   "outputs": [],
   "source": [
    "#!pip install python-logstash\n",
    "import logging\n",
    "import logstash\n",
    "import sys"
   ]
  },
  {
   "cell_type": "code",
   "execution_count": 18,
   "metadata": {},
   "outputs": [],
   "source": [
    "host = \"logstash\"\n",
    "# 資料清理與分析log\n",
    "etl_analysis_logger = logging.getLogger('etl_analysis_logger')\n",
    "etl_analysis_logger.setLevel(logging.INFO)\n",
    "# TCP\n",
    "etl_analysis_logger.addHandler(logstash.TCPLogstashHandler(host, 5000, version=1))\n",
    "\n",
    "# 資料傳輸到MySQL log\n",
    "mysql_logger = logging.getLogger('mysql_logger')\n",
    "mysql_logger.setLevel(logging.INFO)\n",
    "# TCP\n",
    "mysql_logger.addHandler(logstash.TCPLogstashHandler(host, 5000, version=1))\n",
    "\n",
    "# 資料傳輸到Elasticsearch log\n",
    "elasticsearch_logger = logging.getLogger('elasticsearch_logger')\n",
    "elasticsearch_logger.setLevel(logging.INFO)\n",
    "# TCP\n",
    "elasticsearch_logger.addHandler(logstash.TCPLogstashHandler(host, 5000, version=1))"
   ]
  },
  {
   "cell_type": "markdown",
   "metadata": {},
   "source": [
    "Kafka Consumer需要的套件"
   ]
  },
  {
   "cell_type": "code",
   "execution_count": 19,
   "metadata": {},
   "outputs": [],
   "source": [
    "#!pip install kafka\n",
    "from kafka import KafkaConsumer, TopicPartition\n",
    "import sys\n",
    "import json, time, requests"
   ]
  },
  {
   "cell_type": "code",
   "execution_count": 20,
   "metadata": {},
   "outputs": [
    {
     "name": "stdout",
     "output_type": "stream",
     "text": [
      "Now listening for incoming messages ... \n",
      "\n",
      "load default bestMainFeatures\n",
      "load default bestMainFeatures success!!\n",
      "load model from LogisticRegression\n"
     ]
    },
    {
     "name": "stderr",
     "output_type": "stream",
     "text": [
      "/opt/conda/lib/python3.6/site-packages/sklearn/base.py:251: UserWarning: Trying to unpickle estimator DictVectorizer from version 0.18.1 when using version 0.20.2. This might lead to breaking code or invalid results. Use at your own risk.\n",
      "  UserWarning)\n",
      "/opt/conda/lib/python3.6/site-packages/sklearn/base.py:251: UserWarning: Trying to unpickle estimator LabelEncoder from version 0.18.1 when using version 0.20.2. This might lead to breaking code or invalid results. Use at your own risk.\n",
      "  UserWarning)\n",
      "/opt/conda/lib/python3.6/site-packages/sklearn/base.py:251: UserWarning: Trying to unpickle estimator LogisticRegression from version 0.18.1 when using version 0.20.2. This might lead to breaking code or invalid results. Use at your own risk.\n",
      "  UserWarning)\n"
     ]
    },
    {
     "name": "stdout",
     "output_type": "stream",
     "text": [
      "topic=politics_news, partition=0, offset=0 : (key=ettoday, value={'source': 'ETtoday', 'url': 'https://www.ettoday.net/news/20181229/1343337.htm', 'title': '國民黨要培養年輕人 連勝文：個人背景不重要', 'date_': '2018/12/29 00:06', 'author': ['政治中心'], 'content': '九合一選雖然結束，儘管國民黨大勝，但世代交替、中生代接班問題也再度浮出，甚至將國民黨目前世代交替困境的責任，指向前總統馬英九。國民黨中央委員連勝文28日就發文說，他一直認為個人背景好不好，學歷高或低，並不重要，最重要的是「個人表現」，國民黨必須要建立「performance-based」的長期人才選用方式，至少他就是這樣在培養年輕人。連勝文表示，國民黨世代交替已經喊了超過十年了，但執政時不做，等到在野時就變得更困難了；因為在上位者已無資源，也沒有足夠的位置，而在競爭者眾的情況下，自私的人就會把僅存的位置做為自己拚大位的政治資本，而沽名釣譽者，則會執著於「用人不分藍綠」的迷思，找一堆跟國民黨理念價值完全不同的人，變成個人衞隊，但國民黨一垮，這些人也就跑了！這樣下來，黨內人才，即便表現好，辛苦付出，也都意興闌珊了。連勝文指出，他一直認為個人背景好不好，學歷高或低，並不重要，最重要的是「個人表現」！國民黨必須要建立「performance-based」的長期人才選用方式，以長期個人表現為基礎，給有「實質付出」的人表現機會，不因一兩次挫折而中斷，也不能只靠少數樣板，更不能靠拍馬屁來決定誰有機會，至少他就是這樣在培養年輕人。連勝文說，必須承認國民黨內，像蔣乃辛或之前的蔡正元這種願意主動讓位的人並不多，所以他主張，讓65歲以上，長期表現傑出，同時還有意願服務的資深區域立委，升做不分區立委，建立國會資深議員制度，而讓青壯世代有意願者，去競選區域立委，這樣才能兼顧經驗與衝勁，發揮最大的戰力。「國民黨不缺少數樣板，也不缺各種逢迎溢美之聲」，連勝文說，唯一缺的就是有能力改變現狀的人，可以大公無私，為國民黨的未來，真正樹立一套典範！希望我們在數年後，不會再看到類似的文章，只是主角從馬英九換成别人。', 'kw': ['個人', '這樣', '國民黨', '連勝文', '表現', '年輕人', '長期'], 'img_url': 'https://cdn2.ettoday.net/images/3783/d3783091.jpg', 'ariticle_emotion': 'negative', 'label': 'blue', 'abstract': '國民黨必須要建立「performance-based」的長期人才選用方式，以長期個人表現為基礎，給有「實質付出」的人表現機會，不因一兩次挫折而中斷，也不能只靠少數樣板，更不能靠拍馬屁來決定誰有機會，至少他就是這樣在培養年輕人'})\n",
      "\n",
      "\n",
      "Now sending data to MySQL!\n",
      "Error message : Data was sent to MySQL unsuccessfully!!\n",
      "Now sending data to elasticsearch!\n",
      "Error message: Data was sent to elasticsearch unsuccessfully!!\n",
      "topic=politics_news, partition=0, offset=1 : (key=ettoday, value={'source': 'ETtoday', 'url': 'https://www.ettoday.net/news/20181229/1343157.htm', 'title': '《都更條例》三讀！政府可代拆釘子戶  「5大修法重點」一次看', 'date_': '2018/12/29 00:01', 'author': ['政治中心'], 'content': '立法院院會28日下午三讀《都市更新條例》修正草案，未來針對俗稱「釘子戶」的都更不同意戶，透過「3加1」程序來處理，走完程序後政府才能代拆，不同意者可提行政救濟，內政部也強調，法規強化不同意戶權益的四道防線處理，有助於減少爭議。都更條例修法重點如下：針對釘子戶問題明定「文林苑條款」，建立「3加1」程序。1.都市更新計畫須送地方政府「都市計畫審議委員會」審議，避免惡意圈地。\\r\\n2.都市更新計畫再送到地方政府「都市更新審議委員會」審理，以合議且公開方式，判定都更範圍是否合理。\\r\\n3.若有爭議，只要有一人反對，將強制辦理聽證程序，釐清問題是惡意圈地，或釘子戶要求過高的價格。若上述方法皆無法解決，地方政府要透過協商平台在60天內解決拆除日期、方式，才可以代拆，不同意戶也可尋求行政救濟。內政部強調，都更條例雖明定政府可代拆，但同步強化不同意戶權益的四道防線處理，包括更新地區劃定及自劃單元劃定基準應由「都市計畫委員會」審議、案件如有爭議應一律聽證、嚴謹務實的審議制度，以及拆除前應落實《兩公約》有關真誠磋商精神進行協調溝通，有助於減少爭議。獎助部分，過去是由中央規定獎勵上限，地方審議決定額度，此次則改由中央統一訂定建築容積獎勵項目、額度、計算方式及申請條件，條文明定，主管機關得視財政狀況延長房屋稅減半徵收，並以10年為限，等於房屋稅最長可達12年減半徵收；協議合建者可享有土地增值稅減免40%。內政部指出，「容積獎勵明確化」讓實施者與地主開始談權益分配時，就明確知道獎勵後總容積，增加其互信基礎，同時也可以解決過去因容積獎勵造成審議的不確定性，並進一步提高審議效率。條文明定，政府應就都市發展狀況、居民意願，及原有社會、經濟關係、人文特色進行調查評估，視情況劃定更新地區；若建築物窳陋，有妨害公安之虞，或居住環境惡劣，足以妨害公共衛生或社會治安、建築物未能符合都市機能等，政府得優先劃定為更新地區。內政部解釋，目前經評估屬危險建築物者，仍有多數無法整合至全體同意致無法透過《危老條例》程序重建，為保障民眾居住安全，本次修法規定主管機關可以將危險建築物迅行劃定為更新地區，所有權人即可透過都更條例的機制進行重建。條文中新增「政府主導都市更新」專章，明定各級主管機關得成立都市更新推動小組，督導、推動都更政策，與協調政府主導都更業務。政府主導的都更案，免擬具事業概要，得自行實施，或經公開評選，指定代為實施者。內政部指出，公辦都更實施可以有3種方式，包括由政府自行實施、同意其他機關、專責法人（或機構）實施或公開評選民間都市更新事業機構實施，以利多元合作推展都更業務。本次也將都更事業概要同意門檻同意戶比例、土地總面積都提高，合法建築物總樓地板面積從現行10分之1提高為2分之1以上同意，並應經主管機關以合議制及公開方式審議核准；但若9成以上所有權人同意，則免擬具事業概要。《都更條例》趕會期最後一天過關，內政部長徐國勇表示，都市更新是蔡總統的重要政見，修法推動過程也獲得行政院長賴院長全力支持，非常感謝立法院全體委員及朝野黨團的共同協助，使本法順利完成立法。為了擴大都更參與動能，內政部也預計4年籌編80億元，徐國勇指出，投入都市更新關聯性業務，包括行政院核定之「全國建築物耐震安檢暨輔導重建補強計畫（108-110年）」預計投入54億元，針對老舊建築物進行結構安全快篩、耐震評估，並視耐震評估結果，進行階段性補強或連結危老重建或都市更新，由政府提供快篩、耐震評估、重建補強之全方位協助。', 'kw': ['都更', '釘子戶', '都市更新', '審議', '都更條例', '內政部', '建築物', '同意'], 'img_url': 'https://cdn2.ettoday.net/images/3726/d3726068.jpg', 'ariticle_emotion': 'positive', 'label': 'green', 'abstract': '內政部強調，都更條例雖明定政府可代拆，但同步強化不同意戶權益的四道防線處理，包括更新地區劃定及自劃單元劃定基準應由「都市計畫委員會」審議、案件如有爭議應一律聽證、嚴謹務實的審議制度，以及拆除前應落實《兩公約》有關真誠磋商精神進行協調溝通，有助於減少爭議'})\n",
      "\n",
      "\n",
      "Now sending data to MySQL!\n",
      "Error message : Data was sent to MySQL unsuccessfully!!\n",
      "Now sending data to elasticsearch!\n",
      "Error message: Data was sent to elasticsearch unsuccessfully!!\n",
      "topic=politics_news, partition=0, offset=2 : (key=ettoday, value={'source': 'ETtoday', 'url': 'https://www.ettoday.net/news/20181228/1343152.htm', 'title': '「下任投手是屬於總教練的權責」 盤點賴清德年終記者會10大金句', 'date_': '2018/12/28 22:26', 'author': ['政治中心'], 'content': '行政院28日召開年終記者會，報告過去一年主要完成的政務，但最受外界關注的，還是院長賴清德未來動向，但他依舊低調，透露當初進入中央，就認定自己是「中繼投手」，還調侃媒體「我感覺你們都在慰留耶」，《ETtoday東森新聞雲》為讀者整理賴清德10大金句，回顧這場年終記者會。1.一輛列車有上車就有下車，但列車方向不變，一定要通往更好地方，讓人民過更好生活。2.組閣是總統權責，適當時間會跟大家說明。3我們還是要支持蔡英文的領導。4.下場打球的是勞資雙方，政府是建立一個好的環境。5.目前問的四個問題，我感覺你們（媒體）都在慰留耶。6.人是感情的動物，從你們的問題充份流露出來，我也感受到。7.玩笑的話，大家笑一笑這樣子，不必把它當真。8.中繼投手，接任（閣揆）的時候我就這樣認知。9.下任投手是屬於總教練的權責。10.從來都不是投手之間在交代，都是總教練與新任投手在交代，你如果對棒球瞭解應該是這樣。', 'kw': ['這樣', '你們', '投手', '還是', '賴清德', '年終記者會', '行政院'], 'img_url': 'https://cdn2.ettoday.net/images/3795/d3795028.jpg', 'ariticle_emotion': 'negative', 'label': 'green', 'abstract': '行政院28日召開年終記者會，報告過去一年主要完成的政務，但最受外界關注的，還是院長賴清德未來動向，但他依舊低調，透露當初進入中央，就認定自己是「中繼投手」，還調侃媒體「我感覺你們都在慰留耶」，《ETtoday東森新聞雲》為讀者整理賴清德10大金句，回顧這場年終記者會'})\n",
      "\n",
      "\n",
      "Now sending data to MySQL!\n",
      "Error message : Data was sent to MySQL unsuccessfully!!\n",
      "Now sending data to elasticsearch!\n",
      "Error message: Data was sent to elasticsearch unsuccessfully!!\n",
      "topic=politics_news, partition=0, offset=3 : (key=ettoday, value={'source': 'ETtoday', 'url': 'https://www.ettoday.net/news/20181228/1343184.htm', 'title': '藍委剛砍高捷預算「韓國瑜又爭取」 林智鴻：國民黨精神分裂？', 'date_': '2018/12/28 21:23', 'author': ['政治中心'], 'content': '新任高雄市長韓國瑜拚經濟，除積極爭取高捷黃線預算落實，選前還喊出要活化興達港。不過，民進黨高市議員林智鴻批評，國民黨立委黃昭順、賴士葆14日才砍預算，現在韓國瑜又跳出來爭取，「國民黨是不是精神分裂？」對此，黃昭順28日出面喊冤，澄清她主張砍的是輕軌，不是黃線。林智鴻表示，高捷黃線總預算1441億，但黃昭順、賴士葆在立院帶頭喊砍，主張刪減20％，最後幾經折衝才改凍結1/10，「國民黨立委凍結、阻擋高雄捷運黃線預算，韓國瑜市長又極力爭取預算，國民黨是不是精神分裂了？」黃昭順解釋，她主張凍結的「都市推動捷運」科目共編列98億元預算，其中包括新北三鶯線、淡海輕軌、安坑輕軌、桃園綠線捷運及高捷岡山路竹延伸線，「其實我們的提案裡面並沒有黃線，但是他們（綠營）把它誤導到那邊」，而且她最有意見的是輕軌，不是黃線。賴士葆則透過臉書澄清，他只砍了過去大家一直詬病的「興達港」1億元，是民進黨委員加碼砍到5億，他根本沒碰捷運線，「前瞻預算與一般預算不同，這些百分百都是向子孫借來的錢，不合理的編列當然要刪。」賴士葆強調，他選前曾與韓國瑜、費鴻泰、張善政等人在台北101開過「高雄首富」記者會，也被預聘為韓市長的經濟顧問，當然不會刻意刁難，「是當初民進黨政府亂編一通，我只是想做好把關工作而已。」', 'kw': ['國民黨', '黃線', '黃昭順', '韓國瑜', '預算', '高捷黃線', '高雄捷運', '林智鴻', '賴士葆'], 'img_url': 'https://cdn2.ettoday.net/images/3797/3797079.jpg', 'ariticle_emotion': 'negative', 'label': 'green', 'abstract': '林智鴻表示，高捷黃線總預算1441億，但黃昭順、賴士葆在立院帶頭喊砍，主張刪減20％，最後幾經折衝才改凍結1/10，「國民黨立委凍結、阻擋高雄捷運黃線預算，韓國瑜市長又極力爭取預算，國民黨是不是精神分裂了'})\n",
      "\n",
      "\n",
      "Now sending data to MySQL!\n",
      "Error message : Data was sent to MySQL unsuccessfully!!\n",
      "Now sending data to elasticsearch!\n",
      "Error message: Data was sent to elasticsearch unsuccessfully!!\n",
      "topic=politics_news, partition=0, offset=4 : (key=ettoday, value={'source': 'ETtoday', 'url': 'https://www.ettoday.net/news/20181228/1343153.htm', 'title': '彰化台南金門立委補選 國民黨布局「龍介仙可以懼戰嗎？」', 'date_': '2018/12/28 18:49', 'author': ['政治中心'], 'content': '彰化縣、台南市與金門縣3席立委補選，1月14日開始受理登記，國民黨下周提出徵召時程，希望至少要守下原屬國民黨的彰化與金門2席立委，另外也將針對新北市第3選區立委展開徵詢。組發會主委李哲華表示，這次補選參考第一階段補選的方式，台南第2選區徵召就會參考台北市方式，私下徵詢後直接徵召；彰化1選區則可能比照台中市，將以「不公開民調」決勝負，至於金門縣，因為參選爆炸，恐怕無法採取直接民調，還需要再思考徵召方式。彰化縣立委補選，縣長王惠美競選總部副主委蔡明忠與前彰化縣副縣長柯呈枋表態參選，順利連任的和美鎮長阮厚爵與縣議員凃淑媚、林庚壬也都被勸進，黨務人士認為，這些人之中阮厚爵實力最為雄厚，不過問題在於他才剛連任鎮長。金門縣部分，黨內有11人爭取參選，黨務人士分析，前立委楊應雄與前議長洪麗萍都有參與輔選縣長楊鎮浯，剛操完盤相對合適。至於台南市立委補選，剛高票連任市議員的李文俊與前台南縣副議長陳中興被勸進，不過黨務人士透露，如果找不到人參選，地方黨部主委要自己承擔，台南市黨部主委謝龍介「已經有最壞的打算」，現在國民黨氣勢正旺，不能讓這次台南立委補選唱空城，「龍介仙可以懼戰嗎？」這次議員選舉，謝龍介拿下台南市第一高票，被媒體封為「韓國瑜第二」，網友還拱他競選立委補選，謝龍介日前霸氣回應，「我是謝龍介，怎麼會是韓國瑜第二？」謝龍介表示，不會參選立委補選，因為已經答應全國網友要到各縣市和網友見面，也會跟對台與有研究者一起砌磋，國民黨會推派優秀的人選參與立委補選，不排除徵召優秀的素人出征。', 'kw': ['徵召', '謝龍介', '參選', '彰化', '台南', '金門', '立委補選', '補選', '立委'], 'img_url': 'https://cdn2.ettoday.net/images/3734/d3734264.jpg', 'ariticle_emotion': 'positive', 'label': 'green', 'abstract': '至於台南市立委補選，剛高票連任市議員的李文俊與前台南縣副議長陳中興被勸進，不過黨務人士透露，如果找不到人參選，地方黨部主委要自己承擔，台南市黨部主委謝龍介「已經有最壞的打算」，現在國民黨氣勢正旺，不能讓這次台南立委補選唱空城，「龍介仙可以懼戰嗎'})\n",
      "\n",
      "\n",
      "Now sending data to MySQL!\n",
      "Error message : Data was sent to MySQL unsuccessfully!!\n",
      "Now sending data to elasticsearch!\n",
      "Error message: Data was sent to elasticsearch unsuccessfully!!\n",
      "topic=politics_news, partition=0, offset=5 : (key=ettoday, value={'source': 'ETtoday', 'url': 'https://www.ettoday.net/news/20181228/1342945.htm', 'title': '影／李柏毅爆：柯文哲早已準備敗選感言「宣布選2020總統」', 'date_': '2018/12/28 17:45', 'author': ['政治中心'], 'content': '台北市長柯文哲在年底選戰驚險挺過藍綠夾殺，順利連任，外界關注柯是否角逐2020總統，不過他都未正面回應，僅說「明年6月再問我」，國民黨台北市議員李柏毅爆料，柯文哲其實事先有準備敗選感言，若當晚敗選就要宣告參選2020年總統。李柏毅在《三立新聞網94要客訴》分析，在選前三天，柯團隊做出的民調顯示，柯文哲是落後的，投票當天其實柯準備的是敗選感言，「準備當場要宣布選2020年的總統！」資深媒體人尚毅夫也接著爆料，柯團隊為分兩組人馬，一組準備勝選感言，另一組準備敗選感言，「如果輸的話他就要宣布組政團選2020。」有這樣的一個傳聞。前台北市副市長陳景峻26日爆料，柯文哲始終不願明確表態要不要參選2020總統，甚至說明年6月再看看，代表「有這個心」，要先看看明年風向再決定。對此，柯文哲27日上午受訪表示，「第一次講的話最準嘛，明年6月再問我，就這樣。」最新的媒體民調顯示，藍綠對決明顯是前新北市長朱立倫大勝總統蔡英文及行政院長賴清德，但如果台北市長柯文哲也投入選戰，支持率有可能領先兩黨參選人13%以上，朱、蔡、賴3人都會立即被「邊緣化」。', 'kw': ['感言', '6月', '柯文哲', '2020總統', '敗選', '準備'], 'img_url': 'https://cdn2.ettoday.net/images/3722/d3722629.jpg', 'ariticle_emotion': 'negative', 'label': 'green', 'abstract': '台北市長柯文哲在年底選戰驚險挺過藍綠夾殺，順利連任，外界關注柯是否角逐2020總統，不過他都未正面回應，僅說「明年6月再問我」，國民黨台北市議員李柏毅爆料，柯文哲其實事先有準備敗選感言，若當晚敗選就要宣告參選2020年總統'})\n",
      "\n",
      "\n",
      "Now sending data to MySQL!\n",
      "Error message : Data was sent to MySQL unsuccessfully!!\n",
      "Now sending data to elasticsearch!\n",
      "Error message: Data was sent to elasticsearch unsuccessfully!!\n"
     ]
    },
    {
     "name": "stdout",
     "output_type": "stream",
     "text": [
      "topic=politics_news, partition=0, offset=6 : (key=ettoday, value={'source': 'ETtoday', 'url': 'https://www.ettoday.net/news/20181228/1343033.htm', 'title': '砲打蔡英文 王金平：領導人一定要讓朝野對立削減', 'date_': '2018/12/28 17:14', 'author': ['賴于榛'], 'content': '前立法院長、國民黨立委王金平28日砲打總統蔡英文，他說，台灣目前面臨許多問題，國內充滿勞資對立、族群對立、世代對立，問題越來越混亂，且藍綠互相抵制，所以「當然身為國家領導人一定要讓朝野對立削減，藍綠對立化解，跨越藍綠共謀國是」。王金平28日赴銘傳大學演講「國會秘辛與政治傳播」，從兩岸、國內情勢與貿易解析台灣問題，兩岸部分他表示，九二共識很多人解讀不一樣，但目前大陸就是認為說執政黨沒有承認九二共識，因此不多所往來，且開始對於台灣各方面給予不滿意的政策、各方面的措施，加上台灣也是去中國化去得很厲害，是兩岸緊張的原因，他建議政府要想辦法改善兩岸關係，坐下來磋商不要阻礙台灣發展，否則累積下去會有問題。\\n\\n國內議題部分，王金平說，國內充滿勞資對立、族群對立、世代對立，問題越來越混亂，且藍綠互相抵制，提醒「當然身為國家領導人一定要讓朝野對立削減，藍綠對立化解，跨越藍綠共謀國是」，不能各自堅持、各談各的，否則這個國家怎麼辦。經濟困境部分，王金平說五缺要解決也不是那麼容易，且何況台灣沒有關稅彼此的公平對待，想誰想來台灣投資，沒有投資就業的機會就少了，加上CPTPP被因為反核食公投被日本阻撓，以及兩岸FTA也有阻力。王金平認為經濟發展因為兩岸沒有通力合作，造成經濟發展阻礙，他提醒蔡英文一定要把經濟搞好，且對兩岸問題要負起絕對責任，讓國家安全、兩岸安定、社會安心。會後媒體追問朱立倫、吳敦義與王金平誰當領導人比較能化解藍綠對立，王金平則表示，每個人都有努力空間，只要努力都有機會。', 'kw': ['蔡英文', '國民黨', '對立', '藍綠', '台灣', '兩岸', '王金平', '2020'], 'img_url': 'https://cdn2.ettoday.net/images/3796/d3796366.jpg', 'ariticle_emotion': 'negative', 'label': 'green', 'abstract': '王金平28日赴銘傳大學演講「國會秘辛與政治傳播」，從兩岸、國內情勢與貿易解析台灣問題，兩岸部分他表示，九二共識很多人解讀不一樣，但目前大陸就是認為說執政黨沒有承認九二共識，因此不多所往來，且開始對於台灣各方面給予不滿意的政策、各方面的措施，加上台灣也是去中國化去得很厲害，是兩岸緊張的原因，他建議政府要想辦法改善兩岸關係，坐下來磋商不要阻礙台灣發展，否則累積下去會有問題'})\n",
      "\n",
      "\n",
      "Now sending data to MySQL!\n",
      "Error message : Data was sent to MySQL unsuccessfully!!\n",
      "Now sending data to elasticsearch!\n",
      "Error message: Data was sent to elasticsearch unsuccessfully!!\n",
      "topic=politics_news, partition=0, offset=7 : (key=ettoday, value={'source': 'ETtoday', 'url': 'https://www.ettoday.net/news/20181228/1342917.htm', 'title': '淡海輕軌不打烊！跨年夜通宵營運39.5小時', 'date_': '2018/12/28 15:33', 'author': ['政治中心'], 'content': '為了讓民眾好好跨年，淡海輕軌在12月31日跨年夜通霄營運，連續39.5小時不打烊，自當天上午6時30分起至108年1月1日晚間10時止，另外公車業者也會在當天晚間10時開始加密班次，部分路線將延後收班時間，並視人潮狀況全部輸運完成再收班。新北市交通局協調公車業者配合，將新北市境內與捷運站銜接的公車及快速公車，延後到凌晨1時發末班車，另外淡水地區紅26延後到凌晨2時收班，紅27、紅37、894Y則延後到凌晨2時30分收班。新北市政府表示，元旦假期除有升旗典禮活動外，三環三線中的淡海輕軌綠山線（紅樹林站至崁頂站）亦於24日起開放民眾免費搭乘1個月，免費搭乘期間由上午6時30分發車至晚間10時，不分離、尖峰時間，每15分鐘一班車。捷運局指出，每一站月台上都設有幾米創作的立體特色雕塑，歡迎市民跨年夜搭乘淡海輕軌，讓可愛的幾米藝術作品陪跨年，體驗全新感受。淡海輕軌是北台灣第一條輕軌路線，初期營運里程7.3公里共11座車站，從紅樹林站至終點崁頂站，在紅樹林站銜接捷運淡水線，每列車共5節車廂，單趟最多載運265人，車廂外型採用以海為意象的流線設計，車廂內部加大觀景車窗與無障礙空間，讓乘客坐起來舒適，可沿線欣賞觀音山、淡水河景等美麗景致。', 'kw': ['晚間', '公車', '30', '淡海輕軌', '延後', '跨年'], 'img_url': 'https://cdn2.ettoday.net/images/3786/d3786479.jpg', 'ariticle_emotion': 'positive', 'label': 'green', 'abstract': '為了讓民眾好好跨年，淡海輕軌在12月31日跨年夜通霄營運，連續39.5小時不打烊，自當天上午6時30分起至108年1月1日晚間10時止，另外公車業者也會在當天晚間10時開始加密班次，部分路線將延後收班時間，並視人潮狀況全部輸運完成再收班'})\n",
      "\n",
      "\n",
      "Now sending data to MySQL!\n",
      "Error message : Data was sent to MySQL unsuccessfully!!\n",
      "Now sending data to elasticsearch!\n",
      "Error message: Data was sent to elasticsearch unsuccessfully!!\n",
      "topic=politics_news, partition=0, offset=8 : (key=ettoday, value={'source': 'ETtoday', 'url': 'https://www.ettoday.net/news/20181228/1342795.htm', 'title': '雙北共推「上下公車都刷卡」 最快明年7月上路', 'date_': '2018/12/28 14:58', 'author': ['李毓康攝）政治中心'], 'content': '台北市公共運輸處預計明年7月實施「上下公車都刷卡」，未來將藉由蒐集到的大數據，改善公車路線、班次的規劃，減少民眾辨識上的困擾，此為，考量到大台北交通是共同體，新北市也認同該政策，未來雙北將一起推動。北市府推動8橫8縱幹線公車已經大致完成，實施公車上下車都刷卡後，將以大數據分析民眾乘車起迄點，優化公車路線、班次，並作為未來調整支線、微循環公車路線的參考資訊，交通局長陳學台已和新北市新任交通局長鍾鳴時談過，對方對該政策表示認同，未來雙北將一起推動。該政策同時也盼減少公車司機抓逃票等困擾，不過為了避免下車沒刷卡成功而鎖卡不能再搭車等問題，一段票乘客下車刷卡將採「不強迫方式」。', 'kw': ['公車', '路線', '大數據', '未來', '推動', '雙北', '刷卡'], 'img_url': 'https://cdn2.ettoday.net/images/3096/d3096564.jpg', 'ariticle_emotion': 'positive', 'label': 'green', 'abstract': '北市府推動8橫8縱幹線公車已經大致完成，實施公車上下車都刷卡後，將以大數據分析民眾乘車起迄點，優化公車路線、班次，並作為未來調整支線、微循環公車路線的參考資訊，交通局長陳學台已和新北市新任交通局長鍾鳴時談過，對方對該政策表示認同，未來雙北將一起推動'})\n",
      "\n",
      "\n",
      "Now sending data to MySQL!\n",
      "Error message : Data was sent to MySQL unsuccessfully!!\n",
      "Now sending data to elasticsearch!\n",
      "Error message: Data was sent to elasticsearch unsuccessfully!!\n",
      "topic=politics_news, partition=0, offset=9 : (key=ettoday, value={'source': 'ETtoday', 'url': 'https://www.ettoday.net/news/20181228/1342860.htm', 'title': '公車運價引入市場競標 柯文哲：我就少了議員的政治壓力', 'date_': '2018/12/28 14:47', 'author': ['陳家祥'], 'content': '北市交通局28日在交通會尾聲時，報告未來的電動公車推動計畫。市長柯文哲表示，推行電動公車時想到的是，總有一天運價要用「標」的，訴諸市場機制的話就沒有政治壓力，「如果運價這樣訂我每次都在應付議員，因為業界去找議員來盯我們，可是我說運價用標的，那就回到市場機制，我就少了政治壓力」；電動公車也一樣，運價多少，給大家去標，願意更低的人去做，業者自己會計算。台北市首輛電動公車在今年10月底上路，按照市府規劃，預計在未來4年內引進400輛電動公車營運，優先汰換班距密集、幹線公車等；此外，現階段電動公車仍採與油車相同的每公里補貼5元，未來也將檢討電動公車營運績效，觀察長期下來油車與電動車成本差異，目標將實施差別運價。柯文哲聽完後表示，總有一天運價要用「標」的，也許業界不喜歡，但引進競爭機制、訴諸市場機制的話，就不會有政治壓力，「如果運價每次這樣訂我每次都在應付議員，因為業界去找議員來盯我們，可是我說運價用標的，那就回復市場機制，我就少了政治壓力」；柯笑說，所以我們在電動公車的時候，我內心還有一個目的，要把運價市場化，「我都直接講我的陰謀了。」一旁的祕書長張哲揚則表示，換電動公車是既定政策，但需注意的是穩定發展、服務是很穩定；此外，要建立運價公式，目前是用既有的運價公式去加，「整個電動公車的價錢跟燃油公車的運價計算會不一樣，議會審議會攻這點，應該預做準備」。張說，電動公車的推行上是用買服務、用標的方式，這樣才會說那底價可以有一個參考，不然大家雖然用標的，但那底價不合理的話，其實整個做起來是很困難。柯文哲接著表示，反正終有一天慢慢柴油車會不用，所以要開始改電動公車的時候，這次就要導入市場機制，「我覺得不用設時程表，現在就幹線公車、8橫8縱優先」，最後運價還是要回歸市場機制，不然沒有辦法解決政治上的壓力」。柯說，推動電動公車時要把買服務的精神，第二個是市場競爭的精神，如果沒有回到市場競爭，永遠都會有政治壓力，而且那很難應付，市場機制的話就好辦。」柯文哲認為，只要訂一個採購標，符合規格，剩下是價格標，妥善率多少，「這樣會保持那條線的活性，這條路我沒有強迫要改電動車，你也可以跑柴油車」；柯強調，真正的目的是帶進市場機制，「目前的運價方式我們永遠沒辦法對抗政治壓力，太麻煩了，如果用市場機制，那反客為主，變你們自己要去競爭。」「電動公車是勢在必行，但也不要設時程表。」柯文哲說，殺頭生意有人做賠錢生意沒人做，划不來的事不要叫業者做，不然又叫你補助他，「所以現在先想說什麼幾年幾輛，坦白說，4年400輛，這我不是很贊成，因為你把自己卡死，電動公車是要做，對我們來講是這樣，有錢就多做沒錢就少做。」交通局長陳學台事後表示，市長所說的政治壓力，是指公車運價需要送台北市議會審議，若用標的，可能就不用再送議會，但就算電動公車運價公式改變，也不會影響民眾搭乘公車的票價，況且機制都還沒有想出來，還需要長期的討論。', 'kw': ['電動', '壓力', '公車', '運價', '柯文哲', '綠運輸', '台北市', '市場機制', '柯P', '電動公車'], 'img_url': 'https://cdn2.ettoday.net/images/3794/d3794973.jpg', 'ariticle_emotion': 'negative', 'label': 'green', 'abstract': '市長柯文哲表示，推行電動公車時想到的是，總有一天運價要用「標」的，訴諸市場機制的話就沒有政治壓力，「如果運價這樣訂我每次都在應付議員，因為業界去找議員來盯我們，可是我說運價用標的，那就回到市場機制，我就少了政治壓力」'})\n",
      "\n",
      "\n",
      "Now sending data to MySQL!\n",
      "Error message : Data was sent to MySQL unsuccessfully!!\n",
      "Now sending data to elasticsearch!\n",
      "Error message: Data was sent to elasticsearch unsuccessfully!!\n",
      "topic=politics_news, partition=0, offset=10 : (key=ettoday, value={'source': 'ETtoday', 'url': 'https://www.ettoday.net/news/20181228/1342797.htm', 'title': '「掉芝麻」又是幹話！ 他求蘇貞昌：拜託換掉張景森', 'date_': '2018/12/28 14:20', 'author': ['政治中心'], 'content': '針對越南旅客152人逃逸一事，主責新南向觀光政策的政委張景森27日以「吃燒餅哪有不掉芝麻的？」為題做解釋，對此，國民黨文傳會副主委洪孟楷直批，「這不是幹話、什麼才算幹話？」如果蘇貞昌上台組閣，「我誠摯地拜託，請第一個換掉張景森」。近日蘇貞昌組閣的傳言四起，洪孟楷28日在臉書表示，若蘇貞昌真的上任，希望換掉張景森，「並非私怨，而是過去有太多令人惱怒的發言，不換掉他，再換一百個行政院長恐怕也是徒勞無功。」洪孟楷說，張景森過去已經有很多爭議發言，這次再為152名越南客團卻逃跑只剩一人事件說出「吃燒餅哪有不掉芝麻」的辯解，言下之意這次事件只是芝麻綠豆小事，無需大驚小怪，然而152人跑走了151人，目前下落未明，「張政委，你這是整塊燒餅掉在地，手上只剩一粒芝麻呀！」洪孟楷表示，自己跟張景森完全不認識，也沒任何私怨，完全是就事論事；張過去曾說「百貨公司中午不營業以節省能源」、「夾腳拖列為台灣的正式服裝」、還曾想把國旅卡刷卡限額的八千元，用在配合國內觀光旅遊上，這些全都是政委亂放火、讓部會急滅火，「如今狂言再一樁，這不是幹話、什麼才算幹話？」洪孟楷最後喊話蘇貞昌，「如果真能充分人士被授權，拜託！請換掉張景森，蔡英文政府已經火燒屁股，實在不需要再來個政委天天放火，這樣白目，只是對人民火上加油！」張景森27日則在臉書以「吃燒餅哪有不掉芝麻的？」為題，反擊近日各界對觀宏專案的批評，他說陸客開放初期，逾期滯留人數曾高達千分之6，但這幾年來以觀宏專案入境的東南亞觀光客共有22萬6千人，違規人數只有414人，每千人違規人數1.8人，比吃燒餅掉的芝麻還少。行政院長賴清德28日在年終記者會上指出，觀宏專案執行4年多，越南客共失聯500多位，這次一口氣失蹤152人，問題非常嚴重，被外界視為打臉張景森的言論。', 'kw': ['燒餅', '152', '幹話', '洪孟楷', '張景森', '蘇貞昌'], 'img_url': 'https://cdn2.ettoday.net/images/3533/d3533559.jpg', 'ariticle_emotion': 'negative', 'label': 'green', 'abstract': '」洪孟楷說，張景森過去已經有很多爭議發言，這次再為152名越南客團卻逃跑只剩一人事件說出「吃燒餅哪有不掉芝麻」的辯解，言下之意這次事件只是芝麻綠豆小事，無需大驚小怪，然而152人跑走了151人，目前下落未明，「張政委，你這是整塊燒餅掉在地，手上只剩一粒芝麻呀'})\n",
      "\n",
      "\n",
      "Now sending data to MySQL!\n",
      "Error message : Data was sent to MySQL unsuccessfully!!\n",
      "Now sending data to elasticsearch!\n",
      "Error message: Data was sent to elasticsearch unsuccessfully!!\n",
      "topic=politics_news, partition=0, offset=11 : (key=ettoday, value={'source': 'ETtoday', 'url': 'https://www.ettoday.net/news/20181228/1342796.htm', 'title': '柯文哲「拒答問題」 王世堅反擊：市民不是選你當皇帝！', 'date_': '2018/12/28 13:52', 'author': ['政治中心'], 'content': '台北市長柯文哲與市議員王世堅之間再度隔空交火，柯文哲28日直言，「以後我們都拒絕回答有關他的問題」、「常常愛的相反不是恨，愛的相反是冷漠」。對此，王世堅在臉書反擊，「市民是選你當市長不是選你當皇帝！」。王世堅表示，監督不分藍綠白，民主政治監督制衡，並不是個人好惡、愛恨情仇的問題！當市長就是要被監督，「柯文哲你無法逃避、閃躲市民與議會對你的監督與質疑！」王世堅認為，民主政治中監督制衡是天經地義的事情，「市民是選你當市長不是選你當皇帝！市民選我當市議員是要我監督市府，不是跟市長當朋友，更不是當市長的啦啦隊！」王世堅強調，面對馬英九、郝龍斌、柯文哲三位市長，「打馬、屠龍、砍活寶」始終如一；陳水扁擔任總統民進黨中央執政時，他擔任立委也是同樣的態度，「這是民眾投票給我所託付的重責大任！也是民意代表應有的態度！」王世堅最後喊話，「柯文哲如果怕熱就不要進廚房！躲得了一時，躲不了一世，明年新會期，大家議場見！」王世堅日前自比是十字架，直指柯文哲是魔鬼、柯都這麼拜託了，「就不要在魔鬼面前拿出十字架」。對此，柯文哲28日直言，「以後我們都拒絕回答有關他的問題」、「常常愛的相反不是恨，愛的相反是冷漠」。隨著九合一大選結束，議會與市政工作開始陸續上軌道，王世堅25日PO文談到柯文哲第二任期將展開，「忠告」柯文哲「不在其位不謀其政」，痛批柯在兩岸問題上逾越中央政府職權，掩飾市政施政荒腔走板。對此，柯文哲不滿回應「中央可以做的事就拿去做，也不會跟他們搶著去做那些事」，並再度請媒體「不要在我面前提這個人好不好？」接著，王世堅則反擊，「柯文哲這個魔鬼，最怕碰到王世堅這個十字架」，所柯文哲才「懇求」媒體別在他面前提，並要媒體切記「在魔鬼面前不要拿出十字架」。', 'kw': ['柯文哲', '王世堅', '台北市長', '監督', '愛的', '市長'], 'img_url': 'https://cdn2.ettoday.net/images/3722/d3722997.jpg', 'ariticle_emotion': 'negative', 'label': 'green', 'abstract': '台北市長柯文哲與市議員王世堅之間再度隔空交火，柯文哲28日直言，「以後我們都拒絕回答有關他的問題」、「常常愛的相反不是恨，愛的相反是冷漠」'})\n",
      "\n",
      "\n",
      "Now sending data to MySQL!\n",
      "Error message : Data was sent to MySQL unsuccessfully!!\n",
      "Now sending data to elasticsearch!\n",
      "Error message: Data was sent to elasticsearch unsuccessfully!!\n"
     ]
    },
    {
     "name": "stdout",
     "output_type": "stream",
     "text": [
      "topic=politics_news, partition=0, offset=12 : (key=ettoday, value={'source': 'ETtoday', 'url': 'https://www.ettoday.net/news/20181228/1342746.htm', 'title': '蘇貞昌「穿越時空」自打臉 回鍋行政院因一張照片被嗆爆', 'date_': '2018/12/28 12:34', 'author': ['政治中心'], 'content': '前行政院長蘇貞長傳出將回鍋，接棒閣揆賴清德。不過，蘇貞昌3個月前接受媒體專訪時，曾稱「不會再入閣」，這次「穿越時空」自打臉，引發熱議。民進黨九合一大選慘敗，賴清德隨即請辭負責遭慰留，但他辭意堅定，日前就曾表示「時間一到會離開」，而今蘇貞昌被爆將重掌行政院，最快1月總預算案後就會上任。據了解，行政院秘書長卓榮泰參選黨主席後，黨內已經開始啟動布局，包括部分縣市一級主管在內的蘇的子弟兵，也紛紛請辭或未上任，日前已在政壇傳得沸沸揚揚，蘇內閣上任已經呼之欲出。不過，當初接受民進黨徵召參選新北市長的蘇貞昌，曾在9月接受媒體專訪時，對於未來若競選失利是否將到行政院「服務更多民眾」，他堅定的說，「我都組閣過了，不會再入閣了！」沒想到今卻傳出「賴下蘇上」，引來網友狂酸，「正都騙過神明了，再騙人一次也沒差」、「原來選輸就有行政院長可當」、「連敗選都能升官的候選人真令人羨慕」。對於蘇貞昌任行政院長，府院未多做回應，強調沒有相關訊息。蘇貞昌陣營則重申，尊重賴院長的想法。', 'kw': ['上任', '行政院長', '民進黨', '賴清德', '蘇貞昌', '行政院'], 'img_url': 'https://cdn2.ettoday.net/images/3713/d3713882.jpg', 'ariticle_emotion': 'negative', 'label': 'green', 'abstract': '不過，當初接受民進黨徵召參選新北市長的蘇貞昌，曾在9月接受媒體專訪時，對於未來若競選失利是否將到行政院「服務更多民眾」，他堅定的說，「我都組閣過了，不會再入閣了'})\n",
      "\n",
      "\n",
      "Now sending data to MySQL!\n",
      "Error message : Data was sent to MySQL unsuccessfully!!\n",
      "Now sending data to elasticsearch!\n",
      "Error message: Data was sent to elasticsearch unsuccessfully!!\n",
      "topic=politics_news, partition=0, offset=13 : (key=ettoday, value={'source': 'ETtoday', 'url': 'https://www.ettoday.net/news/20181228/1342754.htm', 'title': '童仲彥與蕾濕編關係不簡單！「黑絲襪照」遭酸裝清純 阿童怒嗆告', 'date_': '2018/12/28 12:31', 'author': ['政治中心'], 'content': '台北市前議員童仲彥嫩妹小編「蕾濕編」萌照曝光，讓大批網友超興奮，但不免引來一些酸民的言語，讓童仲彥發文揚言一定提告。童仲彥歷經家暴風波退出民進黨，依舊力推性專區，近日在臉書表示已成立台北市性專區推動協會，自封「黃色力量第一代」，盼「有志之士」一起登記參加。童仲彥27日則PO出小編的廬山真面目，甜美模樣馬上引來許多網友簽到。「蕾濕編」也在臉書透露，自己1月份就會回到童仲彥那邊，之後會開直播、發垃圾文，當個乖學生兼打工仔，希望新的一年大家多多指教。網友紛紛表示，「阿童我愛你」、「了不起，小編，這很可以」、「蕾濕編令人雀躍」、「可惡 阿童還缺員工嗎」、「阿童我認真要跟隨你」。另外也有網友發文「一看就被他X過了還在那裝清純」，讓童仲彥相當憤怒的發文說「操什麼操？操屁呀？我一定告你們」、「她是我女朋友的妹妹」。蕾濕編也在粉專發文說「我是阿童女友的妹妹啦 不是各位想的那種 很謝謝阿童給我機會工作 讓我這個菜雞見到世面了」。', 'kw': ['童仲彥', '濕編', '阿童', '小編', '網友', '蕾濕編'], 'img_url': 'https://cdn2.ettoday.net/images/3795/d3795398.jpg', 'ariticle_emotion': 'positive', 'label': 'green', 'abstract': '台北市前議員童仲彥嫩妹小編「蕾濕編」萌照曝光，讓大批網友超興奮，但不免引來一些酸民的言語，讓童仲彥發文揚言一定提告'})\n",
      "\n",
      "\n",
      "Now sending data to MySQL!\n",
      "Error message : Data was sent to MySQL unsuccessfully!!\n",
      "Now sending data to elasticsearch!\n",
      "Error message: Data was sent to elasticsearch unsuccessfully!!\n",
      "topic=politics_news, partition=0, offset=14 : (key=ettoday, value={'source': 'ETtoday', 'url': 'https://www.ettoday.net/news/20181228/1342623.htm', 'title': '看板爭議白綠互槓 陳思宇嗆：民眾要看的是比能力不是比台幣', 'date_': '2018/12/28 12:16', 'author': ['潘永鴻'], 'content': '台北市立委補選，陳思宇議員父親陳建銘臉書PO文嗆民進黨立委參選人何志偉故意把選舉看板設在自己總部旁，「我知道你很有錢啦！不必用這種方式表現」此舉卻讓何志偉相當不滿便解釋，看版是支持者自動自發掛上。陳思宇28日上午至太平市場掃街表示，自己建立新的政治文化，不插旗子、設置看板，更酸說候選人在選舉之中，「民眾要看的是比能力，不是比台幣。」陳思宇表示，希望在選舉建立是新的政治文化，也就是不插旗子、設置看板，這才是具體降低青年參政的門檻，候選人在選舉之中，「民眾要看的是比能力，不是比台幣」，先前自己在觀光旅遊的政策，今年台北市榮獲非常多獎項，最佳城市排名，CNN獲選台北市跨年景點之一，在這場選舉當中，應該要比的是候選人的能力，而不是財力。媒體詢問，何時與台北市長柯文哲合體，陳思宇表示，跟市長的合體陸陸續續都有再談，選舉應該是一件非常開心的事情，透過日常生活化，比如像昨天直播，走路市場的小吃，介紹自己愛吃的士林美食，選舉可以變成自己的專長，比如在行銷、觀光上面，市長的部分也極力的邀請他。陳思宇說，邀請的部分，都有再談，「也請大家讓我賣個關子」，到時候市長一定會用最貼近民眾的距離與方式，和大家見面。', 'kw': ['看板', '選舉', '候選人', '立委補選', '民眾', '陳思宇'], 'img_url': 'https://cdn2.ettoday.net/images/3795/d3795051.jpg', 'ariticle_emotion': 'positive', 'label': 'green', 'abstract': '」陳思宇表示，希望在選舉建立是新的政治文化，也就是不插旗子、設置看板，這才是具體降低青年參政的門檻，候選人在選舉之中，「民眾要看的是比能力，不是比台幣」，先前自己在觀光旅遊的政策，今年台北市榮獲非常多獎項，最佳城市排名，CNN獲選台北市跨年景點之一，在這場選舉當中，應該要比的是候選人的能力，而不是財力'})\n",
      "\n",
      "\n",
      "Now sending data to MySQL!\n",
      "Error message : Data was sent to MySQL unsuccessfully!!\n",
      "Now sending data to elasticsearch!\n",
      "Error message: Data was sent to elasticsearch unsuccessfully!!\n",
      "topic=politics_news, partition=0, offset=15 : (key=ettoday, value={'source': 'ETtoday', 'url': 'https://www.ettoday.net/news/20181228/1342686.htm', 'title': '暗酸陳炳甫帶職參選？ 陳思宇：是社會共同質疑', 'date_': '2018/12/28 12:14', 'author': ['潘永鴻'], 'content': '台北市立委補選競爭如火如荼，「柯家軍」陳思宇先前在臉書暗酸國民黨對手陳炳甫，抱著「吃碗內，看碗外」的心態帶職參選，對選民有何交代。陳思宇28日表示，「我想這個應不是我個人名義，是社會一個共同質疑，當然對自己來說，要建立一個新的政治文化，就是辭職參選，不管對手如何，只要對得起選民，以及負責，這才是負責人的政治文化。」陳思宇在臉書貼文，指帶職參選勢必無法善盡職責，身為議員，應該是要在投入選舉時請辭，被外界解讀暗酸剛順利連任議員、投入立委補選的國民黨參選人陳炳甫。對此，她今早在太平市場掃街表示，非個人名義，是社會共同質疑，自己要建立新的政治文化，就是辭職參選。面對陳思宇暗酸，陳炳甫日前表示，「如果柯文哲知道白色力量柯家軍的政治新文化，還是用暗諷、攻擊這樣的方式，柯文哲應該會很難過甚至生氣。」陳思宇今天表示，這部分還是秉持自己的想法，建立一個新的政治文化，而且是負責任的政治文化，市長如何想應該要問市長。自己不知道市長的想法是什麼，對於自己的出現，就是要把新的政治文化帶到國會裡面，相信這也是選民對白色力量的一個期待，公開透明降低青年參政的門檻，還有改變新的政治文化，都是參政訴求。', 'kw': ['參選', '政治文化', '一個', '陳思宇', '陳炳甫', '陳炳'], 'img_url': 'https://cdn2.ettoday.net/images/3795/d3795052.jpg', 'ariticle_emotion': 'negative', 'label': 'green', 'abstract': '陳思宇28日表示，「我想這個應不是我個人名義，是社會一個共同質疑，當然對自己來說，要建立一個新的政治文化，就是辭職參選，不管對手如何，只要對得起選民，以及負責，這才是負責人的政治文化'})\n",
      "\n",
      "\n",
      "Now sending data to MySQL!\n",
      "Error message : Data was sent to MySQL unsuccessfully!!\n",
      "Now sending data to elasticsearch!\n",
      "Error message: Data was sent to elasticsearch unsuccessfully!!\n",
      "topic=politics_news, partition=0, offset=16 : (key=ettoday, value={'source': 'ETtoday', 'url': 'https://www.ettoday.net/news/20181228/1342682.htm', 'title': '8千張春聯被搶光！高嘉瑜嚇壞 加碼再送「收藏用」電子檔', 'date_': '2018/12/28 11:53', 'author': ['政治中心'], 'content': '被封為「港湖吸票機」的民進黨台北市議員高嘉瑜高票連任，人氣水漲船高，日前公布「抱豬甜笑款」及「眼球運動款」的春聯再讓網友暴動，短短3小時就送出8000份，讓高嘉瑜坦言同仁都嚇到吃手手，並說目前已經沒辦法再追加提供寄送，但仍開放部分自取，她也會在服務處發送，另外上傳電子檔，讓想要收藏的民眾下載。高嘉瑜日前在臉書上傳4張照片，身穿黃色七分袖V領、綁著招牌公主頭，對鏡頭嘟嘴微笑，除了學台北市長柯文哲的招牌「抓頭」姿勢外，更有選前在台北市長落選人姚文智造勢晚會備受討論的「眼球運動」，當時還詢問網友喜歡哪張照片放春聯，最後則選定「抱豬甜笑款」及「眼球運動款」。超萌春聯樣品照一曝光馬上引來網友瘋搶，高嘉瑜表示，往年外縣市春聯大概準備6、700份，今年3小時內就有8000份要寄送，讓辦公室同仁嚇壞，希望外縣市的朋友見諒，現在已經沒辦法再追加提供寄送，春聯印好公告後可以在她的服務處或里長辦公室索取，自己也會親自發送，但數量有限，發完為止。不過，高嘉瑜仍貼心上傳春聯電子檔，提供給想收藏的民眾，不少網友則喊，「我想去你的服務處拿100張」、「太夯啦♥」、「真香，啊不是 XDDDD」。', 'kw': ['運動', '服務處', '民進黨', '春聯', '姚文智', '網友', '高嘉瑜'], 'img_url': 'https://cdn2.ettoday.net/images/3795/3795273.jpg', 'ariticle_emotion': 'positive', 'label': 'green', 'abstract': '被封為「港湖吸票機」的民進黨台北市議員高嘉瑜高票連任，人氣水漲船高，日前公布「抱豬甜笑款」及「眼球運動款」的春聯再讓網友暴動，短短3小時就送出8000份，讓高嘉瑜坦言同仁都嚇到吃手手，並說目前已經沒辦法再追加提供寄送，但仍開放部分自取，她也會在服務處發送，另外上傳電子檔，讓想要收藏的民眾下載'})\n",
      "\n",
      "\n",
      "Now sending data to MySQL!\n",
      "Error message : Data was sent to MySQL unsuccessfully!!\n",
      "Now sending data to elasticsearch!\n",
      "Error message: Data was sent to elasticsearch unsuccessfully!!\n",
      "topic=politics_news, partition=0, offset=17 : (key=ettoday, value={'source': 'ETtoday', 'url': 'https://www.ettoday.net/news/20181228/1342497.htm', 'title': '童仲彥召喚嫩妹小編 網友一看萌照暴動求上車', 'date_': '2018/12/28 11:11', 'author': ['政治中心'], 'content': '台北市議員童仲彥因酒駕宣布退出2018九合一大選，日前已正式卸任，但仍積極推動性專區，已成立台北市性專區推動協會，今再曬出嫩妹小編「蕾濕編」的萌照，讓大批網友超興奮，狂問「還有沒有缺員工？」、「我要上車」。童仲彥歷經家暴風波退出民進黨，依舊力推性專區，近日在臉書表示已成立台北市性專區推動協會，自封「黃色力量第一代」，盼「有志之士」一起登記參加。童仲彥27日則PO出小編的廬山真面目，甜美模樣馬上引來許多網友簽到。「蕾濕編」也在臉書透露，自己1月份就會回到童仲彥那邊，之後會開直播、發垃圾文，當個乖學生兼打工仔，希望新的一年大家多多指教。網友紛紛表示，「阿童我愛你」、「了不起，小編，這很可以」、「蕾濕編令人雀躍」、「可惡 阿童還缺員工嗎」、「阿童我認真要跟隨你」。', 'kw': ['童仲彥', '濕編', '性專區', '小編', '網友'], 'img_url': 'https://cdn2.ettoday.net/images/3795/d3795117.jpg', 'ariticle_emotion': 'positive', 'label': 'green', 'abstract': '台北市議員童仲彥因酒駕宣布退出2018九合一大選，日前已正式卸任，但仍積極推動性專區，已成立台北市性專區推動協會，今再曬出嫩妹小編「蕾濕編」的萌照，讓大批網友超興奮，狂問「還有沒有缺員工'})\n",
      "\n",
      "\n",
      "Now sending data to MySQL!\n",
      "Error message : Data was sent to MySQL unsuccessfully!!\n",
      "Now sending data to elasticsearch!\n",
      "Error message: Data was sent to elasticsearch unsuccessfully!!\n",
      "topic=politics_news, partition=0, offset=18 : (key=ettoday, value={'source': 'ETtoday', 'url': 'https://www.ettoday.net/news/20181228/1341570.htm', 'title': 'ET民調／士林大同立委補選 陳炳甫32%奪冠 何志偉第二 ', 'date_': '2018/12/28 11:00', 'author': ['政治中心'], 'content': '民進黨的姚文智九合一大選前為搶台北市長辭去第二選區（士林大同）立委，面對明年1月27日補選，白藍綠三方紛紛搶進，其中，被視為「柯家軍」的前台北市觀傳局長陳思宇與民進黨前議員何志偉戰火更是激烈，而根據《ETtoday新聞雲》最新民調結果顯示，目前國民黨的陳炳甫反殺出重圍，獲得三成二支持度，領先其他參選人均達7個百分點以上。此次北市立委補選除了陳思宇、陳炳甫、何志偉三人的競爭受到矚目外，其實還有無黨籍的王奕凱與全民無黨聯盟陳源奇投入參選。《ETtoday新聞雲》於2018年12月21日至12月25日透過網路與電話訪問調查，進行「台北市第2選區立委補選調查」，共計完成1,287份有效樣本。調查結果發現，有32.0%受訪者會投票給國民黨陳炳甫，24.5%會投給民進黨何志偉，15.5%會投給無黨籍陳思宇，另2位無黨籍的王奕凱及全民無黨聯盟的陳源奇支持度均未超過5%。在進一步與受訪者的基本資料交叉分析後發現，陳炳甫在男性及女性、40~59歲、大同區等族群均獲得相對較高的支持，若從政黨傾向來看，陳炳甫也獲得本身國民黨認同者八成三的高度支持；不過，在政黨傾向中立者的支持度，則呈現陳炳甫、何志偉及陳思宇三強鼎立的態勢。另外，針對是否會在投票當天去投票的問題，有高達83.5%受訪者表示會去投票(一定會58.6%、可能會24.9%)，12.7%受訪者表示不一定，3.9%受訪者明確表示不會。本次民調由《ETtoday新聞雲》民調中心，負責問卷設計、調查執行、資料處理、統計分析及報告撰寫。調查期間於2018年12月21日至12月25日進行，調查方法是結合「網路調查」及「電腦輔助電話調查」進行，以設籍台北市立委第2選區(大同區及士林區仁勇里等38里)年滿20歲以上民眾為調查範圍及對象，網路調查是針對50歲及以下，電話調查是針對51歲及以上；調查回收有效樣本數為1,287份，抽樣誤差在95%信心水準下，為正負2.7%。進行統計分析之前，原始資料先依內政部最新人口統計資料(107年11月底)進行性別、年齡、地區樣本加權，以符合台北市立委第2選區(大同區及士林區仁勇里等38里)20歲以上人口之母體結構，使本調查具有代表性。', 'kw': ['民調', '國民黨', '進行', '受訪者', '柯文哲', '民進黨', '何志偉', '調查', '陳思宇', '立委', '陳炳甫', '陳炳'], 'img_url': 'https://cdn2.ettoday.net/images/3793/d3793244.jpg', 'ariticle_emotion': 'negative', 'label': 'green', 'abstract': '民進黨的姚文智九合一大選前為搶台北市長辭去第二選區（士林大同）立委，面對明年1月27日補選，白藍綠三方紛紛搶進，其中，被視為「柯家軍」的前台北市觀傳局長陳思宇與民進黨前議員何志偉戰火更是激烈，而根據《ETtoday新聞雲》最新民調結果顯示，目前國民黨的陳炳甫反殺出重圍，獲得三成二支持度，領先其他參選人均達7個百分點以上'})\n",
      "\n",
      "\n",
      "Now sending data to MySQL!\n",
      "Error message : Data was sent to MySQL unsuccessfully!!\n",
      "Now sending data to elasticsearch!\n",
      "Error message: Data was sent to elasticsearch unsuccessfully!!\n"
     ]
    },
    {
     "name": "stdout",
     "output_type": "stream",
     "text": [
      "topic=politics_news, partition=0, offset=19 : (key=ettoday, value={'source': 'ETtoday', 'url': 'https://www.ettoday.net/news/20181228/1342637.htm', 'title': '陳思宇左打藍右踢綠 柯文哲：選舉就罵來罵去我覺得很煩', 'date_': '2018/12/28 11:00', 'author': ['陳家祥'], 'content': '立委補選選情激化，「柯家軍」陳思宇不只和民進黨籍候選人何志偉吵得兇，27日還隔空叫陣帶職選立委的陳炳府要「全心投入選戰」，引發外界討論。比對過去市長選舉期間，柯文哲秉持不主動攻擊對手的策略，強調要有新的政治文化，陳思宇的策略與老闆差異很大。對此，柯表示，「啊選舉不是這樣？就是罵來罵去」，直言選舉他也覺得很煩，不曉得選舉應該怎麼選。媒體追問，目前陳思宇選舉看不出統一的戰術，一直罵人是否不符合原則？柯文哲說，「我覺得…，我也不知道，老實講2018選舉檢討報告還沒寫完。」至於昨說每天都在儲備能量，未來是否會成立智囊進攻2020總統大位？柯文哲未正面回答，反問記者，「智囊團你要參加嗎？」', 'kw': ['國民黨', '選舉', '柯文哲', '覺得', '民進黨', '台北市', '何志偉', '陳思宇', '柯P', '立委', '陳炳甫'], 'img_url': 'https://cdn2.ettoday.net/images/3794/d3794962.jpg', 'ariticle_emotion': 'negative', 'label': 'green', 'abstract': '比對過去市長選舉期間，柯文哲秉持不主動攻擊對手的策略，強調要有新的政治文化，陳思宇的策略與老闆差異很大'})\n",
      "\n",
      "\n",
      "Now sending data to MySQL!\n",
      "Error message : Data was sent to MySQL unsuccessfully!!\n",
      "Now sending data to elasticsearch!\n",
      "Error message: Data was sent to elasticsearch unsuccessfully!!\n",
      "topic=politics_news, partition=0, offset=20 : (key=ettoday, value={'source': 'ETtoday', 'url': 'https://www.ettoday.net/news/20181228/1342618.htm', 'title': '賴清德等同兩年前朱立倫 名嘴：蔡英文選2020柯文哲必出馬', 'date_': '2018/12/28 10:55', 'author': ['陳家祥'], 'content': '唐湘龍27日在TVBS政論節目《少康戰情室》上說，蔡英文就任一年後現象就確定，民調趨勢惡化一直沒改變，且缺口越來越大，現象很清楚，已創下台灣憲政史上新紀錄，就任一年聲望跌到三成，黨內強勢替代者「虎視眈眈」，連任危機空前，他強調賴清德應該出來選2020，不要做出錯誤判斷。唐湘龍進一步分析，賴清德太像兩年前的朱立倫，儘管賴揆角逐2020總統的當選機率，和兩年多前的朱一樣，但勿忘當年「換柱」，國民黨原先推派的總統候選人洪秀柱若繼續選，連立委輔選都動不了。蔡英文若出馬，立委選舉會敗得很慘，民進黨立委參選人當然希望「黨內有大隻母雞，即便犧牲了，給小雞長大是必要的。」唐斷言，若蔡英文2020出來，柯文哲一定選總統，立委會著蔡還是柯？總統投柯，請問立委要投誰？民進黨立委當然跟著柯文哲。《少康戰情室》主持人趙少康也說，賴清德現在的心情跟兩年多前朱立倫心情差不多，賴揆可能認為「我輸也是輸」，乾脆養精蓄銳、儲存能量，適時再衝出來。民進黨立委羅致政則說，當下民進黨還沒走出敗選陰霾，可能的總統候選人與政黨認同低，但政治是動態的關係，國民黨若由黨主席吳敦義出線，結果就不一樣了，兩黨的黨內初選還有變數，就此論斷2020民進黨沒機會太早了。', 'kw': ['蔡英文', '民進黨', '出來', '賴清德', '朱立倫', '2020', '立委'], 'img_url': 'https://cdn2.ettoday.net/images/3795/d3795058.jpg', 'ariticle_emotion': 'negative', 'label': 'green', 'abstract': '唐湘龍27日在TVBS政論節目《少康戰情室》上說，蔡英文就任一年後現象就確定，民調趨勢惡化一直沒改變，且缺口越來越大，現象很清楚，已創下台灣憲政史上新紀錄，就任一年聲望跌到三成，黨內強勢替代者「虎視眈眈」，連任危機空前，他強調賴清德應該出來選2020，不要做出錯誤判斷'})\n",
      "\n",
      "\n",
      "Now sending data to MySQL!\n",
      "Error message : Data was sent to MySQL unsuccessfully!!\n",
      "Now sending data to elasticsearch!\n",
      "Error message: Data was sent to elasticsearch unsuccessfully!!\n",
      "topic=politics_news, partition=0, offset=21 : (key=ettoday, value={'source': 'ETtoday', 'url': 'https://www.ettoday.net/news/20181228/1342496.htm', 'title': '年後衝刺2020！朱立倫已找好競選辦公室', 'date_': '2018/12/28 10:34', 'author': ['政治中心'], 'content': '國民黨九合一大選大勝，重返執政之路贏來曙光，有意角逐2020總統大位者蠢蠢欲動，卸任新北市長的朱立倫率先表態，目前也已經找好競選辦公室，預備年後衝刺。新北市政府25日舉行新任市長及各機關首長宣誓就職典禮，昔日的副市長侯友宜正式接棒，會後朱立倫受訪表示，「2020是民眾期待的，我的目標也很清楚，2020為台灣打拼」，並稱不會拘泥競選辦公室的形式，但會有一個工作室，一切都在籌劃當中。據《蘋果日報》報導，朱立倫已經找好地點，但先以陪伴家人為重，之後會再宣布競選辦公室地點，並重新召集團隊，為2020正式準備。面對朱立倫投入2020選舉，國民黨主席吳敦義被問到自己何時宣布，當下說不出話來，最後才擠出一句話回應，「我不知道，所以不予回應」。', 'kw': ['國民黨', '吳敦義', '競選辦公室', '已經', '朱立倫', '2020', '總統府'], 'img_url': 'https://cdn2.ettoday.net/images/3787/d3787232.jpg', 'ariticle_emotion': 'positive', 'label': 'blue', 'abstract': '新北市政府25日舉行新任市長及各機關首長宣誓就職典禮，昔日的副市長侯友宜正式接棒，會後朱立倫受訪表示，「2020是民眾期待的，我的目標也很清楚，2020為台灣打拼」，並稱不會拘泥競選辦公室的形式，但會有一個工作室，一切都在籌劃當中'})\n",
      "\n",
      "\n",
      "Now sending data to MySQL!\n",
      "Error message : Data was sent to MySQL unsuccessfully!!\n",
      "Now sending data to elasticsearch!\n",
      "Error message: Data was sent to elasticsearch unsuccessfully!!\n",
      "topic=politics_news, partition=0, offset=22 : (key=ettoday, value={'source': 'ETtoday', 'url': 'https://www.ettoday.net/news/20181228/1342368.htm', 'title': '蔡英文走向妥協「極獨崩潰」 網友鬥塔理論：只想一步勝利推主堡', 'date_': '2018/12/28 00:49', 'author': ['林彥臣'], 'content': '九合一大選後民進黨大敗，選後一系列的事件包括蔡柯會、數次迴廊談話、放行管中閔擔任台大校長等等，都被視為蔡英文展現對民意的妥協，也因此讓許多極獨著支持者崩潰。因此就有網友在PTT八卦板以「鬥塔遊戲」來比喻，政治本來就是眾多勢力妥協的結果，追求一步到位的勝利，才是造成失敗的最大原因。有網友在回應余莓莓淚罵蔡英文的討論串回應指出，政治就是眾多勢力與目標妥協的結果，趁這個機會來談談所謂獨派、同運、勞運與左膠所遇到的問題，這幾個失敗團體有一個共同的特性，「不是一步到位的勝利我不要」，用鬥塔（dota）來說，就是殺對面一個玩家  就必須要一路推爆主堡，至於穩定經濟領先  擴大優勢，趁機吃巴龍 roshan什麼的，不在他們思考的範圍，不能一路推爆主堡  是豬隊友的錯，不是這種思考的錯。以同運為例，同運的目標就是能合法結婚並且不要受到歧視，有了目標該怎麼做？gay板曾有dpp黨工這樣提到，「如果你們真的想讓這個議題過，本來最佳的策略，應該是加強盟友對你們的支持，盡可能讓你們的敵人不反對你們，但是你們目前主流派（掌握大部分聲音）的做法卻是造成降低盟友對你們的支持，並且，持續對你們的敵人進行挑釁，這就是為什麼蔡英文會苦口婆心的跟你們說，忍了這麼久，不要毀在最後一刻。她會跟你們說這個話，就表示在這個議題上，她也沒有絕對的把握。甚至戰到最後，很可能連專法都沒有。對你們而言，唯一的勝算只有一種情況，就是趁議題還沒完全燃燒，蔡英文明面上還壓得住陣腳的情況下，在最小碰觸對手底線的情況下，讓這個議案，先斬後奏趕快通過。這是唯一可能的勝算，即便如此，你們的對手還是很可能發動公投，把這個議案事後擋下來。網友進一步指出，其實在大法官釋憲剛過的時候，同運算是全面勝利的狀態，基本風向也是理性支持同志，結果號稱同運重量級人物vincent出來罵蔡英文動作太慢，「社會願意接納這議題，不代表社會欠你些甚麼」，vincent背刺蔡英文後，很多淺綠就懶得管這議題進行到哪裡去，然後已有的基礎還沒穩固取得社會認同就開修民法的戰場，最後被護家盟徹底擊倒。網友再談到勞運的部分，勞工在過去有放七天假的時候  周六是早上要出來上班上課的，要七天假，就是周六上班上課，要周休二日，就是不要想那七天，勞運目標應該在於降低工時並提升薪水，第一次勞基法修改的時候有沒有達到這目標？「就我所在的單位嘉基，在新修法規之下，終於同意全面改周休二日，並且盡量減少加班，要求門診限量以免看不完要加班，所以有沒有達到目標？有，但勞工團體有沒有給予這版本修法支援？沒有。」勞團只會出來說，「怎麼沒有七天假，這個版本爛到爆要反對，不是一步到位的勝利我不要」。勞基法修法只要給勞工玩就好？政治是妥協的過程，不是整碗端走的過程。dpp扛著金主不滿的壓力修這個版本，結果勞團噴得dpp滿臉豆花，資方也不滿，那就再修，不過上次偏勞團，勞團完全不給予支援，那就改偏資方吧，這次看看資方怎麼說話「勞基法修正 工商團體：企業勞工雙贏（2018/01/10）」資方在取得勝利的戰場率先為政府說話，勞團則打轉在七天假結果連到手的勝利都沒保住，最後的結果，就是資方的勝利  勞團連公投都搞不出來，給人看笑話主堡被拆了還是只能泡溫泉，勞團洗溫泉開心嗎？網友最後談到獨派，獨派最終理想就是台灣自主建國，要怎麼做到？現時台灣就是統獨意見紛歧，要直接獨立建國，除非獨派直接殺光統派，不然就會是一個抗戰的過程，要抗戰，要有方法有手段，老話一句，拉攏可以拉攏的盟友，限縮反對派的地盤。台獨盟友是誰？美國、偏獨立的華獨，敵人是誰？偏統的華獨、統派、中國，所以台獨要爭取美國支持，盡量讓偏統的華獨不出聲，限縮統派論述與立場運用美國打擊中國。網友說，看看蔡英文現在的做法，蔡死死的踩住中華民國，增強軍備，然後爭取美國改變態度，等待美中為了爭霸總會到來的反目，一舉擺脫中國控制，至於獨派的看法則是，「蔡英文不立刻宣布獨立我不要，噴她」，噴完了蔡英文以後怎麼推主堡？兩手一攤不知道，一起去高地送死吧。網友回應這則貼文表示，「極端派十個有七個是喊來賺自己聲望和要錢的」、「整天拿歐洲水準反觀，又不敢像歐洲人罷工」、「一堆人以為總統不需要顧及多方聲音硬推就好，那是專制國家才可以好嗎」、「超級同意你！這才是務實派！」、「完全同意這篇，激進派都是豬隊友，生雞蛋沒拉雞屎一堆」。', 'kw': ['PTT', '蔡英文', '你們', '八卦', '這個', '妥協', '鬥塔', '結果', '網友'], 'img_url': 'https://cdn2.ettoday.net/images/3771/d3771560.jpg', 'ariticle_emotion': 'negative', 'label': 'green', 'abstract': '有網友在回應余莓莓淚罵蔡英文的討論串回應指出，政治就是眾多勢力與目標妥協的結果，趁這個機會來談談所謂獨派、同運、勞運與左膠所遇到的問題，這幾個失敗團體有一個共同的特性，「不是一步到位的勝利我不要」，用鬥塔（dota）來說，就是殺對面一個玩家  就必須要一路推爆主堡，至於穩定經濟領先  擴大優勢，趁機吃巴龍 roshan什麼的，不在他們思考的範圍，不能一路推爆主堡  是豬隊友的錯，不是這種思考的錯'})\n",
      "\n",
      "\n",
      "Now sending data to MySQL!\n",
      "Error message : Data was sent to MySQL unsuccessfully!!\n",
      "Now sending data to elasticsearch!\n",
      "Error message: Data was sent to elasticsearch unsuccessfully!!\n",
      "topic=politics_news, partition=0, offset=23 : (key=ettoday, value={'source': 'ETtoday', 'url': 'https://www.ettoday.net/news/20181228/1342370.htm', 'title': '韓國瑜要建「夢幻大機場」？鎖定高屏停用7年的反潛機基地', 'date_': '2018/12/28 00:11', 'author': ['政治中心'], 'content': '高雄市長韓國瑜日前接受專訪時曾透露，高雄需要一個大型的機場，計畫要與屏東一起合作，合建「高屏國際大機場」，涵蓋高屏兩地。但韓國瑜所說的大機場，其實是瞄準已經停用的屏東航空站，目前已被圍牆封閉成為國軍反潛機基地；由於該機場到高雄沒有大眾捷運系統，若要實現夢幻大機場，恐怕還得克服諸多挑戰。韓國瑜日前接受東森《東森新聞》主持人劉寶傑專訪時透露，希望在高雄興建大機場，且涵蓋高屏兩地，因為目前高雄小港機場實在太小了。韓國瑜表示，「小港機場不夠，肯定不夠，晚上還有宵禁，而且大型飛機沒辦法停。還有一個航線，包括上海最重要的機場虹橋機場，跟我們高雄都沒有對接，所以小港機場沒有辦法負這麼大負載量。」高雄國際機場雖然也有國際線，但因腹地不夠大而且無法夜航，不是高屏大機場的理想用地。不過韓國瑜看準了另一個地方，就是原來的屏東機場。由於屏東機場因航班太少，早在7年前就已停用民用部分，軍用機場部分則是由國防部空軍司令部負責管理。屏東機場耗資新台幣14億元，在2005年5月17日落成啟用，每天往返台北有3個航班。不過落成後出現不少「浪費」、「大而無當」的質疑，對常來往於台北與屏東間的旅客而言，新機場比原先的屏南機場更遠離市區，也更花費交通往返的時間與金錢；且該機場只有往台北的航線，距離高雄國際機場又過近，當地民眾多前往高雄國際機場，造成該機場使用人次過低。屏東機場民用航班在2011年8月中停飛，目前僅供國軍四種軍機使用，分別為運輸機、電戰機、反潛機及預警機。擁有兩條跑道的屏東機場範圍比桃園機場還要大，是目前台灣最大機場，若真的如韓國瑜所言建成「夢幻大機場」，將成為南部對外重要窗口。', 'kw': ['高屏', '高屏國際大機場', '反潛機基地', '屏東機場', '韓國瑜', '捷運', '機場', '夢幻大機場', '高雄', '屏東'], 'img_url': 'https://cdn2.ettoday.net/images/3719/d3719098.jpg', 'ariticle_emotion': 'positive', 'label': 'green', 'abstract': '高雄市長韓國瑜日前接受專訪時曾透露，高雄需要一個大型的機場，計畫要與屏東一起合作，合建「高屏國際大機場」，涵蓋高屏兩地'})\n",
      "\n",
      "\n",
      "Now sending data to MySQL!\n",
      "Error message : Data was sent to MySQL unsuccessfully!!\n",
      "Now sending data to elasticsearch!\n",
      "Error message: Data was sent to elasticsearch unsuccessfully!!\n",
      "topic=politics_news, partition=0, offset=24 : (key=ettoday, value={'source': 'ETtoday', 'url': 'https://www.ettoday.net/news/20181227/1341927.htm', 'title': '高志鵬貪汙「是冤枉的」 李婉鈺霸氣護舊愛：給他5千萬都不會做', 'date_': '2018/12/27 22:44', 'author': ['政治中心'], 'content': '民進黨立委高志鵬因為貪汙被判4年6月徒刑、褫奪公權4年定讞，喪失立委資格，高志鵬27日召開記者會，宣布辭去立委、民進黨中常會及退出民進黨，強調將爭取自己的清白。對此，新北市前議員李婉鈺表示，「他是被冤枉的！」、「你給他5千萬他都不會做」。根據《三立新聞網》報導，高志鵬和前女友李婉鈺，曾在2008年被直擊深夜甜蜜共吃火鍋，雖然隔年就戀情告終，不過李婉鈺霸氣護舊情人，李認為，高志鵬的助理私下跟廠商談好200萬酬勞，可能是事後良心不安，就把50萬當作政治獻金，事情曝光後卻轉為汙點證人指控高志鵬，「這種人真的很要不得，真的是罪該萬死」。李婉鈺表示，她過去曾跟高志鵬在一起過，自己非常清楚，「不對的事情你給他5千萬他都不會做」，更不用說只有區區的50萬，未來會全力支持他，盼司法還給高志鵬清白。高志鵬27日出面強調自己難以接受，此案是他「一時用人不當」，前助理私下索賄200萬，事後則以政治獻金名義將50萬交給辦公室，事發後該助理卻轉為污點證人，控他貪污，「如果是我藉民眾陳情的機會，要助理去向廠商期約報酬200萬元，何以助理拿了150萬元，卻只給我50萬元？」「助理索賄，老闆坐牢！」', 'kw': ['50', '李婉鈺', '助理', '高志鵬', '貪汙', '200'], 'img_url': 'https://cdn2.ettoday.net/images/3794/d3794607.jpg', 'ariticle_emotion': 'negative', 'label': 'green', 'abstract': '高志鵬27日出面強調自己難以接受，此案是他「一時用人不當」，前助理私下索賄200萬，事後則以政治獻金名義將50萬交給辦公室，事發後該助理卻轉為污點證人，控他貪污，「如果是我藉民眾陳情的機會，要助理去向廠商期約報酬200萬元，何以助理拿了150萬元，卻只給我50萬元'})\n",
      "\n",
      "\n",
      "Now sending data to MySQL!\n",
      "Error message : Data was sent to MySQL unsuccessfully!!\n",
      "Now sending data to elasticsearch!\n",
      "Error message: Data was sent to elasticsearch unsuccessfully!!\n"
     ]
    },
    {
     "name": "stdout",
     "output_type": "stream",
     "text": [
      "topic=politics_news, partition=0, offset=25 : (key=ettoday, value={'source': 'ETtoday', 'url': 'https://www.ettoday.net/news/20181227/1342324.htm', 'title': '高嘉瑜「眼球運動」春聯加碼1萬張秒殺了！ 網友哀嚎：快出Line貼圖', 'date_': '2018/12/27 22:26', 'author': ['政治中心'], 'content': '被封為港湖女神的台北市議員高嘉瑜，27日在臉書宣布推出「眼球運動」春聯，吸引粉絲瘋搶後她再加碼1萬張，結果不到3個小時8千張春聯已經秒殺，搶不到春聯的網友留言要高嘉瑜「快出Line貼圖」。高嘉瑜推出「抱豬甜笑款」及「眼球運動款」春聯，提供給想要的粉絲索取，她也貼心提醒網友，數量有限很可能會秒殺，沒想到一個小時過後，春聯真的被搶光了，於是她再加碼到1萬份，不到3個小時，吸引2千粉絲瘋搶8千張春聯。高嘉瑜開心在臉書說，謝謝大家喜歡，也提醒大家春聯印好會在公告，不提供寄送服務，要到服務處親領。搶不到春聯的網友留言表示，「快點出賴貼圖」、「這太秒殺了吧～連車尾燈都看不到」、「我沒登記到」、「果然是港湖最高票」。', 'kw': ['秒殺', '粉絲', '小時', '春聯', '高嘉瑜'], 'img_url': 'https://cdn2.ettoday.net/images/3783/d3783932.jpg', 'ariticle_emotion': 'positive', 'label': 'green', 'abstract': '高嘉瑜推出「抱豬甜笑款」及「眼球運動款」春聯，提供給想要的粉絲索取，她也貼心提醒網友，數量有限很可能會秒殺，沒想到一個小時過後，春聯真的被搶光了，於是她再加碼到1萬份，不到3個小時，吸引2千粉絲瘋搶8千張春聯'})\n",
      "\n",
      "\n",
      "Now sending data to MySQL!\n",
      "Error message : Data was sent to MySQL unsuccessfully!!\n",
      "Now sending data to elasticsearch!\n",
      "Error message: Data was sent to elasticsearch unsuccessfully!!\n",
      "topic=politics_news, partition=0, offset=26 : (key=ettoday, value={'source': 'ETtoday', 'url': 'https://www.ettoday.net/news/20181227/1341926.htm', 'title': '謝長廷歲末盤點「駐日5大政績」 網友嘴翻：2020酸宗痛', 'date_': '2018/12/27 22:16', 'author': ['政治中心'], 'content': '駐日代表謝長廷因關西機場造謠案，飽受外界批評，他27日晚間在臉書再貼文，盤點一下過去一年來的台日關係，強調來日觀光訪問的人數已經高達480萬人，二年多來成長一百萬人左右，「指責駐日工作沒有績效，顯然與事實不符。」謝長廷列出五項成績，如下：謝長廷表示，「以上小小成績當然是代表處全體同仁努力的結果，但指責駐日工作沒有績效，顯然與事實不符。」此外，來日觀光訪問的人數已經高達480萬人，二年多來成長一百萬人左右，各辦事處服務件數暴增，但人員預算均未增加，以東京代表處為例，每月服務三千多件，大家都不勝負荷。網友酸說，「唯一支持 謝長廷出來選2020」、「2020謝長廷屌打空心菜」、「2020出來酸宗痛」、「好笑。拿別人的努力當績效 ？ 沾光一流」、「下屬自殺 還要說績效喔 呵呵呵」、「助日代表 績效很好阿」。不過也有人替謝長廷抱不平，「努力做事輸給帶風向」、「台日關係真的是有感的升溫啊」、「推小夫」、「有做事給推」、「就有人看到台日關係好心就會碎」、「難怪一直被黑」。', 'kw': ['謝長廷', '台日關係', '績效', '駐日代表', '來日', '2020'], 'img_url': 'https://cdn2.ettoday.net/images/3332/d3332798.jpg', 'ariticle_emotion': 'negative', 'label': 'green', 'abstract': '駐日代表謝長廷因關西機場造謠案，飽受外界批評，他27日晚間在臉書再貼文，盤點一下過去一年來的台日關係，強調來日觀光訪問的人數已經高達480萬人，二年多來成長一百萬人左右，「指責駐日工作沒有績效，顯然與事實不符'})\n",
      "\n",
      "\n",
      "Now sending data to MySQL!\n",
      "Error message : Data was sent to MySQL unsuccessfully!!\n",
      "Now sending data to elasticsearch!\n",
      "Error message: Data was sent to elasticsearch unsuccessfully!!\n",
      "topic=politics_news, partition=0, offset=27 : (key=ettoday, value={'source': 'ETtoday', 'url': 'https://www.ettoday.net/news/20181227/1342306.htm', 'title': '影／錢進來了！郭台銘送韓國瑜500萬大紅包 吳芳銘證實：收到了', 'date_': '2018/12/27 21:22', 'author': ['政治中心'], 'content': '高雄市長韓國瑜上任後，鴻海集團董事長郭台銘送上500萬大紅包，希望能用在公益、慈善的項目上，高雄市農業局長吳芳銘證實，款項已經收到，會用來購買農漁產品，希望能幫助農民，也能救助弱勢團體。原本郭台銘要參加25日的就職典禮，不過因行程無法趕上，決定改成送給韓國瑜500萬元吳芳銘則把這筆款項分配，用來購買農漁產品，並分送給弱勢團體，讓這份心意能傳遞給更多人，吳芳銘27日證實錢已經收到了。吳芳銘說，鴻海在確認高雄市帳戶後，就馬上把錢轉入，希望用在對於公益、慈善和教育有關，農業局會著手進行食農教育及採購農漁產品捐贈給弱勢團體，採購一些價格比較偏弱的蔬果，這樣能幫助弱勢團體，農民又可賣到更好的價格，發揮的效果更好。吳芳銘認為，台灣的農產品大都靠氣後來決定價格，若當年天氣好，沒有什麼颱風，雖然農產品豐收，但價格就會崩落，因此需要瞭解農產品的供需量，不僅是高雄、台灣，更要了解個亞洲或世界農產品的產季及產量。吳芳銘舉例，農產品外銷，要看當地有無相同的產品，以免屆時運到，才發現當地是盛產期，價格當然打不贏人家。', 'kw': ['吳芳銘', '價格', '韓國瑜', '弱勢團體', '產品', '農產品', '郭台銘'], 'img_url': 'https://cdn2.ettoday.net/images/3735/d3735758.jpg', 'ariticle_emotion': 'positive', 'label': 'green', 'abstract': '原本郭台銘要參加25日的就職典禮，不過因行程無法趕上，決定改成送給韓國瑜500萬元吳芳銘則把這筆款項分配，用來購買農漁產品，並分送給弱勢團體，讓這份心意能傳遞給更多人，吳芳銘27日證實錢已經收到了'})\n",
      "\n",
      "\n",
      "Now sending data to MySQL!\n",
      "Error message : Data was sent to MySQL unsuccessfully!!\n",
      "Now sending data to elasticsearch!\n",
      "Error message: Data was sent to elasticsearch unsuccessfully!!\n",
      "topic=politics_news, partition=0, offset=28 : (key=ettoday, value={'source': 'ETtoday', 'url': 'https://www.ettoday.net/news/20181227/1342168.htm', 'title': '范雲2020再選立委 臉書宣布：大安區我準備好了！', 'date_': '2018/12/27 18:29', 'author': ['政治中心'], 'content': '國民黨立委蔣乃辛宣布不再參選下屆立委，對此，社民黨召集人范雲27日在臉書宣布，將投入2020立委選戰，並感謝蔣乃辛為大安區居民30多年的服務。范雲在表示，「大安區，我準備好了！」已經在大安去深耕4年的她，期待大安區民支持政黨輪替，選出新人新政，讓台灣的年輕世代能夠看得到未來！范雲說，「誠摯地祝福蔣乃辛委員，也感謝他為大安區居民三十多年的服務！」蔣乃辛在大安區擔任過7屆議員、3屆立委，27日他在臉書發文，「我將不再參選下屆大安區立委，讓後起之秀接棒！」范雲跟蔣乃辛曾在2016年一起競選過立委，當時，蔣乃辛獲得7萬4015票，得票率46.09，而范雲獲得5萬6766票，得票率35.35%為第二高票。', 'kw': ['大安區', '參選', '蔣乃辛', '2020', '立委', '范雲'], 'img_url': 'https://cdn2.ettoday.net/images/3794/d3794239.jpg', 'ariticle_emotion': 'positive', 'label': 'green', 'abstract': '國民黨立委蔣乃辛宣布不再參選下屆立委，對此，社民黨召集人范雲27日在臉書宣布，將投入2020立委選戰，並感謝蔣乃辛為大安區居民30多年的服務'})\n",
      "\n",
      "\n",
      "Now sending data to MySQL!\n",
      "Error message : Data was sent to MySQL unsuccessfully!!\n",
      "Now sending data to elasticsearch!\n",
      "Error message: Data was sent to elasticsearch unsuccessfully!!\n",
      "topic=politics_news, partition=0, offset=29 : (key=ettoday, value={'source': 'ETtoday', 'url': 'https://www.ettoday.net/news/20181227/1341925.htm', 'title': '獨／小野選後首露面：哭完被說「老娘炮」…社會蠻邪惡的', 'date_': '2018/12/27 17:13', 'author': ['政治中心'], 'content': '文化人小野選前出任台北市長侯選人柯文哲競選總幹事，因為力挺陳其邁角逐高雄市長，遭到國民黨台北市長候選人丁守中批評「綠營文化門神」，小野落淚反擊丁守中。選後小野首度在媒體面前曝光，他也回憶起選舉往事，「各位記得我的遭遇吧，哭一下就被人家說老娘炮，這個社會蠻邪惡的。」小野27日出席「2018台灣義行獎」頒獎典禮，擔任頒獎人，他在致詞時表示，「今天在這個場合我想大家都很想哭，可是各位記得我的遭遇吧，千萬不能哭，哭完之後我的綽號被變成老娘炮，所以各位知道這個社會蠻邪惡的，因為你只是哭一下只是感動，就被人家說老娘炮，而且永遠跟著我一輩子」幽默自嘲讓聽眾笑聲不斷。小野還透露，「我這個月不敢出席任何場合，不敢面對記者、不敢面對媒體，今天本來不想來，我怕我講錯話。」小野擔任台北市長柯文哲競選總幹事期間，以個人身分幫陳其邁拍競選廣告，遭丁守中批評是「綠營文化門神」，召開記者會時氣到3度飆淚，痛罵丁沒讀書、沒文化，嗆丁沒資格當市長。小野也提到，看到柯市長被抹黑、抹紅，心裡面都好想罵髒話，可是因為自己是競辦總幹事所以不能，但內心非常痛苦，看到人心最黑暗一面，「我好想跟柯市長說，關起門來罵髒話。」', 'kw': ['丁守中', '總幹事', '小野', '老娘', '這個', '文化門神'], 'img_url': 'https://cdn2.ettoday.net/images/3676/d3676043.jpg', 'ariticle_emotion': 'negative', 'label': 'green', 'abstract': '」小野27日出席「2018台灣義行獎」頒獎典禮，擔任頒獎人，他在致詞時表示，「今天在這個場合我想大家都很想哭，可是各位記得我的遭遇吧，千萬不能哭，哭完之後我的綽號被變成老娘炮，所以各位知道這個社會蠻邪惡的，因為你只是哭一下只是感動，就被人家說老娘炮，而且永遠跟著我一輩子」幽默自嘲讓聽眾笑聲不斷'})\n",
      "\n",
      "\n",
      "Now sending data to MySQL!\n",
      "Error message : Data was sent to MySQL unsuccessfully!!\n",
      "Now sending data to elasticsearch!\n",
      "Error message: Data was sent to elasticsearch unsuccessfully!!\n",
      "topic=politics_news, partition=0, offset=30 : (key=ettoday, value={'source': 'ETtoday', 'url': 'https://www.ettoday.net/news/20181227/1342079.htm', 'title': '改善兩岸關係羅智強有妙招 網友：馬英九不被相公才有可能', 'date_': '2018/12/27 17:13', 'author': ['政治中心'], 'content': '南北韓日前決定將連結雙方境內的鐵路和公路，促進兩國人民交流，27日的開工儀式在開城板門站舉行，此工程若完成將大幅改善兩國交流。對此，國民黨籍的台北市議員羅智強想出妙計可改善兩岸關係，網友評價兩極。羅智強27日在臉書表示，如果連南北韓都可以對接鐵公路，兩岸為什麼不能興建跨海隧道，對接高鐵和高速公路？若他當總統，將興建跨海高鐵，人貨利其流，合作促共榮。貼文一出，有網友留言表示支持，「支持興建臺灣海峽隧道」、「先出線，你前面很多大山，但我挺你」、「我覺得很好耶,去大陸玩跟探親更方便」但也有網友留言認為，「你這個只有馬英九不被相公才有可能了」、「美國第一個反對，台灣與大陸走的太近，美國怕會失去一個軍火買家，所以一定會從中作梗。」、「在兩岸無互信，大陸要武統臺灣的現狀下，並不實際，也無迫切需要」這裡的「相公」一詞是出自高雄市長韓國瑜所言，他日前接受電視政論節目專訪時，形容角逐總統大位的國民黨四個太陽好比「四個人打麻將，但有個相公，胡不了牌，還一直打」。', 'kw': ['27', '吳敦義', '高鐵', '羅智強', '對接', '朱立倫', '王金平', '馬英九', '興建', '網友'], 'img_url': 'https://cdn2.ettoday.net/images/3757/d3757352.jpg', 'ariticle_emotion': 'negative', 'label': 'green', 'abstract': '貼文一出，有網友留言表示支持，「支持興建臺灣海峽隧道」、「先出線，你前面很多大山，但我挺你」、「我覺得很好耶,去大陸玩跟探親更方便」但也有網友留言認為，「你這個只有馬英九不被相公才有可能了」、「美國第一個反對，台灣與大陸走的太近，美國怕會失去一個軍火買家，所以一定會從中作梗'})\n",
      "\n",
      "\n",
      "Now sending data to MySQL!\n",
      "Error message : Data was sent to MySQL unsuccessfully!!\n",
      "Now sending data to elasticsearch!\n",
      "Error message: Data was sent to elasticsearch unsuccessfully!!\n",
      "topic=politics_news, partition=0, offset=31 : (key=ettoday, value={'source': 'ETtoday', 'url': 'https://www.ettoday.net/news/20181227/1342106.htm', 'title': '葉俊榮突然「插管」 游盈隆懷疑：蔡英文遭到政治勒索', 'date_': '2018/12/27 17:05', 'author': ['陶本和'], 'content': '針對前教育部長葉俊榮突然同意任命管中閔為台大校長，台灣民意基金會董事長游盈隆27日表示，葉俊榮不會是個有意外的閣員，但卻給大家一個大意外，而這在蔡英文聲望最低、最脆弱的時候，有沒有可能遭到政治勒索，這是合理的懷疑。游盈隆表示，今年從1月到現在一整年，犧牲三個部長解決一個問題，很多人覺得很荒唐，但他很熟悉葉俊榮，知道他是一個溫和、謙恭有禮的法律學者，也注重行政倫理，並不像是立委林淑芬。游盈隆說，葉俊榮是一位不會有意外的閣員，現在卻給大家一個大意外，從常理看來，一定沒有那麼簡單；另外，他也認為，府院煞有其事的批評葉俊榮不顧行政倫理，但漏掉了一個重點，就是管中閔出任校長，府院是同意的嗎？游盈隆表示，葉俊榮召開記者會「插管」，總統府會不知道？如果府很清楚，但行政院不清楚，會是一種可能，但消息越來越多，好樣有個故事、好像是一場戲，「民進黨為什麼會背離過去的堅持，讓管中閔案急轉直下，外界充滿疑問。」游盈隆還說，這也讓他想像，現在剛好是蔡英文聲望最低、最脆弱的時候，也是政治勒索罪有可能的時候，有沒有可能來自某些方面的勒索，讓管案落幕之後，這也是一種合理的懷疑，總體來說，民進黨政府還是欠社會一個說明。', 'kw': ['蔡英文', '游盈隆', '葉俊榮', '民進黨', '時候', '主席', '管中閔', '一個'], 'img_url': 'https://cdn2.ettoday.net/images/3793/d3793572.jpg', 'ariticle_emotion': 'negative', 'label': 'green', 'abstract': '針對前教育部長葉俊榮突然同意任命管中閔為台大校長，台灣民意基金會董事長游盈隆27日表示，葉俊榮不會是個有意外的閣員，但卻給大家一個大意外，而這在蔡英文聲望最低、最脆弱的時候，有沒有可能遭到政治勒索，這是合理的懷疑'})\n",
      "\n",
      "\n",
      "Now sending data to MySQL!\n",
      "Error message : Data was sent to MySQL unsuccessfully!!\n",
      "Now sending data to elasticsearch!\n",
      "Error message: Data was sent to elasticsearch unsuccessfully!!\n",
      "topic=politics_news, partition=0, offset=32 : (key=ettoday, value={'source': 'ETtoday', 'url': 'https://www.ettoday.net/news/20181227/1342041.htm', 'title': '高嘉瑜「眼球運動」春聯來了♥ 網期待又怕受傷：貼門口會被偷', 'date_': '2018/12/27 16:55', 'author': ['政治中心'], 'content': '春節將至，政治人物紛紛準備發放春聯。民進黨台北市議員高嘉瑜日前才在臉書上貼出4張照片，詢問民眾哪張適合放在春聯上，今樣品照搶先曝光，分別有「抱豬甜笑款」及「眼球運動款」，讓網友再度融化。高嘉瑜23日在臉書上傳4張照片，身穿黃色七分袖V領、綁著招牌公主頭，對鏡頭嘟嘴微笑，除了學台北市長柯文哲的招牌「抓頭」姿勢外，更有選前在台北市長落選人姚文智造勢晚會備受討論的「眼球運動」。當時高嘉瑜詢問網友喜歡哪張照片放春聯，引來熱烈討論，今樣品照出爐讓網友暴動。高嘉瑜表示，目前春聯印製中，一款是豬豬，一款則是眼球運動，「大家想要哪款？」不少網友直接選擇「眼球運動」，紛紛表示「我只想要翻白眼的就好」、「可惡想要！」、「能直接找妳拿嗎」、「貪心的我每款都要」、「我覺得貼在門口半夜會被偷走」。', 'kw': ['運動', '張照', '民進黨', '春聯', '姚文智', '網友', '高嘉瑜'], 'img_url': 'https://cdn2.ettoday.net/images/3793/3793899.jpg', 'ariticle_emotion': 'negative', 'label': 'green', 'abstract': '民進黨台北市議員高嘉瑜日前才在臉書上貼出4張照片，詢問民眾哪張適合放在春聯上，今樣品照搶先曝光，分別有「抱豬甜笑款」及「眼球運動款」，讓網友再度融化'})\n",
      "\n",
      "\n",
      "Now sending data to MySQL!\n",
      "Error message : Data was sent to MySQL unsuccessfully!!\n",
      "Now sending data to elasticsearch!\n",
      "Error message: Data was sent to elasticsearch unsuccessfully!!\n"
     ]
    },
    {
     "name": "stdout",
     "output_type": "stream",
     "text": [
      "topic=politics_news, partition=0, offset=33 : (key=ettoday, value={'source': 'ETtoday', 'url': 'https://www.ettoday.net/news/20181227/1341972.htm', 'title': '影／學姐黃瀞瑩被「熊抱」 網友崩潰喊：放開那個女孩！', 'date_': '2018/12/27 16:05', 'author': ['政治中心'], 'content': '台北市長柯文哲7月參與網路節目錄製「一日幕僚」，意外捧紅了長相清秀的幕僚黃瀞瑩，網友封她為「學姐」，擁有超高人氣的黃瀞瑩27日在臉書PO出一張被熊讚擁抱的照片，幽默寫下「被熊抱了啦」，「#首度合作」、「#熊讚是個專業的前輩」，引起大批網友崩潰喊，「放開那個女孩！」網友回說，「裡面是阿公還是陳百祥，扇子拿來了啦～」、「裡面的工讀生給我出來 扇子拿來」、「請教熊肉火鍋的料理方法」、「怎麼看都是邰哥在裡面」、「放開那個女孩」、「明年的今天是熊讚的祭日」、「工讀生福利這麼好哦XD」小牛柯昱安也留言「裡面是局長(誤)」，引來網友說「這樣陷害大熊長官好嗎？」、「大熊快出來」、「大熊要被通緝了」、「有人洩密了」、「這時候要請局長提出不在場證明了」，還有人說「確定不是市長？」、「 我覺得不是！因為局長穿不下....」，討論串也吸引大熊劉奕霆tag小牛回應「柯昱安............」，透露出他的無奈。台北市長柯文哲24日公布小內閣名單，由於發言人劉奕霆接任觀傳局長，因此副發言人部分由「學姐」黃瀞瑩、「小牛」柯昱安共同接任，替劉奕霆分擔發言人的工作。', 'kw': ['大熊', '學姐', '黃瀞瑩', '裡面', '柯昱安', '熊讚', '網友'], 'img_url': 'https://cdn2.ettoday.net/images/3793/d3793527.jpg', 'ariticle_emotion': 'negative', 'label': 'green', 'abstract': '」網友回說，「裡面是阿公還是陳百祥，扇子拿來了啦～」、「裡面的工讀生給我出來 扇子拿來」、「請教熊肉火鍋的料理方法」、「怎麼看都是邰哥在裡面」、「放開那個女孩」、「明年的今天是熊讚的祭日」、「工讀生福利這麼好哦XD」小牛柯昱安也留言「裡面是局長(誤)」，引來網友說「這樣陷害大熊長官好嗎'})\n",
      "\n",
      "\n",
      "Now sending data to MySQL!\n",
      "Error message : Data was sent to MySQL unsuccessfully!!\n",
      "Now sending data to elasticsearch!\n",
      "Error message: Data was sent to elasticsearch unsuccessfully!!\n",
      "topic=politics_news, partition=0, offset=34 : (key=ettoday, value={'source': 'ETtoday', 'url': 'https://www.ettoday.net/news/20181227/1342003.htm', 'title': '影／豬年北市燈節「不發放小提燈」 22年傳統被i-Voting中斷了', 'date_': '2018/12/27 16:00', 'author': ['政治中心'], 'content': '台北市政府每年元宵節前都會限量發行小提燈，但有民眾日前提i-Voting以環保為由要廢除提燈，投票時間從10月1日上午9時至14日下午5時，有1萬1520票同意不再製作及發放小提燈。新上任的北市府觀傳局長劉奕霆表示，遵照i-Voting走，不再主動發小提燈。台北燈節自1997年起每年便以當年生肖為主題，規劃燈區展出，並於燈節活動中發送限量生肖小提燈，提供免費索取，但民眾認為，此為一次性用品，提燈本體是塑膠，還有電池和燈泡，都會造成汙染，於i-Voting提案，希望台北市政府不要再發放小提燈，這也是i-Voting實施以來，第一件由民眾提案並進行投票之案件。經過2周投票時間，共有1萬1520人投下同意票，贊同為避免製造垃圾及廢電池，不再製作及發放小提燈；另有3018人則認為，應配合燈節活動持續製作及發送小提燈。但時任北市府觀傳局長陳思宇當時表示，觀光委員會決議後，還是覺得要維持傳統。然而陳思宇下台、劉奕霆上任後，觀傳局政策大轉彎。根據《中時電子報》報導，劉奕霆26日上午說，燈節還在籌備當中，會找適當時機統一說明，但下午觀傳局就決定，要停止這22年來的傳統，停發小提燈。', 'kw': ['小提燈', '發放', 'i-Voting', '提燈', '燈節', '元宵節', '製作', '劉奕霆', 'Voting'], 'img_url': 'https://cdn2.ettoday.net/images/3584/d3584463.jpg', 'ariticle_emotion': 'negative', 'label': 'green', 'abstract': '台北燈節自1997年起每年便以當年生肖為主題，規劃燈區展出，並於燈節活動中發送限量生肖小提燈，提供免費索取，但民眾認為，此為一次性用品，提燈本體是塑膠，還有電池和燈泡，都會造成汙染，於i-Voting提案，希望台北市政府不要再發放小提燈，這也是i-Voting實施以來，第一件由民眾提案並進行投票之案件'})\n",
      "\n",
      "\n",
      "Now sending data to MySQL!\n",
      "Error message : Data was sent to MySQL unsuccessfully!!\n",
      "Now sending data to elasticsearch!\n",
      "Error message: Data was sent to elasticsearch unsuccessfully!!\n",
      "topic=politics_news, partition=0, offset=35 : (key=ettoday, value={'source': 'ETtoday', 'url': 'https://www.ettoday.net/news/20181227/1341992.htm', 'title': '侯友宜引用蘇貞昌政見 爭取在新板特區蓋兒童樂園', 'date_': '2018/12/27 15:44', 'author': ['政治中心'], 'content': '新北市長侯友宜27日首次參加行政院會，會中引用前行政院長蘇貞昌競選市長的政見，爭取在新板特區原「大台北新劇院」土地建室內兒童樂園，盼當時樂見其成的中央能支持。新北市政府新聞局長蔣志薇表示，侯友宜希望中央與地方合作，共同為地方打拚，並在院會上提出4項訴求，第一，盼中央照顧養豬戶，提高補助；第二，請中央修正財政收支劃分法；第三，爭取軌道建設預算；第四，在新板特區蓋兒童樂園。第一，針對非洲豬瘟防疫，侯友宜希望中央照顧養豬戶，提高補助；第二，請中央修正財政收支劃分法，還新北財政公平正義，新北市土地面積是台北市8倍大，人口比台北多130萬，但新北的人均預算卻是六都最少，根據107年度總預算，新北人均預算是4萬元，與台北市6.4萬元比較，更是相差2.4萬。第三，侯友宜爭取軌道建設預算，希望中央實際支持三環六線（加上淡海八里、五股泰山、深坑輕軌）的預算。第四，侯友宜認為，應提供新北更多的親子休閒場所，既然中央贊成蘇貞昌競選市長時所提出的「親子體驗博物館」的政見，因此，盼中央儘快兌現，把地交給新北市，打造一個影音、科技、創新的兒童樂園。', 'kw': ['蘇貞昌', '兒童樂園', '中央', '爭取', '預算', '侯友宜', '新北'], 'img_url': 'https://cdn2.ettoday.net/images/3792/d3792563.jpg', 'ariticle_emotion': 'positive', 'label': 'green', 'abstract': '新北市長侯友宜27日首次參加行政院會，會中引用前行政院長蘇貞昌競選市長的政見，爭取在新板特區原「大台北新劇院」土地建室內兒童樂園，盼當時樂見其成的中央能支持'})\n",
      "\n",
      "\n",
      "Now sending data to MySQL!\n",
      "Error message : Data was sent to MySQL unsuccessfully!!\n",
      "Now sending data to elasticsearch!\n",
      "Error message: Data was sent to elasticsearch unsuccessfully!!\n",
      "topic=politics_news, partition=0, offset=36 : (key=ettoday, value={'source': 'ETtoday', 'url': 'https://www.ettoday.net/news/20181227/1341967.htm', 'title': '包庇謝長廷？網友辱大阪辦事處「爛到該死」 李明賢質疑警方吃案', 'date_': '2018/12/27 15:22', 'author': ['蔣婕妤'], 'content': '前駐大阪辦事處長蘇啟誠自殺事件持續延燒，國民黨台北市議員李明賢27透過新聞稿指控，綠營將事件導向與假新聞有關，警方火速移送一名游姓學生，但另一篇署名idcc替駐日代表謝長廷辯護、並怒批大阪代表處「爛到該死」的煽動文章，警方雖受理偵辦卻草草結案，李明賢痛批是「技術性吃案」，懷疑背後有高層政治力量干預，導致警方不敢繼續查辦下去。今年9月「燕子颱風」肆虐日本，造成許多台灣人滯留日本，署名guruguru的網友在PTT發文，指「中國外交使館積極派車接送中國遊客、但台灣駐日單位卻無作為」，經謝長廷11月間告發後，1個月內警方以違反《社會秩序維護法》，移送南投地方法院，並查出guruguru的身分，綠營也強調假新聞才是蘇啟誠尋短的原因。李明賢指出，風災期間另一名「idcc」網友在PTT上發文指稱，大阪辦事處不歸謝長廷所管，還說大阪辦事處的人員「爛到不行、爛到該死」，甚至是「黨國餘孽」，李明賢與新北市議員葉元之在9月中前往台北市刑大舉發違反《社會秩序維護法》。李明賢表示，警方偵辦結果指出「idcc」本人已刪除原文，加上PTT不願提供相關原始資料與歷次登入紀錄，因此以「證據能力有疑慮」為由結案，他不滿指控，明明有網友肉搜到「idcc」曾於2004年發文身分疑似是政大碩一，甚至使用ip是來自政府官方，但警方卻指稱IP紀錄查閱須符合通保法規範，電信紀錄僅保存6個月，「態度消極到令人匪夷所思！」李明賢痛批，同樣是用《社會秩序維護法》偵辦，警方查辦GURUGURU就能立即查出身分並移送法院，但替謝長廷辯護的「idcc」，警方辦案態度推拖拉，他嗆，「不免令人懷疑背後有高層政治干預，才會導致一樣案件兩種結果，是否背後特定力量仍在袒護包庇謝長廷？」', 'kw': ['警方', '謝長廷', '李明賢', 'gu', 'idcc'], 'img_url': 'https://cdn2.ettoday.net/images/3727/d3727499.jpg', 'ariticle_emotion': 'negative', 'label': 'green', 'abstract': '前駐大阪辦事處長蘇啟誠自殺事件持續延燒，國民黨台北市議員李明賢27透過新聞稿指控，綠營將事件導向與假新聞有關，警方火速移送一名游姓學生，但另一篇署名idcc替駐日代表謝長廷辯護、並怒批大阪代表處「爛到該死」的煽動文章，警方雖受理偵辦卻草草結案，李明賢痛批是「技術性吃案」，懷疑背後有高層政治力量干預，導致警方不敢繼續查辦下去'})\n",
      "\n",
      "\n",
      "Now sending data to MySQL!\n",
      "Error message : Data was sent to MySQL unsuccessfully!!\n",
      "Now sending data to elasticsearch!\n",
      "Error message: Data was sent to elasticsearch unsuccessfully!!\n",
      "topic=politics_news, partition=0, offset=37 : (key=ettoday, value={'source': 'ETtoday', 'url': 'https://www.ettoday.net/news/20181227/1341815.htm', 'title': '陸客帶9KG豬肉闖關 邱議瑩：合理懷疑是「生化攻擊」', 'date_': '2018/12/27 15:21', 'author': ['政治中心'], 'content': '自非洲豬瘟疫情在大陸爆發後，台灣開始嚴格管制肉品入境，卻仍有不少旅客企圖「冒險闖關」，甚至還有人一口氣帶了9公斤的豬肉。民進黨立委邱議瑩對此痛批，就算在飛機上一再宣導「不能帶」，還是有人走不用申報肉類的綠色櫃台，懷疑是「生化攻擊」。邱議瑩等19人在27日立法院經濟委員會上提出「動物傳染病防治條例第三十四條條文修正草案」，並請農委會官員備詢。邱議瑩表示，農委會在整個防疫宣導部分，要給予掌聲鼓勵，但是就算做再多的宣傳，包括中國大陸籍的旅客，或是台灣籍旅客，仍有人不斷帶豬肉或其他肉製品入境，想請問副主委怎麼看？到底是宣導還不夠？還是其實是一種「生化戰爭」？為什麼會這樣說呢？邱議瑩稱，平常會帶著幾公斤的豬肉出國嗎？一般常理來講，出國不會帶幾公斤的豬肉跟著你走，但前2天卻在機場查獲陸客帶9公斤肉製品入台，且這些被查獲的人還不走申報的綠色櫃台，「如果我們一再在飛機上宣導，下飛機的地方也有告示牌警告大家不可以帶，為什麼這些人還要攜帶入境？你告訴我，不知道豬瘟的嚴重性，但是你從下飛機一路到海關、檢查的關口，看到多少的警告牌子？然後你還走不用申報的綠關，我合理懷疑這些都是所謂的『生化戰爭』、『生化攻擊』。」', 'kw': ['飛機', '邱議瑩', '宣導', '申報', '豬肉', '非洲豬瘟'], 'img_url': 'https://cdn2.ettoday.net/images/3793/d3793387.jpg', 'ariticle_emotion': 'negative', 'label': 'green', 'abstract': '一般常理來講，出國不會帶幾公斤的豬肉跟著你走，但前2天卻在機場查獲陸客帶9公斤肉製品入台，且這些被查獲的人還不走申報的綠色櫃台，「如果我們一再在飛機上宣導，下飛機的地方也有告示牌警告大家不可以帶，為什麼這些人還要攜帶入境'})\n",
      "\n",
      "\n",
      "Now sending data to MySQL!\n",
      "Error message : Data was sent to MySQL unsuccessfully!!\n",
      "Now sending data to elasticsearch!\n",
      "Error message: Data was sent to elasticsearch unsuccessfully!!\n",
      "topic=politics_news, partition=0, offset=38 : (key=ettoday, value={'source': 'ETtoday', 'url': 'https://www.ettoday.net/news/20181227/1341850.htm', 'title': '網嘆吳音寧、韓國瑜不同命 宅神支持選總統「毀滅整個民進黨」', 'date_': '2018/12/27 15:16', 'author': ['政治中心'], 'content': '高雄市長韓國瑜就職當晚兌現承諾，夜宿果菜市場，有網友則感嘆，當初吳音寧接掌北農也以此為家，卻遭冷嘲熱諷，引發討論。對此，宅神朱學恒說，不如就推吳音寧出來選2020總統，「強烈支持覺青毀滅整個民進黨」。吳音寧接下北農總經理北上第一晚就睡在菜市場總經理辦公室，當時透露短期內沒有找房子的打算，就直接睡在菜市場，盼能快點進入狀況，但卻惹來網友狂酸，「連房租都可省」、「靠爸族」、「又開始造神運動了」。不過，韓國瑜25日晚間至高雄果菜市場夜宿，卻吸引大批粉絲到場一睹風采。臉書粉絲專頁「打馬悍將粉絲團」就說，「韓國瑜睡果菜市場一晚，藍營當聖人讚美。但吳音寧睡北農且一直睡到最後一天，藍營怎麼狂黑」，引來熱議。「覺青又要把黨開除的古物零負評女神再挖出土了？」朱學恒指出，如果夠種就乾脆推吳音寧競選2020總統，「強烈支持覺青毀滅整個民進黨！」網友則留言，「250萬實習費叫我睡一年做做樣子我都願意」、「支持 510 跟蔡宗痛連合一起選 2020」、「先支持吳總音寧出來當行政院長」、「2020總統大選蔡、吳配，民進黨最佳候選人」、「睡菜市場好像是韓在北農時就開始的吧」。', 'kw': ['吳音寧', '柯文哲', '韓國瑜', '北農', '台北市', '果菜市場', '覺青', '高雄市', '網友'], 'img_url': 'https://cdn2.ettoday.net/images/3728/d3728302.jpg', 'ariticle_emotion': 'negative', 'label': 'green', 'abstract': '」網友則留言，「250萬實習費叫我睡一年做做樣子我都願意」、「支持 510 跟蔡宗痛連合一起選 2020」、「先支持吳總音寧出來當行政院長」、「2020總統大選蔡、吳配，民進黨最佳候選人」、「睡菜市場好像是韓在北農時就開始的吧」'})\n",
      "\n",
      "\n",
      "Now sending data to MySQL!\n",
      "Error message : Data was sent to MySQL unsuccessfully!!\n",
      "Now sending data to elasticsearch!\n",
      "Error message: Data was sent to elasticsearch unsuccessfully!!\n",
      "topic=politics_news, partition=0, offset=39 : (key=ettoday, value={'source': 'ETtoday', 'url': 'https://www.ettoday.net/news/20181227/1341831.htm', 'title': '天津豬飼料查獲非洲豬瘟病毒 林昶佐憂成「防疫漏洞」', 'date_': '2018/12/27 14:38', 'author': ['政治中心'], 'content': '大陸爆發非洲豬瘟疫情，台灣也開始防疫大作戰，加強了海關的控管以及廚餘的管理，但時代力量立委林昶佐27日在臉書表示，經過進一步與相關業者了解，發現以豬血製成的飼料添加物「血漿蛋白粉」是目前很可能疏忽的防疫漏洞，因此今天到經濟委員會去提醒農委會應該提高警戒。林昶佐解釋，血漿蛋白的製作過程是將豬隻血液收集起來經離心、噴霧乾燥而製成，無法消滅非洲豬瘟病毒，因此形成了一個可能的防疫漏洞，若豬隻吃下含有病豬製成的血漿蛋白的飼料，疫情將一發不可收拾。林昶佐表示，本週二已爆出有大陸製的血漿蛋白粉被驗出非洲豬瘟核酸，台灣應該掌握詳細資料了解大陸製的血漿蛋白粉流往何處，或是否做為其他國家的飼料添加物後再銷往台灣？請農委會加速調查這個防疫漏洞。天津海關21日在轄區出口處查驗到非洲豬瘟病毒，是由天津恩彼蛋白質有限公司生產的2批豬血球蛋白粉，根據其官方資料，該企業的面向市場包括台灣，產品涵蓋飼料、養殖企業，以及提供飼料蛋白原料，外界憂心，這是否意味可能有「帶非洲豬瘟病毒的飼料原料」流進台灣，進而感染豬隻。', 'kw': ['血漿蛋白', '林昶佐', '飼料', '台灣', '防疫', '飼料添加物', '非洲豬瘟'], 'img_url': 'https://cdn2.ettoday.net/images/3791/d3791816.jpg', 'ariticle_emotion': 'negative', 'label': 'green', 'abstract': '大陸爆發非洲豬瘟疫情，台灣也開始防疫大作戰，加強了海關的控管以及廚餘的管理，但時代力量立委林昶佐27日在臉書表示，經過進一步與相關業者了解，發現以豬血製成的飼料添加物「血漿蛋白粉」是目前很可能疏忽的防疫漏洞，因此今天到經濟委員會去提醒農委會應該提高警戒'})\n",
      "\n",
      "\n",
      "Now sending data to MySQL!\n",
      "Error message : Data was sent to MySQL unsuccessfully!!\n",
      "Now sending data to elasticsearch!\n",
      "Error message: Data was sent to elasticsearch unsuccessfully!!\n"
     ]
    },
    {
     "name": "stdout",
     "output_type": "stream",
     "text": [
      "topic=politics_news, partition=0, offset=40 : (key=ettoday, value={'source': 'ETtoday', 'url': 'https://www.ettoday.net/news/20181227/1341865.htm', 'title': '悼江丙坤 馬英九：對兩岸關係貢獻史上少有、全國罕見', 'date_': '2018/12/27 14:13', 'author': ['政治中心'], 'content': '前總統馬英九27日表示，前海基會董事長江丙坤臨走前，他趕到加護病房，向江丙坤低聲告別，並肯定對國家、尤其是對兩岸關係的重大貢獻；他26日到三芝送江丙坤最後一程，並為江丙坤覆上國旗，「我內心有著深沈的悲痛與懷念」馬英九在臉書提及昔日與江丙坤共戰情懷。民國82年，江丙坤與馬英九分別擔任經濟部長及法務部長，在隨後3年中，不論在行政院院會或立法院院會，都比鄰而坐，讓他有很多機會瞭解江丙坤的為人處事。馬英九指出，江丙坤比自己大18歲，是台中高農苦學出身，省立法商學院畢業，並獲得國民黨第一屆中山獎學金留學日本，取得東京大學農業經濟學博士；同時也精通英、日文，熟悉經貿與外交事務，做人誠懇謙和、做事認真幹練，長官及同事們都很佩服。馬英九表示，民國97年他擔任總統後，特別邀請擔任過經濟部長、經建會主委、與立法院副院長的江丙坤，委屈出任海基會董事長一職，但江丙坤把這個職位發揮得淋漓盡致，任內簽下18個兩岸協議，使兩岸關係真正進入和平繁榮時代，是60多年來僅見，嘉惠無數兩岸人民及企業。馬英九指出，海基會籌建新大樓時，江丙坤自行募款，沒讓政府出錢，對兩岸關係付出的心血與貢獻，史上少有，全國罕見，大家會永遠記得江丙坤的努力與成就；他26日到三芝送江丙坤最後一程，並在靈柩上覆上國旗，代表國家對江丙坤的肯定，也是最好的見證，「永別了，丙坤兄，望您一路好走。」', 'kw': ['海基會', '擔任', '兩岸關係', '馬英九', '江丙坤'], 'img_url': 'https://cdn2.ettoday.net/images/3793/d3793164.jpg', 'ariticle_emotion': 'negative', 'label': 'blue', 'abstract': '馬英九表示，民國97年他擔任總統後，特別邀請擔任過經濟部長、經建會主委、與立法院副院長的江丙坤，委屈出任海基會董事長一職，但江丙坤把這個職位發揮得淋漓盡致，任內簽下18個兩岸協議，使兩岸關係真正進入和平繁榮時代，是60多年來僅見，嘉惠無數兩岸人民及企業'})\n",
      "\n",
      "\n",
      "Now sending data to MySQL!\n",
      "Error message : Data was sent to MySQL unsuccessfully!!\n",
      "Now sending data to elasticsearch!\n",
      "Error message: Data was sent to elasticsearch unsuccessfully!!\n",
      "topic=politics_news, partition=0, offset=41 : (key=ettoday, value={'source': 'ETtoday', 'url': 'https://www.ettoday.net/news/20181227/1341834.htm', 'title': '蔡英文不知「放管」？ 范世平解析2關鍵大酸：「最愚蠢聲明」', 'date_': '2018/12/27 14:08', 'author': ['林敬旻攝）政治中心'], 'content': '前教育部長葉俊榮宣布同意管中閔接任台大校長，隨後請辭獲准，讓台大校長遴選案暫時落幕。蔡英文昨晚發臉書稱葉俊榮僅在記者會前一小時透過簡訊告知，也未遵照行政院長賴清德指示向總統報告，就逕自宣布決策，她跟賴清德都相當錯愕。對此，師大政研所教授范世平直言，「這是一個我見過最愚蠢的聲明」。范世平27日在臉書解釋，如果蔡英文真的被葉俊榮矇在鼓裏，一個總統連一位部長都掌握不了，被一位部長玩弄於股掌之間，「這是執政危機」；如果蔡英文明明事前知情卻現在裝無辜、裝錯愕，「這是信譽危機。」范世平說，如果蔡英文被葉俊榮騙了，那就命令教育部次長趕快卡住「放管」的公文，如果公文已經出門，就再發一個「放管」公文已經作廢的公文。范世平表示，他真的很好奇為何23日葉俊榮要發訊息給國民黨立委柯志恩稱「自己做了勇敢的決定」，暗示要「放管」，「難道這是傅作義的翻版？是在邀功嗎？民進黨難道被滲透成這樣？」范世平分析，蔡英文想收拾柯文哲這個戰場，卻是鎩羽而歸；現在還想收拾「拔管案」的戰場，似乎是重蹈覆轍，更加治絲益棼，甚至引爆支持者的全面憤怒，「一再誤判，恐怕已經出現決策危機與領導危機了。」', 'kw': ['蔡英文', '這是', '葉俊榮', '卡管案', '賴清德', '放管', '范世平', '危機'], 'img_url': 'https://cdn2.ettoday.net/images/3771/d3771560.jpg', 'ariticle_emotion': 'negative', 'label': 'green', 'abstract': '范世平27日在臉書解釋，如果蔡英文真的被葉俊榮矇在鼓裏，一個總統連一位部長都掌握不了，被一位部長玩弄於股掌之間，「這是執政危機」'})\n",
      "\n",
      "\n",
      "Now sending data to MySQL!\n",
      "Error message : Data was sent to MySQL unsuccessfully!!\n",
      "Now sending data to elasticsearch!\n",
      "Error message: Data was sent to elasticsearch unsuccessfully!!\n",
      "topic=politics_news, partition=0, offset=42 : (key=ettoday, value={'source': 'ETtoday', 'url': 'https://www.ettoday.net/news/20181227/1341502.htm', 'title': '蔡英文是「統一教母」 李正皓：河東到河西僅3年', 'date_': '2018/12/27 13:25', 'author': ['政治中心'], 'content': '對於兩岸關係，國民黨草協聯盟發起人李正皓27日在臉書狠酸總統蔡英文是「統一教母」，執政三年來，各家民調顯示支持「台獨」的比例減少，東澳正名公投以577萬票「不同意」對476萬「同意」沒能過關，連國台辦都重提久未公開宣示的「一中各表」，這都顯示顯示蔡英文的無能，河東到河西不用十年。陸委會日前發出聲明指，大陸要求台灣接受「九二共識」，就是為消滅中華民國，引來國台辦發言人馬曉光回應，「九二共識」是海協會和台灣海基會受權達成了各自以口頭方式表述海峽兩岸均堅持一個中國原則的共識，就像水和空氣一樣重要，不是誰強加給誰的所謂「政治前提」。「看了國台辦的回應，我真心覺得如果過去獨派戲稱馬英九是『台獨教父』；那如今蔡英文就是真正的『統一教母』」，李正皓認為，大陸官方公開承認一中各表是近幾年來釋出最大的善意，兩岸未來的互動短期內不用再被質疑是否只有一中、沒有各表；兩岸的交流在獨派支持者大幅衰退的情況下，阻力也逐漸消失。李正皓說，台灣在此情況下雖然不會直接走向「急統」，但「維持現況」或是「終極統一」的價值將重回主流，而這是不可逆的，一切都要歸功於「統一教母」蔡英文，「沒有蔡英文的執政，我相信台灣的民意反轉絕對不可能如此之快。」', 'kw': ['蔡英文', '國民黨', '台灣', '民進黨', '顯示', '李正皓', '統一', '總統府'], 'img_url': 'https://cdn2.ettoday.net/images/3771/d3771430.jpg', 'ariticle_emotion': 'negative', 'label': 'blue', 'abstract': '對於兩岸關係，國民黨草協聯盟發起人李正皓27日在臉書狠酸總統蔡英文是「統一教母」，執政三年來，各家民調顯示支持「台獨」的比例減少，東澳正名公投以577萬票「不同意」對476萬「同意」沒能過關，連國台辦都重提久未公開宣示的「一中各表」，這都顯示顯示蔡英文的無能，河東到河西不用十年'})\n",
      "\n",
      "\n",
      "Now sending data to MySQL!\n",
      "Error message : Data was sent to MySQL unsuccessfully!!\n",
      "Now sending data to elasticsearch!\n",
      "Error message: Data was sent to elasticsearch unsuccessfully!!\n",
      "topic=politics_news, partition=0, offset=43 : (key=ettoday, value={'source': 'ETtoday', 'url': 'https://www.ettoday.net/news/20181227/1341677.htm', 'title': '滿滿Lamigo桃猿＋璞園隊球星 海軍「2019公益月曆」超熱血', 'date_': '2018/12/27 12:15', 'author': ['政治中心'], 'content': '繼去年的正妹搭猛男風格，海軍司令部今年找來Lamigo桃猿棒球隊、璞園建築籃球隊，一同拍攝2019年公益桌曆，展現出「健康陽光」的形象；三方也在26日進行義賣善款捐贈儀式暨記者會，想讓海軍官兵與職業球星共同為社會注入愛心與暖流。海軍司令部在每年年末推出的公益桌曆，已成例行公事。去年以「暖心英雄」為主題，海軍陸戰隊加上女模特兒的照片，讓整本桌曆超級吸睛，引起熱議；但也因為被網友抓包「修過頭」，以及「太性感」，所以遭受部分負面批評。今年海軍和Lamigo桃猿棒球隊、璞園建築籃球隊知名球星一同參與拍攝，封面寫著大大的「勇敢與榮耀，捍衛我的主場」，整本風格呈現海軍藍色，希望能展現出海軍官兵「勇敢堅毅」和職業球員「健康陽光」的形象。海軍首刷印製1萬4000份，同意授權給桃猿隊、璞園隊配合行銷通路認購，收入將捐贈給「財團法人國軍暨家屬扶助基金會 」及「財團法人高雄市私立基督教山地育幼院（六龜育幼院）」等社福機構，藉以照護國軍官兵眷屬及關懷弱勢團體，使海軍官兵與職業球星共同為社會注入愛心與暖流。', 'kw': ['官兵', '公益月曆', '職業', '璞園建築籃球', '球星', '整本', '海軍', 'Lamigo桃猿'], 'img_url': 'https://cdn2.ettoday.net/images/3792/d3792671.jpg', 'ariticle_emotion': 'negative', 'label': 'green', 'abstract': '海軍首刷印製1萬4000份，同意授權給桃猿隊、璞園隊配合行銷通路認購，收入將捐贈給「財團法人國軍暨家屬扶助基金會 」及「財團法人高雄市私立基督教山地育幼院（六龜育幼院）」等社福機構，藉以照護國軍官兵眷屬及關懷弱勢團體，使海軍官兵與職業球星共同為社會注入愛心與暖流'})\n",
      "\n",
      "\n",
      "Now sending data to MySQL!\n",
      "Error message : Data was sent to MySQL unsuccessfully!!\n",
      "Now sending data to elasticsearch!\n",
      "Error message: Data was sent to elasticsearch unsuccessfully!!\n",
      "topic=politics_news, partition=0, offset=44 : (key=ettoday, value={'source': 'ETtoday', 'url': 'https://www.ettoday.net/news/20181227/1341680.htm', 'title': '何志偉掃街救選情遇忠心狗 網友冒冷汗：等等被咬', 'date_': '2018/12/27 12:08', 'author': ['政治中心'], 'content': '九合一選舉落幕，立委補選戰開打，民進黨的何志偉對戰白色力量「柯家軍」陳思宇、國民黨的陳炳甫，眼看立委選舉在即，何志偉勤跑基層，他27日在臉書分享掃街的心路歷程。何志偉在臉書指出，「掃街其實也是有風險的，比如說遇到忠心狗狗的時候…可是我不能放棄任何一雙手！」貼文一出，網友紛紛留言回應，「怕怕等等被咬」、「加油~唯一只支持你」、「這隻黑狗很帥牠叫黑龍不會咬人的」', 'kw': ['掃街', '何志偉', '怕怕', '立委', '臉書'], 'img_url': 'https://cdn2.ettoday.net/images/3792/d3792755.jpg', 'ariticle_emotion': 'positive', 'label': 'green', 'abstract': '九合一選舉落幕，立委補選戰開打，民進黨的何志偉對戰白色力量「柯家軍」陳思宇、國民黨的陳炳甫，眼看立委選舉在即，何志偉勤跑基層，他27日在臉書分享掃街的心路歷程'})\n",
      "\n",
      "\n",
      "Now sending data to MySQL!\n",
      "Error message : Data was sent to MySQL unsuccessfully!!\n",
      "Now sending data to elasticsearch!\n",
      "Error message: Data was sent to elasticsearch unsuccessfully!!\n",
      "topic=politics_news, partition=0, offset=45 : (key=ettoday, value={'source': 'ETtoday', 'url': 'https://www.ettoday.net/news/20181227/1341720.htm', 'title': '吳敦義改組國民黨布局2020 鎖定蔣萬安、許淑華掌文傳會', 'date_': '2018/12/27 12:00', 'author': ['政治中心'], 'content': '國民黨文傳會主委一職，在前主委李明賢6月底請辭投入港湖區台北市議員選舉後，由文傳會副主委唐德明暫代，吳一直屬意媒體人繼任。今年8月，吳一度向麗寶集團董事長吳寶田借將，邀「最帥男主播」之稱的麗寶國際賽車場總經理朱康震掌國民黨文傳會，但因朱婉拒，未能成局。吳盼藉國民黨文傳會布局帶來新形象，此舉對黨務革新深具指標意義，也被視為吳敦義吹響角逐2020大選、爭取民意與形象牌的號角。不過，許淑華、歐陽龍等均表示，暫未接到吳敦義和黨中央正式徵詢。\\n\\r\\n九合一選後，國民黨秘書長曾永權傳出口頭請辭，甚至有人點名立委江啟臣、蔣萬安接任黨秘書長，吳敦義當時受訪回應，「空穴來風」，但吳也說，「我通通沒意見，沒有任何評論」。文傳會被國民黨視為扮演第一線文宣、議題重炮手任務，今年中前主委李明賢、前副主委鍾沛君、發言人黃健豪紛紛求去，李、鍾成功當選台北市議員，黃也選上台中市議員。原本有5位黨發言人，僅只剩下義務職的發言人洪孟楷與台北市議員王鴻薇。洪孟楷也將投入2020立委選舉。\\n\\n▼連任北市議員失利的歐陽龍可能出任國民黨發言人。（圖／記者李毓康攝） \\n\\n\\r\\n\\xa0', 'kw': [' 國民黨', '國民黨', '發言人', '吳敦義', '朱立倫', '許淑華', '文傳', '主委', '2020', '蔣', '總統大選'], 'img_url': 'https://cdn2.ettoday.net/images/3792/d3792799.jpg', 'ariticle_emotion': 'negative', 'label': 'green', 'abstract': '文傳會被國民黨視為扮演第一線文宣、議題重炮手任務，今年中前主委李明賢、前副主委鍾沛君、發言人黃健豪紛紛求去，李、鍾成功當選台北市議員，黃也選上台中市議員'})\n",
      "\n",
      "\n",
      "Now sending data to MySQL!\n",
      "Error message : Data was sent to MySQL unsuccessfully!!\n",
      "Now sending data to elasticsearch!\n",
      "Error message: Data was sent to elasticsearch unsuccessfully!!\n",
      "topic=politics_news, partition=0, offset=46 : (key=ettoday, value={'source': 'ETtoday', 'url': 'https://www.ettoday.net/news/20181227/1341697.htm', 'title': '盧秀燕連喊3次拚經濟 他「備感壓力」決定關臉書', 'date_': '2018/12/27 11:55', 'author': ['政治中心'], 'content': '台中市長盧秀燕25日上任，在就職典禮上連喊了3次要拚經濟，讓經濟發展局長高禩翔坦言備感壓力，在臉書上表示為了全力投入市政工作，臉書將「暫停營業」。高禩翔為跨國企業CEO，當時公布人事時，盧秀燕就讚高禩翔符合她對台中規劃藍圖，就是拚經濟，貨要賣出去，錢要進來，讓市民賺錢有好生活，而高禩翔一輩子就是在做這些事情。高禩翔在臉書上說，自己人生新的一章服務大眾已跨向第一步，就任以來，大小會議不斷，但他將全力以赴，也對未來充滿信心，在330位同事團隊合作及府會長官領導及協助下，台中市280萬市民的生活品質將愈來愈好，經濟狀況也會愈來愈強。高禩翔也透露，盧秀燕就任演說一連就講了3次「拚經濟」，讓身為經濟發展局長的他倍感壓力，決定臉書「暫停營業」，全力拚經濟。', 'kw': ['國民黨', '盧秀燕', '局長', '書上', '高禩翔', '拚經濟', '台中市', '經濟發展'], 'img_url': 'https://cdn2.ettoday.net/images/3787/d3787308.jpg', 'ariticle_emotion': 'positive', 'label': 'green', 'abstract': '高禩翔在臉書上說，自己人生新的一章服務大眾已跨向第一步，就任以來，大小會議不斷，但他將全力以赴，也對未來充滿信心，在330位同事團隊合作及府會長官領導及協助下，台中市280萬市民的生活品質將愈來愈好，經濟狀況也會愈來愈強'})\n",
      "\n",
      "\n",
      "Now sending data to MySQL!\n",
      "Error message : Data was sent to MySQL unsuccessfully!!\n",
      "Now sending data to elasticsearch!\n",
      "Error message: Data was sent to elasticsearch unsuccessfully!!\n",
      "topic=politics_news, partition=0, offset=47 : (key=ettoday, value={'source': 'ETtoday', 'url': 'https://www.ettoday.net/news/20181227/1341679.htm', 'title': '高志鵬將提非常上訴 「助理索賄200萬卻是老闆坐牢！」', 'date_': '2018/12/27 11:30', 'author': ['翁嫆琄'], 'content': '民進黨前立委高志鵬捲入貪污案，遭判刑4年半、褫奪公權4年定讞。高志鵬27日出面強調自己難以接受，此案是他「一時用人不當」，前助理私下索賄200萬，事後則以政治獻金名義將50萬交給辦公室，事發後該助理卻轉為污點證人，控他貪污，「如果是我藉民眾陳情的機會，要助理去向廠商期約報酬200萬元，何以助理拿了150萬元，卻只給我50萬元？」「助理索賄，老闆坐牢！」高志鵬說，昨天看到最高法院發佈新聞稿，駁回貪污案件上訴，仍維持二審有罪判決，判處四年半的有期徒刑。身為法律人對於司法判決，他會選擇面對不會逃避，但對於這樣的判決結果，實難以接受。他身為立委為服務選民，對於民眾陳情案本應盡可能提供協助，但有誰想到一時用人不當，助理竟會利用陳情案件，私下與廠商約定報酬，事後以政治獻金名義將其中一小部分金額交給選舉期間的辦公室會計人員，於東窗事發後轉為污點證人指稱他「對於職務上行為，要求、期約或收受賄賂或其他不正利益」涉有貪污。他指出，後來法院改以「對於非主管或監督之事務，明知違背法令，利用職權機會或身分圖自己或其他私人之不法利益，因而獲得利益者。」的圖利罪判刑。整件事實的過程，宛如一場閙劇，助理要了兩百萬酬勞，只給他50萬元，當時他還開玩笑說，未來如果要應徵助理，應該很多人應徵，拿那麼多錢，出了事還可以推給老闆，「助理索賄，老闆坐牢」。但經由司法審判後，卻落得貪污罪定讞的結果。高志鵬強調，從頭到他跟對方也不認識，沒見面、沒談過，開協調會也只是請官員來，讓當事人有機會溝通。他也點出此案3項不合理之處，首先，若是他藉民眾陳情的機會，要助理去向廠商期約報酬200萬元，為何助理拿了150萬元，卻只給他50萬元？第二，若是他要助理去向廠商收取期約報酬200萬元，為何助理收了錢後，不立即將賄款交給他，而是等到選舉期間需要籌措選舉經費時，該助理才以「政治獻金」名義將其中50萬元交給辦公室會計人員？第三，他指出，若是為向廠商取得期約報酬，何以他對於該陳情案，只是依一般辦理方式，請官員到立委辦公室讓陳情民眾有機會面對面與官員討論，而不積極向官員施壓、遊說、關說，甚至表示「依法辦事，依法解決」？「在此情形下，法院究竟是依據什麼確認定我是在明知違背法令的情況下去幫廠商陳情？」高志鵬感嘆，所謂兔死狐悲，經此案例後，日後所有立委都得拒絕受理民眾陳情案件，方能免去因用人不當，所可能遭致他人陷構貪污罪責的風險。他也現場向綠委們喊話，以後用人都要多注意，以免「助理拿錢，被抓去關的是老闆」。他也強調，尊重司法，但也相信權利是必須爭取的，他以法律人堅持「正義」的信念，選擇不放棄任何可能救濟的機會，縱使遲來，也願意等待。而11月24日民進黨在九合一大選打了一場敗戰，「打敗仗就會有戰犯，就會有人得當戰俘，為了三重民眾權益，能早日選出新好立委，也為了不拖累民主進步黨，自即日起主動辭去立委與民進黨中常委職務。」高志鵬的律師李勝琛說，國有土地能不能租，不是立委說了就算話 ，是主管的國有財產局，就個案裁量審議，姚姓助理在租的過程拿人家的錢，立委如果有實質影響力，結果為何只能租不能售？綠委劉櫂豪說，面對一個非常離譜不公的法院判決，相信很多台灣人民希望司法改革，需要統一法律見解，一樣在收政治獻金，有人認為這不是立委職務，用輕的判決來判，這案子卻對於一個從頭到尾不知情，助理對外索賄，高志鵬就是立委受到人民請託，開協調會，相關單位必須依法辦理，卻再不知情狀況下收了政治獻金五十萬。綠委蔡易餘說，過去許多判決都認為，立委跟行政機關關心開發案，都不屬於立委職權本身，他強烈支持高志鵬採取任何救濟的途徑 。▼大批綠委都為高志鵬送暖。（圖／記者李毓康攝）', 'kw': ['貪污', '民進黨', '對於', '立委', '助理', '萬元', '高志鵬', '關說'], 'img_url': 'https://cdn2.ettoday.net/images/3792/d3792439.jpg', 'ariticle_emotion': 'negative', 'label': 'green', 'abstract': '高志鵬27日出面強調自己難以接受，此案是他「一時用人不當」，前助理私下索賄200萬，事後則以政治獻金名義將50萬交給辦公室，事發後該助理卻轉為污點證人，控他貪污，「如果是我藉民眾陳情的機會，要助理去向廠商期約報酬200萬元，何以助理拿了150萬元，卻只給我50萬元'})\n",
      "\n",
      "\n",
      "Now sending data to MySQL!\n",
      "Error message : Data was sent to MySQL unsuccessfully!!\n",
      "Now sending data to elasticsearch!\n",
      "Error message: Data was sent to elasticsearch unsuccessfully!!\n"
     ]
    },
    {
     "name": "stdout",
     "output_type": "stream",
     "text": [
      "topic=politics_news, partition=0, offset=48 : (key=ettoday, value={'source': 'ETtoday', 'url': 'https://www.ettoday.net/news/20181227/1341555.htm', 'title': '民進黨砍完吳音寧、葉俊榮 唐湘龍：下一個輪到謝長廷', 'date_': '2018/12/27 11:23', 'author': ['政治中心'], 'content': '民進黨在2018九合一大選中大敗，黨內出現檢討聲浪，第一位下台的就是被網友稱為「高年薪實習生」北農總經理吳音寧，接著是因為管中閔案遞辭呈的教育部長葉俊榮。資深媒體人唐湘龍認為，按照民進黨這樣一步一步「災後重建」下去，下一個「斬」的就是駐日代表謝長廷。唐湘龍在25日播出的《少康戰情室》中提到，民進黨現在開始在做一些「災後重建」、「災後清理」，最早的是吳音寧，大家一開始會覺得，為什麼把帳算在吳音寧身上？現在就知道，吳音寧只是一個開始，是很小很小的一點。現在連葉俊榮都可以請辭，把「卡管」變成「卡賴」，雖然獨派會因此憤怒，但是願意在這種情況下設停損點，願意在這種情況下，像台北事長柯文哲講的「認賠殺出」，都是好的！唐湘龍說，「現在謝長廷看起來是下一個，我認為謝長廷會聞到排隊準備被問斬的味道，下一個大概就是斬謝長廷，謝長廷雖然在簡訊發了『了解』兩個字，但以他的政治歷練，應該知道自己的政治生命大概只到這一刻了。」蘇啓誠輕生爭議延燒，遺孀受訪時透露，丈夫並非因為假新聞的壓力而死，而是開檢討會前一天接到外交部電話，被告知調職、懲處，以及駐處人員考績丙等，而丈夫的遺書是以「羞辱」兩個字來描述要受到的懲處。聲明一出，引發外界認為「外交部逼死蘇啓誠」。國民黨立院黨團總召江啟臣對此批評，謝長廷常常回國處理和外交無關的事情，可以說是最不務正業的駐日代表。而謝長廷面對批評，僅回覆「了解」二字，未多做其他回應。', 'kw': ['現在', '吳音寧', '謝長廷', '葉俊榮', '日本', '民進黨', '駐日代表', '一個', '唐湘龍', '蘇啓誠'], 'img_url': 'https://cdn2.ettoday.net/images/3717/d3717364.jpg', 'ariticle_emotion': 'negative', 'label': 'green', 'abstract': '唐湘龍說，「現在謝長廷看起來是下一個，我認為謝長廷會聞到排隊準備被問斬的味道，下一個大概就是斬謝長廷，謝長廷雖然在簡訊發了『了解』兩個字，但以他的政治歷練，應該知道自己的政治生命大概只到這一刻了'})\n",
      "\n",
      "\n",
      "Now sending data to MySQL!\n",
      "Error message : Data was sent to MySQL unsuccessfully!!\n",
      "Now sending data to elasticsearch!\n",
      "Error message: Data was sent to elasticsearch unsuccessfully!!\n",
      "topic=politics_news, partition=0, offset=49 : (key=ettoday, value={'source': 'ETtoday', 'url': 'https://www.ettoday.net/news/20181227/1341673.htm', 'title': '蔣乃辛棄選北市大安區立委 金溥聰、連勝文被點名搶出線', 'date_': '2018/12/27 11:22', 'author': ['政治中心'], 'content': '蔣乃辛在臉書發文說，1981年12月25日，進入市議會登上民意代表這個舞台，當年一起進入議會的有20多位，包括郁慕明、趙少康、陳水扁、謝長廷、吳碧珠、潘維綱等人，隨著時間推移，有些朋友因為人生規劃相繼離開政壇，前天（12/25）吳碧珠議長也卸下職務不再連任，當年一起進入議會的同袍只剩他一人還在民意代表職位，心中不禁有些感慨。蔣說，民代工作一晃眼已經38年，十次征戰連任了七屆市議員和三屆立委，衷心感激這些年來民眾鄉親的支持與肯定，然而該交棒的時候就該交棒了，思考許久，他決定不再參選下屆大安區立委，讓有新思維、新視野的後起之秀接續任務，開創新局面，讓民眾有更好生活。\\n\\n連勝文是前主席連戰之子，自2014年台北市長選戰失利後，在去年黨主席選戰中，連出席郝龍斌造勢大會，最後挺黨主席吳敦義舉動，包括親近連勝文的台北市議員徐弘庭、張斯綱、台中市議員黃健豪等勝出，以及連家軍超過30位黨代表，顯示連勝文仍具有豐沛實力，被視為有意問鼎2020立委選舉。\\n\\r\\n選舉出身甫遞補不分區立委的林奕華也可望投入台北市大安文山區立委選舉，其他包括國民黨不分區立委王育敏、許毓仁、前立委孫大千、張顯耀也都傳出可能轉戰北市參選立委。在議員選舉中拿下選區最高票的北市議員王鴻薇、羅智強等，也被點名可能挑戰立委。\\n\\n▼甫遞補不分區立委的林奕華可望轉戰區域立委。（圖／記者李毓康攝） \\n\\r\\n\\xa0', 'kw': ['不分區立委', '蔣乃辛', '金溥聰', '民意代表', '連勝文', '立委', '進入'], 'img_url': 'https://cdn2.ettoday.net/images/2638/d2638100.jpg', 'ariticle_emotion': 'positive', 'label': 'green', 'abstract': '選舉出身甫遞補不分區立委的林奕華也可望投入台北市大安文山區立委選舉，其他包括國民黨不分區立委王育敏、許毓仁、前立委孫大千、張顯耀也都傳出可能轉戰北市參選立委'})\n",
      "\n",
      "\n",
      "Now sending data to MySQL!\n",
      "Error message : Data was sent to MySQL unsuccessfully!!\n",
      "Now sending data to elasticsearch!\n",
      "Error message: Data was sent to elasticsearch unsuccessfully!!\n",
      "topic=politics_news, partition=0, offset=50 : (key=ettoday, value={'source': 'ETtoday', 'url': 'https://www.ettoday.net/news/20181227/1341501.htm', 'title': '連勝文「不重視家庭背景」 培養年輕人靠自己努力', 'date_': '2018/12/27 11:21', 'author': ['政治中心'], 'content': '國民黨中央委員連勝文積極培養黨內青年，本次九合一選舉，除了子弟兵徐弘庭、黃健豪、張斯綱外，強力輔選的青壯派包括李明賢、闕枚莎、王鴻薇、陳炳甫、李柏毅、陳明義、陳偉杰、耿葳，共11人全上。連勝文說，培養年輕人，首先重視的性格，家庭背景並不重要，「未來還是會持續幫助年輕人，不用靠風水，也不用靠拍馬屁，或永遠在期待上級關愛的眼神，就靠我們自己，共同來努力」。連勝文表示，在他辦公室同一個位子上，已經接連出了徐弘庭、黃健豪兩個年輕的市議員，他們都在同樣的位置上坐了兩年，經歷了一定的產經專業訓練，也都是在三十歲上下第一次參選即當選！連勝文指出，這兩個沒有什麼特殊背景的年輕人，靠自己的奮鬥才是勝選關鍵。以新當選的黃健豪為例，他是個努力、積極的年輕人，他曾擔任國民黨青年團總團長，也曾幫忙輔選，後來到經濟部工作，再擔任天使基金的經理人，參與扶植青創產業，具有輔導創新及創業的專業，更是一名孝子，當他得知父親罹患肝病，毫不猶豫就決定捐肝救父，令人感動。連勝文強調，他培養年輕人，首先重視的就是性格，要正派而且積極主動，希望這些年輕人能夠主動面對機會與挑戰，積極的尋找解決問題的方法，做錯沒関係，但一定要從錯誤中學習。第二，連勝文指出，他極度重視產業或財金專業的訓練，並不在乎年輕人學校科系是唸什麼，但對自己不懂的事，是否願意在工作中學習非常重要，「我認為想從政的人，必須要有一定的產業或財金訓練，不能滿腦子都是政治，而對經濟毫無概念」像徐弘庭對金融投資及電子支付非常了解，而黃健豪則是對創新創業及電商和虛擬貨幣非常有概念。「我們並不重視個人的家庭背景，因我認為個人的表現才是最重要的！做人正派，堅持理念，做事認真且有耐心，這才是最好的特質！」連勝文強調，未來仍會持續培養願意努力的年輕人，幫助他們，不用靠風水，也不用靠拍馬屁，或永遠在期待上級關愛的眼神，就靠自己努力。', 'kw': ['黃健豪', '國民黨', '重視', '年輕人', '連勝文', '培養'], 'img_url': 'https://cdn2.ettoday.net/images/3765/d3765968.jpg', 'ariticle_emotion': 'positive', 'label': 'blue', 'abstract': '第二，連勝文指出，他極度重視產業或財金專業的訓練，並不在乎年輕人學校科系是唸什麼，但對自己不懂的事，是否願意在工作中學習非常重要，「我認為想從政的人，必須要有一定的產業或財金訓練，不能滿腦子都是政治，而對經濟毫無概念」像徐弘庭對金融投資及電子支付非常了解，而黃健豪則是對創新創業及電商和虛擬貨幣非常有概念'})\n",
      "\n",
      "\n",
      "Now sending data to MySQL!\n",
      "Error message : Data was sent to MySQL unsuccessfully!!\n",
      "Now sending data to elasticsearch!\n",
      "Error message: Data was sent to elasticsearch unsuccessfully!!\n",
      "topic=politics_news, partition=0, offset=51 : (key=ettoday, value={'source': 'ETtoday', 'url': 'https://www.ettoday.net/news/20181227/1341569.htm', 'title': '都是為了蘇貞昌？葉俊榮清理戰場 「放管」被叮到滿頭包', 'date_': '2018/12/27 10:43', 'author': ['政治中心'], 'content': '前教育部長葉俊榮才因同意聘任管中閔擔任台大校長被罵翻，前行政院長蘇貞昌就被點名將回鍋接閣揆，時間點巧合，民進黨內傳出這是應蘇貞昌要求清理戰場，把賴內閣的「爛攤子」處理掉，為重返行政院鋪路。民進黨九合一大選慘敗，行政院長賴清德隨即請辭負責遭慰留，但他辭意堅定，日前就曾表示「時間一到會離開」，而今蘇貞昌被爆將重掌行政院，最快1月總預算案後就會上任。據了解，行政院秘書長卓榮泰參選黨主席後，黨內已經開始啟動布局，包括部分縣市一級主管在內的蘇的子弟兵，也紛紛請辭或未上任，日前已在政壇傳得沸沸揚揚，蘇內閣上任已經呼之欲出。對此，府院未多做回應，強調沒有相關訊息。蘇貞昌陣營則重申，尊重賴院長的想法。據 《上報》報導，有黨政知情人士透露，民進黨內盛傳，為了要讓蘇貞昌點頭接任行政院長，必須先「清理戰場」，管中閔案就是賴清德下台前首要處理的第一要務。報導也指出，蘇貞昌先後見了總統府秘書長陳菊和賴清德，解決管中閔案的說法就在民進黨內傳開來，隨後葉俊榮就突然宣布「勉予同意」管中閔就任台大校長，時機點引人好奇，畢竟賴清德預定一月中離開，除非是有必須要馬上處理的理由，否則不會這麼急。', 'kw': ['民進黨', '賴清德', '管中閔', '蘇貞昌', '行政院', '處理'], 'img_url': 'https://cdn2.ettoday.net/images/3719/d3719310.jpg', 'ariticle_emotion': 'negative', 'label': 'green', 'abstract': '報導也指出，蘇貞昌先後見了總統府秘書長陳菊和賴清德，解決管中閔案的說法就在民進黨內傳開來，隨後葉俊榮就突然宣布「勉予同意」管中閔就任台大校長，時機點引人好奇，畢竟賴清德預定一月中離開，除非是有必須要馬上處理的理由，否則不會這麼急'})\n",
      "\n",
      "\n",
      "Now sending data to MySQL!\n",
      "Error message : Data was sent to MySQL unsuccessfully!!\n",
      "Now sending data to elasticsearch!\n",
      "Error message: Data was sent to elasticsearch unsuccessfully!!\n",
      "topic=politics_news, partition=0, offset=52 : (key=ettoday, value={'source': 'ETtoday', 'url': 'https://www.ettoday.net/news/20181227/1341588.htm', 'title': '2020總統大選最新民調 藍33%拱朱立倫、綠46%挺賴清德出戰', 'date_': '2018/12/27 10:41', 'author': ['政治中心'], 'content': '最新民調出爐，國民黨被點名可能角逐2020總統寶座的人當中，目前以前新北市長朱立倫最受青睞，獲得33%的支持率；民進黨則以行政院長賴清德聲勢最高，以46%的支持率，大贏總統蔡英文的14%。據《聯合報》最新民調，國民黨方面，朱立倫獲得33%的支持率，是黨內最受青睞的總統候選人，緊接著是前立法院長王金平15%、前行政院長張善政8%、前總統馬英九%、黨主席吳敦義3%，其中有14%的人都不支持，20%未決定。民進黨方面，以賴清德聲勢最高，以46%的支持率，大贏蔡英文的14%，有25%的人兩者都不支持，有16%的人未決定。但如果台北市長柯文哲也投入選戰，不論和誰對戰支持率都維持在41%以上，藍綠兩黨的最有優勢的朱立倫、蔡英文與賴清德等3位人選，瞬間都被邊緣化，差距至少都是13%起跳。', 'kw': ['蔡英文', '民調', '國民黨', '支持率', '吳敦義', '14', '朱立倫', '賴清德', '王金平', '馬英九', '張善政'], 'img_url': 'https://cdn2.ettoday.net/images/3792/d3792238.jpg', 'ariticle_emotion': 'positive', 'label': 'blue', 'abstract': '據《聯合報》最新民調，國民黨方面，朱立倫獲得33%的支持率，是黨內最受青睞的總統候選人，緊接著是前立法院長王金平15%、前行政院長張善政8%、前總統馬英九%、黨主席吳敦義3%，其中有14%的人都不支持，20%未決定'})\n",
      "\n",
      "\n",
      "Now sending data to MySQL!\n",
      "Error message : Data was sent to MySQL unsuccessfully!!\n",
      "Now sending data to elasticsearch!\n",
      "Error message: Data was sent to elasticsearch unsuccessfully!!\n",
      "topic=politics_news, partition=0, offset=53 : (key=ettoday, value={'source': 'ETtoday', 'url': 'https://www.ettoday.net/news/20181227/1341543.htm', 'title': '新北三重立委補選若推陳景峻 將成為2020白綠合作指標', 'date_': '2018/12/27 10:09', 'author': ['政治中心'], 'content': '台北市長柯文哲與民進黨從過去「白綠合作」走向分裂，北市立委補選各推人選，但民進黨立委高志鵬因關說案被判刑4年6月、褫奪公權4年，等於丟掉立委資格，依法須在3個月內進行新北市三重立委的補選，若白綠雙方共推前台北副市長陳景峻參選，將成為2020總統大選白綠合作指標。三重向來是民進黨鐵票倉，立委單一選區兩票制實施以來，國民黨從未獲勝過，但近年來鐵票區逐漸鬆動，2012年高志鵬拿下9萬6000多票，險勝國民黨對手李乾龍約2000票。2016年政黨輪替，民進黨奪回執政權，但高志鵬也只拿下9萬5000多票，不增反減；以往民進黨候選人在三重至少會贏國民黨數萬票，但2018新北市長選舉，蘇貞昌得票10萬823票，只贏國民黨對手侯友宜不到900票。民進黨內部有意推舉新北市黨部主委余天，他雖曾在三重區獲勝，但大環境對民進黨不利，加上國民黨聲勢上漲，若推出余天可能失守鐵票區。被問到是否會再戰三重區立委，余天26日以簡短回應，雖然本身沒意願，但一切尊重黨中央決定，後續會再開會進行協調，「如果妻子亞萍有意願，叫她去選也可以」。若白、綠雙方釋出合作善意，共推與白綠關係良好的陳景峻，對民進黨而言，這次立委補選可成為修補關係的契機，且一旦勝選，也為2020白綠合作奠基。', 'kw': ['國民黨', '余天', '陳景峻', '柯文哲', '三重', '白綠合作', '民進黨', '立委補選', '補選', '新北', '立委'], 'img_url': 'https://cdn2.ettoday.net/images/3791/d3791849.jpg', 'ariticle_emotion': 'negative', 'label': 'green', 'abstract': '三重向來是民進黨鐵票倉，立委單一選區兩票制實施以來，國民黨從未獲勝過，但近年來鐵票區逐漸鬆動，2012年高志鵬拿下9萬6000多票，險勝國民黨對手李乾龍約2000票'})\n",
      "\n",
      "\n",
      "Now sending data to MySQL!\n",
      "Error message : Data was sent to MySQL unsuccessfully!!\n",
      "Now sending data to elasticsearch!\n",
      "Error message: Data was sent to elasticsearch unsuccessfully!!\n",
      "topic=politics_news, partition=0, offset=54 : (key=ettoday, value={'source': 'ETtoday', 'url': 'https://www.ettoday.net/news/20181227/1341503.htm', 'title': '不只韓國瑜 吳音寧也睡過菜市場卻被酸「連房租都可省」', 'date_': '2018/12/27 09:50', 'author': ['政治中心'], 'content': '高雄市長韓國瑜正式上任，就職典禮當晚兌現選前承諾，夜宿果菜市場，引來大批韓粉到場一睹風采。不過，睡在市場的可不只韓國瑜一人，前北農總經理吳音寧當初接下職位時，也以此為家。韓國瑜25日晚間至高雄果菜市場夜宿，睡在總經理寢室，裡頭準備了一張雙人床及一條被子，凌晨3點就起床，向市場內的攤商打氣。韓國瑜也說，光是床鋪就已比過去北農時期的舒服，並稱能夠回到菜市場睡覺非常開心。事實上，吳音寧接掌北農時也以「菜市場為家」，北上第一晚就睡在菜市場總經理辦公室，當時透露短期內沒有找房子的打算，就直接睡在菜市場，盼能快點進入狀況，但卻惹來網友狂酸，「連房租都可省」、「靠爸族」、「又開始造神運動了」。', 'kw': ['菜市場', '國民黨', '吳音寧', '民進黨', '韓國瑜', '北農', '果菜市場', '市場'], 'img_url': 'https://cdn2.ettoday.net/images/3787/d3787490.jpg', 'ariticle_emotion': 'positive', 'label': 'green', 'abstract': '韓國瑜25日晚間至高雄果菜市場夜宿，睡在總經理寢室，裡頭準備了一張雙人床及一條被子，凌晨3點就起床，向市場內的攤商打氣'})\n",
      "\n",
      "\n",
      "Now sending data to MySQL!\n",
      "Error message : Data was sent to MySQL unsuccessfully!!\n",
      "Now sending data to elasticsearch!\n",
      "Error message: Data was sent to elasticsearch unsuccessfully!!\n"
     ]
    },
    {
     "name": "stdout",
     "output_type": "stream",
     "text": [
      "topic=politics_news, partition=0, offset=55 : (key=ettoday, value={'source': 'ETtoday', 'url': 'https://www.ettoday.net/news/20181227/1341193.htm', 'title': '政治獻金大公開！柯文哲上次選市長收1.4億 7成8來自個人捐贈', 'date_': '2018/12/27 09:31', 'author': ['潘永鴻'], 'content': '監察院26日公布最新《廉政專刊》，台北市長柯文哲在今年10月 25 日申請更正申報2014年台北市長選舉的政治獻金，就上次台北市長選舉，柯文哲共花費 1.4億元左右、收入則是1.39億元，總餘額是負2,537,103元，等於不足253多萬元。監察院公布第139期廉政專刊。柯文哲的政治獻金收支結算表裡，103年4月25日到12月29日，總收入共139,825,881元，這包括，個人捐贈收入115,007,009元、營利事業捐贈收入8,643,400元、政黨捐贈收入0元、人民團體捐贈收入1,807,000元、匿名捐贈收入14,346,822元、其他收入21,650元。超過三萬元之收入合計83,656,141元，金錢收入總額：138,742,341元、非金錢收入總額：1,083,540元。就支出部分總計：142,362,984元，其中較大宗的支出包括，人事費用支出33,340,335元、宣傳支出64,926,802元、集會支出26,694,072元。整體而言，總餘額是負2,537,103元。', 'kw': ['政治獻金', '收入', '監察院', '柯文哲', '捐贈', '支出', '26'], 'img_url': 'https://cdn2.ettoday.net/images/3789/d3789565.jpg', 'ariticle_emotion': 'negative', 'label': 'blue', 'abstract': '柯文哲的政治獻金收支結算表裡，103年4月25日到12月29日，總收入共139,825,881元，這包括，個人捐贈收入115,007,009元、營利事業捐贈收入8,643,400元、政黨捐贈收入0元、人民團體捐贈收入1,807,000元、匿名捐贈收入14,346,822元、其他收入21,650元'})\n",
      "\n",
      "\n",
      "Now sending data to MySQL!\n",
      "Error message : Data was sent to MySQL unsuccessfully!!\n",
      "Now sending data to elasticsearch!\n",
      "Error message: Data was sent to elasticsearch unsuccessfully!!\n",
      "topic=politics_news, partition=0, offset=56 : (key=ettoday, value={'source': 'ETtoday', 'url': 'https://www.ettoday.net/news/20181227/1341472.htm', 'title': '針對總統大選的初選機制 孫大千想問黨中央6個問題', 'date_': '2018/12/27 08:59', 'author': ['政治中心'], 'content': '前新北市長朱立倫盼國民黨黨內有公開透明機制，推派出最佳總統候選人。對此，前國民黨立委孫大千27日針對總統大選的初選機制，在臉書提出6個問題。朱立倫24日卸下新北市長一職，立即宣布將成立工作室，投入2020年總統選舉，朱立倫的幕僚透露，朱立倫遵從國民黨內初選機制，搶先表態以呼應民眾的期待，主要是希望國民黨不要私下喬人選，盼黨內有公開透明機制，產生最佳總統候選人。對此，針對總統大選的初選機制，孫大千想問國民黨黨中央6個問題，第一，2020年的總統大選對國民黨來說，是不是最重要的一場選戰？第二，黨內高層早已心知肚明，2020年的總統和立委不可能分開選舉，對不對？孫大千質問，第三，為什麼遲至今日，黨中央仍然不願意針對總統大選的初選制度，提出一套清楚明白的遊戲規則呢？\\r\\n第四，這樣的拖拖拉拉，曖昧不明，是否是要為了特定人士保留運作的彈性空間？孫大千反問，第五，身為有志於領導台灣的未來，解決人民的困境的最大在野黨，為什麼不能展現出「大開大闔，大公無私」的氣魄？第六，國民黨究竟是在怕什麼？', 'kw': ['國民黨', '孫大千', '朱立倫', '機制', '總統大選'], 'img_url': 'https://cdn2.ettoday.net/images/3787/d3787333.jpg', 'ariticle_emotion': 'positive', 'label': 'green', 'abstract': '對此，針對總統大選的初選機制，孫大千想問國民黨黨中央6個問題，第一，2020年的總統大選對國民黨來說，是不是最重要的一場選戰'})\n",
      "\n",
      "\n",
      "Now sending data to MySQL!\n",
      "Error message : Data was sent to MySQL unsuccessfully!!\n",
      "Now sending data to elasticsearch!\n",
      "Error message: Data was sent to elasticsearch unsuccessfully!!\n",
      "type ==> <class 'KeyboardInterrupt'>\n",
      "value ==> \n",
      "traceback ==> file name: <ipython-input-20-ec047f62df0a>\n",
      "traceback ==> line no: 26\n",
      "traceback ==> function name: <module>\n"
     ]
    }
   ],
   "source": [
    "if __name__ == \"__main__\":\n",
    "    # 步驟1.設定要連線到Kafka集群的相關設定, 產生一個Kafka的Consumer的實例\n",
    "    consumer = KafkaConsumer(\n",
    "        # Kafka集群在那裡?\n",
    "        bootstrap_servers=[\"kafka1:29092\"],\n",
    "        # ConsumerGroup的名稱\n",
    "        group_id=\"politics_news01\",\n",
    "        # 指定msgKey的反序列化器, 若Key為None, 無法反序列化\n",
    "        key_deserializer=bytes.decode,\n",
    "        # 指定msgValue的反序列化器\n",
    "        #value_deserializer=bytes.decode,\n",
    "        value_deserializer=lambda m: json.loads(m.decode('utf-8')),\n",
    "        # 是否從這個ConsumerGroup尚未讀取的partition / offset開始讀\n",
    "        auto_offset_reset=\"earliest\",\n",
    "    )\n",
    "    # 步驟2.指定想要訂閱訊息的topic名稱\n",
    "    topic_name = \"politics_news\"\n",
    "    # 步驟3.讓Consumer向Kafka集群訂閱指定的topic\n",
    "    consumer.subscribe(topics = topic_name)\n",
    "\n",
    "\n",
    "    # 步驟4.持續的拉取Kafka有進來的訊息\n",
    "    try:\n",
    "        print(\"Now listening for incoming messages ...\",\"\\n\")\n",
    "        # 持續監控是否有新的record進來 - 方法一\n",
    "        for record in consumer:\n",
    "            topic = record.topic\n",
    "            partition = record.partition\n",
    "            offset = record.offset\n",
    "            timestamp = record.timestamp\n",
    "        \n",
    "            # 取出msgKey與msgValue\n",
    "            msgKey = record.key\n",
    "            msgValue = record.value\n",
    "            try:\n",
    "                # 將新聞作者欄位做處理後再放回\n",
    "                if msgValue[\"source\"] == \"TVBS\":      \n",
    "                    msgValue[\"author\"] = tvbs_author_etl(msgValue[\"author\"][0])\n",
    "                elif msgValue[\"source\"] == \"SETN\":\n",
    "                    msgValue[\"author\"] = setn_author_etl(msgValue[\"author\"][0])\n",
    "                elif msgValue[\"source\"] == \"ETtoday\":\n",
    "                    msgValue[\"author\"] = ettoday_author_etl(msgValue[\"author\"][0])\n",
    "\n",
    "                # 將新聞內文做文章情緒分析並加入欄位與結果\n",
    "                msgValue[\"ariticle_emotion\"] = emo_swinger(msgValue[\"content\"])\n",
    "                # 將新聞內文做關鍵字分析再合併至新聞抓到的關鍵字列表，並把重複的篩選掉\n",
    "                content_keyword = keyword_analysis(msgValue[\"content\"])\n",
    "                for k in content_keyword:\n",
    "                    msgValue[\"kw\"].append(k)\n",
    "                msgValue[\"kw\"] = list(set(msgValue[\"kw\"]))\n",
    "                # 將新聞內文做藍綠分析並加入欄位結果\n",
    "                msgValue[\"label\"] = label_predict(msgValue[\"content\"])\n",
    "                # 將新聞做文章摘要並加入欄位與結果\n",
    "                msgValue[\"abstract\"] = news_summary(msgValue[\"content\"])\n",
    "\n",
    "                # 秀出metadata與msgKey & msgValue訊息\n",
    "                print(\"topic=%s, partition=%s, offset=%s : (key=%s, value=%s)\" % (record.topic, record.partition,\n",
    "                                                                                  record.offset, record.key, msgValue))\n",
    "                print(\"\\n\")             \n",
    "                \n",
    "                # TCP連線到logstash\n",
    "                etl_analysis_logger.addHandler(logstash.TCPLogstashHandler(host, 5000, version=1))\n",
    "                # 爬蟲成功傳送至Elasticsearch的log訊息\n",
    "                etl_analysis_logger.info('python-etl-logstash: Success!')\n",
    "                etl_analysis_logger.handlers.clear()\n",
    "            except:\n",
    "                print(\"Data ETL was unsuccessful!!\")\n",
    "                etl_analysis_logger.addHandler(logstash.TCPLogstashHandler(host, 5000, version=1))\n",
    "                etl_analysis_logger.error('python-etl-logstash: Error message!! [' + msgValue[\"url\"] + ']')\n",
    "                etl_analysis.handlers.clear()\n",
    "\n",
    "            \n",
    "            try:\n",
    "                print(\"Now sending data to MySQL!\")\n",
    "                # 將資料送入MySQL\n",
    "                ip_location = 'chatbot_api'\n",
    "\n",
    "                News = msgValue\n",
    "\n",
    "                # 將json傳回API Server\n",
    "                Endpoint = 'http://%s:5000/news' % (ip_location)\n",
    "\n",
    "                # header要特別註明是json格式\n",
    "                Header = {'Content-Type':'application/json'}\n",
    "\n",
    "                # 傳送post對API server新增資料 \n",
    "                Response = requests.post(Endpoint,headers=Header,data=json.dumps(News))\n",
    "\n",
    "                # 印出Response的資料訊息\n",
    "                print(Response)\n",
    "                Response = Response.json()\n",
    "                print(Response)\n",
    "                print(\"Data was sent to MySQL successfully!\")\n",
    "                print(\"\\n\")\n",
    "                \n",
    "                # TCP連線到logstash\n",
    "                mysql_logger.addHandler(logstash.TCPLogstashHandler(host, 5000, version=1))\n",
    "                # 爬蟲成功傳送至MySQL的log訊息\n",
    "                mysql_logger.info('python-data2mysql-logstash: Success!')\n",
    "                mysql_logger.handlers.clear()\n",
    "            except:\n",
    "                print(\"Error message : Data was sent to MySQL unsuccessfully!!\")\n",
    "                mysql_logger.addHandler(logstash.TCPLogstashHandler(host, 5000, version=1))\n",
    "                mysql_logger.error('python-data2mysql-logstash: Error message!! [' + News[\"url\"] + ']')\n",
    "                mysql_logger.handlers.clear()\n",
    "                \n",
    "            try:\n",
    "                print(\"Now sending data to elasticsearch!\")\n",
    "                # 將資料送入Elasticsearch\n",
    "                elasticsearch_data = msgValue\n",
    "                elasticsearch_data[\"@timestamp\"] = datetime.now().replace(tzinfo = tz_utc_8)            \n",
    "                # 將資料放入Elasticsearch，若沒有index，會直接建立index、type \n",
    "                es.index(index = 'news', doc_type = 'politics', body = elasticsearch_data, refresh = True )\n",
    "                print(\"Data was sent to elasticsearch successfully!\")\n",
    "                print(\"\\n\")\n",
    "                \n",
    "                # TCP連線到logstash\n",
    "                elasticsearch_logger.addHandler(logstash.TCPLogstashHandler(host, 5000, version=1))\n",
    "                # 爬蟲成功傳送至Elasticsearch的log訊息\n",
    "                elasticsearch_logger.info('python-data2elasticsearch-logstash: Success!')\n",
    "                elasticsearch_logger.handlers.clear()     \n",
    "            except:\n",
    "                print(\"Error message: Data was sent to elasticsearch unsuccessfully!!\")\n",
    "                elasticsearch_logger.addHandler(logstash.TCPLogstashHandler(host, 5000, version=1))\n",
    "                elasticsearch_logger.error('python-data2elasticsearch-logstash: Error message!! [' + elasticsearch_data[\"url\"] + ']')\n",
    "                elasticsearch_logger.handlers.clear()\n",
    "\n",
    "    except:\n",
    "        # 錯誤處理\n",
    "        e_type, e_value, e_traceback = sys.exc_info()\n",
    "        print(\"type ==> %s\" % (e_type))\n",
    "        print(\"value ==> %s\" % (e_value))\n",
    "        print(\"traceback ==> file name: %s\" % (e_traceback.tb_frame.f_code.co_filename))\n",
    "        print(\"traceback ==> line no: %s\" % (e_traceback.tb_lineno))\n",
    "        print(\"traceback ==> function name: %s\" % (e_traceback.tb_frame.f_code.co_name))\n",
    "    finally:\n",
    "        consumer.close()"
   ]
  },
  {
   "cell_type": "code",
   "execution_count": null,
   "metadata": {},
   "outputs": [],
   "source": []
  },
  {
   "cell_type": "code",
   "execution_count": null,
   "metadata": {},
   "outputs": [],
   "source": []
  }
 ],
 "metadata": {
  "kernelspec": {
   "display_name": "Python 3",
   "language": "python",
   "name": "python3"
  },
  "language_info": {
   "codemirror_mode": {
    "name": "ipython",
    "version": 3
   },
   "file_extension": ".py",
   "mimetype": "text/x-python",
   "name": "python",
   "nbconvert_exporter": "python",
   "pygments_lexer": "ipython3",
   "version": "3.6.5"
  }
 },
 "nbformat": 4,
 "nbformat_minor": 2
}
