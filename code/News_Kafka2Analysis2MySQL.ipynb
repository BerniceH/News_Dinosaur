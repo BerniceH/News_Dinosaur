{
 "cells": [
  {
   "cell_type": "markdown",
   "metadata": {},
   "source": [
    "正則表達式:TVBS清理作者格式方法"
   ]
  },
  {
   "cell_type": "code",
   "execution_count": 31,
   "metadata": {},
   "outputs": [],
   "source": [
    "import re\n",
    "#作者欄位清理方法，要放author[0]\n",
    "def tvbs_author_etl(author_text):\n",
    "    author = []\n",
    "    author_text = re.sub(r\"記者  \", \"\", author_text)\n",
    "    author_text = re.sub(r\" / 攝影.*\", \"\", author_text)\n",
    "    author_text = re.sub(r\" / \", \"\", author_text)\n",
    "    author_text = re.sub(r\"編輯  \", \"\", author_text)\n",
    "    author_text = re.sub(r\" 報導\", \"\", author_text)\n",
    "    author_text = re.sub(r\" \", \",\", author_text)\n",
    "    #如果有多位作者，使用、斷開，並一一取出放進list\n",
    "    if author_text.find(\",\") != -1:\n",
    "        author_text = author_text.split(\",\")\n",
    "        for a in author_text:\n",
    "            author.append(a)\n",
    "    elif author_text == \"\":\n",
    "        author = []\n",
    "    else:\n",
    "        author.append(author_text)\n",
    "    return author"
   ]
  },
  {
   "cell_type": "markdown",
   "metadata": {},
   "source": [
    "正則表達式:SETN清理作者格式方法"
   ]
  },
  {
   "cell_type": "code",
   "execution_count": 32,
   "metadata": {},
   "outputs": [],
   "source": [
    "#SETN作者欄位清理方法，要放author[0]\n",
    "def setn_author_etl(author_text):\n",
    "    author = []\n",
    "    #將／XX報導XX字串清除\n",
    "    author_text = re.sub(r\"／.*報導.*\", \"\", author_text)\n",
    "    #將／XX特稿XX字串清除\n",
    "    author_text = re.sub(r\"／.*特稿.*\", \"\", author_text)\n",
    "    #將記者字串清除\n",
    "    author_text = re.sub(r\"記者\", \"\", author_text)\n",
    "    #將文／字串清除\n",
    "    author_text = re.sub(r\"文／\", \"\", author_text)\n",
    "    #如果有多位作者，使用、斷開，並一一取出放進list\n",
    "    if author_text.find(\"、\") != -1:\n",
    "        author_text = author_text.split(\"、\")\n",
    "        for a in author_text:\n",
    "            author.append(a)\n",
    "    else:\n",
    "        author.append(author_text)\n",
    "    return author"
   ]
  },
  {
   "cell_type": "markdown",
   "metadata": {},
   "source": [
    "正則表達式:ETtoday清理作者格式方法"
   ]
  },
  {
   "cell_type": "code",
   "execution_count": 49,
   "metadata": {},
   "outputs": [],
   "source": [
    "#ETtoday作者欄位清理方法，要放author[0]\n",
    "def ettoday_author_etl(author_text):\n",
    "    author = []\n",
    "    author_text = re.sub(\"／.?.?報導.*\", \"\", author_text)\n",
    "    author_text = re.sub(\".*記者\", \"\", author_text)\n",
    "    author_text = re.sub(\"\\xa0\", \"\", author_text)\n",
    "    #如果有多位作者，使用、斷開，並一一取出放進list\n",
    "    if author_text.find(\"、\") != -1:\n",
    "        author_text = author_text.split(\"、\")\n",
    "        for a in author_text:\n",
    "            author.append(a)\n",
    "    elif author_text == \"\":\n",
    "        author = []\n",
    "    else:\n",
    "        author.append(author_text)\n",
    "    return author"
   ]
  },
  {
   "cell_type": "markdown",
   "metadata": {},
   "source": [
    "文章正反面情緒分析 需要的套件"
   ]
  },
  {
   "cell_type": "code",
   "execution_count": 33,
   "metadata": {},
   "outputs": [],
   "source": [
    "#在dockerfile的指令\n",
    "#RUN !pip install udicOpenData\n",
    "#RUN !pip install Swinger\n",
    "#ADD ./dict_all.txt /opt/conda/lib/python3.6/site-packages/udicOpenData/dictionary/\n",
    "from udicOpenData.dictionary import *\n",
    "jieba.load_userdict(os.path.join(DIR_NAME, 'dict_all.txt'))\n",
    "#要等一下子\n",
    "from Swinger import Swinger"
   ]
  },
  {
   "cell_type": "markdown",
   "metadata": {},
   "source": [
    "文章正反面情緒分析方法"
   ]
  },
  {
   "cell_type": "code",
   "execution_count": 34,
   "metadata": {},
   "outputs": [],
   "source": [
    "def emo_swinger(content, model='LogisticRegression'):\n",
    "    s = Swinger()\n",
    "    s.load(model) \n",
    "    # default model= \"LogisticRegression\", 可替換為\"MultinomialNB\"\n",
    "    emo_result = s.swing(content)\n",
    "    if emo_result == \"pos\":\n",
    "        result = \"positive\"\n",
    "    elif emo_result == \"neg\":\n",
    "        result = \"negative\"\n",
    "    return result"
   ]
  },
  {
   "cell_type": "markdown",
   "metadata": {},
   "source": [
    "文章藍綠貼標分析 需要的套件"
   ]
  },
  {
   "cell_type": "code",
   "execution_count": 35,
   "metadata": {},
   "outputs": [
    {
     "name": "stdout",
     "output_type": "stream",
     "text": [
      "Requirement already satisfied: pandas in /opt/conda/lib/python3.6/site-packages (0.23.4)\n",
      "Requirement already satisfied: numpy>=1.9.0 in /opt/conda/lib/python3.6/site-packages (from pandas) (1.15.4)\n",
      "Requirement already satisfied: python-dateutil>=2.5.0 in /opt/conda/lib/python3.6/site-packages (from pandas) (2.7.3)\n",
      "Requirement already satisfied: pytz>=2011k in /opt/conda/lib/python3.6/site-packages (from pandas) (2018.7)\n",
      "Requirement already satisfied: six>=1.5 in /opt/conda/lib/python3.6/site-packages (from python-dateutil>=2.5.0->pandas) (1.11.0)\n"
     ]
    }
   ],
   "source": [
    "!pip install pandas \n",
    "import jieba\n",
    "import pandas as pd\n",
    "from sklearn.feature_extraction.text import CountVectorizer\n",
    "from sklearn.naive_bayes import MultinomialNB\n",
    "from sklearn.externals import joblib"
   ]
  },
  {
   "cell_type": "markdown",
   "metadata": {},
   "source": [
    "將jieba斷詞寫成方法"
   ]
  },
  {
   "cell_type": "code",
   "execution_count": 36,
   "metadata": {},
   "outputs": [],
   "source": [
    "def cutflow(p):\n",
    "    cutresult = \" \".join(jieba.cut(p))\n",
    "    return cutresult.replace(\"\\r\", \"\").replace(\"\\n\", \"\")"
   ]
  },
  {
   "cell_type": "markdown",
   "metadata": {},
   "source": [
    "載入詞向量模型與貝氏模型"
   ]
  },
  {
   "cell_type": "code",
   "execution_count": 37,
   "metadata": {},
   "outputs": [],
   "source": [
    "clg = joblib.load('clg') \n",
    "vec = joblib.load('vec') "
   ]
  },
  {
   "cell_type": "markdown",
   "metadata": {},
   "source": [
    "文章藍綠貼標分析方法:貝氏定理"
   ]
  },
  {
   "cell_type": "code",
   "execution_count": 38,
   "metadata": {},
   "outputs": [],
   "source": [
    "def label_predict(text):\n",
    "    docs_news = cutflow(text)\n",
    "    c=[{\"content\" : docs_news,\n",
    "       \"tag\" : 0}]\n",
    "    d = pd.DataFrame(c)\n",
    "    test_counts = vec.transform(d[\"content\"])\n",
    "    pre = clg.predict(test_counts)\n",
    "    label_result = list(pre)[0]\n",
    "    if label_result == '1':\n",
    "        result = \"blue\"\n",
    "    elif label_result == '0':\n",
    "        result = \"green\"\n",
    "    return result"
   ]
  },
  {
   "cell_type": "markdown",
   "metadata": {},
   "source": [
    "文章摘要分析 需要的套件"
   ]
  },
  {
   "cell_type": "code",
   "execution_count": 39,
   "metadata": {},
   "outputs": [
    {
     "name": "stdout",
     "output_type": "stream",
     "text": [
      "Requirement already satisfied: networkx in /opt/conda/lib/python3.6/site-packages (2.2)\n",
      "Requirement already satisfied: decorator>=4.3.0 in /opt/conda/lib/python3.6/site-packages (from networkx) (4.3.0)\n",
      "Requirement already satisfied: textrank4zh in /opt/conda/lib/python3.6/site-packages (0.3)\n",
      "Requirement already satisfied: numpy>=1.7.1 in /opt/conda/lib/python3.6/site-packages (from textrank4zh) (1.15.4)\n",
      "Requirement already satisfied: jieba>=0.35 in /opt/conda/lib/python3.6/site-packages (from textrank4zh) (0.39)\n",
      "Requirement already satisfied: networkx>=1.9.1 in /opt/conda/lib/python3.6/site-packages (from textrank4zh) (2.2)\n",
      "Requirement already satisfied: decorator>=4.3.0 in /opt/conda/lib/python3.6/site-packages (from networkx>=1.9.1->textrank4zh) (4.3.0)\n"
     ]
    }
   ],
   "source": [
    "!pip install networkx\n",
    "!pip install textrank4zh\n",
    "from  __future__  import print_function\n",
    "import jieba\n",
    "import numpy\n",
    "import networkx\n",
    "import sys\n",
    "import codecs \n",
    "from textrank4zh import TextRank4Keyword ,TextRank4Sentence"
   ]
  },
  {
   "cell_type": "markdown",
   "metadata": {},
   "source": [
    "文章摘要方法:TextRank"
   ]
  },
  {
   "cell_type": "code",
   "execution_count": 40,
   "metadata": {},
   "outputs": [],
   "source": [
    "def news_summary(text):\n",
    "    tr4s = TextRank4Sentence()\n",
    "    tr4s.analyze( text = text, lower = True , source = ' all_filters ' )\n",
    "    for item in tr4s.get_key_sentences( num = 1 ):\n",
    "        return item.sentence"
   ]
  },
  {
   "cell_type": "markdown",
   "metadata": {},
   "source": [
    "Elasticsearch 需要的套件"
   ]
  },
  {
   "cell_type": "code",
   "execution_count": 41,
   "metadata": {},
   "outputs": [
    {
     "name": "stdout",
     "output_type": "stream",
     "text": [
      "Requirement already satisfied: elasticsearch in /opt/conda/lib/python3.6/site-packages (6.3.1)\n",
      "Requirement already satisfied: urllib3>=1.21.1 in /opt/conda/lib/python3.6/site-packages (from elasticsearch) (1.23)\n"
     ]
    }
   ],
   "source": [
    "!pip install elasticsearch\n",
    "from elasticsearch import Elasticsearch"
   ]
  },
  {
   "cell_type": "code",
   "execution_count": 42,
   "metadata": {},
   "outputs": [],
   "source": [
    "# 建立Elasticsearch連線\n",
    "es = Elasticsearch(['elasticsearch:9200'])"
   ]
  },
  {
   "cell_type": "code",
   "execution_count": null,
   "metadata": {},
   "outputs": [],
   "source": [
    "# 在Elasticsearch建立index，亦可加入body參數先定義mapping格式\n",
    "es.indices.create(index = 'news', ignore = 400)"
   ]
  },
  {
   "cell_type": "code",
   "execution_count": null,
   "metadata": {},
   "outputs": [],
   "source": [
    "# 將Elasticsearch定義所放入的資料格式:mapping\n",
    "es.indices.put_mapping(index = \"news\",\n",
    "                       doc_type = \"politics\",                \n",
    "                       body = {\n",
    "                        \"properties\": {\n",
    "                            \"source\": {\"type\": \"text\"},\n",
    "                            \"url\": {\"type\": \"text\"},\n",
    "                            \"title\": {\"type\": \"text\"},\n",
    "                            \"date_\": {\"type\": \"text\"},\n",
    "                            \"author\": {\"type\": \"text\"},\n",
    "                            \"content\": {\"type\": \"text\"},\n",
    "                            \"kw\": {\"type\": \"text\"},\n",
    "                            \"img_url\": {\"type\": \"text\"},\n",
    "                            \"@timestamp\": {\"type\": \"date\"}\n",
    "                        }\n",
    "                    }\n",
    "                )"
   ]
  },
  {
   "cell_type": "code",
   "execution_count": 43,
   "metadata": {},
   "outputs": [],
   "source": [
    "# 為了將匯入資料的時間加入時區\n",
    "from datetime import datetime, timedelta, timezone\n",
    "tz_utc_8 = timezone(timedelta(hours=8)) # 創建時區UTC+8:00"
   ]
  },
  {
   "cell_type": "code",
   "execution_count": null,
   "metadata": {},
   "outputs": [],
   "source": []
  },
  {
   "cell_type": "code",
   "execution_count": null,
   "metadata": {},
   "outputs": [],
   "source": []
  },
  {
   "cell_type": "markdown",
   "metadata": {},
   "source": [
    "Kafka Consumer需要的套件"
   ]
  },
  {
   "cell_type": "code",
   "execution_count": 44,
   "metadata": {},
   "outputs": [
    {
     "name": "stdout",
     "output_type": "stream",
     "text": [
      "Requirement already satisfied: kafka in /opt/conda/lib/python3.6/site-packages (1.3.5)\r\n"
     ]
    }
   ],
   "source": [
    "!pip install kafka\n",
    "from kafka import KafkaConsumer, TopicPartition\n",
    "import sys\n",
    "import json, time, requests"
   ]
  },
  {
   "cell_type": "code",
   "execution_count": null,
   "metadata": {},
   "outputs": [
    {
     "name": "stdout",
     "output_type": "stream",
     "text": [
      "Start listen incoming messages ... \n",
      "\n",
      "load default bestMainFeatures\n",
      "load default bestMainFeatures success!!\n",
      "load model from LogisticRegression\n"
     ]
    },
    {
     "name": "stderr",
     "output_type": "stream",
     "text": [
      "/opt/conda/lib/python3.6/site-packages/sklearn/base.py:251: UserWarning: Trying to unpickle estimator DictVectorizer from version 0.18.1 when using version 0.20.1. This might lead to breaking code or invalid results. Use at your own risk.\n",
      "  UserWarning)\n",
      "/opt/conda/lib/python3.6/site-packages/sklearn/base.py:251: UserWarning: Trying to unpickle estimator LabelEncoder from version 0.18.1 when using version 0.20.1. This might lead to breaking code or invalid results. Use at your own risk.\n",
      "  UserWarning)\n",
      "/opt/conda/lib/python3.6/site-packages/sklearn/base.py:251: UserWarning: Trying to unpickle estimator LogisticRegression from version 0.18.1 when using version 0.20.1. This might lead to breaking code or invalid results. Use at your own risk.\n",
      "  UserWarning)\n"
     ]
    },
    {
     "name": "stdout",
     "output_type": "stream",
     "text": [
      "topic=test, partition=0, offset=0 : (key=ettoday, value={'source': 'ETtoday', 'url': 'https://www.ettoday.net/news/20181224/1339321.htm', 'title': '立法院前秘書長林錫山涉貪 監察院9比0全數通過彈劾案', 'date_': '2018/12/24 17:07', 'author': ['政治中心'], 'content': '立法院前秘書長林錫山被控收賄案，涉嫌索賄3950萬元，並有2.3億不明財產，二審遭判15年、褫奪公權5年，沒收犯罪所得2.6億餘元。監察院24日以9比0的票數通過林錫山彈劾案。監察院指出，林錫山於任職期間，假借權力，收受賄賂，以圖本身之利益，涉犯不違背職務收受賄賂罪、公務員財產來源不明罪及洗錢罪，且未依法據實申報財產，有違公務員服務法之規定，其違法失職事證明確，情節重大，依法提案彈劾。本案發生於2016年初，林錫山遭檢調查出涉嫌利用辦理採購電腦軟、硬體招標案的機會，收受廠商網遠科技負責人李保承3950萬元的賄賂，甚至在高鐵上收受賄賂金錢，檢方發動搜索立法院，並對林錫山聲請羈押獲准，全案於同年5月偵查終結，林錫山等13人遭提起公訴。一審法院去年5月間宣判，重判林錫山有期徒刑16年、褫奪公權6年，另外貪污所得3950萬元、不明財產2.3億餘元，均要追繳沒收抵償。案經上訴，高等法院審理期間，林錫山坦承犯下職務上行為收賄罪，但稱自己遭廠商蠱惑，「我把持不住」。至於不明財產罪部分，他辯稱父親留有遺產，再加上自己的投資，「不能因為我有錢，就說是財產來源不明，將財產全都沒收。」不過林在高院審理期間，繳交貪污所得2800萬元；至於財產來源不明的2.4億餘元，他除了繳回部分現金以外，還陸續提出名下不動產擔保，總計提出2.18億餘元的財物。林錫山並以照顧老母親為由，在過年前請求交保。高院農曆年前作出裁定，准許林以5000萬元交保，並限制住居於臺北市大安區住所，且限制出境、出海，另要求林應於每星期一、三、五，至臺北市政府警察局大安分局安和路派出所報到。至於本案部分，高院29日做出二審宣判，改認定林錫山犯下8個《貪污治罪條例》中的「職務上行為收賄罪」、1個「財產來源不明罪」、2個「洗錢罪」，合併執行有期徒刑15年，褫奪公權5年。另外貪汙所得、不明財產，均宣告沒收抵償。可上訴。本案監察委員，江明蒼、陳慶財、劉德勳、章仁香、高鳳仙、方萬富、尹祚芊、蔡培村、包宗和共9人全數通過林錫山彈劾案，全案將移送公務員懲戒委員會。', 'kw': ['林錫山', '監察院'], 'img_url': 'https://cdn2.ettoday.net/images/1559/1559166.jpg', 'ariticle_emotion': 'negative', 'label': 'green', 'abstract': '立法院前秘書長林錫山被控收賄案，涉嫌索賄3950萬元，並有2.3億不明財產，二審遭判15年、褫奪公權5年，沒收犯罪所得2.6億餘元'})\n",
      "\n",
      "\n",
      "Start sending data to MySQL !!!\n",
      "<Response [200]>\n",
      "{'status_describe': 'success add News'}\n",
      "\n",
      "\n",
      "Start sending data to elasticsearch !!!\n",
      "\n",
      "\n",
      "load default bestMainFeatures\n",
      "load default bestMainFeatures success!!\n",
      "load model from LogisticRegression\n",
      "topic=test, partition=0, offset=1 : (key=ettoday, value={'source': 'ETtoday', 'url': 'https://www.ettoday.net/news/20181224/1338839.htm', 'title': '把謝長廷派到日本「蔡英文高興好久」 吳子嘉：瘟神…', 'date_': '2018/12/24 17:06', 'author': ['政治中心'], 'content': '前大阪辦事處處長蘇啓誠遺孀日前公開聲明，強調丈夫是在完成上級交代之檢討報書後，表明「不想受到羞辱」之遺言，以死明志。儘管駐日代表謝長廷立刻出面澄清，美麗島電子報董事長吳子嘉仍批評，總統蔡英文送瘟神，讓她高興了很久，卻倒楣碰上一個颱風，讓謝長廷再捲去是非裡面。蘇啓誠遺孀近日透過《東森新聞》聲明，表示丈夫絕無絕無憂鬱症，且並非死於假新聞的壓力，而是在完成上級交代之檢討報書後，開會之前一天，表明「不想受到羞辱」之遺言，以死明志，另也說明，「家屬手中有保留其手機之通聯記錄及手寫遺書，外界諸多說法，是刻意誤導視聽，且有卸責之嫌。」謝長廷先於21日發文澄清，蘇啓誠在檢討報告中説「輿論趁勢大肆撻伐，嚴重損及鈞部形象...深感有愧職守」，覺得他對假新聞的攻擊痛苦不堪，應該是事實；又在23日深夜表示，自己鍥而不捨追出假新聞率先散播者guruguru的身分，以及他打電話是假的，還有坐到泉佐野車站也是假的真相，「正是為蘇處長自我檢討報告的前提解套」。針對此事，吳子嘉21日在《新聞深喉嚨》表示，一個弱女子為什麼要在這個時候站出來？她對抗的是一批什麼樣的對象？對抗的是一些外交部的大官，就是個政府機器，這很可怕的事情。一個弱女子還有小孩，還有未來的日子要過下去，她這時候願意接受電視台的專訪，來捍衛什麼東西？她要捍衛她的先生的尊嚴，蘇啓誠輕生不是為了假新聞，如果大家讓這些官員繼續騙下去，就對不起這些為了國家犧牲的官員了！吳子嘉說，蔡英文怎麼可能把台日外交那麼重大的事情交給謝長廷去辦？謝長廷是一個讓蔡英文頭痛的人物，「你手下有兵馬，你有派系，你把這個恐怖人物送到日本去，把謝長廷送瘟神…送到日本去，蔡英文高興了好久！謝長廷也高興！因為他領高薪，薪水一毛錢不要花，全是公款養他！然後每天遊山玩水對不對？這個是多快樂的生活？那就表示謝長廷準備退休了」，他把他的兵馬…兵權放下來，就在民進黨的派系裡面，他等於是認輸了，這謝長廷人生的一個新的安排，問題是倒楣碰到一個颱風，謝長廷又捲到這個是非裡面，他的毛病就來了！喜歡狡辯。', 'kw': ['吳子嘉', '謝長廷', '蔡英文', '蘇啓誠'], 'img_url': 'https://cdn2.ettoday.net/images/3727/d3727499.jpg', 'ariticle_emotion': 'negative', 'label': 'green', 'abstract': '謝長廷是一個讓蔡英文頭痛的人物，「你手下有兵馬，你有派系，你把這個恐怖人物送到日本去，把謝長廷送瘟神'})\n",
      "\n",
      "\n",
      "Start sending data to MySQL !!!\n",
      "<Response [200]>\n",
      "{'status_describe': 'success add News'}\n",
      "\n",
      "\n",
      "Start sending data to elasticsearch !!!\n",
      "\n",
      "\n",
      "load default bestMainFeatures\n",
      "load default bestMainFeatures success!!\n",
      "load model from LogisticRegression\n",
      "topic=test, partition=0, offset=2 : (key=ettoday, value={'source': 'ETtoday', 'url': 'https://www.ettoday.net/news/20181224/1339228.htm', 'title': '「未入境2年就停健保」 林靜儀建議修法：返台半年才可復保', 'date_': '2018/12/24 17:05', 'author': ['政治中心'], 'content': '台灣擁有優良的醫療品質，加上使用健保之後，掛號費低廉，使許多長年居住在國外的國人，若有醫療需求時，就會特別回台灣使用，但也因此引發爭議。針對此事，民進黨立委林靜儀建議健保署「修健保法施行細則」，若2年都沒入境，就先停保，要等到返國超過半年後才能再復保。林靜儀表示，因為國外醫療費用昂貴又需等待，台灣醫療品質好又快速，用健保又價廉，因此過去有許多長居海外的公民，一旦有醫療需求，就會飛回來台灣進行治療，畢竟「來回飛一趟都划算」。第一線醫療人員都遇過這樣的民眾，對於這種只把台灣當成「可以消費低價醫療」的地方，實在讓人很氣。林靜儀說，健保讓人民不需因為費用而不敢就醫，也讓人不用因病而貧，又為了照顧弱勢取消鎖卡，繳不出健保費也先治療再說，這是照顧國人的行為，卻「被當成凱子利用，讓人眼見人性醜陋。」若是肯定台灣的醫療，相信大家都歡迎，但是如果真的「心繫祖國」，不相信是飛回來看病，甚至還賴帳！林靜儀強調，制度有道德風險，就要修正。停復保規定是在健保法施行細則，不需修法提案，權責在健保署，由署來修訂、公告。久未返國，在返國半年後再復保，避免「飛回來弄牙齒、換關節、開刀完畢就飛回去」，如果返國後就長居，自然在半年後，健保身份與其他國人無異，任何重症急症難症，都保障。這半年期間，沒有健保身份，在台灣如果需要的時候依然有醫療服務啊，自費而已；如果不放心，就保私人醫療保險，一樣是醫療保險，只是不是「全國一起幫你分擔這段期間的醫療費用」而已。最後，林靜儀說，健保署在會期開始前就和她討論過相關議題，但眼見會期快結束了，「我實在不想再等你們」，所以先提出自己的想法，希望快點修改健保法施行細則。此外，林靜儀還貼出兩張照片，其中一張為修改《全門健康保險法》實行細則第37條條文，內容是針對「失蹤未滿6個月者」、「預定出國6個月以上者。但曾辦理出國停保，於返國復保後應屆滿3個月，使得再次辦理停保」，以及「出國連續達2年以上，未有入境紀錄者，自第2年起停保」。林靜儀在旁邊寫上「2年都沒入境過，就先停保吧。不要用一點點健保費養著之後用大條的。」另一張則寫著「二年以上未入境，返國後半年才能復保。避免只把台灣拿來當便宜醫療用。外交人員及隨行配偶子女不在此限」。對於林靜儀的言論，網友們則表示，「支持修法～」、「委員加油，幫我們看緊荷包」、「我之前看到你就想罵，但這件我願100%支持你，就事論事」、「有不少欠費還是爽爽出國玩。其他欠費不出國不鎖也是個錢坑啊！」', 'kw': ['健保', '林靜儀'], 'img_url': 'https://cdn2.ettoday.net/images/3346/d3346793.jpg', 'ariticle_emotion': 'positive', 'label': 'green', 'abstract': '針對此事，民進黨立委林靜儀建議健保署「修健保法施行細則」，若2年都沒入境，就先停保，要等到返國超過半年後才能再復保'})\n",
      "\n",
      "\n",
      "Start sending data to MySQL !!!\n",
      "<Response [200]>\n",
      "{'status_describe': 'success add News'}\n",
      "\n",
      "\n",
      "Start sending data to elasticsearch !!!\n",
      "\n",
      "\n",
      "load default bestMainFeatures\n",
      "load default bestMainFeatures success!!\n",
      "load model from LogisticRegression\n",
      "topic=test, partition=0, offset=3 : (key=ettoday, value={'source': 'ETtoday', 'url': 'https://www.ettoday.net/news/20181224/1339294.htm', 'title': '宅神睡韓國瑜的床直呼「好硬喔」 網友：翻床一般是要童男', 'date_': '2018/12/24 16:41', 'author': ['政治中心'], 'content': '準高雄市長當選人韓國瑜25日就職當晚，將履行承諾，夜宿高雄市民族果菜市場，傾聽基層聲音。對此，宅神朱學恒24日南下高雄先幫韓國瑜探路，還試躺韓國瑜當晚要睡的床，並直呼「好硬喔，果然只有老兵會睡的著」朱學恒在臉書粉絲專頁「朱學恒的阿宅萬事通事務所」表示，「認真的工作中，試吃當地的滷菜橘子蘿蔔乾豆腐乳和海尼根，順便試躺明天韓國瑜要睡的床，好硬喔，果然只有老兵會睡的著」貼文一出，引來大批網友紛紛留言，「根據民間習俗這叫「翻床」，一般是要童男」、「試吃？明明還有啤酒嘛！有菜有酒，生活似神仙」、「阿宅你是民主特派記者吧！」、「莫非宅神在高雄創造了一萬個工作機會」', 'kw': ['宅神', '朱學恒', '韓國瑜', '果菜市場'], 'img_url': 'https://cdn2.ettoday.net/images/3786/d3786197.jpg', 'ariticle_emotion': 'negative', 'label': 'green', 'abstract': '對此，宅神朱學恒24日南下高雄先幫韓國瑜探路，還試躺韓國瑜當晚要睡的床，並直呼「好硬喔，果然只有老兵會睡的著」朱學恒在臉書粉絲專頁「朱學恒的阿宅萬事通事務所」表示，「認真的工作中，試吃當地的滷菜橘子蘿蔔乾豆腐乳和海尼根，順便試躺明天韓國瑜要睡的床，好硬喔，果然只有老兵會睡的著」貼文一出，引來大批網友紛紛留言，「根據民間習俗這叫「翻床」，一般是要童男」、「試吃'})\n",
      "\n",
      "\n",
      "Start sending data to MySQL !!!\n",
      "<Response [200]>\n",
      "{'status_describe': 'success add News'}\n",
      "\n",
      "\n",
      "Start sending data to elasticsearch !!!\n",
      "\n",
      "\n",
      "load default bestMainFeatures\n",
      "load default bestMainFeatures success!!\n",
      "load model from LogisticRegression\n",
      "topic=test, partition=0, offset=4 : (key=ettoday, value={'source': 'ETtoday', 'url': 'https://www.ettoday.net/news/20181224/1339271.htm', 'title': '教育部勉予同意管中閔上任 柯志恩：希望民進黨記取拔管傷害', 'date_': '2018/12/24 15:51', 'author': ['賴于榛'], 'content': '教育部長葉俊榮24日下午三點召開記者會，他嚴詞批評台大遴選會達42分鐘，但最終對於準台大校長管中閔的上任說出「勉予同意」；國民黨立委柯志恩隨即在臉書指出，歷時將近一年的「卡管」今天畫下句點，被壓制已久的「大學自主」終於可以掙脫政治枷鎖，抬頭挺胸、昂首闊步、迎向光明，「這不僅是台大校園自主的勝利，更是台灣民主法治與正義公理的彰顯！」教育部24日下午三點召開記者會，「勉予同意」聘任管中閔校長，柯志恩表示，她肯定葉部長在沉重壓力下，秉持法律學者的良知與對公共事務正當的程序，勇敢做出一個關鍵性的正確決定！然而，身為在野黨立委，仍須嚴正指出，「拔管」歹戲皆因政府高層的愚昧、蠻橫，不惜對法治與遴選程序的踐踏扭曲，重重斲傷了大學自主的精神，也造成校園和社會紛擾不安，更重創政府的形象與公信力！希望民進黨記取\"拔管\"翻攪的傷害與教訓，還給大學自主的空間與尊嚴。柯志恩還說，不信公理喚不回！並盛讚葉部長有溫度的溝通，在冷風中格外溫馨！峰迴路轉，柳暗花明，並對願給核聘的葉俊榮一句肯定：謝謝承擔、辛苦了！歷史會記住這一哩路！台大校長遴選委員會從1月5日選出教授管中閔為新校長，教育部認定遴選程序有瑕疵，發函請台大重啟遴選，但台大拒絕並提訴願。僵局持續至今超過11個月，經歷3任教育部部長，包括潘文忠、吳茂昆以及現在的葉俊榮。葉俊榮在剛上任時多次強調用「有溫度的溝通」方法尋找「第三條路」，最後選在跨年前夕勉予同意。', 'kw': [], 'img_url': 'https://cdn2.ettoday.net/images/3754/d3754622.jpg', 'ariticle_emotion': 'positive', 'label': 'green', 'abstract': '」教育部24日下午三點召開記者會，「勉予同意」聘任管中閔校長，柯志恩表示，她肯定葉部長在沉重壓力下，秉持法律學者的良知與對公共事務正當的程序，勇敢做出一個關鍵性的正確決定'})\n",
      "\n",
      "\n",
      "Start sending data to MySQL !!!\n",
      "<Response [200]>\n",
      "{'status_describe': 'success add News'}\n",
      "\n",
      "\n",
      "Start sending data to elasticsearch !!!\n",
      "\n",
      "\n",
      "load default bestMainFeatures\n",
      "load default bestMainFeatures success!!\n",
      "load model from LogisticRegression\n",
      "topic=test, partition=0, offset=5 : (key=ettoday, value={'source': 'ETtoday', 'url': 'https://www.ettoday.net/news/20181224/1339214.htm', 'title': '綠白合作釋善意 卓榮泰嘴發抖：和柯文哲「最好都是朋友」', 'date_': '2018/12/24 15:44', 'author': ['政治中心'], 'content': '行政院秘書長、民進黨主席參選人卓榮泰日前對「兩岸一家親」的說法和台北市長柯文哲隔空互嗆。對此，卓榮泰24日受訪時被問到和柯文哲是否還是朋友，他一時語塞答不出來，嘴唇發抖停頓3秒後說「最好都是朋友」。民進黨遭逢大選潰敗，未來將朝綠白合作的可能，回應民眾期待，卓榮泰表示，跟任何人都應該合作「只要彼此有誠意」，只要是台灣是內部正向的力量，都應該合作，他還說，因為我們外界壓力、威脅很大，內部如果再彼此抵銷，那我們外在敵人會加倍。另外，卓榮泰被問到柯文哲算不算是討厭民進黨的人，他連說2次「應該不至於」，並解釋努力讓柯不討厭；記者追問，和柯文哲線在是朋友嗎？卓榮泰愣了一下說不出話，接著嘴唇發抖欲言又止的說，「最好都是朋友」。', 'kw': ['卓榮泰', '柯文哲', '綠白合作'], 'img_url': 'https://cdn2.ettoday.net/images/3786/d3786053.jpg', 'ariticle_emotion': 'negative', 'label': 'green', 'abstract': '對此，卓榮泰24日受訪時被問到和柯文哲是否還是朋友，他一時語塞答不出來，嘴唇發抖停頓3秒後說「最好都是朋友」'})\n",
      "\n",
      "\n",
      "Start sending data to MySQL !!!\n",
      "<Response [200]>\n",
      "{'status_describe': 'success add News'}\n",
      "\n",
      "\n",
      "Start sending data to elasticsearch !!!\n",
      "\n",
      "\n",
      "load default bestMainFeatures\n",
      "load default bestMainFeatures success!!\n",
      "load model from LogisticRegression\n"
     ]
    },
    {
     "name": "stdout",
     "output_type": "stream",
     "text": [
      "topic=test, partition=0, offset=6 : (key=ettoday, value={'source': 'ETtoday', 'url': 'https://www.ettoday.net/news/20181224/1339177.htm', 'title': '館長笑不敢同台直播！卓榮泰不怕：時間很快會敲定', 'date_': '2018/12/24 14:58', 'author': ['政治中心'], 'content': '網路紅人「館長」陳之漢日前聽聞行政院祕書長卓榮泰要約他直播，大嗆「「我笑你不敢來」，並表示沒有收到任何的邀請。對此，卓榮泰24日受訪時回應，已經開始邀約了，時堅很快就會敲定。據《鏡週刊》報導，卓榮泰認為，想要聆聽支持者的聲音，「我可以去跟陳其邁喝咖啡，我也可以去跟館長聊一聊啊！我可以唱詹雅雯的〈深情海岸〉，我也可以找鄭進一來唱〈家後〉吧！」館長表示，沒收到卓榮泰的聯絡，自己很想跟一個要做黨主席的人一起直播，「我第一個就問促轉會」、「我很想問你，你當黨主席的時候，你的立委能不能通過一些有意義的審查案」、「我笑你不敢來！你要來不用新聞叫囂、直接打電話來嘛！」針對館長在直播中的嗆聲，卓榮泰說，可以和所有對民進黨有理性對話的人談話，而和館長同台直播已經在敲定時間了，時程表很快就會出來；而是否擔心館長問題太過心辣，卓榮泰說，當然會，不過會努力讓大家了解未來民進黨的轉變。卓榮泰參選黨主席後，將和館長一起直播，外界也好奇，未來是否有可能和其他網紅對話？他表示，不排斥任何可能性，只要願意理性對話者，他都可以趁機把民進黨未來改變的方式、方向和各界交換意見，自己都非常非常樂意。', 'kw': ['卓榮泰', '館長', '直播', '民進黨'], 'img_url': 'https://cdn2.ettoday.net/images/3785/d3785867.jpg', 'ariticle_emotion': 'positive', 'label': 'green', 'abstract': '」館長表示，沒收到卓榮泰的聯絡，自己很想跟一個要做黨主席的人一起直播，「我第一個就問促轉會」、「我很想問你，你當黨主席的時候，你的立委能不能通過一些有意義的審查案」、「我笑你不敢來'})\n",
      "\n",
      "\n",
      "Start sending data to MySQL !!!\n",
      "<Response [200]>\n",
      "{'status_describe': 'success add News'}\n",
      "\n",
      "\n",
      "Start sending data to elasticsearch !!!\n",
      "\n",
      "\n",
      "load default bestMainFeatures\n",
      "load default bestMainFeatures success!!\n",
      "load model from LogisticRegression\n",
      "topic=test, partition=0, offset=7 : (key=ettoday, value={'source': 'ETtoday', 'url': 'https://www.ettoday.net/news/20181224/1339057.htm', 'title': '德機場「25秒通關」歸功於他？  駐德代表：我們只是1顆小螺絲', 'date_': '2018/12/24 14:09', 'author': ['政治中心'], 'content': '世界第9大、德國規模最大的法蘭克福國際機場（Frankfurt Airport）開放10國快速通關，其中也包含台灣，使時代力量高雄黨部副執行長林子盟笑稱，自己花不到30秒就到登機閘口，原先一起排隊的陸客想尾隨，反被要求排隊，讓不少網友直呼太爽，將功勞歸給台灣駐德代表謝志偉。謝志偉則在台灣時間24日謙虛地說，「我們只是其中的一顆小螺絲，兢兢業業盡力作好我們該作的事」。謝志偉在臉書粉絲專頁上提到，關於「TAIWAN列名德國法蘭克䙐、慕尼黑機場出境自動通關測試國家」一事，有人將功勞歸給自己，「我老不回應，恐怕會造成『同意』的印象」，因此在此鄭重指出，「這樣的結果雖然十分符合我在德國前後兩任至今随時隨地所宣揚『Taiwan是個自由民主的國家，值得珍惜與支持，Taiwan有自己的護照，不是China的一部份』之內容，但卻不是我的功勞」，而是總統、外交部長、外交部同仁和國人的努力。謝志偉稱，如果說駐德館處在「出境自動通關測試」也沾上了邊，「我們只是其中的一顆小螺絲，兢兢業業盡力作好我們該作的事」，也就是讓德國人從中央到地方知道、感受到「TAIWAN」是民主陣營的一份子。他代表總統蔡英文的意思與意志來到德國，自知還有很多事情要做，也知道有些事情不做會來不急，有些事情要做也急不來，「台灣人，氣要長，但是不要氣太久。」日前人在德國的林子盟表示，他拿著護照在法蘭克福機場排隊準備離開時，海關人員上前用英文詢問是否來自台，隨即被帶離排了約數十人的隊伍，引導他到自動通關口，花了大概20秒做數位臉孔確認及5秒海關蓋章，前後不到30秒便迅速通關，輕鬆前往登機閘口。林子盟說，後面同是黃種人臉孔的旅客一陣錯愕。海關人員接著用英文攔住想尾隨的人「你這是中國護照，必須排隊」，他大讚，不愧是嚴謹的德國政府，「台灣中國分的一清二楚」。目前可在德國機場快速通關的僅有10個國家護照，包含「台灣、澳洲、紐西蘭、加拿大、日本、南韓、新加坡、美國、智利、阿拉伯聯合大公國」。林子盟表示，很謝謝台灣的外交人員，謝謝在地經營的台僑，「謝謝祖國的民主自由」。', 'kw': ['德國', '快速通關', '駐德代表', '林子盟', '謝志偉', '法蘭克福國際機場', 'Frankfurt Airport'], 'img_url': 'https://cdn2.ettoday.net/images/3785/3785732.jpg', 'ariticle_emotion': 'negative', 'label': 'blue', 'abstract': '」日前人在德國的林子盟表示，他拿著護照在法蘭克福機場排隊準備離開時，海關人員上前用英文詢問是否來自台，隨即被帶離排了約數十人的隊伍，引導他到自動通關口，花了大概20秒做數位臉孔確認及5秒海關蓋章，前後不到30秒便迅速通關，輕鬆前往登機閘口'})\n",
      "\n",
      "\n",
      "Start sending data to MySQL !!!\n",
      "<Response [200]>\n",
      "{'status_describe': 'success add News'}\n",
      "\n",
      "\n",
      "Start sending data to elasticsearch !!!\n",
      "\n",
      "\n",
      "load default bestMainFeatures\n",
      "load default bestMainFeatures success!!\n",
      "load model from LogisticRegression\n",
      "topic=test, partition=0, offset=8 : (key=ettoday, value={'source': 'ETtoday', 'url': 'https://www.ettoday.net/news/20181224/1339086.htm', 'title': '快訊／淡海輕軌通車首日就「訊號異常」 已停駛逾半小時', 'date_': '2018/12/24 12:37', 'author': ['政治中心'], 'content': '新北市長朱立倫23日傍晚才親自率賓客搭乘淡海輕軌，24日早上6點開始試營運，卻在通車5小時24分後發生列車異常事故。輕軌1032列車在上午11時54分發出異常訊號，淡金鄧公站、淡金北新站各卡一台車。新北捷運總經理吳國濟對此表示，目前異常已排除，淡海輕軌恢復正常運作。有網友在臉書社團「細說淡水」上表示，「捷運通車即卡車，11時46分車到鄧公站就無法啟動，電力全無，當然無空調，4分鐘後有少少風。11時56分有人發聲問『可以告訴我們為何等10分鐘沒開車嗎？』但卻沒有人回應。12時03分前門開啓，大家自動下車，沒有答案。之後才廣播因車輛調度所以暫停，到現在12時12分還停在鄧公站。」針對通車首日就異常，鄉民們在MRT版上提到，「現在在淡金北新站，卡住ing」、「往紅樹林方向的應該全停了，因為我們這輛車卡在淡金鄧公」、「為了搶卸任前通車，品質堪憂」、「是要考驗台灣製造的品質嗎？」、「淡海輕軌對台灣來說很重要，因為是第一個真正的國車國造案，如果台車這批品質不好，之後的輕軌應該還是回到直接跟外國買車，那好不容易建立的本土工業又浪費了」。新北捷運總經理吳國濟指出，淡海輕軌在快接近12時，在淡金鄧公站發生列車異常狀態，初步判斷是因為濕氣太重，所以按鈕異常；為了安全起見，司機員啟動了所謂「清車作業」，讓民眾離開車輛、下到月台，經過技術人員現場維修，在20分鐘內就排除異常，現在列車已正常行駛，淡海輕軌也恢復正常運作。淡海輕軌分為綠山線和海山線，以兩線連接淡海新市鎮和漁人碼頭，其中綠山線率先於24日進行第一階段通車，起始站從紅樹林出發，經由淡水主要道路淡金公路前往淡海新市鎮，終點站為崁頂站，全線共11個停靠站，總長7.3公里，此外，淡海輕軌由藝術家幾米做全線公共藝術設計，量身打造多個藝術作品，在多個車站都可看到可愛的幾米公仔。淡海輕軌綠山線從24日起試營運，開放民眾免費搭乘一個月，試營運期間班距為15分鐘一班，每天營業時間為早上6點30分至晚上22點。淡海輕軌票價20元起跳，單程票價最高25元。朱立倫23日親自搭乘淡海輕軌時稱，試乘期間一定是聽從大家的意見，如果需要改進的，捷運局跟捷運公司都會來改進，淡海輕軌經過初勘、履勘再三的檢驗，它的安全、舒適、穩定度都沒有問題。', 'kw': ['輕軌', '淡海輕軌'], 'img_url': 'https://cdn2.ettoday.net/images/3723/d3723781.jpg', 'ariticle_emotion': 'negative', 'label': 'green', 'abstract': '淡海輕軌分為綠山線和海山線，以兩線連接淡海新市鎮和漁人碼頭，其中綠山線率先於24日進行第一階段通車，起始站從紅樹林出發，經由淡水主要道路淡金公路前往淡海新市鎮，終點站為崁頂站，全線共11個停靠站，總長7.3公里，此外，淡海輕軌由藝術家幾米做全線公共藝術設計，量身打造多個藝術作品，在多個車站都可看到可愛的幾米公仔'})\n",
      "\n",
      "\n",
      "Start sending data to MySQL !!!\n",
      "<Response [200]>\n",
      "{'status_describe': 'success add News'}\n",
      "\n",
      "\n",
      "Start sending data to elasticsearch !!!\n",
      "\n",
      "\n"
     ]
    }
   ],
   "source": [
    "if __name__ == \"__main__\":\n",
    "    # 步驟1.設定要連線到Kafka集群的相關設定, 產生一個Kafka的Consumer的實例\n",
    "    consumer = KafkaConsumer(\n",
    "        # Kafka集群在那裡?\n",
    "        bootstrap_servers=[\"kafka1:29092\"],\n",
    "        # ConsumerGroup的名稱\n",
    "        group_id=\"test01\",\n",
    "        # 指定msgKey的反序列化器, 若Key為None, 無法反序列化\n",
    "        key_deserializer=bytes.decode,\n",
    "        # 指定msgValue的反序列化器\n",
    "        #value_deserializer=bytes.decode,\n",
    "        value_deserializer=lambda m: json.loads(m.decode('utf-8')),\n",
    "        # 是否從這個ConsumerGroup尚未讀取的partition / offset開始讀\n",
    "        auto_offset_reset=\"earliest\",\n",
    "    )\n",
    "    # 步驟2.指定想要訂閱訊息的topic名稱\n",
    "    topic_name = \"test\"\n",
    "    # 步驟3.讓Consumer向Kafka集群訂閱指定的topic\n",
    "    consumer.subscribe(topics = topic_name)\n",
    "\n",
    "\n",
    "    # 步驟4.持續的拉取Kafka有進來的訊息\n",
    "    try:\n",
    "        print(\"Start listen incoming messages ...\",\"\\n\")\n",
    "        # 持續監控是否有新的record進來 - 方法一\n",
    "        for record in consumer:\n",
    "            topic = record.topic\n",
    "            partition = record.partition\n",
    "            offset = record.offset\n",
    "            timestamp = record.timestamp\n",
    "        \n",
    "            # 取出msgKey與msgValue\n",
    "            msgKey = record.key\n",
    "            msgValue = record.value\n",
    "            \n",
    "            # 將新聞作者欄位做處理後再放回\n",
    "            if msgValue[\"source\"] == \"TVBS\":      \n",
    "                msgValue[\"author\"] = tvbs_author_etl(msgValue[\"author\"][0])\n",
    "            elif msgValue[\"source\"] == \"SETN\":\n",
    "                msgValue[\"author\"] = setn_author_etl(msgValue[\"author\"][0])\n",
    "            elif msgValue[\"source\"] == \"ETtoday\":\n",
    "                msgValue[\"author\"] = ettoday_author_etl(msgValue[\"author\"][0])\n",
    "            \n",
    "            # 將新聞內文做文章情緒分析並加入欄位與結果\n",
    "            msgValue[\"ariticle_emotion\"] = emo_swinger(msgValue[\"content\"])\n",
    "            # 將新聞內文做藍綠分析並加入欄位結果\n",
    "            msgValue[\"label\"] = label_predict(msgValue[\"content\"])\n",
    "            # 將新聞做文章摘要並加入欄位與結果\n",
    "            msgValue[\"abstract\"] = news_summary(msgValue[\"content\"])\n",
    "            \n",
    "            # 秀出metadata與msgKey & msgValue訊息\n",
    "            print(\"topic=%s, partition=%s, offset=%s : (key=%s, value=%s)\" % (record.topic, record.partition,\n",
    "                                                                              record.offset, record.key, msgValue))\n",
    "            print(\"\\n\")\n",
    "            \n",
    "            print(\"Start sending data to MySQL !!!\")\n",
    "            # 將資料送入MySQL\n",
    "            ip_location = 'chatbot_api'\n",
    "                         \n",
    "            News = msgValue\n",
    "            \n",
    "            # 將json傳回API Server\n",
    "            Endpoint = 'http://%s:5000/news' % (ip_location)\n",
    "\n",
    "            # header要特別註明是json格式\n",
    "            Header = {'Content-Type':'application/json'}\n",
    "            \n",
    "            # 傳送post對API server新增資料 \n",
    "            Response = requests.post(Endpoint,headers=Header,data=json.dumps(News))\n",
    "\n",
    "            # 印出Response的資料訊息\n",
    "            print(Response)\n",
    "            Response = Response.json()\n",
    "            print(Response)\n",
    "            print(\"\\n\")\n",
    "            \n",
    "        \n",
    "            print(\"Start sending data to elasticsearch !!!\")\n",
    "            # 將資料送入Elasticsearch\n",
    "            elasticsearch_data = msgValue\n",
    "            elasticsearch_data[\"@timestamp\"] = datetime.now().replace(tzinfo = tz_utc_8)            \n",
    "            # 將資料放入Elasticsearch，若沒有index，會直接建立index、type \n",
    "            es.index(index = 'news', doc_type = 'politics', body = elasticsearch_data, refresh = True )\n",
    "            print(\"\\n\")\n",
    "\n",
    "    except:\n",
    "        # 錯誤處理\n",
    "        e_type, e_value, e_traceback = sys.exc_info()\n",
    "        print(\"type ==> %s\" % (e_type))\n",
    "        print(\"value ==> %s\" % (e_value))\n",
    "        print(\"traceback ==> file name: %s\" % (e_traceback.tb_frame.f_code.co_filename))\n",
    "        print(\"traceback ==> line no: %s\" % (e_traceback.tb_lineno))\n",
    "        print(\"traceback ==> function name: %s\" % (e_traceback.tb_frame.f_code.co_name))\n",
    "    finally:\n",
    "        consumer.close()"
   ]
  },
  {
   "cell_type": "code",
   "execution_count": null,
   "metadata": {},
   "outputs": [],
   "source": []
  },
  {
   "cell_type": "code",
   "execution_count": null,
   "metadata": {},
   "outputs": [],
   "source": []
  },
  {
   "cell_type": "code",
   "execution_count": null,
   "metadata": {},
   "outputs": [],
   "source": []
  }
 ],
 "metadata": {
  "kernelspec": {
   "display_name": "Python 3",
   "language": "python",
   "name": "python3"
  },
  "language_info": {
   "codemirror_mode": {
    "name": "ipython",
    "version": 3
   },
   "file_extension": ".py",
   "mimetype": "text/x-python",
   "name": "python",
   "nbconvert_exporter": "python",
   "pygments_lexer": "ipython3",
   "version": "3.6.5"
  }
 },
 "nbformat": 4,
 "nbformat_minor": 2
}
