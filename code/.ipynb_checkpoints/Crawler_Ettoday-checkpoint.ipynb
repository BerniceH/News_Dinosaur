{
 "cells": [
  {
   "cell_type": "code",
   "execution_count": 3,
   "metadata": {},
   "outputs": [],
   "source": [
    "from urllib.request import urlopen\n",
    "from urllib.error import HTTPError\n",
    "from bs4 import BeautifulSoup\n",
    "import pandas as pd\n",
    "import time\n",
    "import json\n",
    "import re"
   ]
  },
  {
   "cell_type": "code",
   "execution_count": 41,
   "metadata": {},
   "outputs": [
    {
     "name": "stdout",
     "output_type": "stream",
     "text": [
      "第 6 頁   Processing:  https://www.ettoday.net/news_search/doSearch.php?keywords=%E6%94%BF%E6%B2%BB&kind=1&idx=1&page=6\n",
      "新聞來源: ETtoday\n",
      "新聞網址: https://www.ettoday.net/news/20181222/1337614.htm\n",
      "新聞標題: 建議韓國瑜成立情色專區 范世平喊三箭齊發：高雄成全台首富\n",
      "發佈時間: 2018/12/22 15:47\n",
      "作者: ['政治中心／綜合報導']\n",
      "內文: 準高雄市長韓國瑜競選期間喊出「打造全台首富」，但近來遭網友質疑多項政策跳票。師大政研所教授范世平認為，.韓國瑜乾脆立即發展「情色特區」，讓賭場、賽馬、情色三箭齊發。范世平說，韓國瑜原本要在旗津開賭場，但因旗津不符合「離島建設條例」中所定義的離島而胎死腹中；想在楠梓中油煉油廠蓋跑馬場，同樣也違反「動保法」而受挫，倒不如立即用個「情色特區」，效法新加坡等國。范世平分析，「情色特區」可以增加市府稅收，減輕高雄負債，而專區內只許高雄人從事相關工作，增加就業的同時，也打擊外地人與外國人搶食這塊大餅；另外，特區與市立醫院合作，對從業者強化衛生檢查，可保護消費者健康；第四，防止黑道介入與對從業者的剝削，保護從業者的工作權；第五，有政府管理，消費者權益獲得保障；第六，如荷蘭紅燈區一樣成為觀光資源，吸引外國觀光客來高雄旅遊，這就能達到「人能進來」的政見；第七，可以發展情趣商品研發與情色表演藝術等產業，如法國紅磨坊，更可在高雄各大學成立相關科系，培養相關專業人才。范世平表示，這樣一來，韓國瑜的「賭場、賽馬、情色」三箭齊發，高雄一定能夠成為全台首富。\n",
      "關鍵字: ['韓國瑜', '陳其邁', '2018大選', '2018高雄市長', '國民黨', \"民進'ˇ\"]\n",
      "圖片網址: https://cdn2.ettoday.net/images/3719/d3719101.jpg\n",
      "\n",
      "\n",
      "新聞來源: ETtoday\n",
      "新聞網址: https://www.ettoday.net/news/20181222/1337808.htm\n",
      "新聞標題: 2020大選藍人選 學者：陸憂兩岸互信程度不超過馬政府\n",
      "發佈時間: 2018/12/22 15:34\n",
      "作者: ['記者曾俊豪／台北報導']\n",
      "內文: 第十四屆「兩岸和平研究」學術研討會上午在政治大學舉行，與會的兩岸學者均就九合一選後局勢表達看法。淡江大學陸研所榮譽教授趙春山指出，陸方認為綠營在2020還是會由蔡英文出馬；而國民黨不管誰出線，其互信程度都不會超過馬政府時代，而「這個變數讓大陸非常擔心」。今年的學術研討會適逢政治大學東亞所50週年所慶，許多兩岸重量級學者出席，除政大東亞所所長王信賢、淡大陸研所榮譽教授趙春山、台北論壇基金會董事長蘇起之外，陸方則由中國人民大學國際關係學院院長楊光斌領軍，大陸國務院參事兼人大國關教授時殷弘、人大國關教授林虹均出席研討會。而在「圓桌論壇—兩岸關係新局勢」環節中，剛從貴陽回到台灣的趙春山提到，大陸國家主席習近平在改革開放40週年大會上提到，要牢牢抓住兩岸關係主導權跟主動權，「但未來有些因素要牢牢抓住並不容易」。他表示，對大陸來說，兩岸關係有兩個重要變數，首先是蔡英文的動作。趙春山指出，九合一選舉民進黨之所以挫敗，全是因為經濟議題所導致，此問題短期內無法解決，因此屆時「統獨議題」會是民進黨主導因素。大陸擔心蔡英文為了穩固基本盤，「在美國支持下會往更左的方向走」。此外，國民黨目前仍看不出會派誰角逐大位，也成為陸方觀察的重點。趙春山指出，不管最後誰出線，對岸都認為其「互信程度不會超過馬政府時代」，「這個變數讓大陸非常擔心」，而大選看得見的是台灣內部的藍綠對抗，看不見的還有美中兩大強權之間角力。他提到，如果中美關係接下來沒有更好的進展，或是進一步將關係搞壞，便會直接影響到台海 ，因為「川普不會放棄台灣牌」。趙春山以美國日前表決通過的「亞洲再保證倡議法案（ARIA）」為例，認為「美國已把台灣視為印太戰略的一環，而不是一張牌」。▸ 柯文哲擬提兩岸新論述 陸國務院參事：個人表態不代表台當局\n",
      "關鍵字: ['馬英九', '蔡英文', '2020大選', '趙春山', '時殷弘', '政治大學', '東亞所', '兩岸和平研究學術研討會', '特派現場']\n",
      "圖片網址: https://cdn2.ettoday.net/images/3161/d3161532.jpg\n",
      "\n",
      "\n",
      "新聞來源: ETtoday\n",
      "新聞網址: https://www.ettoday.net/news/20181222/1337790.htm\n",
      "新聞標題: 訛傳林智堅容積率保證 馬偕院長蘇聰賢道歉\n",
      "發佈時間: 2018/12/22 15:29\n",
      "作者: ['政治中心／新竹報導']\n",
      "內文: 針對日前媒體報導，新竹市兒童醫院BOT案，馬偕醫療財團法人與新竹市政府簽約時的容積率為250%，工程發包卻以容積率450%計算，新竹馬偕醫院院長蘇聰賢佯稱已獲新竹市長林智堅保證，蘇聰賢今(22)日發表道歉聲明，澄清無論林智堅個人或其市府團隊，從未向蘇聰賢保證新竹兒童醫院興建營運移轉之容機率將由250%提高至450%，或向新竹馬偕醫院為類似之言論。蘇聰賢在聲明中說，林智堅市長長期關心竹苗地區兒童醫療資源不足之問題，與市府團隊致力於推動兒童醫院之興建，其施政成效有目共睹，與新竹馬偕醫院間之權利義務，一切均依投資契約及相關法令辦理。有關容機率變更一事，新竹馬偕醫院已依法提出相關申請，無論市長個人或其市府團隊，從未向蘇聰賢院長保證新竹兒童醫院興建營運移轉之容機率將由250%提高至450%，或向新竹馬偕醫院為類似之言論。蘇聰賢院長亦未曾於民國107年8月30日台灣基督長老教會馬偕醫療財團法人董事會中發表「林智堅市長曾向本人保證新竹兒童醫院興建營運移轉容機率提高至450%」之論述，特予以城清至於蘇聰賢院長曾於107年8月30日台灣基督長老教會馬偕醫療財團法人董事會中，提及與林智堅市長餐敘一事，實乃正常業務聯繫，若因此引發外界曲解或不當聯想，而影響林智堅市長及新竹市政府之名譽，新竹馬偕醫院及蘇聰賢院長對此深表誠摯歉意，併為上述澄清，以求回復新竹市政府以及林智堅市長之聲譽。他並籲請各界尊重新竹馬偕醫院與新竹市政府間有關兒童醫院興建案，均係依法行事，並無任何不當，切勿以訛傳訛，以致損及新竹市政府及新竹馬偕醫院之名譽。新竹市馬偕兒童醫院是地方政府與民間合作興建兒童醫院的首例，該BOT案去年簽約，興建地點位在建功二路、建功高中對面，占地0.73公頃，委託期間為50年，為全國第一所醫學中心級的兒童醫院，更擔負兒童重症及難症醫療照護，及24小時兒童急診專責醫院責任。\n",
      "關鍵字: ['林智堅', '馬偕醫院', '蘇聰賢', '容積率', '兒童醫院']\n",
      "圖片網址: https://cdn2.ettoday.net/images/3782/d3782183.jpg\n",
      "\n",
      "\n",
      "新聞來源: ETtoday\n",
      "新聞網址: https://www.ettoday.net/news/20181222/1337720.htm\n",
      "新聞標題: 323驅逐「未表反對」？柯建銘駁斥：馬英九下令卻推給我\n",
      "發佈時間: 2018/12/22 15:12\n",
      "作者: ['政治中心／綜合報導']\n",
      "內文: 前總統馬英九發表新書《八年執政回憶錄》，內容提及太陽花學運323學生攻占行政院遭驅離，內政部長陳威仁致電民進黨團總召柯建銘，「柯建銘當時未表反對」，對此，柯建銘22日駁斥，要馬英九別再說謊，怒控馬英九下令動手如今卻推卸責任。柯建銘回憶323當晚，學生攻占行政院之後，他們認為可能會遭到警力驅離，時任民進黨主席蘇貞昌緊急聯絡黨內要角開會，他在蘇貞昌指示下，馬上打電話給當時的行政院長江宜樺。他在晚間7時許致電江宜樺，接電話的是隨扈，隨扈稱江宜樺在洗澡，他覺得很奇怪「怎麼那個時間在洗澡？」江宜樺回電之後，柯建銘要求不可對學生動手，江宜樺告訴他「將開會討論。」隨後江宜樺再指示陳威仁通知柯會議結論「就是要驅離」。柯建銘表示，馬英九與江宜樺的心意已決，因此他僅告知陳威仁，民進黨會到現場去，於是他與蘇貞昌、蔡英文、游錫堃、謝長廷等人一起從民進黨中央出發，走到行政院。「我們警告他們不能動手，馬英九現在卻推給我」柯建銘直言，當晚一定是馬英九下令江宜樺要驅逐，江宜樺無法拒絕，下令警政署動手，「行政作為一定是這樣，這我們了解」、「就是他（馬）下令的」。\n",
      "關鍵字: ['太陽花', '馬英九', '柯建銘']\n",
      "圖片網址: https://cdn2.ettoday.net/images/3782/d3782135.jpg\n",
      "\n",
      "\n",
      "新聞來源: ETtoday\n",
      "新聞網址: https://www.ettoday.net/news/20181222/1337782.htm\n",
      "新聞標題: 不滿普悠瑪懲處輕 黃國昌：台鐵局長全送監察院彈劾！\n",
      "發佈時間: 2018/12/22 15:10\n",
      "作者: ['▲黃國昌召開「台鐵6432：根本不該發出的列車」記者會。（圖／記者翁嫆琄攝）記者翁嫆琄／台北報導']\n",
      "內文: 行政院調查小組昨公布普悠瑪事故最終報告，時代力量立委黃國昌22日召開記者會表示，對行政院在發生這麼大事後，還用擠牙膏、政治操作方式在處理，「我完全沒有辦法接受！」他要求將歷任台鐵局長移送監察院調查彈劾。調查小組昨公布普悠瑪事故最終調查報告，懲處名單包括3任前台鐵局長范植谷、周永暉及鹿潔身，及台鐵主管17人。黃國昌上午與普悠瑪事件罹難家屬共同召開「台鐵6432：根本不該發出的列車」記者會，他重申，列車開到宜蘭已經知道無法修復，還讓列車繼續開，台鐵根本是草菅人命，且發生這麼大的事，他對調查小組用擠牙膏、政治操作方式公布真相，完全無法接受。他質疑，事發當天列車12點30分進入樹林站車庫，當時已知兩台主風泵完全壞掉，14點49分卻依舊發車，列車行間走走停停、忽快忽慢，就是主風泵所造成，但這兩小時間台鐵有派人檢修嗎？「這班車根本不該發！」另外，報告顯示列車4點17分關閉ATP，直到47分司機告知調度員，台鐵才得知ATP關閉，黃國昌也詢問，這30分鐘內明明有在宜蘭停靠，還有兩名列檢員上車檢查，既然當時就看到故障燈亮起，怎會不知ATP已被關閉？台鐵是否整份報告都還在隱瞞，滿口謊言。他指出，關於游姓駕駛司機的責任，就交給檢調釐清，但台鐵與行政院高層到昨天提出的報告還在遮掩，他拿出簡訊紀錄質疑，關鍵第2封簡訊的內容提到「列車經檢查無法修復」，既然無法修還繼續開，這是誰做的決策？而台鐵的報告卻只提到第1封簡訊，對第2封隻字不提，「請問調查小組為何不敢提？」黃國昌又問，交通部何時要公開關於事件的通聯紀錄、游姓司機訪談記錄？且普悠瑪號的遠端監視系統、主風泵、後勤支援管理系統，完全都沒發揮作用，難道先前的台鐵局長都不用究責嗎？因此，黃國昌建議，幾任台鐵局長應該全部送監察院彈劾，瀆職到這種程度，「還只記一個大過，有沒有良心啊！」出席記者會的家屬林小姐跟董小姐都不能接受這份調查報告，更批評懲處的官員很多已不在原本位子上，記大過有實質效益嗎？且內文專有名詞全寫英文，家屬又不在台鐵上班，他們怎麼看得懂，「這報告是寫給調查小組自己看的！」\n",
      "關鍵字: ['黃國昌', '普悠瑪', '交通部', '台鐵']\n",
      "圖片網址: https://cdn2.ettoday.net/images/3782/d3782113.jpg\n",
      "\n",
      "\n",
      "新聞來源: ETtoday\n",
      "新聞網址: https://www.ettoday.net/news/20181222/1337751.htm\n",
      "新聞標題: 「暫緩海洋局長」神隱後發聲 朱挺玗嗆網民：歡迎你們挑戰 \n",
      "發佈時間: 2018/12/22 14:43\n",
      "作者: ['地方中心／高雄報導']\n",
      "內文: 準高雄市長韓國瑜公布小內閣名單，其中海洋局原定是競選高雄市議員失利的朱挺玗來接任局長，但是遭到各界質疑過去有「賄選」歷史，這讓朱挺玗「暫緩」就職，現在他在自己臉書說出自己的心聲：「歡迎大家來挑戰」。臉書貼文一開始，朱挺玗表示自己是在極度污名化的過程當中成長，也質疑為什麼還對政治還有熱情！都是因為自己「熱愛這片土地，希望可以改變讓自己成長的地方更好」！朱挺玗也自述的成長過程，他表示過去都在國外求學，所以跟父母親相處時間很少，反而是母親在晚年洗腎期間，自己在載母親就醫的那段時間是相處最多的，這段期間也看盡了人生百態，明白生老病死、悲歡離合終究要走一回，無需計較太多！還有，孝順很重要！▲▼朱挺玗。（圖／資料照片）就算自己政治污點來自於母親求好心切的買票行為，自己從不曾怪她。就算12年前選舉無效官司遭到二審定讞後，主動辭去議員的隔天，自己跟母親去山上住了幾天，在這幾天當中，朱挺玗感受到了母親的愛，也體認到一件：「無論在事業上、感情上和各方面，因為有母親的愛，我覺得我有很大的動力和任性。所以，我絕不可能切割她」。對於關於父親朱安雄，朱挺玗坦言是家族最沈重的包袱和代價，自己無可選擇，不過時間若是可以倒轉到父親離開的那一晚，朱挺玗想告訴父親：「勇敢面對」，但是自己很感嘆父親沒有留下來勇敢面對，自己當時也不知情。朱挺玗在文章當中強調自己有傲氣，不想卑微為選舉失去自己的中心思想，當然還包括買票當選市議員！所以對於不友善的網民們著墨在12年前賄選官司，朱挺玗丟了直球：「那歡迎你找到任何一個我這次2018年議員選舉賄選的證據！並把證據送給司法單位！我會非常非常歡迎你們的挑戰」。\n",
      "關鍵字: ['朱挺玗', '韓國瑜', '市議員', '海洋局', '小內閣', ' 朱安雄', '吳德美', '酸民']\n",
      "圖片網址: https://cdn2.ettoday.net/images/3781/d3781999.jpg\n",
      "\n",
      "\n",
      "新聞來源: ETtoday\n",
      "新聞網址: https://www.ettoday.net/news/20181222/1337613.htm\n"
     ]
    },
    {
     "ename": "KeyboardInterrupt",
     "evalue": "",
     "output_type": "error",
     "traceback": [
      "\u001b[0;31m---------------------------------------------------------------------------\u001b[0m",
      "\u001b[0;31mKeyboardInterrupt\u001b[0m                         Traceback (most recent call last)",
      "\u001b[0;32m<ipython-input-41-20af309431de>\u001b[0m in \u001b[0;36m<module>\u001b[0;34m()\u001b[0m\n\u001b[1;32m     24\u001b[0m         \u001b[0mprint\u001b[0m\u001b[0;34m(\u001b[0m\u001b[0;34m\"新聞網址:\"\u001b[0m\u001b[0;34m,\u001b[0m \u001b[0mnews_url\u001b[0m\u001b[0;34m)\u001b[0m\u001b[0;34m\u001b[0m\u001b[0m\n\u001b[1;32m     25\u001b[0m \u001b[0;34m\u001b[0m\u001b[0m\n\u001b[0;32m---> 26\u001b[0;31m         \u001b[0ma_response\u001b[0m \u001b[0;34m=\u001b[0m \u001b[0murlopen\u001b[0m\u001b[0;34m(\u001b[0m\u001b[0mnews_url\u001b[0m\u001b[0;34m)\u001b[0m\u001b[0;34m\u001b[0m\u001b[0m\n\u001b[0m\u001b[1;32m     27\u001b[0m         \u001b[0ma_html\u001b[0m \u001b[0;34m=\u001b[0m \u001b[0mBeautifulSoup\u001b[0m\u001b[0;34m(\u001b[0m\u001b[0ma_response\u001b[0m\u001b[0;34m,\u001b[0m \u001b[0;34m\"html.parser\"\u001b[0m\u001b[0;34m)\u001b[0m\u001b[0;34m\u001b[0m\u001b[0m\n\u001b[1;32m     28\u001b[0m \u001b[0;34m\u001b[0m\u001b[0m\n",
      "\u001b[0;32m/opt/conda/lib/python3.6/urllib/request.py\u001b[0m in \u001b[0;36murlopen\u001b[0;34m(url, data, timeout, cafile, capath, cadefault, context)\u001b[0m\n\u001b[1;32m    221\u001b[0m     \u001b[0;32melse\u001b[0m\u001b[0;34m:\u001b[0m\u001b[0;34m\u001b[0m\u001b[0m\n\u001b[1;32m    222\u001b[0m         \u001b[0mopener\u001b[0m \u001b[0;34m=\u001b[0m \u001b[0m_opener\u001b[0m\u001b[0;34m\u001b[0m\u001b[0m\n\u001b[0;32m--> 223\u001b[0;31m     \u001b[0;32mreturn\u001b[0m \u001b[0mopener\u001b[0m\u001b[0;34m.\u001b[0m\u001b[0mopen\u001b[0m\u001b[0;34m(\u001b[0m\u001b[0murl\u001b[0m\u001b[0;34m,\u001b[0m \u001b[0mdata\u001b[0m\u001b[0;34m,\u001b[0m \u001b[0mtimeout\u001b[0m\u001b[0;34m)\u001b[0m\u001b[0;34m\u001b[0m\u001b[0m\n\u001b[0m\u001b[1;32m    224\u001b[0m \u001b[0;34m\u001b[0m\u001b[0m\n\u001b[1;32m    225\u001b[0m \u001b[0;32mdef\u001b[0m \u001b[0minstall_opener\u001b[0m\u001b[0;34m(\u001b[0m\u001b[0mopener\u001b[0m\u001b[0;34m)\u001b[0m\u001b[0;34m:\u001b[0m\u001b[0;34m\u001b[0m\u001b[0m\n",
      "\u001b[0;32m/opt/conda/lib/python3.6/urllib/request.py\u001b[0m in \u001b[0;36mopen\u001b[0;34m(self, fullurl, data, timeout)\u001b[0m\n\u001b[1;32m    524\u001b[0m             \u001b[0mreq\u001b[0m \u001b[0;34m=\u001b[0m \u001b[0mmeth\u001b[0m\u001b[0;34m(\u001b[0m\u001b[0mreq\u001b[0m\u001b[0;34m)\u001b[0m\u001b[0;34m\u001b[0m\u001b[0m\n\u001b[1;32m    525\u001b[0m \u001b[0;34m\u001b[0m\u001b[0m\n\u001b[0;32m--> 526\u001b[0;31m         \u001b[0mresponse\u001b[0m \u001b[0;34m=\u001b[0m \u001b[0mself\u001b[0m\u001b[0;34m.\u001b[0m\u001b[0m_open\u001b[0m\u001b[0;34m(\u001b[0m\u001b[0mreq\u001b[0m\u001b[0;34m,\u001b[0m \u001b[0mdata\u001b[0m\u001b[0;34m)\u001b[0m\u001b[0;34m\u001b[0m\u001b[0m\n\u001b[0m\u001b[1;32m    527\u001b[0m \u001b[0;34m\u001b[0m\u001b[0m\n\u001b[1;32m    528\u001b[0m         \u001b[0;31m# post-process response\u001b[0m\u001b[0;34m\u001b[0m\u001b[0;34m\u001b[0m\u001b[0m\n",
      "\u001b[0;32m/opt/conda/lib/python3.6/urllib/request.py\u001b[0m in \u001b[0;36m_open\u001b[0;34m(self, req, data)\u001b[0m\n\u001b[1;32m    542\u001b[0m         \u001b[0mprotocol\u001b[0m \u001b[0;34m=\u001b[0m \u001b[0mreq\u001b[0m\u001b[0;34m.\u001b[0m\u001b[0mtype\u001b[0m\u001b[0;34m\u001b[0m\u001b[0m\n\u001b[1;32m    543\u001b[0m         result = self._call_chain(self.handle_open, protocol, protocol +\n\u001b[0;32m--> 544\u001b[0;31m                                   '_open', req)\n\u001b[0m\u001b[1;32m    545\u001b[0m         \u001b[0;32mif\u001b[0m \u001b[0mresult\u001b[0m\u001b[0;34m:\u001b[0m\u001b[0;34m\u001b[0m\u001b[0m\n\u001b[1;32m    546\u001b[0m             \u001b[0;32mreturn\u001b[0m \u001b[0mresult\u001b[0m\u001b[0;34m\u001b[0m\u001b[0m\n",
      "\u001b[0;32m/opt/conda/lib/python3.6/urllib/request.py\u001b[0m in \u001b[0;36m_call_chain\u001b[0;34m(self, chain, kind, meth_name, *args)\u001b[0m\n\u001b[1;32m    502\u001b[0m         \u001b[0;32mfor\u001b[0m \u001b[0mhandler\u001b[0m \u001b[0;32min\u001b[0m \u001b[0mhandlers\u001b[0m\u001b[0;34m:\u001b[0m\u001b[0;34m\u001b[0m\u001b[0m\n\u001b[1;32m    503\u001b[0m             \u001b[0mfunc\u001b[0m \u001b[0;34m=\u001b[0m \u001b[0mgetattr\u001b[0m\u001b[0;34m(\u001b[0m\u001b[0mhandler\u001b[0m\u001b[0;34m,\u001b[0m \u001b[0mmeth_name\u001b[0m\u001b[0;34m)\u001b[0m\u001b[0;34m\u001b[0m\u001b[0m\n\u001b[0;32m--> 504\u001b[0;31m             \u001b[0mresult\u001b[0m \u001b[0;34m=\u001b[0m \u001b[0mfunc\u001b[0m\u001b[0;34m(\u001b[0m\u001b[0;34m*\u001b[0m\u001b[0margs\u001b[0m\u001b[0;34m)\u001b[0m\u001b[0;34m\u001b[0m\u001b[0m\n\u001b[0m\u001b[1;32m    505\u001b[0m             \u001b[0;32mif\u001b[0m \u001b[0mresult\u001b[0m \u001b[0;32mis\u001b[0m \u001b[0;32mnot\u001b[0m \u001b[0;32mNone\u001b[0m\u001b[0;34m:\u001b[0m\u001b[0;34m\u001b[0m\u001b[0m\n\u001b[1;32m    506\u001b[0m                 \u001b[0;32mreturn\u001b[0m \u001b[0mresult\u001b[0m\u001b[0;34m\u001b[0m\u001b[0m\n",
      "\u001b[0;32m/opt/conda/lib/python3.6/urllib/request.py\u001b[0m in \u001b[0;36mhttps_open\u001b[0;34m(self, req)\u001b[0m\n\u001b[1;32m   1359\u001b[0m         \u001b[0;32mdef\u001b[0m \u001b[0mhttps_open\u001b[0m\u001b[0;34m(\u001b[0m\u001b[0mself\u001b[0m\u001b[0;34m,\u001b[0m \u001b[0mreq\u001b[0m\u001b[0;34m)\u001b[0m\u001b[0;34m:\u001b[0m\u001b[0;34m\u001b[0m\u001b[0m\n\u001b[1;32m   1360\u001b[0m             return self.do_open(http.client.HTTPSConnection, req,\n\u001b[0;32m-> 1361\u001b[0;31m                 context=self._context, check_hostname=self._check_hostname)\n\u001b[0m\u001b[1;32m   1362\u001b[0m \u001b[0;34m\u001b[0m\u001b[0m\n\u001b[1;32m   1363\u001b[0m         \u001b[0mhttps_request\u001b[0m \u001b[0;34m=\u001b[0m \u001b[0mAbstractHTTPHandler\u001b[0m\u001b[0;34m.\u001b[0m\u001b[0mdo_request_\u001b[0m\u001b[0;34m\u001b[0m\u001b[0m\n",
      "\u001b[0;32m/opt/conda/lib/python3.6/urllib/request.py\u001b[0m in \u001b[0;36mdo_open\u001b[0;34m(self, http_class, req, **http_conn_args)\u001b[0m\n\u001b[1;32m   1284\u001b[0m \u001b[0;34m\u001b[0m\u001b[0m\n\u001b[1;32m   1285\u001b[0m         \u001b[0;31m# will parse host:port\u001b[0m\u001b[0;34m\u001b[0m\u001b[0;34m\u001b[0m\u001b[0m\n\u001b[0;32m-> 1286\u001b[0;31m         \u001b[0mh\u001b[0m \u001b[0;34m=\u001b[0m \u001b[0mhttp_class\u001b[0m\u001b[0;34m(\u001b[0m\u001b[0mhost\u001b[0m\u001b[0;34m,\u001b[0m \u001b[0mtimeout\u001b[0m\u001b[0;34m=\u001b[0m\u001b[0mreq\u001b[0m\u001b[0;34m.\u001b[0m\u001b[0mtimeout\u001b[0m\u001b[0;34m,\u001b[0m \u001b[0;34m**\u001b[0m\u001b[0mhttp_conn_args\u001b[0m\u001b[0;34m)\u001b[0m\u001b[0;34m\u001b[0m\u001b[0m\n\u001b[0m\u001b[1;32m   1287\u001b[0m         \u001b[0mh\u001b[0m\u001b[0;34m.\u001b[0m\u001b[0mset_debuglevel\u001b[0m\u001b[0;34m(\u001b[0m\u001b[0mself\u001b[0m\u001b[0;34m.\u001b[0m\u001b[0m_debuglevel\u001b[0m\u001b[0;34m)\u001b[0m\u001b[0;34m\u001b[0m\u001b[0m\n\u001b[1;32m   1288\u001b[0m \u001b[0;34m\u001b[0m\u001b[0m\n",
      "\u001b[0;32m/opt/conda/lib/python3.6/http/client.py\u001b[0m in \u001b[0;36m__init__\u001b[0;34m(self, host, port, key_file, cert_file, timeout, source_address, context, check_hostname)\u001b[0m\n\u001b[1;32m   1375\u001b[0m             \u001b[0mself\u001b[0m\u001b[0;34m.\u001b[0m\u001b[0mcert_file\u001b[0m \u001b[0;34m=\u001b[0m \u001b[0mcert_file\u001b[0m\u001b[0;34m\u001b[0m\u001b[0m\n\u001b[1;32m   1376\u001b[0m             \u001b[0;32mif\u001b[0m \u001b[0mcontext\u001b[0m \u001b[0;32mis\u001b[0m \u001b[0;32mNone\u001b[0m\u001b[0;34m:\u001b[0m\u001b[0;34m\u001b[0m\u001b[0m\n\u001b[0;32m-> 1377\u001b[0;31m                 \u001b[0mcontext\u001b[0m \u001b[0;34m=\u001b[0m \u001b[0mssl\u001b[0m\u001b[0;34m.\u001b[0m\u001b[0m_create_default_https_context\u001b[0m\u001b[0;34m(\u001b[0m\u001b[0;34m)\u001b[0m\u001b[0;34m\u001b[0m\u001b[0m\n\u001b[0m\u001b[1;32m   1378\u001b[0m             \u001b[0mwill_verify\u001b[0m \u001b[0;34m=\u001b[0m \u001b[0mcontext\u001b[0m\u001b[0;34m.\u001b[0m\u001b[0mverify_mode\u001b[0m \u001b[0;34m!=\u001b[0m \u001b[0mssl\u001b[0m\u001b[0;34m.\u001b[0m\u001b[0mCERT_NONE\u001b[0m\u001b[0;34m\u001b[0m\u001b[0m\n\u001b[1;32m   1379\u001b[0m             \u001b[0;32mif\u001b[0m \u001b[0mcheck_hostname\u001b[0m \u001b[0;32mis\u001b[0m \u001b[0;32mNone\u001b[0m\u001b[0;34m:\u001b[0m\u001b[0;34m\u001b[0m\u001b[0m\n",
      "\u001b[0;32m/opt/conda/lib/python3.6/ssl.py\u001b[0m in \u001b[0;36mcreate_default_context\u001b[0;34m(purpose, cafile, capath, cadata)\u001b[0m\n\u001b[1;32m    515\u001b[0m         \u001b[0;31m# CERT_OPTIONAL or CERT_REQUIRED. Let's try to load default system\u001b[0m\u001b[0;34m\u001b[0m\u001b[0;34m\u001b[0m\u001b[0m\n\u001b[1;32m    516\u001b[0m         \u001b[0;31m# root CA certificates for the given purpose. This may fail silently.\u001b[0m\u001b[0;34m\u001b[0m\u001b[0;34m\u001b[0m\u001b[0m\n\u001b[0;32m--> 517\u001b[0;31m         \u001b[0mcontext\u001b[0m\u001b[0;34m.\u001b[0m\u001b[0mload_default_certs\u001b[0m\u001b[0;34m(\u001b[0m\u001b[0mpurpose\u001b[0m\u001b[0;34m)\u001b[0m\u001b[0;34m\u001b[0m\u001b[0m\n\u001b[0m\u001b[1;32m    518\u001b[0m     \u001b[0;32mreturn\u001b[0m \u001b[0mcontext\u001b[0m\u001b[0;34m\u001b[0m\u001b[0m\n\u001b[1;32m    519\u001b[0m \u001b[0;34m\u001b[0m\u001b[0m\n",
      "\u001b[0;32m/opt/conda/lib/python3.6/ssl.py\u001b[0m in \u001b[0;36mload_default_certs\u001b[0;34m(self, purpose)\u001b[0m\n\u001b[1;32m    455\u001b[0m             \u001b[0;32mfor\u001b[0m \u001b[0mstorename\u001b[0m \u001b[0;32min\u001b[0m \u001b[0mself\u001b[0m\u001b[0;34m.\u001b[0m\u001b[0m_windows_cert_stores\u001b[0m\u001b[0;34m:\u001b[0m\u001b[0;34m\u001b[0m\u001b[0m\n\u001b[1;32m    456\u001b[0m                 \u001b[0mself\u001b[0m\u001b[0;34m.\u001b[0m\u001b[0m_load_windows_store_certs\u001b[0m\u001b[0;34m(\u001b[0m\u001b[0mstorename\u001b[0m\u001b[0;34m,\u001b[0m \u001b[0mpurpose\u001b[0m\u001b[0;34m)\u001b[0m\u001b[0;34m\u001b[0m\u001b[0m\n\u001b[0;32m--> 457\u001b[0;31m         \u001b[0mself\u001b[0m\u001b[0;34m.\u001b[0m\u001b[0mset_default_verify_paths\u001b[0m\u001b[0;34m(\u001b[0m\u001b[0;34m)\u001b[0m\u001b[0;34m\u001b[0m\u001b[0m\n\u001b[0m\u001b[1;32m    458\u001b[0m \u001b[0;34m\u001b[0m\u001b[0m\n\u001b[1;32m    459\u001b[0m     \u001b[0;34m@\u001b[0m\u001b[0mproperty\u001b[0m\u001b[0;34m\u001b[0m\u001b[0m\n",
      "\u001b[0;31mKeyboardInterrupt\u001b[0m: "
     ]
    }
   ],
   "source": [
    "#json_data = []\n",
    "page = 6\n",
    "while page < 1007:\n",
    "    url = \"https://www.ettoday.net/news_search/doSearch.php?keywords=%E6%94%BF%E6%B2%BB&kind=1\" + \"&idx=1&page=\" + str(\n",
    "        page)\n",
    "    print(\"第\", page, \"頁\",\" \",\"Processing: \", url)\n",
    "    try:\n",
    "        response = urlopen(url)\n",
    "    except HTTPError:\n",
    "        print(\"大概是結束了\")\n",
    "        break\n",
    "    html = BeautifulSoup(response)\n",
    "\n",
    "    all_ar = html.find(\"div\", class_=\"result_archive\")\n",
    "\n",
    "    val = all_ar.find_all(\"div\", class_=\"archive clearfix\")\n",
    "\n",
    "    for u in val:\n",
    "        \n",
    "        print(\"新聞來源:\", \"ETtoday\")\n",
    "\n",
    "        box2 = u.find(\"div\", class_=\"box_2\")\n",
    "        news_url = box2.find(\"a\")[\"href\"]\n",
    "        print(\"新聞網址:\", news_url)\n",
    "        \n",
    "        a_response = urlopen(news_url)\n",
    "        a_html = BeautifulSoup(a_response, \"html.parser\")\n",
    "        \n",
    "        title = a_html.find(\"h1\", class_=\"title\").text\n",
    "        title = re.sub(\"\\u3000\", \" \", title)\n",
    "        print(\"新聞標題:\", title)\n",
    "        \n",
    "        date = a_html.find(\"time\", class_=\"date\").text.strip()\n",
    "        date = re.sub(\"年\", \"/\", date)\n",
    "        date = re.sub(\"月\", \"/\", date)\n",
    "        date = re.sub(\"日\", \"\", date)\n",
    "        print(\"發佈時間:\", date)\n",
    "        \n",
    "        \n",
    "        a_story = a_html.find(\"div\", class_=\"story\")                \n",
    "        content_p = a_story.find_all(\"p\")\n",
    "        author_c = \"\"\n",
    "        for c_p in content_p:\n",
    "            #如果c_p裡面的第一個格子是None\n",
    "            if c_p.contents[0].name == None:\n",
    "                author_c = author_c + c_p.text\n",
    "            elif c_p.contents[0].name == \"span\":\n",
    "                author_c = author_c + c_p.text\n",
    "        author = []\n",
    "        if re.search(r\".*／.?.?報導\", author_c) == None:\n",
    "            author = []\n",
    "        else:\n",
    "            #因為作者與內文會放在同一個格子，所以將內文中會抓到的作者部分在內文處理時刪除\n",
    "            content_del = re.search(r\".*／.?.?報導\", author_c).group()\n",
    "            author_text = re.search(r\".*／.?.?報導\", author_c).group() \n",
    "        author.append(author_text)\n",
    "        print(\"作者:\", author)              \n",
    "    \n",
    "        content = \"\"\n",
    "        for c in content_p:\n",
    "            if c.contents[0].name == None:\n",
    "                content = content + c.text\n",
    "                content = content.replace(\"\\u3000\", \" \")      \n",
    "                content = content.replace(content_del, \"\")            \n",
    "        print(\"內文:\", content)\n",
    "              \n",
    "        \n",
    "        keyword = []\n",
    "        a_web = a_html.find(\"article\")\n",
    "        a_kw = a_web.find(\"p\", class_=\"tag\")\n",
    "        kw = a_kw.find_all(\"a\", target=\"_blank\")\n",
    "        for k in kw:\n",
    "            kw_n = k.text\n",
    "            keyword.append(kw_n)\n",
    "        if keyword == [\"\"]:\n",
    "            keyword = []\n",
    "        print(\"關鍵字:\", keyword)\n",
    "        \n",
    "\n",
    "        if not a_story.find(\"img\")['src'] == None:\n",
    "            img_url = a_story.find(\"img\")['src']\n",
    "            img_url = \"https:\" + img_url\n",
    "        else:\n",
    "            img_url = None\n",
    "        print(\"圖片網址:\", img_url)\n",
    "        \n",
    "        print(\"\\n\")\n",
    "        \n",
    "        j = {\"source\": \"ETtoday\" ,\"url\": news_url, \"title\": title, \"date_\": date, \"author\": author, \"content\": content, \n",
    "             \"kw\": keyword, \"img_url\": img_url}\n",
    "        #json_data.append(j)\n",
    "   \n",
    "    page = page + 1\n",
    "    time.sleep(3)\n",
    "        "
   ]
  },
  {
   "cell_type": "code",
   "execution_count": 37,
   "metadata": {},
   "outputs": [],
   "source": [
    "#ETtoday作者欄位清理方法，要放author[0]\n",
    "def ettoday_author_etl(author_text):\n",
    "    author = []\n",
    "    author_text = re.sub(\"／.?.?報導.*\", \"\", author_text)\n",
    "    author_text = re.sub(\".*記者\", \"\", author_text)\n",
    "    author_text = re.sub(\"\\xa0\", \"\", author_text)\n",
    "    #如果有多位作者，使用、斷開，並一一取出放進list\n",
    "    if author_text.find(\"、\") != -1:\n",
    "        author_text = author_text.split(\"、\")\n",
    "        for a in author_text:\n",
    "            author.append(a)\n",
    "    elif author_text == \"\":\n",
    "        author = []\n",
    "    else:\n",
    "        author.append(author_text)\n",
    "    return author"
   ]
  },
  {
   "cell_type": "code",
   "execution_count": 38,
   "metadata": {},
   "outputs": [
    {
     "data": {
      "text/plain": [
       "['▲黃國昌召開「台鐵6432：根本不該發出的列車」記者會。（圖／記者翁嫆琄攝）記者翁嫆琄／台北報導']"
      ]
     },
     "execution_count": 38,
     "metadata": {},
     "output_type": "execute_result"
    }
   ],
   "source": [
    "j[\"author\"]"
   ]
  },
  {
   "cell_type": "code",
   "execution_count": null,
   "metadata": {},
   "outputs": [],
   "source": []
  },
  {
   "cell_type": "code",
   "execution_count": null,
   "metadata": {},
   "outputs": [],
   "source": []
  },
  {
   "cell_type": "code",
   "execution_count": 39,
   "metadata": {},
   "outputs": [
    {
     "data": {
      "text/plain": [
       "['翁嫆琄']"
      ]
     },
     "execution_count": 39,
     "metadata": {},
     "output_type": "execute_result"
    }
   ],
   "source": [
    "ettoday_author_etl(j[\"author\"][0])"
   ]
  },
  {
   "cell_type": "code",
   "execution_count": null,
   "metadata": {},
   "outputs": [],
   "source": []
  }
 ],
 "metadata": {
  "kernelspec": {
   "display_name": "Python 3",
   "language": "python",
   "name": "python3"
  }
 },
 "nbformat": 4,
 "nbformat_minor": 2
}
