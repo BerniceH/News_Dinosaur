{
 "cells": [
  {
   "cell_type": "markdown",
   "metadata": {},
   "source": [
    "正則表達式:TVBS清理作者格式方法"
   ]
  },
  {
   "cell_type": "code",
   "execution_count": 1,
   "metadata": {},
   "outputs": [],
   "source": [
    "import re\n",
    "#作者欄位清理方法，要放author[0]\n",
    "def tvbs_author_etl(author_text):\n",
    "    author = []\n",
    "    author_text = re.sub(r\"記者  \", \"\", author_text)\n",
    "    author_text = re.sub(r\" / 攝影.*\", \"\", author_text)\n",
    "    author_text = re.sub(r\" / \", \"\", author_text)\n",
    "    author_text = re.sub(r\"編輯  \", \"\", author_text)\n",
    "    author_text = re.sub(r\" 報導\", \"\", author_text)\n",
    "    author_text = re.sub(r\" \", \",\", author_text)\n",
    "    #如果有多位作者，使用、斷開，並一一取出放進list\n",
    "    if author_text.find(\",\") != -1:\n",
    "        author_text = author_text.split(\",\")\n",
    "        for a in author_text:\n",
    "            author.append(a)\n",
    "    elif author_text == \"\":\n",
    "        author = []\n",
    "    else:\n",
    "        author.append(author_text)\n",
    "    return author"
   ]
  },
  {
   "cell_type": "markdown",
   "metadata": {},
   "source": [
    "正則表達式:SETN清理作者格式方法"
   ]
  },
  {
   "cell_type": "code",
   "execution_count": 2,
   "metadata": {},
   "outputs": [],
   "source": [
    "#SETN作者欄位清理方法，要放author[0]\n",
    "def setn_author_etl(author_text):\n",
    "    author = []\n",
    "    #將／XX報導XX字串清除\n",
    "    author_text = re.sub(r\"／.*報導.*\", \"\", author_text)\n",
    "    #將／XX特稿XX字串清除\n",
    "    author_text = re.sub(r\"／.*特稿.*\", \"\", author_text)\n",
    "    #將記者字串清除\n",
    "    author_text = re.sub(r\"記者\", \"\", author_text)\n",
    "    #將文／字串清除\n",
    "    author_text = re.sub(r\"文／\", \"\", author_text)\n",
    "    #如果有多位作者，使用、斷開，並一一取出放進list\n",
    "    if author_text.find(\"、\") != -1:\n",
    "        author_text = author_text.split(\"、\")\n",
    "        for a in author_text:\n",
    "            author.append(a)\n",
    "    elif author_text == \"\":\n",
    "        author = []\n",
    "    else:\n",
    "        author.append(author_text)\n",
    "    return author"
   ]
  },
  {
   "cell_type": "markdown",
   "metadata": {},
   "source": [
    "正則表達式:ETtoday清理作者格式方法"
   ]
  },
  {
   "cell_type": "code",
   "execution_count": 3,
   "metadata": {},
   "outputs": [],
   "source": [
    "#ETtoday作者欄位清理方法，要放author[0]\n",
    "def ettoday_author_etl(author_text):\n",
    "    author = []\n",
    "    author_text = re.sub(\"／.?.?報導.*\", \"\", author_text)\n",
    "    author_text = re.sub(\".*記者\", \"\", author_text)\n",
    "    author_text = re.sub(\"\\xa0\", \"\", author_text)\n",
    "    #如果有多位作者，使用、斷開，並一一取出放進list\n",
    "    if author_text.find(\"、\") != -1:\n",
    "        author_text = author_text.split(\"、\")\n",
    "        for a in author_text:\n",
    "            author.append(a)\n",
    "    elif author_text == \"\":\n",
    "        author = []\n",
    "    else:\n",
    "        author.append(author_text)\n",
    "    return author"
   ]
  },
  {
   "cell_type": "markdown",
   "metadata": {},
   "source": [
    "文章正反面情緒分析 需要的套件"
   ]
  },
  {
   "cell_type": "code",
   "execution_count": 4,
   "metadata": {},
   "outputs": [
    {
     "name": "stderr",
     "output_type": "stream",
     "text": [
      "Building prefix dict from the default dictionary ...\n",
      "Loading model from cache /tmp/jieba.cache\n",
      "Loading model cost 4.125 seconds.\n",
      "Prefix dict has been built succesfully.\n"
     ]
    }
   ],
   "source": [
    "#!pip install udicOpenData\n",
    "#!pip install Swinger\n",
    "#在dockerfile的指令\n",
    "#ADD ./dict_all.txt /opt/conda/lib/python3.6/site-packages/udicOpenData/dictionary/\n",
    "from udicOpenData.dictionary import *\n",
    "jieba.load_userdict(os.path.join(DIR_NAME, 'dict_all.txt'))\n",
    "#要等一下子\n",
    "from Swinger import Swinger"
   ]
  },
  {
   "cell_type": "markdown",
   "metadata": {},
   "source": [
    "文章正反面情緒分析方法"
   ]
  },
  {
   "cell_type": "code",
   "execution_count": 5,
   "metadata": {},
   "outputs": [],
   "source": [
    "s = None\n",
    "def emo_swinger(content, model='LogisticRegression'):\n",
    "    global s\n",
    "    if s == None:\n",
    "        s = Swinger()\n",
    "        s.load(model)\n",
    "    # default model= \"LogisticRegression\", 可替換為\"MultinomialNB\"\n",
    "    emo_result = s.swing(content)\n",
    "    if emo_result == \"pos\":\n",
    "        result = \"positive\"\n",
    "    elif emo_result == \"neg\":\n",
    "        result = \"negative\"\n",
    "    return result"
   ]
  },
  {
   "cell_type": "markdown",
   "metadata": {},
   "source": [
    "文章關鍵字 需要的套件"
   ]
  },
  {
   "cell_type": "code",
   "execution_count": 6,
   "metadata": {},
   "outputs": [],
   "source": [
    "import jieba.analyse"
   ]
  },
  {
   "cell_type": "markdown",
   "metadata": {},
   "source": [
    "文章關鍵字方法"
   ]
  },
  {
   "cell_type": "code",
   "execution_count": 7,
   "metadata": {},
   "outputs": [],
   "source": [
    "def keyword_analysis(content):\n",
    "    #default kewwords = 8\n",
    "    kws =jieba.analyse.extract_tags(content, 5)\n",
    "    return kws"
   ]
  },
  {
   "cell_type": "markdown",
   "metadata": {},
   "source": [
    "文章藍綠貼標分析 需要的套件"
   ]
  },
  {
   "cell_type": "code",
   "execution_count": 8,
   "metadata": {},
   "outputs": [],
   "source": [
    "#!pip install pandas \n",
    "import jieba\n",
    "import pandas as pd\n",
    "from sklearn.feature_extraction.text import CountVectorizer\n",
    "from sklearn.naive_bayes import MultinomialNB\n",
    "from sklearn.externals import joblib"
   ]
  },
  {
   "cell_type": "markdown",
   "metadata": {},
   "source": [
    "將jieba斷詞寫成方法"
   ]
  },
  {
   "cell_type": "code",
   "execution_count": 9,
   "metadata": {},
   "outputs": [],
   "source": [
    "def cutflow(p):\n",
    "    cutresult = \" \".join(jieba.cut(p))\n",
    "    return cutresult.replace(\"\\r\", \"\").replace(\"\\n\", \"\")"
   ]
  },
  {
   "cell_type": "markdown",
   "metadata": {},
   "source": [
    "載入詞向量模型與貝氏模型"
   ]
  },
  {
   "cell_type": "code",
   "execution_count": 10,
   "metadata": {},
   "outputs": [
    {
     "name": "stderr",
     "output_type": "stream",
     "text": [
      "/opt/conda/lib/python3.6/site-packages/sklearn/base.py:251: UserWarning: Trying to unpickle estimator MultinomialNB from version 0.20.1 when using version 0.20.2. This might lead to breaking code or invalid results. Use at your own risk.\n",
      "  UserWarning)\n",
      "/opt/conda/lib/python3.6/site-packages/sklearn/base.py:251: UserWarning: Trying to unpickle estimator CountVectorizer from version 0.20.1 when using version 0.20.2. This might lead to breaking code or invalid results. Use at your own risk.\n",
      "  UserWarning)\n"
     ]
    }
   ],
   "source": [
    "clg = joblib.load('clg') \n",
    "vec = joblib.load('vec') "
   ]
  },
  {
   "cell_type": "markdown",
   "metadata": {},
   "source": [
    "文章藍綠貼標分析方法:貝氏定理"
   ]
  },
  {
   "cell_type": "code",
   "execution_count": 11,
   "metadata": {},
   "outputs": [],
   "source": [
    "def label_predict(text):\n",
    "    docs_news = cutflow(text)\n",
    "    c=[{\"content\" : docs_news,\n",
    "       \"tag\" : 0}]\n",
    "    d = pd.DataFrame(c)\n",
    "    test_counts = vec.transform(d[\"content\"])\n",
    "    pre = clg.predict(test_counts)\n",
    "    label_result = list(pre)[0]\n",
    "    if label_result == '1':\n",
    "        result = \"blue\"\n",
    "    elif label_result == '0':\n",
    "        result = \"green\"\n",
    "    return result"
   ]
  },
  {
   "cell_type": "markdown",
   "metadata": {},
   "source": [
    "文章摘要分析 需要的套件"
   ]
  },
  {
   "cell_type": "code",
   "execution_count": 12,
   "metadata": {},
   "outputs": [],
   "source": [
    "#!pip install networkx\n",
    "#!pip install textrank4zh\n",
    "from  __future__  import print_function\n",
    "import jieba\n",
    "import numpy\n",
    "import networkx\n",
    "import sys\n",
    "import codecs \n",
    "from textrank4zh import TextRank4Keyword ,TextRank4Sentence"
   ]
  },
  {
   "cell_type": "markdown",
   "metadata": {},
   "source": [
    "文章摘要方法:TextRank"
   ]
  },
  {
   "cell_type": "code",
   "execution_count": 13,
   "metadata": {},
   "outputs": [],
   "source": [
    "def news_summary(text):\n",
    "    tr4s = TextRank4Sentence()\n",
    "    tr4s.analyze( text = text, lower = True , source = ' all_filters ' )\n",
    "    for item in tr4s.get_key_sentences( num = 1 ):\n",
    "        return item.sentence"
   ]
  },
  {
   "cell_type": "markdown",
   "metadata": {},
   "source": [
    "Elasticsearch 需要的套件"
   ]
  },
  {
   "cell_type": "code",
   "execution_count": 14,
   "metadata": {},
   "outputs": [],
   "source": [
    "#!pip install elasticsearch\n",
    "from elasticsearch import Elasticsearch"
   ]
  },
  {
   "cell_type": "code",
   "execution_count": 15,
   "metadata": {},
   "outputs": [],
   "source": [
    "# 建立Elasticsearch連線\n",
    "es = Elasticsearch(['elasticsearch:9200'])"
   ]
  },
  {
   "cell_type": "code",
   "execution_count": null,
   "metadata": {},
   "outputs": [],
   "source": [
    "# 在Elasticsearch建立index，亦可加入body參數先定義mapping格式\n",
    "es.indices.create(index = 'news', ignore = 400)"
   ]
  },
  {
   "cell_type": "code",
   "execution_count": null,
   "metadata": {},
   "outputs": [],
   "source": [
    "# 將Elasticsearch定義所放入的資料格式:mapping\n",
    "es.indices.put_mapping(index = \"news\",\n",
    "                       doc_type = \"politics\",                \n",
    "                       body = {\n",
    "                        \"properties\": {\n",
    "                            \"source\": {\"type\": \"text\"},\n",
    "                            \"url\": {\"type\": \"text\"},\n",
    "                            \"title\": {\"type\": \"text\"},\n",
    "                            \"date_\": {\"type\": \"text\"},\n",
    "                            \"author\": {\"type\": \"text\"},\n",
    "                            \"content\": {\"type\": \"text\"},\n",
    "                            \"kw\": {\"type\": \"text\"},\n",
    "                            \"img_url\": {\"type\": \"text\"},\n",
    "                            \"@timestamp\": {\"type\": \"date\"}\n",
    "                        }\n",
    "                    }\n",
    "                )"
   ]
  },
  {
   "cell_type": "code",
   "execution_count": 16,
   "metadata": {},
   "outputs": [],
   "source": [
    "# 為了將匯入資料的時間加入時區\n",
    "from datetime import datetime, timedelta, timezone\n",
    "tz_utc_8 = timezone(timedelta(hours=8)) # 創建時區UTC+8:00"
   ]
  },
  {
   "cell_type": "markdown",
   "metadata": {},
   "source": [
    "傳送log 需要的套件"
   ]
  },
  {
   "cell_type": "code",
   "execution_count": 22,
   "metadata": {},
   "outputs": [],
   "source": [
    "#!pip install python-logstash\n",
    "import logging\n",
    "import logstash\n",
    "import sys"
   ]
  },
  {
   "cell_type": "code",
   "execution_count": 23,
   "metadata": {},
   "outputs": [],
   "source": [
    "host = \"logstash\"\n",
    "# 資料清理與分析log\n",
    "etl_analysis_logger = logging.getLogger('etl_analysis_logger')\n",
    "etl_analysis_logger.setLevel(logging.INFO)\n",
    "# TCP\n",
    "etl_analysis_logger.addHandler(logstash.TCPLogstashHandler(host, 5000, version=1))\n",
    "\n",
    "# 資料傳輸到MySQL log\n",
    "mysql_logger = logging.getLogger('mysql_logger')\n",
    "mysql_logger.setLevel(logging.INFO)\n",
    "# TCP\n",
    "mysql_logger.addHandler(logstash.TCPLogstashHandler(host, 5000, version=1))\n",
    "\n",
    "# 資料傳輸到Elasticsearch log\n",
    "elasticsearch_logger = logging.getLogger('elasticsearch_logger')\n",
    "elasticsearch_logger.setLevel(logging.INFO)\n",
    "# TCP\n",
    "elasticsearch_logger.addHandler(logstash.TCPLogstashHandler(host, 5000, version=1))"
   ]
  },
  {
   "cell_type": "markdown",
   "metadata": {},
   "source": [
    "Kafka Consumer需要的套件"
   ]
  },
  {
   "cell_type": "code",
   "execution_count": 17,
   "metadata": {},
   "outputs": [],
   "source": [
    "#!pip install kafka\n",
    "from kafka import KafkaConsumer, TopicPartition\n",
    "import sys\n",
    "import json, time, requests"
   ]
  },
  {
   "cell_type": "code",
   "execution_count": 40,
   "metadata": {},
   "outputs": [
    {
     "name": "stdout",
     "output_type": "stream",
     "text": [
      "Now listening for incoming messages ... \n",
      "\n",
      "topic=politics_news, partition=0, offset=128 : (key=storm, value={'source': '風傳媒 THE STORM MEDIA', 'url': 'https://www.storm.mg/article/759252', 'title': '新新聞》幸福盟反同婚立專法，要讓同志只能「共同生活」', 'date_': '2018-12-28 18:10', 'author': ['胡宥心'], 'content': '下一代幸福聯盟（幸福盟）提出的反同婚「愛家」公投三案高票過關，依法行政院三個月內提案修法，幸福盟近日挾七百萬民意在立法院遊說修法方向。幸福盟訴求《民法》九七二條的婚姻由男女當事人訂定之，應更明確寫「婚姻應由一男一女」結合；同時主張不該訂定同性婚姻的專法，而是朝「同性共同生活」方向立法。綠委怨敗後一再被「教訓」恫嚇由於幸福盟僅針對中南部對同婚立場較不鮮明的立委遊說，根據被遊說的立委轉述，他們一來抬出七百萬公投民意，態度強硬，近乎「施壓」，強調公投結果不可逆，若專法與公投主文相違背（也就是若專法成為同性婚姻專法），他們不排除二○二○年再發起反同公投，「讓民進黨再輸一次！」「我現在聽到如果不怎樣就用選票教訓民進黨就很氣！」一位被遊說的南部資深綠委忍不住嘆氣，九合一大選，民進黨敗得一塌糊塗，大家都已經用選票教訓執政黨，連反同團體都拿著違憲的修法來恫嚇他們，整個同婚議題被玩進死胡同。據轉述，幸福盟的主張已經有十多位保守派立委連署。他們遊說立委時，甚至提到我國愛滋病治療經費過高，很大比例為男同志性行為導致，疾管局編列百億元經費防治愛滋，還因此積欠大量健保費。該言論一出，也讓不少立委驚訝，「這已經不只違憲，還違反人權。」對此，幸福盟理事長曾獻瑩解釋，他們遊說立委是解釋他們提出的公投主文原意，包括公投第十案限定《民法》九七二條「婚姻應由一男一女」結合，第十一案的國中小不得實施同志教育，第十二案「以民法婚姻以外形式保障同性二人共同生活權益」。他們擔心許多立委會將第十二案視為是要通過「同性婚姻專法」。幸福盟連專法同婚都反對「我們的公投主文從頭到尾都不主張同性婚姻立專法！」曾獻瑩強調，他們要的是「共同生活法」，讓同性配偶適用家屬關係，解決醫療手術同意書、財產分配等問題，他強調這並非婚姻，而是用《民法》一一二三條中「以永久共同生活為目的」規範視為家屬的關係。曾獻瑩強調，有少數立委認為公投過了以後要推同婚專法，甚至變成不修改民法，但在專法中把民法的婚姻文字抄一遍，或寫準用民法婚姻規範，「真的有委員這樣主張，這樣跟修民法一樣意思，都是換湯不換藥！」至於立委質疑「共同生活法」已違憲，曾獻瑩解釋，二○一六年五月大法官七四八號釋憲闡明，「相同性別之二人，為經營共同生活之目的，成立具有親密性及排他性之永久結合關係，係憲法所保護之婚姻自由及平等權。」大法官認為「保障不足」違憲，若以「共同生活」為目的，《民法》一一二三條也有「以永久共同生活為目的可視為家屬」內容，加上他們所提的公投第十案主文反對以《民法》保障同婚，這三者串起來，他確信他們立法方式符合大法官釋憲。「若最後推『同性婚姻專法』，而非『共同生活法』，改變婚姻定義，連教育內容都跟著改，違反我們公投第十一案國中小不得進行同性教育主張。」曾獻瑩說，如此一來第十一案的反對同志教育也白投，如此的修法結果違背七百萬反對同婚的民意，「我們只是提醒委員，若在修法過程中誤判就不好了。」至於質疑愛滋病防治經費，曾獻瑩說，那是延伸議題，因為愛滋高危險族群是男男沒有安全性行為導致，造成疾管局預算有一半用來買愛滋病的藥，疾管局編列「愛滋防治五年期」計畫經費共一二五億元，他只是代為反映給立委知道。儘管愛家公投三案高票過關，曾獻瑩表示，其實許多人甚至認為連專法都不需要給，看看公投第十二案比第十案的反同婚入民法少了一二○萬票就知道，他們覺得台灣根本不需要針對同志設立什麼法，立法後牽涉到未來醫療資源分配。伴侶盟強調七四八號釋憲就是指婚姻曾獻瑩說，他們推專法都遭遇內部極大抵抗，不斷宣導「同性共同生活法」絕不會破壞家庭倫理，教育也不會受影響，才會選擇去立法院遊說，盼體諒彼此立場。\\xa0台灣伴侶權益推動聯盟秘書長簡至潔則強調，從七四八號釋憲範疇來看，強調的就是「婚姻」，司法院聲明也強調專法架構一定是以婚姻、配偶為基礎，倘若專法僅用「同性共同生活法」立法，不可能符合憲法解釋。➤更多內容請看新新聞', 'kw': ['伴侶盟', '同婚專法', '478號釋憲', '幸福盟', '同婚', '反同婚', '專法', '民法', '公投', '立委', '他們'], 'img_url': 'https://image.cache.storm.mg/styles/smg-800x533-fp/s3/media/image/2018/12/27/20181227-113615_U8719_M487363_4e10.JPG?itok=CYcxpw2p', 'ariticle_emotion': 'negative', 'label': 'green', 'abstract': '」對此，幸福盟理事長曾獻瑩解釋，他們遊說立委是解釋他們提出的公投主文原意，包括公投第十案限定《民法》九七二條「婚姻應由一男一女」結合，第十一案的國中小不得實施同志教育，第十二案「以民法婚姻以外形式保障同性二人共同生活權益」'})\n",
      "\n",
      "\n",
      "Now sending data to MySQL!\n",
      "<Response [200]>\n",
      "{'status_describe': 'success add News'}\n",
      "Data was sent to MySQL successfully!\n",
      "\n",
      "\n",
      "Now sending data to elasticsearch!\n",
      "Data was sent to elasticsearch successfully!\n",
      "\n",
      "\n",
      "topic=politics_news, partition=0, offset=129 : (key=storm, value={'source': '風傳媒 THE STORM MEDIA', 'url': 'https://www.storm.mg/article/764966', 'title': '反登陸演練元月上陣\\u3000雷霆2000火箭、地獄火飛彈、攻擊直升機全出籠', 'date_': '2018-12-28 17:48', 'author': ['蘇仲泓'], 'content': '陸軍第十軍團預計明年1月17日舉行聯合反登陸作戰演練，日前已發布射擊通報，這次演練也是「全軍示範」等級，國防部、陸軍相當重視，屆時將結合重型火砲、雷霆2000多管火箭、攻擊直升機等武器裝備，對目標進行實彈射擊，規模龐大。根據射擊報告單中指出，正式日期為1月17日的5時30分到7時，預備日則是隔一天18日的同一時段；射擊地點為番仔寮地區，使用武器部分，則註明飛機（船艦）及地面武器；海域靶場半徑5哩，最大彈道高度則為自地（水）面至13000呎以下。據了解，這次不僅有過去作戰區傳統火砲對海目標射擊時的火砲類型，還將出動雷霆2000多管火箭和區域內裝甲部隊、攻擊直升機等裝備，屆時火砲、戰車砲、火箭彈地獄火飛彈輪轟，場面驚人。雷霆2000多管火箭是這次反登陸演練主要武器。圖為去年澎湖漢光演習，雷霆2000對海面目標攻擊。（資料照，蘇仲泓攝）國防部長嚴德發昨（27）日前往十軍團及陸航602旅視導，由於前者為此次負操演之責的作戰區，後者則是裝備有攻擊直升機在內的陸軍航空部隊，是否由後者支援前者相關射擊科目，尚待觀察，但嚴德發此行也有先行掌握單位整備情況的意義在裡頭。嚴德發除對作戰區每周進行任務歸詢檢討給予高度肯定，也強調由下而上的檢討方式，能夠了解各階段的訓練成效，從務實面檢討，再以滾動式進行修正，供下一次訓練參考，使各項作戰計畫更加完善。國防部長嚴德發昨前往陸軍十軍團、陸航602旅視導，兩者為這次操演重要主角。（資料照，顏麟宇攝）在陸航602旅，嚴德發表示，陸航是防衛作戰相當重要的兵力，無論是裝備維護、訓練要求還是戰力展示，都有更高標準；隨著AH-64E阿帕契攻擊直升機、UH-60M黑鷹直升機的換裝，各項戰力都與先進國家同步。嚴德發說，因此各級幹部應多方思考，運用創新戰術戰法，透過新銳戰力帶動地面部隊，有效提升國軍防衛作戰整體效能。', 'kw': ['2000', '國防部', '反登陸作戰演練', '這次', '嚴德發', '射擊', '黑鷹', '雷霆2000', '阿帕契', '陸軍'], 'img_url': 'https://image.cache.storm.mg/styles/smg-800x533-fp-wm/s3/media/image/2017/10/26/20171026-032829_U7345_M340698_5dae.JPG?itok=SFg2NmnK', 'ariticle_emotion': 'positive', 'label': 'blue', 'abstract': '（資料照，蘇仲泓攝）國防部長嚴德發昨（27）日前往十軍團及陸航602旅視導，由於前者為此次負操演之責的作戰區，後者則是裝備有攻擊直升機在內的陸軍航空部隊，是否由後者支援前者相關射擊科目，尚待觀察，但嚴德發此行也有先行掌握單位整備情況的意義在裡頭'})\n",
      "\n",
      "\n",
      "Now sending data to MySQL!\n",
      "<Response [200]>\n",
      "{'status_describe': 'success add News'}\n",
      "Data was sent to MySQL successfully!\n",
      "\n",
      "\n",
      "Now sending data to elasticsearch!\n",
      "Data was sent to elasticsearch successfully!\n",
      "\n",
      "\n",
      "topic=politics_news, partition=0, offset=130 : (key=storm, value={'source': '風傳媒 THE STORM MEDIA', 'url': 'https://www.storm.mg/article/764887', 'title': '卸任馬辦發言人\\u3000徐巧芯：感謝馬英九栽培', 'date_': '2018-12-28 17:17', 'author': ['焦家卉'], 'content': '前總統馬英九辦公室今（28）日中午宣布，辦公室發言人徐巧芯當選台北市議員，即日起需要全心監督市政，卸下馬辦發言人工作。不過，據了解，徐巧芯過去在競選台北市議員期間，因為與同選區、同黨爭取連任的市議員王鴻薇鬧翻，當時馬英九出面擔任和事佬，從那時起徐巧芯便沒有再參與馬辦運作。徐巧芯則說，非常感謝馬英九一直以來的栽培與鼓勵，也是因為有馬英九擔任超級助選員，讓她能以第二高票的好成績當選。徐巧芯表示，自己接下來將專心在台北市議會的監督工作，不過只要有需要幫忙澄清或任何需要，仍然會義不容辭的幫忙。', 'kw': ['辦公室', '徐巧芯', '馬英九', '許巧芯', '當選', '發言人', '台北市議員'], 'img_url': 'https://image.cache.storm.mg/styles/smg-800x533-fp-wm/s3/media/image/2018/12/25/20181225-061115_U13721_M486942_6caf.jpg?itok=tYfMkyVP', 'ariticle_emotion': 'positive', 'label': 'blue', 'abstract': '不過，據了解，徐巧芯過去在競選台北市議員期間，因為與同選區、同黨爭取連任的市議員王鴻薇鬧翻，當時馬英九出面擔任和事佬，從那時起徐巧芯便沒有再參與馬辦運作'})\n",
      "\n",
      "\n",
      "Now sending data to MySQL!\n",
      "<Response [200]>\n",
      "{'status_describe': 'success add News'}\n",
      "Data was sent to MySQL successfully!\n",
      "\n",
      "\n",
      "Now sending data to elasticsearch!\n",
      "Data was sent to elasticsearch successfully!\n",
      "\n",
      "\n",
      "topic=politics_news, partition=0, offset=131 : (key=storm, value={'source': '風傳媒 THE STORM MEDIA', 'url': 'https://www.storm.mg/article/764766', 'title': '柯文哲2020選總統？國民黨：外界過度吹捧，他沒有想像中強', 'date_': '2018-12-28 16:57', 'author': ['簡子琳'], 'content': '今年縣市長選舉才結束不久，2020年總統大位之爭已經成為外界關注的焦點，目前具有高人氣的台北市長柯文哲是否參選也備受矚目。該如何看待柯文哲「有可能」參選一事？國民黨表示，柯文哲是「外界過度吹捧、並沒有想像中的強」，相較於民進黨憂心蔡英文的選情，國民黨顯得樂觀。國民黨組發會主委李哲華表示，要不是有公投等選務上的瑕疵，搞不好柯文哲會輸給國民黨的台北市長候選人丁守中。國民黨立委曾銘宗也認為，這次台北市長選戰因為有邊開票邊投票的情形，柯文哲贏得僥倖，或許現在網路聲量有維持，但熱度不會太久。國民黨立委曾銘宗認為，或許現在柯文哲網路聲量有維持，但熱度不會太久。（資料照，甘岱民攝）回顧柯文哲4年來的施政，曾銘宗表示，「大弊案變懸案，除了拆除北門高架橋、還債3百億，市民並不清楚他做了甚麼」。「柯文哲沒有想像中的強」，李哲華解釋，如果柯真的這麼強可以自己選總統，就不需要在白綠合作上討論這麼久。國民黨組發會主委李哲華認為，「柯文哲沒有想像中的強」。（資料照，龍德成攝）李哲華認為，國民黨現在要思考的不是柯文哲是否參選，而是「思考台灣經濟困境」。國民黨首先要思考如何在黨內找出最強的候選人，以及身為台灣國家領導人應該具備哪些特質，才能獲得選民的認同。', 'kw': ['曾銘宗', '柯文哲', '參選', '李哲華', '民進黨', '政局動態', '2020總統大選', '認為', '國民黨'], 'img_url': 'https://image.cache.storm.mg/styles/smg-800x533-fp-wm/s3/media/image/2018/12/25/20181225-075359_U7167_M486992_e630.jpeg?itok=5KYRoLXP', 'ariticle_emotion': 'positive', 'label': 'green', 'abstract': '國民黨立委曾銘宗也認為，這次台北市長選戰因為有邊開票邊投票的情形，柯文哲贏得僥倖，或許現在網路聲量有維持，但熱度不會太久'})\n",
      "\n",
      "\n",
      "Now sending data to MySQL!\n",
      "<Response [200]>\n",
      "{'status_describe': 'success add News'}\n",
      "Data was sent to MySQL successfully!\n",
      "\n",
      "\n",
      "Now sending data to elasticsearch!\n",
      "Data was sent to elasticsearch successfully!\n",
      "\n",
      "\n",
      "topic=politics_news, partition=0, offset=132 : (key=storm, value={'source': '風傳媒 THE STORM MEDIA', 'url': 'https://www.storm.mg/article/764606', 'title': '連綠川、柳川經過哪裡都搞不清楚？林佳龍酸沈智慧「台中人的笑話」', 'date_': '2018-12-28 16:30', 'author': ['簡子琳'], 'content': '台中市第5選區立委補選競爭激烈，日前國民黨前立委沈智慧指出，民進黨籍對手王義川主打的「綠川、柳川、王義川」都在中西東南區，王義川根本是選錯區，她選區的北區和北屯區只有旱溪和梅川。此言一出，遭前市長林佳龍打臉，批連在地河川經過哪都搞不清楚，「真的會變成台中人的笑話，甚至全台灣都會笑台中。」林佳龍曾說「台中有三川，綠川、柳川、王義川」，因為前交通局長王義川曾協助整治綠、柳川，並參與周邊交通、都市計畫規劃，因此有這句流傳在台中的佳話。如今立委補選日步步逼近，卻意外成為對手攻擊的目標。台中市前交通局長王義川被對手沈智慧批評「根本是選錯區」。\\xa0（台中市交通局官網）臉書粉絲專頁「只是堵藍」27日凌晨公布沈智慧LINE群組對話，從截圖中可看到她寫下，「對手主打綠川、柳川、王義川，請朋友回應綠川和柳川都在中西東南區」。認為王義川選錯區、應該去選該區立委，她選的北區和北屯區「只有旱溪和梅川」。對此，林佳龍表示，「台中這些年來水利交通的建設，王義川是最大的功臣；才因此被對手造謠綠川、柳川是在中西東南區，沒有在北屯北區。」林佳龍指出，綠川柳川的發源地，流經的地區就是北屯跟北區，「沈智慧你搞錯了！」、「連在地河川經過哪裡都搞不清楚，這個真的會變成台中人的笑話。」', 'kw': ['林佳龍', '台中市', '對手', '王義', '政局動態', '綠川', '柳川', '立委補選', '沈智慧', '立委'], 'img_url': 'https://image.cache.storm.mg/styles/smg-800x533-fp-wm/s3/media/image/2018/12/07/20181207-075455_U6571_M481622_2ec4.jpg?itok=KUqtb7Wv', 'ariticle_emotion': 'negative', 'label': 'green', 'abstract': '台中市第5選區立委補選競爭激烈，日前國民黨前立委沈智慧指出，民進黨籍對手王義川主打的「綠川、柳川、王義川」都在中西東南區，王義川根本是選錯區，她選區的北區和北屯區只有旱溪和梅川'})\n",
      "\n",
      "\n",
      "Now sending data to MySQL!\n",
      "<Response [200]>\n",
      "{'status_describe': 'success add News'}\n",
      "Data was sent to MySQL successfully!\n",
      "\n",
      "\n",
      "Now sending data to elasticsearch!\n",
      "Data was sent to elasticsearch successfully!\n",
      "\n",
      "\n",
      "topic=politics_news, partition=0, offset=133 : (key=storm, value={'source': '風傳媒 THE STORM MEDIA', 'url': 'https://www.storm.mg/article/764557', 'title': '【風云軍事】中國人真要吃草？豬瘟大噴發！強國面臨無豬可吃？從大量進口美豬見..大陸貿易戰敗相？', 'date_': '2018-12-28 16:00', 'author': ['風云軍事'], 'content': '習近平表眾所矚目的改革開放40周年重要演說，在美中貿易戰陰影籠罩、中國經濟面臨寒冬的情勢下，習近平該怎麼為中國找出路呢？而內部傳出的「反習聲浪」，又是怎麼回事呢？習近平面對的內部嚴重問題，又有哪些？另外，沉寂半年的中共軍機遠海長航，再度在台灣周邊上演了！到底中共的新動作是為哪樁？又有哪些新軍力呢？《風云軍事》為您獨家解析！改革開放40周年 習近平空前危機？中國國家主席習近平於12月18日，發表眾所矚目的「改革開放40周年」重要演說，在中美貿易戰陰影籠罩、中國經濟面臨寒冬的情勢下，習近平仍重申「堅持黨的集中統一領導」，但未如期待提出改革新措施。演說中，習近平承認中國內外都面臨更嚴峻的挑戰，但仍強調黨的路線、方略「完全正確」要「堅持走中國特色社會主義道路」，「必須毫不動搖鞏固和發展公有制經濟」，「不該改的、不能改的堅決不改」。好玩的是，習近平演說長達1個半小時，現場卻不見前任總書記江澤民和胡錦濤、前任總理朱鎔基和溫家寶的身影，與改革開放30周年紀念大會上中共政要雲集的情況大相逕庭。《華爾街日報》指出，中共黨內近來掀起對習的不滿聲浪，批評人士認為中國經濟下滑、美中關係惡化，都是習近平對內迅速集中權力、對外擴張大國野心引來的苦果。中國經濟露敗相 中共黨媒卻還在騙？到底中國經濟有多嚴重呢？其實在過去幾個月不斷有中國國內學者呼籲減稅，進行體制改革，因為他們發現，中國經濟真正的問題是出在內部！而不是外部！「即使沒有貿易戰，中國經濟已經出現斷崖式下滑」，除非大刀闊斧進行經濟體制改革，才可能扭轉目前趨勢。根據中國國家統計局6月14日公佈的今年一到五月最新數據顯示，目前中國消費和城鎮固定資產投資分別降到了15年、23年來的最低水準，淨出口也相對下降43.1%，顯示中國經濟已經明顯走向低迷。另外，在12月13日，中共財政部公布11月財政收支數據，11月財政收入同比下降5.4%，其中稅收收入同比下降8.3%。財稅收入不但連續兩個月同比減少，且降幅創近年最大。有網路媒體整理了今年的中共財政部數據後，發現10月起中共財稅收入「急轉折」，從持續增長突變為連續縮減，11月的財稅收入與今年4月份的峰值相比，近乎腰斬。中共黨媒對此宣傳說是「減稅降費」見效，不過經過整理中共今年的財稅政策後，發現並非如此。因為中共「減稅」幾乎都僅限於特定行業，而且都是從年初就生效的；唯一廣泛適用的一個優惠政策（增值稅調低一個百分點），是5月1日生效的，但當月稅收收入仍是兩位數增幅，隨後兩個月也是快速增長，未受減稅影響。事實上，中共歷年來屢次推行「減稅」，但由於稅收徵管的「政治化」特色，絕大多數時候財稅收入都是不減反增，對企業而言是越減稅越重。所以從中共所指的「減稅降費奏效」跟「數據證明」，事實大相逕庭啊！非洲豬瘟大噴發 中國將無豬可吃？另外，中國除了經濟跟政局問題外，現在還有一個最大的民生問題，就是「非洲豬瘟」！根據央視報導，自10月23日開始，陸陸續續傳出多地發生非洲豬瘟的疫情，而中國報導指出，疫情發生後，各地便開始落實防疫的措施，主要分為三階段：一、快速消滅疫源；二、加強排查監測；三、限制生豬移動。中國內部總統計，計算到19日止，疫情已蔓延中國23省市、累計97件，已撲殺生豬超過60萬頭。也因此，中國豬瘟疫情的嚴重，讓中國面臨「無豬可吃」的窘況，為了彌補豬肉嚴重匱缺，中國可能被迫再轉向美國購買美國豬肉產品。根據美國農業部公布，本月16日至22日一周內，中國向美國採購3348噸豬肉，創2月以來當季最高採購量，即中國對美國豬肉額外加征進口關稅的前1個月。與此同時，中國另外採購了9384噸豬肉，預定於明年出貨，占當周美國對所有國家豬肉總銷量的72%。根據Statista，中國每年豬肉人均消費量達28.5公斤，豬肉短缺可能造成通貨膨脹大幅升溫壓力，引起社會不安。中國對豬肉的消費即將進入旺季，也被認為是增加進口美國豬肉的一個原因，作為豬肉消費大國，新年前後中國有著南方製作臘肉、北方殺年豬的傳統，每年的12月、1月是豬肉的消費高峰。好笑的是，有海外獨立中文媒體引述業內知情者透露，這是中美貿易戰後，北京為了不再進口物美價廉的美國豬肉，轉而進口更貴、質量無保證的俄羅斯豬肉造成的。同時，俄羅斯各地在今年上半年“恰巧”爆發了非洲豬瘟疫情，是否就因此傳進中國呢？似乎提供了強有力的證據。半年之癢守不住？又見中共機艦繞台然而，沉寂的半年之後，中共又出現機艦繞台的情況！18日下午國防部宣布，中共轟六轟炸機、運八電戰機、蘇愷卅戰鬥機等各型戰機多架，自廣東惠陽等地起飛，穿越巴士海峽到達台灣東南方空域，然後再循原航線飛返駐地。同時，共軍也有兩艘作戰艦艇，於我國東南防空識別區外西太平洋海域航行，與空中機隊進行協同訓練。國防部官員指出，這次不僅是半年來中共軍機第一次飛到台灣附近，並且是先前罕見的海、空軍聯合操演。過去共軍各軍種往往各行其是，以往的空軍遠海長航，除了在目標區海域安排海警船擔任通信中繼、待命救援等角色之外，少有與海軍艦艇演練協同作戰的例子！到底對岸這麼做用意為何？這次的繞台行動，有什麼特別之處或演進嗎？另外，每當共機繞台時，都常有電戰機同行，這就能看見解放軍對電子戰優勢取得的重視程度，到底台灣面對這樣的威脅，該如何因應呢？想知道更多的精彩內容，邀請大家一起準時收看《風云軍事》，帶您一起瘋軍事！', 'kw': ['台海', '解放軍', '風云軍事', '1999波士尼亞維和任務', '黃創夏', '糧食危機', '華為公主', '羊炭疽', '豬屍遍地', '南海', '獨島號', '九合一選舉', 'G20', '侯友宜', '北斗系統', '改革40周年演說', '共軍', '韓國瑜', '台灣', '房市泡沫', '軍用衛星', '中國淨出口下降', '兩棲', '劉寶傑', '豬肉', '中國人吃草', '江澤民', '胡錦濤', '新聞龍捲風', '九二共識', '出雲號', 'AH-64', '中國經濟', '海軍鴻運計畫', '制電磁權', '中美貿易戰', '周岐原', '中共', '談軍說事', '吳明杰', '大陸', '無豬可吃', 'Link', '中共機艦繞台', '第三代GPS', '俄羅斯豬肉', '進口美豬', '范姜泰基', '非洲豬瘟', '擴大開放', '16', '必須毫不動搖鞏固和發展公有制經濟', '風傳媒', '陳其邁', '波斯灣戰爭', '中國豬瘟', '美國', '施孝瑋', '堅持黨的集中統一領導', '不該改的、不能改的堅決不改', '聯合接戰系統', '關鍵時刻', 'AAV-7', '經濟寒冬', '柯文哲', '堅持走中國特色社會主義道路', '斷尾戰術', '溫家寶', '習近平', '孟晚舟', '中國', '彭斯', '亓樂義', '中國經濟沒那麼糟', '空中安全走廊', '黃世聰', '華為', '朱鎔基', 'F-35B', '聶建中', '財稅收入暴減', '中國製造2025', '減稅降費', '牛炭疽', '2003第二次波斯灣戰爭', '改革40周年', '川普'], 'img_url': '', 'ariticle_emotion': 'negative', 'label': 'blue', 'abstract': '中國國家主席習近平於12月18日，發表眾所矚目的「改革開放40周年」重要演說，在中美貿易戰陰影籠罩、中國經濟面臨寒冬的情勢下，習近平仍重申「堅持黨的集中統一領導」，但未如期待提出改革新措施'})\n",
      "\n",
      "\n",
      "Now sending data to MySQL!\n"
     ]
    },
    {
     "name": "stdout",
     "output_type": "stream",
     "text": [
      "<Response [200]>\n",
      "{'status_describe': 'success add News'}\n",
      "Data was sent to MySQL successfully!\n",
      "\n",
      "\n",
      "Now sending data to elasticsearch!\n",
      "Data was sent to elasticsearch successfully!\n",
      "\n",
      "\n",
      "topic=politics_news, partition=0, offset=134 : (key=storm, value={'source': '風傳媒 THE STORM MEDIA', 'url': 'https://www.storm.mg/article/764435', 'title': '邱豐光接任移民署長\\u3000徐國勇：刑事績效卓著', 'date_': '2018-12-28 15:43', 'author': ['中央社'], 'content': '內政部今天表示，移民署長一職已奉行政院核定，由警政署副署長邱豐光接任。內政部長徐國勇表示，移民業務與警政息息相關，邱豐光從事警職近40年，刑事績效卓著，深獲各界讚許。日前媒體報導前移民署長楊家駿出差帶太太出遊，內政部已將楊家駿調離主管職，接受調查。內政部今天下午發布新聞稿表示，移民署長一職已奉行政院核定，由邱豐光接任，布達儀式稍晚將於下午4時30分在移民署大禮堂，由徐國勇親自監交布達。內政部長徐國勇（右）表示，邱豐光對維護社會治安有重大貢獻，深獲各界讚許。（資料照，顏麟宇攝）徐國勇表示，邱豐光從事警職近40年，刑事績效卓著，對維護社會治安有重大貢獻，深獲各界讚許。移民業務與警政息息相關，將來在邱豐光的領導下，希望移民署持續落實國境管理、維護國家安全、尊重多元文化、保障移民人權，並積極結合政府與民間團體等社會資源，使台灣邁向多元和諧的社會。內政部表示，邱豐光是中央警察大學行政警察學系43期畢業、台北大學犯罪學研究所碩士，曾任警政署副署長，過去擔任台北市政府警察局刑事警察大隊副大隊長、警政署刑事警察局偵查第六隊隊長、台北市政府警察局刑事警察大隊大隊長、警政署刑事警察局主任秘書、新竹市警察局局長、警政署刑事警察局副局長、台中市警察局局長、基隆市警察局局長、警政署警政委員、台中市政府警察局局長及台北市政府警察局局長等重要職務，警政及刑事經驗豐富，歷練完整。', 'kw': ['移民署', '局長', '警察局', '警政署', '邱豐光', '徐國勇', '署長'], 'img_url': 'https://image.cache.storm.mg/styles/smg-800x533-fp-wm/s3/media/image/2018/11/01/20181101-092848_U4040_M468506_9477.jpg?itok=CTEorUBO', 'ariticle_emotion': 'positive', 'label': 'green', 'abstract': '內政部長徐國勇表示，移民業務與警政息息相關，邱豐光從事警職近40年，刑事績效卓著，深獲各界讚許'})\n",
      "\n",
      "\n",
      "Now sending data to MySQL!\n",
      "<Response [200]>\n",
      "{'status_describe': 'success add News'}\n",
      "Data was sent to MySQL successfully!\n",
      "\n",
      "\n",
      "Now sending data to elasticsearch!\n",
      "Data was sent to elasticsearch successfully!\n",
      "\n",
      "\n",
      "topic=politics_news, partition=0, offset=135 : (key=storm, value={'source': '風傳媒 THE STORM MEDIA', 'url': 'https://www.storm.mg/article/764411', 'title': '賴清德自稱中繼投手\\u3000蔡英文：他是好投手，留下來領導是黨內共識', 'date_': '2018-12-28 15:32', 'author': ['顏振凱'], 'content': '九合一大選民進黨慘敗，行政院長賴清德多次表達去意，總統蔡英文今（28）日下午則重申，賴清德是好投手，對行政團隊領導、努力，是行政團隊裡面重要領導核心人物，希望賴清德可以繼續領導行政團隊，這是她的想法，也是黨內共識。蔡英文下午出席中華職棒30周年特展開幕典禮後，主動對媒體發表談話，呼應賴清德上午記者會的中繼投手論，蔡則強調，「賴是好投手。」針對賴清德的年終記者會，蔡英文說，過去一年努力，國家很多方面有進展，有進步，行政團隊真的非常努力，國家正在進步；她希望賴清德可以繼續領導行政團隊，對政局穩定政策延續，國家發展，這是最好的選項，希望最困難時候，賴可以一起留下來努力。', 'kw': ['團隊', '中繼投手', '蔡英文', '領導', '政局動態', '行政', '國家', '賴清德'], 'img_url': 'https://image.cache.storm.mg/styles/smg-800x533-fp-wm/s3/media/image/2018/12/18/20181218-120412_U14224_M484477_2bdd.jpg?itok=9SCpb8aS', 'ariticle_emotion': 'positive', 'label': 'green', 'abstract': '九合一大選民進黨慘敗，行政院長賴清德多次表達去意，總統蔡英文今（28）日下午則重申，賴清德是好投手，對行政團隊領導、努力，是行政團隊裡面重要領導核心人物，希望賴清德可以繼續領導行政團隊，這是她的想法，也是黨內共識'})\n",
      "\n",
      "\n",
      "Now sending data to MySQL!\n",
      "<Response [200]>\n",
      "{'status_describe': 'success add News'}\n",
      "Data was sent to MySQL successfully!\n",
      "\n",
      "\n",
      "Now sending data to elasticsearch!\n",
      "Data was sent to elasticsearch successfully!\n",
      "\n",
      "\n",
      "topic=politics_news, partition=0, offset=136 : (key=storm, value={'source': '風傳媒 THE STORM MEDIA', 'url': 'https://www.storm.mg/article/764371', 'title': '普悠瑪翻車事故懲處\\u3000台鐵3前局長全記過\\u3000', 'date_': '2018-12-28 15:16', 'author': ['廖羿雯'], 'content': '針對10月21日6432次普悠瑪列車翻覆事故，交通部今（28）召開考績委員會，審議並公佈17人懲處名單，最高層級懲至台鐵局副局長何獻霖，記一大過並調職撤換。同時也決議台鐵局三任前局長，范植谷、周永暉兩人各記過1次，鹿潔身則記一大過懲處。日前交通部召開台鐵與事故死傷者家屬的第三次賠償協調會，會議中政委吳澤成總結，這起普悠瑪事故並非單一司機超速原因所造成，包含台鐵對駕駛員的訓練、管理流程、設備都有需要檢討的地方；今天交通部審議相關人員之行政懲處，也指出還涉及組織、設備、程序、人員及環境等5個層面問題。對此行政院調查小組在普悠瑪事故調查報告最終版提出未來五項改善方案，分別是「檢討ATP隔離操作、通報及隔離訊號之監視與確認，要求落實執行」、「儘速完成普悠瑪列車ATP隔離開關遠端監視線路接線及測試」、「會同日本原廠儘速查明主風泵異常根本原因，徹底改善」、「執行普悠瑪列車特檢，並加強主風泵保養、清潔或更換必要組件」、以及「事故路段搶修後之軌道平整改善、擋碴牆復原並確認護軌長度足夠」。台鐵局表示，「安全管理制度不完善」、「不良之組織安全文化」等組織層面的事故均屬台鐵局局長的督導責任，因此，交通部召開考績會，決議就普悠瑪列車第一組101年10月交車後之3位局長進行行政懲處。其中范植谷現為中國驗船公司董事長，周永暉為現任觀光局長，兩人各記過1次，已退休的鹿潔身則記一大過懲處，對於3人現職會不會有異動、退休金是否受影響，交通部並未說明。另外17名有督導責任的主管懲處名單，還包含副局長何獻霖、正副處長、科長、正副段長、主任等，其中何獻霖記一大過並調職撤換，去處仍不確定。\\xa0台鐵局表示，如今事故調查報告已經公佈，第一波行政責任及懲處也已確定，前（26）天第三次協調會的協商也有初步共識，「誠懇呼籲家屬能夠好好坐下來硏議後續的補償及賠償問題」，台鐡雖然有法定的權限，但是除了法令規定的補償之外，也會主動透過合法途徑全力協助家屬爭取更多的權益及保障。', 'kw': ['局長', '交通部', '台鐵局', '普悠瑪列車', '台鐵', '懲處', '普悠瑪'], 'img_url': 'https://image.cache.storm.mg/styles/smg-800x533-fp-wm/s3/media/image/2018/05/23/20180523-114034_U11830_M415189_6386.jpg?itok=Z2eUPnTc', 'ariticle_emotion': 'negative', 'label': 'green', 'abstract': '其中范植谷現為中國驗船公司董事長，周永暉為現任觀光局長，兩人各記過1次，已退休的鹿潔身則記一大過懲處，對於3人現職會不會有異動、退休金是否受影響，交通部並未說明'})\n",
      "\n",
      "\n",
      "Now sending data to MySQL!\n",
      "<Response [200]>\n",
      "{'status_describe': 'success add News'}\n",
      "Data was sent to MySQL successfully!\n",
      "\n",
      "\n",
      "Now sending data to elasticsearch!\n",
      "Data was sent to elasticsearch successfully!\n",
      "\n",
      "\n",
      "topic=politics_news, partition=0, offset=137 : (key=storm, value={'source': '風傳媒 THE STORM MEDIA', 'url': 'https://www.storm.mg/article/764323', 'title': '合體韓國瑜破局\\u3000詹雅雯被退通告全因拒唱這些歌', 'date_': '2018-12-28 15:12', 'author': ['簡子琳'], 'content': '高雄市長韓國瑜即將迎接上任以來的第一個跨年晚會，近日卻爆出歌手詹雅雯與主辦單位因演唱歌曲喬不攏，最後遭退通告的消息。在2018縣市長選舉前，曾為民進黨高雄市長候選人陳其邁在造勢晚會上獻唱，卻因此被韓粉罵翻。當時詹在台上獻唱多首歌曲，包含《深情海岸》、《今年一定會好過》，被網軍攻擊後，詹雅雯曾於民進黨市議員候選人呂孫福造勢晚會上傷心落淚，後來韓國瑜曾在自己的造勢會上聲援詹雅雯，認為她不應受此委屈，但近日卻爆出雙方合體破局的消息。金曲歌后詹雅雯曾為民進黨高雄市長候選人陳其邁造勢會獻唱。（資料照，甘岱民攝）高雄市觀光局長潘恆旭表示，詹雅雯是藉由受委託辦理此次跨年晚會的民視進行邀約，原本希望詹雅雯演唱與高雄有關的《深情海岸》和較有跨年氣氛的《今年一定會好過》等曲目。但詹雅雯方面因考量競選期已過，希望能避開爭議歌曲，雙方沒能達成共識，最後被詹的經紀人拒絕。針對此事，詹雅雯26日在臉書上發文表示，「由於從接到邀約至今時間相當匆促，對於晚會演出內容，承辦單位與雅雯工作室未能洽談協調好細節，所以本次雅雯的演出，承辦單位臨時喊卡。」但她也提到，今年跨年還是會在高雄度過，愛高雄、支持高雄的心永遠不變。對於退通告一事，夢時代購物中心則表示，詹雅雯「本來就沒有在名單裡面」。目前官方公告的「高雄跨年晚會－夢時代跨年派對」中，主持人為浩角翔起、艾力克斯、Janet三人，演出歌手為周湯豪、八三夭、丁噹、黃小琥、安心亞、阿達、愷樂、周興哲、OZI、87樂團、曹雅雯。', 'kw': ['高雄市長', '高雄市', '高雄', '民視', '民進黨', '韓國瑜', '詹雅雯', '跨年晚會'], 'img_url': 'https://image.cache.storm.mg/styles/smg-800x533-fp-wm/s3/media/image/2018/12/26/20181226-113812_U4040_M487070_51bf.jpg?itok=qYxCRg-A', 'ariticle_emotion': 'positive', 'label': 'green', 'abstract': '當時詹在台上獻唱多首歌曲，包含《深情海岸》、《今年一定會好過》，被網軍攻擊後，詹雅雯曾於民進黨市議員候選人呂孫福造勢晚會上傷心落淚，後來韓國瑜曾在自己的造勢會上聲援詹雅雯，認為她不應受此委屈，但近日卻爆出雙方合體破局的消息'})\n",
      "\n",
      "\n",
      "Now sending data to MySQL!\n",
      "<Response [200]>\n",
      "{'status_describe': 'success add News'}\n",
      "Data was sent to MySQL successfully!\n",
      "\n",
      "\n",
      "Now sending data to elasticsearch!\n",
      "Data was sent to elasticsearch successfully!\n",
      "\n",
      "\n",
      "topic=politics_news, partition=0, offset=138 : (key=storm, value={'source': '風傳媒 THE STORM MEDIA', 'url': 'https://www.storm.mg/article/763843', 'title': '「非核家園期限已不存在」\\u3000賴清德回應中火空污減排：燃煤占比年減1%', 'date_': '2018-12-28 13:52', 'author': ['林上祚'], 'content': '行政院今（28）日舉行年終記者會，針對任內「未竟之志」與非核家園理想，在九合一選舉公投遭到挫敗，行政院長賴清德表示，針對公投後續處理，能源轉型部分，關於《電業法》條文廢止部分，行政院已經通過，「換句話說，非核家園期限已經不存在」。另台中市長盧秀燕昨在行政院院會，也特別針對空污問題發言，經濟部長沈榮津也向盧說明，「每年燃煤佔比減少1%，經濟部也會配合」。同婚議題公投結果出爐後，行政院與立法院也已討論後續因應，賴清德說，「這是重大且複雜議題，立法委員意見很寶貴，必須與委員取得共識，才能提出對案。」賴清德（左）談到每年降低燃煤占比1%，表示在公投效力期間沒問題。（顏麟宇攝）賴揆表示，行政院明年施政，第一個重點在於非洲豬瘟防疫，非洲豬瘟比口蹄疫還要兇悍，口蹄疫爆發時，當初全台撲殺400多萬頭豬，重創台灣養豬產業，當時損失金額估計達1700億元，非洲豬瘟沒有藥物醫治，感染致死率是百分百，行政院在18日已未雨綢繆，成立中央災害應變中心，26日也到屏東演習，昨天院會也籲請縣市長與中央攜手合作。賴揆同時呼籲國人一定要全力支持防疫工作，千千萬萬不要透過電子商務系統，購買攜帶非洲豬瘟病毒產品，到疫區不能攜帶豬肉品回國。第二，在拼經濟方面，賴揆表示，今年施政主軸特別要做到藏富於民，要著重人員效率提升、男女同工同酬、縮短所得差距，在改善投資環境，政府將持續解決水電土地人力人才問題，檢討法律鬆綁提高行政效率，行政院今年已通過《新經濟移民法》草案，希望在不影響本勞薪資水準下，擴大留用中階技術外勞，日前也通過《產創條例》修法草案，推動智慧機械投資抵減方案。賴揆同時表示，歡迎台商海外資金回台方案，行政院已完成研議，但因涉及亞太洗錢防制組織（APG）要求，必須要與APG溝通，才會送立院審議。賴揆表示，明年是地方創生元年與雙語國家元年，也是讓政府朝向智慧型政府重要元年，這都是要加強落實的地方，讓人口集中都市、鄉村空洞問題解決，雙語國家目的是讓台灣提升競爭力，不是只著眼於考試，希望政府能在12年時間達成雙語國家目標。賴揆表示，行政院院會昨天通過的服務型智慧政府，最重要的是「數位身份證件」（eID），以及政府建制「數位通訊幹道」，串接個地方政府資訊，讓台灣有機會像愛沙尼亞，朝數位智慧國家邁進。他表示，2020年eID就要全面發放，希望政府數位通訊幹道完成後，奠定服務型智慧政府基礎。行政院長賴清德（左二）與副院長施俊吉（右二）、秘書長卓榮泰（右一）等人召開年終記者會。（顏麟宇攝）針對工商團體負責人表達希望賴清德留任閣揆，賴揆表示，企業界對對台灣經濟發展有很大貢獻，真正下場打球是勞資雙方，政府角色是建立好的環境，因此他就任閣揆後，就以做實事精神，誠實面對台灣問題，這一年來也踏實提出解決方案，感謝各界寶貴建言。針對企業界關心的環評新制，賴揆表示，環保署前署長李應元任內已規劃方向，後續修訂在政務委員召集，就該方案進行調整，日後推出應該不困難，他強調草案已經具備，只要做一些調整，很快可以端出來。針對公投後續處理，賴揆表示，盧秀燕昨已在院會要求，台中火力發電廠依據公投結果減排，針對盧關心的空污問題，經濟部長沈榮津也向盧說明，「每年燃煤佔比減少1%，經濟部也會配合」。不過，賴揆強調，公投的法律效力也是有限制，「不會無限制延長」，我們會在公投效力期間內，推動公投政策。', 'kw': ['空污', '問題', '盧秀燕', '賴揆', '空汙', '行政院', '針對', '非核家園', '公投', '賴清德'], 'img_url': 'https://image.cache.storm.mg/styles/smg-800x533-fp-wm/s3/media/image/2018/12/28/20181228-113636_U4040_M487783_d422.jpg?itok=Ptg_81_z', 'ariticle_emotion': 'positive', 'label': 'green', 'abstract': '第二，在拼經濟方面，賴揆表示，今年施政主軸特別要做到藏富於民，要著重人員效率提升、男女同工同酬、縮短所得差距，在改善投資環境，政府將持續解決水電土地人力人才問題，檢討法律鬆綁提高行政效率，行政院今年已通過《新經濟移民法》草案，希望在不影響本勞薪資水準下，擴大留用中階技術外勞，日前也通過《產創條例》修法草案，推動智慧機械投資抵減方案'})\n",
      "\n",
      "\n",
      "Now sending data to MySQL!\n",
      "<Response [200]>\n",
      "{'status_describe': 'success add News'}\n",
      "Data was sent to MySQL successfully!\n",
      "\n",
      "\n",
      "Now sending data to elasticsearch!\n",
      "Data was sent to elasticsearch successfully!\n",
      "\n",
      "\n",
      "topic=politics_news, partition=0, offset=139 : (key=storm, value={'source': '風傳媒 THE STORM MEDIA', 'url': 'https://www.storm.mg/article/763664', 'title': '管中閔匿名寫專欄引爭議\\u3000顏擇雅：這是高官運用言論自由的方式嗎？', 'date_': '2018-12-28 13:30', 'author': ['簡子琳'], 'content': '日前教育部才「勉予同意」管中閔就任台大校長，原以為歷經一年的「拔管案」即將落幕，卻又爆出監察院查到管中閔曾以匿名在《壹週刊》撰寫專欄的爭議。對此，作家顏擇雅質疑，媒體付錢請高官匿名寫稿吹捧自己的政策，「這是高官運用言論自由的方式嗎？這是媒體運用經商自由的方式嗎？」據監察院調查，管中閔自2012年起以匿名方式在《壹週刊》撰寫專欄文章，時間長達數年之久，至台大校長遴選爭議後停止，每年領取高達60多萬的稿費、總計領取超過300萬元以上。由於管中閔為《壹週刊》寫專欄的同時具備政務官身分，因此有可能違反公務員服務法，未來若查出確有此事，監察院將提案彈劾。顏擇雅：高官具名寫稿是好事，但匿名吹捧政策是另一回事針對此事，顏擇雅認為，若管中閔是具名也是件好事，因為她巴不得多些高官寫稿，公開為自己的政策辯護，接受人民檢驗。「但一家媒體，付錢請高官匿名寫稿吹捧自己的政策，就是另一回事了。」並質疑「這是高官運用言論自由的方式嗎？這是媒體運用經商自由的方式嗎？」「然後這位高官要去做台大校長了」。顏擇雅表示，寫這個不代表她贊成卡管。她認為，台灣目前的法律就是大學自治，包括腐敗的大學；她也不反對言論自由跟經商自由，只是想提起台大已故校長傅斯年而已。', 'kw': ['大學自治', '管仲閔', '顏擇雅', '高官', '台大校長', '寫稿', '傅斯年', '媒體', '管中閔'], 'img_url': 'https://image.cache.storm.mg/styles/smg-800x533-fp-wm/s3/media/image/2018/12/10/20181210-053844_U14224_M482138_189c.jpg?itok=VAgcQobV', 'ariticle_emotion': 'negative', 'label': 'green', 'abstract': '對此，作家顏擇雅質疑，媒體付錢請高官匿名寫稿吹捧自己的政策，「這是高官運用言論自由的方式嗎'})\n",
      "\n",
      "\n",
      "Now sending data to MySQL!\n",
      "<Response [200]>\n",
      "{'status_describe': 'success add News'}\n",
      "Data was sent to MySQL successfully!\n",
      "\n",
      "\n",
      "Now sending data to elasticsearch!\n",
      "Data was sent to elasticsearch successfully!\n",
      "\n",
      "\n"
     ]
    },
    {
     "name": "stdout",
     "output_type": "stream",
     "text": [
      "topic=politics_news, partition=0, offset=140 : (key=storm, value={'source': '風傳媒 THE STORM MEDIA', 'url': 'https://www.storm.mg/article/763236', 'title': '柯文哲2020當選總統\\u3000唐湘龍：災難將從台北市擴大到全台灣', 'date_': '2018-12-28 12:41', 'author': ['簡子琳'], 'content': '媒體近期熱炒2020總統大選，最新民調指出，台北市長柯文哲若參選，將擁4成支持率領先藍綠兩黨。資深媒體人唐湘龍認為，柯文哲沒有什麼政績，若當選總統，「那台灣的災難，就會從台北市擴大到全台灣」。《聯合報》27日公布民調顯示，2020總統大選新北前市長朱立倫，支持度達56%，領先現任總統蔡英文的22%；若民進黨改派行政院長賴清德參選，則僅有朱立倫可贏；不過，若是柯文哲參選，40歲以下約7成民眾都支持他，超前藍綠兩大黨。資深媒體人趙少康（見圖）表示，若柯文哲當選總統，藍綠兩黨應該要「覺得丟臉」。（資料照，顏麟宇攝）資深媒體人趙少康昨（27）日在政論節目《少康戰情室》分析，朱立倫在藍軍算強、賴清德在綠營算強，但若跟柯文哲比，好像又不夠強，「柯文哲又不是多強，為什麼他們（朱、賴兩人）跟他比，都不強呢？」，重批「若柯文哲當選總統，藍綠兩黨應該要覺得丟臉」。唐湘龍則引用「將軍百戰身名裂」解釋，目前兩大黨的政治人物都已身經百戰，所以名聲、支持度自然都不會太好，而柯文哲是突然出現的政治素人，對民眾來說有新鮮感；「你們（民眾）不是在選柯文哲好，而是柯文哲不一樣，其實你講不出柯文哲好在哪裡！」唐湘龍批評，柯文哲在台北市執政4年沒有什麼政績，若柯文哲真的當選總統，「那台灣的災難，就會從台北市擴大到全台灣。」\\xa0', 'kw': ['柯文哲', '唐湘龍', '總統', '2020總統大選', '當選', '台灣', '藍綠', '趙少康'], 'img_url': 'https://image.cache.storm.mg/styles/smg-800x533-fp-wm/s3/media/image/2018/12/25/20181225-023141_U13721_M486715_9bde.jpg?itok=3moyqTwM', 'ariticle_emotion': 'negative', 'label': 'green', 'abstract': '（資料照，顏麟宇攝）資深媒體人趙少康昨（27）日在政論節目《少康戰情室》分析，朱立倫在藍軍算強、賴清德在綠營算強，但若跟柯文哲比，好像又不夠強，「柯文哲又不是多強，為什麼他們（朱、賴兩人）跟他比，都不強呢'})\n",
      "\n",
      "\n",
      "Now sending data to MySQL!\n",
      "<Response [200]>\n",
      "{'status_describe': 'success add News'}\n",
      "Data was sent to MySQL successfully!\n",
      "\n",
      "\n",
      "Now sending data to elasticsearch!\n",
      "Data was sent to elasticsearch successfully!\n",
      "\n",
      "\n",
      "topic=politics_news, partition=0, offset=141 : (key=storm, value={'source': '風傳媒 THE STORM MEDIA', 'url': 'https://www.storm.mg/article/763444', 'title': '暗喻2020選總統？王金平以「國家、興旺、人生」藏頭尾作12字春聯', 'date_': '2018-12-28 12:10', 'author': ['周怡孜'], 'content': '國民黨2020年總統大選戰場開打，被視為可能角逐大位的前立法院長王金平，雖說選總統與否要等因緣變化，但他今（28）日親自揮毫，寫下「國和則興，家和則旺，人和則生」12字春聯，似乎已透露玄機。王金平在每年春節以前，都會揮毫作春聯發送給民眾。去年他寫下「真妙吉祥」4字，簡單明瞭，表達吉祥即是幸福快樂；而今年則特地增加到12字，以「國」字起頭、「和」字貫穿全文。去年寫「真妙吉祥」觀察這幅春聯的頭、尾，不難發現，內藏有「國家興旺」4字，之後則是「人生」，似乎透露出王金平有意問鼎總統的大局之感。王金平揮毫題字的專注模樣。（顏麟宇攝）王金平說，這12字是他想出來的，人與人互動，若能和氣、和平、和諧，就能生生不息，也得到健康；家和，一定會旺；國和，是旺也是興，「和」字太重要，大家應盡力去追求、修養自己。媒體詢問，他是黨內天王人和最好者，王金平笑說，大家都要求進步，有和，還要更和；沒有和的，要求和，「和就不會互相鬥爭、互相殘殺，就不會互相欺壓」，互相融合在一起，就是整個社會、國家生存之道。', 'kw': ['吉祥', '王金平', '2020總統選舉', '春聯', '揮毫', '12'], 'img_url': 'https://image.cache.storm.mg/styles/smg-800x533-fp-wm/s3/media/image/2018/12/28/20181228-111852_U4040_M487769_a723.jpg?itok=I7QruYcz', 'ariticle_emotion': 'positive', 'label': 'blue', 'abstract': '國民黨2020年總統大選戰場開打，被視為可能角逐大位的前立法院長王金平，雖說選總統與否要等因緣變化，但他今（28）日親自揮毫，寫下「國和則興，家和則旺，人和則生」12字春聯，似乎已透露玄機'})\n",
      "\n",
      "\n",
      "Now sending data to MySQL!\n",
      "<Response [200]>\n",
      "{'status_describe': 'success add News'}\n",
      "Data was sent to MySQL successfully!\n",
      "\n",
      "\n",
      "Now sending data to elasticsearch!\n",
      "Data was sent to elasticsearch successfully!\n",
      "\n",
      "\n",
      "topic=politics_news, partition=0, offset=142 : (key=ettoday, value={'source': 'ETtoday', 'url': 'https://www.ettoday.net/news/20181228/1343153.htm', 'title': '彰化台南金門立委補選 國民黨布局「龍介仙可以懼戰嗎？」', 'date_': '2018/12/28 18:49', 'author': ['政治中心'], 'content': '彰化縣、台南市與金門縣3席立委補選，1月14日開始受理登記，國民黨下周提出徵召時程，希望至少要守下原屬國民黨的彰化與金門2席立委，另外也將針對新北市第3選區立委展開徵詢。組發會主委李哲華表示，這次補選參考第一階段補選的方式，台南第2選區徵召就會參考台北市方式，私下徵詢後直接徵召；彰化1選區則可能比照台中市，將以「不公開民調」決勝負，至於金門縣，因為參選爆炸，恐怕無法採取直接民調，還需要再思考徵召方式。彰化縣立委補選，縣長王惠美競選總部副主委蔡明忠與前彰化縣副縣長柯呈枋表態參選，順利連任的和美鎮長阮厚爵與縣議員凃淑媚、林庚壬也都被勸進，黨務人士認為，這些人之中阮厚爵實力最為雄厚，不過問題在於他才剛連任鎮長。金門縣部分，黨內有11人爭取參選，黨務人士分析，前立委楊應雄與前議長洪麗萍都有參與輔選縣長楊鎮浯，剛操完盤相對合適。至於台南市立委補選，剛高票連任市議員的李文俊與前台南縣副議長陳中興被勸進，不過黨務人士透露，如果找不到人參選，地方黨部主委要自己承擔，台南市黨部主委謝龍介「已經有最壞的打算」，現在國民黨氣勢正旺，不能讓這次台南立委補選唱空城，「龍介仙可以懼戰嗎？」這次議員選舉，謝龍介拿下台南市第一高票，被媒體封為「韓國瑜第二」，網友還拱他競選立委補選，謝龍介日前霸氣回應，「我是謝龍介，怎麼會是韓國瑜第二？」謝龍介表示，不會參選立委補選，因為已經答應全國網友要到各縣市和網友見面，也會跟對台與有研究者一起砌磋，國民黨會推派優秀的人選參與立委補選，不排除徵召優秀的素人出征。', 'kw': ['台南', '參選', '金門', '謝龍介', '徵召', '補選', '立委補選', '彰化', '立委'], 'img_url': 'https://cdn2.ettoday.net/images/3734/d3734264.jpg', 'ariticle_emotion': 'positive', 'label': 'green', 'abstract': '至於台南市立委補選，剛高票連任市議員的李文俊與前台南縣副議長陳中興被勸進，不過黨務人士透露，如果找不到人參選，地方黨部主委要自己承擔，台南市黨部主委謝龍介「已經有最壞的打算」，現在國民黨氣勢正旺，不能讓這次台南立委補選唱空城，「龍介仙可以懼戰嗎'})\n",
      "\n",
      "\n",
      "Now sending data to MySQL!\n",
      "<Response [200]>\n",
      "{'status_describe': 'success add News'}\n",
      "Data was sent to MySQL successfully!\n",
      "\n",
      "\n",
      "Now sending data to elasticsearch!\n",
      "Data was sent to elasticsearch successfully!\n",
      "\n",
      "\n",
      "topic=politics_news, partition=0, offset=143 : (key=ettoday, value={'source': 'ETtoday', 'url': 'https://www.ettoday.net/news/20181228/1342945.htm', 'title': '李柏毅爆：柯文哲早已準備敗選感言「宣布選2020總統」', 'date_': '2018/12/28 17:45', 'author': ['政治中心'], 'content': '台北市長柯文哲在年底選戰驚險挺過藍綠夾殺，順利連任，外界關注柯是否角逐2020總統，不過他都未正面回應，僅說「明年6月再問我」，國民黨台北市議員李柏毅爆料，柯文哲其實事先有準備敗選感言，若當晚敗選就要宣告參選2020年總統。李柏毅在《三立新聞網94要客訴》分析，在選前三天，柯團隊做出的民調顯示，柯文哲是落後的，投票當天其實柯準備的是敗選感言，「準備當場要宣布選2020年的總統！」資深媒體人尚毅夫也接著爆料，柯團隊為分兩組人馬，一組準備勝選感言，另一組準備敗選感言，「如果輸的話他就要宣布組政團選2020。」有這樣的一個傳聞。前台北市副市長陳景峻26日爆料，柯文哲始終不願明確表態要不要參選2020總統，甚至說明年6月再看看，代表「有這個心」，要先看看明年風向再決定。對此，柯文哲27日上午受訪表示，「第一次講的話最準嘛，明年6月再問我，就這樣。」最新的媒體民調顯示，藍綠對決明顯是前新北市長朱立倫大勝總統蔡英文及行政院長賴清德，但如果台北市長柯文哲也投入選戰，支持率有可能領先兩黨參選人13%以上，朱、蔡、賴3人都會立即被「邊緣化」。', 'kw': ['柯文哲', '準備', '2020總統', '6月', '敗選', '感言'], 'img_url': 'https://cdn2.ettoday.net/images/3722/d3722629.jpg', 'ariticle_emotion': 'negative', 'label': 'green', 'abstract': '台北市長柯文哲在年底選戰驚險挺過藍綠夾殺，順利連任，外界關注柯是否角逐2020總統，不過他都未正面回應，僅說「明年6月再問我」，國民黨台北市議員李柏毅爆料，柯文哲其實事先有準備敗選感言，若當晚敗選就要宣告參選2020年總統'})\n",
      "\n",
      "\n",
      "Now sending data to MySQL!\n",
      "<Response [200]>\n",
      "{'status_describe': 'success add News'}\n",
      "Data was sent to MySQL successfully!\n",
      "\n",
      "\n",
      "Now sending data to elasticsearch!\n",
      "Data was sent to elasticsearch successfully!\n",
      "\n",
      "\n",
      "topic=politics_news, partition=0, offset=144 : (key=ettoday, value={'source': 'ETtoday', 'url': 'https://www.ettoday.net/news/20181228/1343033.htm', 'title': '砲打蔡英文 王金平：領導人一定要讓朝野對立削減', 'date_': '2018/12/28 17:14', 'author': ['賴于榛'], 'content': '前立法院長、國民黨立委王金平28日砲打總統蔡英文，他說，台灣目前面臨許多問題，國內充滿勞資對立、族群對立、世代對立，問題越來越混亂，且藍綠互相抵制，提醒「當然身為國家領導人一定要讓朝野對立削減，藍綠對立化解，跨越藍綠共謀國是」。王金平28日赴銘傳大學演講「國會秘辛與政治傳播」，從兩岸、國內情勢與貿易解析台灣問題，兩岸部分他表示，九二共識很多人解讀不一樣，但目前大陸就是認為說執政黨沒有承認九二共識，因此不多所往來，且開始對於台灣各方面給予不滿意的政策、各方面的措施，加上台灣也是去中國化去得很厲害，是兩岸緊張的原因，他建議政府要想辦法改善兩岸關係，坐下來磋商不要阻礙台灣發展，否則累積下去會有問題。\\n\\n國內議題部分，王金平說，國內充滿勞資對立、族群對立、世代對立，問題越來越混亂，且藍綠互相抵制，提醒「當然身為國家領導人一定要讓朝野對立削減，藍綠對立化解，跨越藍綠共謀國是」，不能各自堅持、各談各的，否則這個國家怎麼辦。經濟困境部分，王金平說五缺要解決也不是那麼容易，且何況台灣沒有關稅彼此的公平對待，想誰想來台灣投資，沒有投資就業的機會就少了，加上CPTPP被因為反核食公投被日本阻撓，以及兩岸FTA也有阻力，他認為經濟發展因為兩岸沒有通力合作，造成經濟發展阻礙，他提醒蔡英文一定要把經濟搞好，且對兩岸問題要負起絕對責任，讓國家安全、兩岸安定、社會安心。會後媒體追問朱立倫、吳敦義與王金平誰當領導人比較能化解藍綠對立，王金平則表示，每個人都有努力空間，只要努力都有機會。', 'kw': ['蔡英文', '2020', '王金平', '兩岸', '對立', '台灣', '藍綠', '國民黨'], 'img_url': 'https://cdn2.ettoday.net/images/3796/d3796366.jpg', 'ariticle_emotion': 'negative', 'label': 'green', 'abstract': '王金平28日赴銘傳大學演講「國會秘辛與政治傳播」，從兩岸、國內情勢與貿易解析台灣問題，兩岸部分他表示，九二共識很多人解讀不一樣，但目前大陸就是認為說執政黨沒有承認九二共識，因此不多所往來，且開始對於台灣各方面給予不滿意的政策、各方面的措施，加上台灣也是去中國化去得很厲害，是兩岸緊張的原因，他建議政府要想辦法改善兩岸關係，坐下來磋商不要阻礙台灣發展，否則累積下去會有問題'})\n",
      "\n",
      "\n",
      "Now sending data to MySQL!\n",
      "<Response [200]>\n",
      "{'status_describe': 'success add News'}\n",
      "Data was sent to MySQL successfully!\n",
      "\n",
      "\n",
      "Now sending data to elasticsearch!\n",
      "Data was sent to elasticsearch successfully!\n",
      "\n",
      "\n",
      "topic=politics_news, partition=0, offset=145 : (key=ettoday, value={'source': 'ETtoday', 'url': 'https://www.ettoday.net/news/20181228/1342747.htm', 'title': '陳水扁：蘇貞昌當行政院長時 2度入府要求換掉蔡英文', 'date_': '2018/12/28 15:57', 'author': ['政治中心'], 'content': '行政院長賴清德在大選後「預約請辭」，傳出將由前行政院長蘇貞昌回鍋接棒。前總統陳水扁表示，當初蘇貞昌擔任閣揆時，為了換掉時任副院長的總統蔡英文二度入府，並稱「沒事叫蔡英文來當他的副院長，感覺很頭疼。」蘇貞昌與蔡英文曾在陳水扁總統任內擔任行政院正副院長，陳水扁透露，蘇貞昌二度入府找他討論換掉蔡英文的事情，但他不同意，所以兩人最後還是同進同退，更指出蘇貞昌不滿意蔡英文是媒體都知道的公開秘密。陳水扁說，過去副院長要配合院長，現在蔡英文卻變成總統，未來蘇貞昌怎麼選擇他都給予祝福，但若蘇貞昌敢放手一搏，應可以與蔡英文總統互爭黨內總統初選，相信蘇貞昌會過關。民進黨九合一大選慘敗，賴清德隨即請辭負責遭慰留，但他辭意堅定，日前就曾表示「時間一到會離開」，而今蘇貞昌被爆將重掌行政院，最快1月總預算案後就會上任。據了解，行政院秘書長卓榮泰參選黨主席後，黨內已經開始啟動布局，包括部分縣市一級主管在內的蘇的子弟兵，也紛紛請辭或未上任，日前已在政壇傳得沸沸揚揚，蘇內閣上任已經呼之欲出。', 'kw': ['蔡英文', '院長', '總統', '民進黨', '行政院', '陳水扁', '蘇貞昌', '賴清德'], 'img_url': 'https://cdn2.ettoday.net/images/3708/d3708986.jpg', 'ariticle_emotion': 'negative', 'label': 'green', 'abstract': '」蘇貞昌與蔡英文曾在陳水扁總統任內擔任行政院正副院長，陳水扁透露，蘇貞昌二度入府找他討論換掉蔡英文的事情，但他不同意，所以兩人最後還是同進同退，更指出蘇貞昌不滿意蔡英文是媒體都知道的公開秘密'})\n",
      "\n",
      "\n",
      "Now sending data to MySQL!\n",
      "<Response [200]>\n",
      "{'status_describe': 'success add News'}\n",
      "Data was sent to MySQL successfully!\n",
      "\n",
      "\n",
      "Now sending data to elasticsearch!\n",
      "Data was sent to elasticsearch successfully!\n",
      "\n",
      "\n",
      "topic=politics_news, partition=0, offset=146 : (key=ettoday, value={'source': 'ETtoday', 'url': 'https://www.ettoday.net/news/20181228/1342917.htm', 'title': '淡海輕軌不打烊！跨年夜通宵營運39.5小時', 'date_': '2018/12/28 15:33', 'author': ['政治中心'], 'content': '為了讓民眾好好跨年，淡海輕軌在12月31日跨年夜通霄營運，連續39.5小時不打烊，自當天上午6時30分起至108年1月1日晚間10時止，另外公車業者也會在當天晚間10時開始加密班次，部分路線將延後收班時間，並視人潮狀況全部輸運完成再收班。新北市交通局協調公車業者配合，將新北市境內與捷運站銜接的公車及快速公車，延後到凌晨1時發末班車，另外淡水地區紅26延後到凌晨2時收班，紅27、紅37、894Y則延後到凌晨2時30分收班。新北市政府表示，元旦假期除有升旗典禮活動外，三環三線中的淡海輕軌綠山線（紅樹林站至崁頂站）亦於24日起開放民眾免費搭乘1個月，免費搭乘期間由上午6時30分發車至晚間10時，不分離、尖峰時間，每15分鐘一班車。捷運局指出，每一站月台上都設有幾米創作的立體特色雕塑，歡迎市民跨年夜搭乘淡海輕軌，讓可愛的幾米藝術作品陪跨年，體驗全新感受。淡海輕軌是北台灣第一條輕軌路線，初期營運里程7.3公里共11座車站，從紅樹林站至終點崁頂站，在紅樹林站銜接捷運淡水線，每列車共5節車廂，單趟最多載運265人，車廂外型採用以海為意象的流線設計，車廂內部加大觀景車窗與無障礙空間，讓乘客坐起來舒適，可沿線欣賞觀音山、淡水河景等美麗景致。', 'kw': ['30', '延後', '淡海輕軌', '公車', '晚間', '跨年'], 'img_url': 'https://cdn2.ettoday.net/images/3786/d3786479.jpg', 'ariticle_emotion': 'positive', 'label': 'green', 'abstract': '為了讓民眾好好跨年，淡海輕軌在12月31日跨年夜通霄營運，連續39.5小時不打烊，自當天上午6時30分起至108年1月1日晚間10時止，另外公車業者也會在當天晚間10時開始加密班次，部分路線將延後收班時間，並視人潮狀況全部輸運完成再收班'})\n",
      "\n",
      "\n",
      "Now sending data to MySQL!\n",
      "<Response [200]>\n",
      "{'status_describe': 'News https://www.ettoday.net/news/20181228/1342917.htm is exist.'}\n",
      "Data was sent to MySQL successfully!\n",
      "\n",
      "\n",
      "Now sending data to elasticsearch!\n",
      "Data was sent to elasticsearch successfully!\n",
      "\n",
      "\n"
     ]
    },
    {
     "name": "stdout",
     "output_type": "stream",
     "text": [
      "topic=politics_news, partition=0, offset=147 : (key=ettoday, value={'source': 'ETtoday', 'url': 'https://www.ettoday.net/news/20181228/1342795.htm', 'title': '雙北共推「上下公車都刷卡」 最快明年7月上路', 'date_': '2018/12/28 14:58', 'author': ['李毓康攝）政治中心'], 'content': '台北市公共運輸處預計明年7月實施「上下公車都刷卡」，未來將藉由蒐集到的大數據，改善公車路線、班次的規劃，減少民眾辨識上的困擾，此為，考量到大台北交通是共同體，新北市也認同該政策，未來雙北將一起推動。北市府推動8橫8縱幹線公車已經大致完成，實施公車上下車都刷卡後，將以大數據分析民眾乘車起迄點，優化公車路線、班次，並作為未來調整支線、微循環公車路線的參考資訊，交通局長陳學台已和新北市新任交通局長鍾鳴時談過，對方對該政策表示認同，未來雙北將一起推動。該政策同時也盼減少公車司機抓逃票等困擾，不過為了避免下車沒刷卡成功而鎖卡不能再搭車等問題，一段票乘客下車刷卡將採「不強迫方式」。', 'kw': ['雙北', '路線', '未來', '大數據', '公車', '刷卡', '推動'], 'img_url': 'https://cdn2.ettoday.net/images/3096/d3096564.jpg', 'ariticle_emotion': 'positive', 'label': 'green', 'abstract': '北市府推動8橫8縱幹線公車已經大致完成，實施公車上下車都刷卡後，將以大數據分析民眾乘車起迄點，優化公車路線、班次，並作為未來調整支線、微循環公車路線的參考資訊，交通局長陳學台已和新北市新任交通局長鍾鳴時談過，對方對該政策表示認同，未來雙北將一起推動'})\n",
      "\n",
      "\n",
      "Now sending data to MySQL!\n",
      "<Response [200]>\n",
      "{'status_describe': 'News https://www.ettoday.net/news/20181228/1342795.htm is exist.'}\n",
      "Data was sent to MySQL successfully!\n",
      "\n",
      "\n",
      "Now sending data to elasticsearch!\n",
      "Data was sent to elasticsearch successfully!\n",
      "\n",
      "\n",
      "topic=politics_news, partition=0, offset=148 : (key=ettoday, value={'source': 'ETtoday', 'url': 'https://www.ettoday.net/news/20181228/1342860.htm', 'title': '公車運價引入市場競標 柯文哲：我就少了議員的政治壓力', 'date_': '2018/12/28 14:47', 'author': ['陳家祥'], 'content': '北市交通局28日在交通會尾聲時，報告未來的電動公車推動計畫。市長柯文哲表示，推行電動公車時想到的是，總有一天運價要用「標」的，訴諸市場機制的話就沒有政治壓力，「如果運價這樣訂我每次都在應付議員，因為業界去找議員來盯我們，可是我說運價用標的，那就回到市場機制，我就少了政治壓力」；電動公車也一樣，運價多少，給大家去標，願意更低的人去做，業者自己會計算。台北市首輛電動公車在今年10月底上路，按照市府規劃，預計在未來4年內引進400輛電動公車營運，優先汰換班距密集、幹線公車等；此外，現階段電動公車仍採與油車相同的每公里補貼5元，未來也將檢討電動公車營運績效，觀察長期下來油車與電動車成本差異，目標將實施差別運價。柯文哲聽完後表示，總有一天運價要用「標」的，也許業界不喜歡，但引進競爭機制、訴諸市場機制的話，就不會有政治壓力，「如果運價每次這樣訂我每次都在應付議員，因為業界去找議員來盯我們，可是我說運價用標的，那就回復市場機制，我就少了政治壓力」；柯笑說，所以我們在電動公車的時候，我內心還有一個目的，要把運價市場化，「我都直接講我的陰謀了。」一旁的祕書長張哲揚則表示，換電動公車是既定政策，但需注意的是穩定發展、服務是很穩定；此外，要建立運價公式，目前是用既有的運價公式去加，「整個電動公車的價錢跟燃油公車的運價計算會不一樣，議會審議會攻這點，應該預做準備」。張說，電動公車的推行上是用買服務、用標的方式，這樣才會說那底價可以有一個參考，不然大家雖然用標的，但那底價不合理的話，其實整個做起來是很困難。柯文哲接著表示，反正終有一天慢慢柴油車會不用，所以要開始改電動公車的時候，這次就要導入市場機制，「我覺得不用設時程表，現在就幹線公車、8橫8縱優先」，最後運價還是要回歸市場機制，不然沒有辦法解決政治上的壓力」。柯說，推動電動公車時要把買服務的精神，第二個是市場競爭的精神，如果沒有回到市場競爭，永遠都會有政治壓力，而且那很難應付，市場機制的話就好辦。」柯文哲認為，只要訂一個採購標，符合規格，剩下是價格標，妥善率多少，「這樣會保持那條線的活性，這條路我沒有強迫要改電動車，你也可以跑柴油車」；柯強調，真正的目的是帶進市場機制，「目前的運價方式我們永遠沒辦法對抗政治壓力，太麻煩了，如果用市場機制，那反客為主，變你們自己要去競爭。」「電動公車是勢在必行，但也不要設時程表。」柯文哲說，殺頭生意有人做賠錢生意沒人做，划不來的事不要叫業者做，不然又叫你補助他，「所以現在先想說什麼幾年幾輛，坦白說，4年400輛，這我不是很贊成，因為你把自己卡死，電動公車是要做，對我們來講是這樣，有錢就多做沒錢就少做。」交通局長陳學台事後表示，市長所說的政治壓力，是指公車運價需要送台北市議會審議，若用標的，可能就不用再送議會，但就算電動公車運價公式改變，也不會影響民眾搭乘公車的票價，況且機制都還沒有想出來，還需要長期的討論。', 'kw': ['柯文哲', '電動', '柯P', '綠運輸', '電動公車', '運價', '市場機制', '公車', '壓力', '台北市'], 'img_url': 'https://cdn2.ettoday.net/images/3794/d3794973.jpg', 'ariticle_emotion': 'negative', 'label': 'green', 'abstract': '市長柯文哲表示，推行電動公車時想到的是，總有一天運價要用「標」的，訴諸市場機制的話就沒有政治壓力，「如果運價這樣訂我每次都在應付議員，因為業界去找議員來盯我們，可是我說運價用標的，那就回到市場機制，我就少了政治壓力」'})\n",
      "\n",
      "\n",
      "Now sending data to MySQL!\n",
      "<Response [200]>\n",
      "{'status_describe': 'News https://www.ettoday.net/news/20181228/1342860.htm is exist.'}\n",
      "Data was sent to MySQL successfully!\n",
      "\n",
      "\n",
      "Now sending data to elasticsearch!\n",
      "Data was sent to elasticsearch successfully!\n",
      "\n",
      "\n",
      "topic=politics_news, partition=0, offset=149 : (key=ettoday, value={'source': 'ETtoday', 'url': 'https://www.ettoday.net/news/20181228/1342797.htm', 'title': '「掉芝麻」又是幹話！ 他求蘇貞昌：拜託換掉張景森', 'date_': '2018/12/28 14:20', 'author': ['政治中心'], 'content': '針對越南旅客152人逃逸一事，主責新南向觀光政策的政委張景森27日以「吃燒餅哪有不掉芝麻的？」為題做解釋，對此，國民黨文傳會副主委洪孟楷直批，「這不是幹話、什麼才算幹話？」如果蘇貞昌上台組閣，「我誠摯地拜託，請第一個換掉張景森」。近日蘇貞昌組閣的傳言四起，洪孟楷28日在臉書表示，若蘇貞昌真的上任，希望換掉張景森，「並非私怨，而是過去有太多令人惱怒的發言，不換掉他，再換一百個行政院長恐怕也是徒勞無功。」洪孟楷說，張景森過去已經有很多爭議發言，這次再為152名越南客團卻逃跑只剩一人事件說出「吃燒餅哪有不掉芝麻」的辯解，言下之意這次事件只是芝麻綠豆小事，無需大驚小怪，然而152人跑走了151人，目前下落未明，「張政委，你這是整塊燒餅掉在地，手上只剩一粒芝麻呀！」洪孟楷表示，自己跟張景森完全不認識，也沒任何私怨，完全是就事論事；張過去曾說「百貨公司中午不營業以節省能源」、「夾腳拖列為台灣的正式服裝」、還曾想把國旅卡刷卡限額的八千元，用在配合國內觀光旅遊上，這些全都是政委亂放火、讓部會急滅火，「如今狂言再一樁，這不是幹話、什麼才算幹話？」洪孟楷最後喊話蘇貞昌，「如果真能充分人士被授權，拜託！請換掉張景森，蔡英文政府已經火燒屁股，實在不需要再來個政委天天放火，這樣白目，只是對人民火上加油！」張景森27日則在臉書以「吃燒餅哪有不掉芝麻的？」為題，反擊近日各界對觀宏專案的批評，他說陸客開放初期，逾期滯留人數曾高達千分之6，但這幾年來以觀宏專案入境的東南亞觀光客共有22萬6千人，違規人數只有414人，每千人違規人數1.8人，比吃燒餅掉的芝麻還少。行政院長賴清德28日在年終記者會上指出，觀宏專案執行4年多，越南客共失聯500多位，這次一口氣失蹤152人，問題非常嚴重，被外界視為打臉張景森的言論。', 'kw': ['洪孟楷', '152', '張景森', '幹話', '燒餅', '蘇貞昌'], 'img_url': 'https://cdn2.ettoday.net/images/3533/d3533559.jpg', 'ariticle_emotion': 'negative', 'label': 'green', 'abstract': '」洪孟楷說，張景森過去已經有很多爭議發言，這次再為152名越南客團卻逃跑只剩一人事件說出「吃燒餅哪有不掉芝麻」的辯解，言下之意這次事件只是芝麻綠豆小事，無需大驚小怪，然而152人跑走了151人，目前下落未明，「張政委，你這是整塊燒餅掉在地，手上只剩一粒芝麻呀'})\n",
      "\n",
      "\n",
      "Now sending data to MySQL!\n",
      "<Response [200]>\n",
      "{'status_describe': 'News https://www.ettoday.net/news/20181228/1342797.htm is exist.'}\n",
      "Data was sent to MySQL successfully!\n",
      "\n",
      "\n",
      "Now sending data to elasticsearch!\n",
      "Data was sent to elasticsearch successfully!\n",
      "\n",
      "\n",
      "type ==> <class 'KeyboardInterrupt'>\n",
      "value ==> \n",
      "traceback ==> file name: <ipython-input-40-782bfd340351>\n",
      "traceback ==> line no: 26\n",
      "traceback ==> function name: <module>\n"
     ]
    }
   ],
   "source": [
    "if __name__ == \"__main__\":\n",
    "    # 步驟1.設定要連線到Kafka集群的相關設定, 產生一個Kafka的Consumer的實例\n",
    "    consumer = KafkaConsumer(\n",
    "        # Kafka集群在那裡?\n",
    "        bootstrap_servers=[\"kafka1:29092\"],\n",
    "        # ConsumerGroup的名稱\n",
    "        group_id=\"politics_news01\",\n",
    "        # 指定msgKey的反序列化器, 若Key為None, 無法反序列化\n",
    "        key_deserializer=bytes.decode,\n",
    "        # 指定msgValue的反序列化器\n",
    "        #value_deserializer=bytes.decode,\n",
    "        value_deserializer=lambda m: json.loads(m.decode('utf-8')),\n",
    "        # 是否從這個ConsumerGroup尚未讀取的partition / offset開始讀\n",
    "        auto_offset_reset=\"earliest\",\n",
    "    )\n",
    "    # 步驟2.指定想要訂閱訊息的topic名稱\n",
    "    topic_name = \"politics_news\"\n",
    "    # 步驟3.讓Consumer向Kafka集群訂閱指定的topic\n",
    "    consumer.subscribe(topics = topic_name)\n",
    "\n",
    "\n",
    "    # 步驟4.持續的拉取Kafka有進來的訊息\n",
    "    try:\n",
    "        print(\"Now listening for incoming messages ...\",\"\\n\")\n",
    "        # 持續監控是否有新的record進來 - 方法一\n",
    "        for record in consumer:\n",
    "            topic = record.topic\n",
    "            partition = record.partition\n",
    "            offset = record.offset\n",
    "            timestamp = record.timestamp\n",
    "        \n",
    "            # 取出msgKey與msgValue\n",
    "            msgKey = record.key\n",
    "            msgValue = record.value\n",
    "            try:\n",
    "                # 將新聞作者欄位做處理後再放回\n",
    "                if msgValue[\"source\"] == \"TVBS\":      \n",
    "                    msgValue[\"author\"] = tvbs_author_etl(msgValue[\"author\"][0])\n",
    "                elif msgValue[\"source\"] == \"SETN\":\n",
    "                    msgValue[\"author\"] = setn_author_etl(msgValue[\"author\"][0])\n",
    "                elif msgValue[\"source\"] == \"ETtoday\":\n",
    "                    msgValue[\"author\"] = ettoday_author_etl(msgValue[\"author\"][0])\n",
    "\n",
    "                # 將新聞內文做文章情緒分析並加入欄位與結果\n",
    "                msgValue[\"ariticle_emotion\"] = emo_swinger(msgValue[\"content\"])\n",
    "                # 將新聞內文做關鍵字分析再合併至新聞抓到的關鍵字列表，並把重複的篩選掉\n",
    "                content_keyword = keyword_analysis(msgValue[\"content\"])\n",
    "                for k in content_keyword:\n",
    "                    msgValue[\"kw\"].append(k)\n",
    "                msgValue[\"kw\"] = list(set(msgValue[\"kw\"]))\n",
    "                # 將新聞內文做藍綠分析並加入欄位結果\n",
    "                msgValue[\"label\"] = label_predict(msgValue[\"content\"])\n",
    "                # 將新聞做文章摘要並加入欄位與結果\n",
    "                msgValue[\"abstract\"] = news_summary(msgValue[\"content\"])\n",
    "\n",
    "                # 秀出metadata與msgKey & msgValue訊息\n",
    "                print(\"topic=%s, partition=%s, offset=%s : (key=%s, value=%s)\" % (record.topic, record.partition,\n",
    "                                                                                  record.offset, record.key, msgValue))\n",
    "                print(\"\\n\")             \n",
    "                \n",
    "                # TCP連線到logstash\n",
    "                etl_analysis_logger.addHandler(logstash.TCPLogstashHandler(host, 5000, version=1))\n",
    "                # 爬蟲成功傳送至Elasticsearch的log訊息\n",
    "                etl_analysis_logger.info('python-etl-logstash: Success!')\n",
    "                etl_analysis_logger.handlers.clear()\n",
    "            except:\n",
    "                print(\"Data ETL was unsuccessful!!\")\n",
    "                etl_analysis_logger.addHandler(logstash.TCPLogstashHandler(host, 5000, version=1))\n",
    "                etl_analysis_logger.error('python-etl-logstash: Error message!! [' + msgValue[\"url\"] + ']')\n",
    "                etl_analysis.handlers.clear()\n",
    "\n",
    "            \n",
    "            try:\n",
    "                print(\"Now sending data to MySQL!\")\n",
    "                # 將資料送入MySQL\n",
    "                ip_location = 'chatbot_api'\n",
    "\n",
    "                News = msgValue\n",
    "\n",
    "                # 將json傳回API Server\n",
    "                Endpoint = 'http://%s:5000/news' % (ip_location)\n",
    "\n",
    "                # header要特別註明是json格式\n",
    "                Header = {'Content-Type':'application/json'}\n",
    "\n",
    "                # 傳送post對API server新增資料 \n",
    "                Response = requests.post(Endpoint,headers=Header,data=json.dumps(News))\n",
    "\n",
    "                # 印出Response的資料訊息\n",
    "                print(Response)\n",
    "                Response = Response.json()\n",
    "                print(Response)\n",
    "                print(\"Data was sent to MySQL successfully!\")\n",
    "                print(\"\\n\")\n",
    "                \n",
    "                # TCP連線到logstash\n",
    "                mysql_logger.addHandler(logstash.TCPLogstashHandler(host, 5000, version=1))\n",
    "                # 爬蟲成功傳送至Elasticsearch的log訊息\n",
    "                mysql_logger.info('python-data2mysql-logstash: Success!')\n",
    "                mysql_logger.handlers.clear()\n",
    "            except:\n",
    "                print(\"Error message : Data was sent to MySQL unsuccessfully!!\")\n",
    "                mysql_logger.addHandler(logstash.TCPLogstashHandler(host, 5000, version=1))\n",
    "                mysql_logger.error('python-data2mysql-logstash: Error message!! [' + News[\"url\"] + ']')\n",
    "                mysql_logger.handlers.clear()\n",
    "                \n",
    "            try:\n",
    "                print(\"Now sending data to elasticsearch!\")\n",
    "                # 將資料送入Elasticsearch\n",
    "                elasticsearch_data = msgValue\n",
    "                elasticsearch_data[\"@timestamp\"] = datetime.now().replace(tzinfo = tz_utc_8)            \n",
    "                # 將資料放入Elasticsearch，若沒有index，會直接建立index、type \n",
    "                es.index(index = 'news', doc_type = 'politics', body = elasticsearch_data, refresh = True )\n",
    "                print(\"Data was sent to elasticsearch successfully!\")\n",
    "                print(\"\\n\")\n",
    "                \n",
    "                # TCP連線到logstash\n",
    "                elasticsearch_logger.addHandler(logstash.TCPLogstashHandler(host, 5000, version=1))\n",
    "                # 爬蟲成功傳送至Elasticsearch的log訊息\n",
    "                elasticsearch_logger.info('python-data2elasticsearch-logstash: Success!')\n",
    "                elasticsearch_logger.handlers.clear()     \n",
    "            except:\n",
    "                print(\"Error message: Data was sent to elasticsearch unsuccessfully!!\")\n",
    "                elasticsearch_logger.addHandler(logstash.TCPLogstashHandler(host, 5000, version=1))\n",
    "                elasticsearch_logger.error('python-data2elasticsearch-logstash: Error message!! [' + elasticsearch_data[\"url\"] + ']')\n",
    "                elasticsearch_logger.handlers.clear()\n",
    "\n",
    "    except:\n",
    "        # 錯誤處理\n",
    "        e_type, e_value, e_traceback = sys.exc_info()\n",
    "        print(\"type ==> %s\" % (e_type))\n",
    "        print(\"value ==> %s\" % (e_value))\n",
    "        print(\"traceback ==> file name: %s\" % (e_traceback.tb_frame.f_code.co_filename))\n",
    "        print(\"traceback ==> line no: %s\" % (e_traceback.tb_lineno))\n",
    "        print(\"traceback ==> function name: %s\" % (e_traceback.tb_frame.f_code.co_name))\n",
    "    finally:\n",
    "        consumer.close()"
   ]
  },
  {
   "cell_type": "code",
   "execution_count": null,
   "metadata": {},
   "outputs": [],
   "source": []
  },
  {
   "cell_type": "code",
   "execution_count": null,
   "metadata": {},
   "outputs": [],
   "source": []
  }
 ],
 "metadata": {
  "kernelspec": {
   "display_name": "Python 3",
   "language": "python",
   "name": "python3"
  },
  "language_info": {
   "codemirror_mode": {
    "name": "ipython",
    "version": 3
   },
   "file_extension": ".py",
   "mimetype": "text/x-python",
   "name": "python",
   "nbconvert_exporter": "python",
   "pygments_lexer": "ipython3",
   "version": "3.6.5"
  }
 },
 "nbformat": 4,
 "nbformat_minor": 2
}
