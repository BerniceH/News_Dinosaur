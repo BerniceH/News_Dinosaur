{
 "cells": [
  {
   "cell_type": "markdown",
   "metadata": {},
   "source": [
    "正則表達式:TVBS清理作者格式方法"
   ]
  },
  {
   "cell_type": "code",
   "execution_count": 31,
   "metadata": {},
   "outputs": [],
   "source": [
    "import re\n",
    "#作者欄位清理方法，要放author[0]\n",
    "def tvbs_author_etl(author_text):\n",
    "    author = []\n",
    "    author_text = re.sub(r\"記者  \", \"\", author_text)\n",
    "    author_text = re.sub(r\" / 攝影.*\", \"\", author_text)\n",
    "    author_text = re.sub(r\" / \", \"\", author_text)\n",
    "    author_text = re.sub(r\"編輯  \", \"\", author_text)\n",
    "    author_text = re.sub(r\" 報導\", \"\", author_text)\n",
    "    author_text = re.sub(r\" \", \",\", author_text)\n",
    "    #如果有多位作者，使用、斷開，並一一取出放進list\n",
    "    if author_text.find(\",\") != -1:\n",
    "        author_text = author_text.split(\",\")\n",
    "        for a in author_text:\n",
    "            author.append(a)\n",
    "    elif author_text == \"\":\n",
    "        author = []\n",
    "    else:\n",
    "        author.append(author_text)\n",
    "    return author"
   ]
  },
  {
   "cell_type": "markdown",
   "metadata": {},
   "source": [
    "正則表達式:SETN清理作者格式方法"
   ]
  },
  {
   "cell_type": "code",
   "execution_count": 65,
   "metadata": {},
   "outputs": [],
   "source": [
    "#SETN作者欄位清理方法，要放author[0]\n",
    "def setn_author_etl(author_text):\n",
    "    author = []\n",
    "    #將／XX報導XX字串清除\n",
    "    author_text = re.sub(r\"／.*報導.*\", \"\", author_text)\n",
    "    #將／XX特稿XX字串清除\n",
    "    author_text = re.sub(r\"／.*特稿.*\", \"\", author_text)\n",
    "    #將記者字串清除\n",
    "    author_text = re.sub(r\"記者\", \"\", author_text)\n",
    "    #將文／字串清除\n",
    "    author_text = re.sub(r\"文／\", \"\", author_text)\n",
    "    #如果有多位作者，使用、斷開，並一一取出放進list\n",
    "    if author_text.find(\"、\") != -1:\n",
    "        author_text = author_text.split(\"、\")\n",
    "        for a in author_text:\n",
    "            author.append(a)\n",
    "    elif author_text == \"\":\n",
    "        author = []\n",
    "    else:\n",
    "        author.append(author_text)\n",
    "    return author"
   ]
  },
  {
   "cell_type": "markdown",
   "metadata": {},
   "source": [
    "正則表達式:ETtoday清理作者格式方法"
   ]
  },
  {
   "cell_type": "code",
   "execution_count": 49,
   "metadata": {},
   "outputs": [],
   "source": [
    "#ETtoday作者欄位清理方法，要放author[0]\n",
    "def ettoday_author_etl(author_text):\n",
    "    author = []\n",
    "    author_text = re.sub(\"／.?.?報導.*\", \"\", author_text)\n",
    "    author_text = re.sub(\".*記者\", \"\", author_text)\n",
    "    author_text = re.sub(\"\\xa0\", \"\", author_text)\n",
    "    #如果有多位作者，使用、斷開，並一一取出放進list\n",
    "    if author_text.find(\"、\") != -1:\n",
    "        author_text = author_text.split(\"、\")\n",
    "        for a in author_text:\n",
    "            author.append(a)\n",
    "    elif author_text == \"\":\n",
    "        author = []\n",
    "    else:\n",
    "        author.append(author_text)\n",
    "    return author"
   ]
  },
  {
   "cell_type": "markdown",
   "metadata": {},
   "source": [
    "文章正反面情緒分析 需要的套件"
   ]
  },
  {
   "cell_type": "code",
   "execution_count": 33,
   "metadata": {},
   "outputs": [],
   "source": [
    "!pip install udicOpenData\n",
    "!pip install Swinger\n",
    "#在dockerfile的指令\n",
    "#ADD ./dict_all.txt /opt/conda/lib/python3.6/site-packages/udicOpenData/dictionary/\n",
    "from udicOpenData.dictionary import *\n",
    "jieba.load_userdict(os.path.join(DIR_NAME, 'dict_all.txt'))\n",
    "#要等一下子\n",
    "from Swinger import Swinger"
   ]
  },
  {
   "cell_type": "markdown",
   "metadata": {},
   "source": [
    "文章正反面情緒分析方法"
   ]
  },
  {
   "cell_type": "code",
   "execution_count": 55,
   "metadata": {},
   "outputs": [],
   "source": [
    "s = None\n",
    "def emo_swinger(content, model='LogisticRegression'):\n",
    "    global s\n",
    "    if s == None:\n",
    "        s = Swinger()\n",
    "        s.load(model)\n",
    "    # default model= \"LogisticRegression\", 可替換為\"MultinomialNB\"\n",
    "    emo_result = s.swing(content)\n",
    "    if emo_result == \"pos\":\n",
    "        result = \"positive\"\n",
    "    elif emo_result == \"neg\":\n",
    "        result = \"negative\"\n",
    "    return result"
   ]
  },
  {
   "cell_type": "markdown",
   "metadata": {},
   "source": [
    "文章關鍵字 需要的套件"
   ]
  },
  {
   "cell_type": "code",
   "execution_count": 64,
   "metadata": {},
   "outputs": [
    {
     "name": "stdout",
     "output_type": "stream",
     "text": [
      "Requirement already satisfied: jieba in /opt/conda/lib/python3.6/site-packages (0.39)\r\n"
     ]
    }
   ],
   "source": [
    "import jieba.analyse"
   ]
  },
  {
   "cell_type": "markdown",
   "metadata": {},
   "source": [
    "文章關鍵字方法"
   ]
  },
  {
   "cell_type": "code",
   "execution_count": 62,
   "metadata": {},
   "outputs": [],
   "source": [
    "def keyword_analysis(content):\n",
    "    #default kewwords = 8\n",
    "    kws =jieba.analyse.extract_tags(content, 5)\n",
    "    return kws"
   ]
  },
  {
   "cell_type": "markdown",
   "metadata": {},
   "source": [
    "文章藍綠貼標分析 需要的套件"
   ]
  },
  {
   "cell_type": "code",
   "execution_count": 35,
   "metadata": {},
   "outputs": [
    {
     "name": "stdout",
     "output_type": "stream",
     "text": [
      "Requirement already satisfied: pandas in /opt/conda/lib/python3.6/site-packages (0.23.4)\n",
      "Requirement already satisfied: numpy>=1.9.0 in /opt/conda/lib/python3.6/site-packages (from pandas) (1.15.4)\n",
      "Requirement already satisfied: python-dateutil>=2.5.0 in /opt/conda/lib/python3.6/site-packages (from pandas) (2.7.3)\n",
      "Requirement already satisfied: pytz>=2011k in /opt/conda/lib/python3.6/site-packages (from pandas) (2018.7)\n",
      "Requirement already satisfied: six>=1.5 in /opt/conda/lib/python3.6/site-packages (from python-dateutil>=2.5.0->pandas) (1.11.0)\n"
     ]
    }
   ],
   "source": [
    "!pip install pandas \n",
    "import jieba\n",
    "import pandas as pd\n",
    "from sklearn.feature_extraction.text import CountVectorizer\n",
    "from sklearn.naive_bayes import MultinomialNB\n",
    "from sklearn.externals import joblib"
   ]
  },
  {
   "cell_type": "markdown",
   "metadata": {},
   "source": [
    "將jieba斷詞寫成方法"
   ]
  },
  {
   "cell_type": "code",
   "execution_count": 36,
   "metadata": {},
   "outputs": [],
   "source": [
    "def cutflow(p):\n",
    "    cutresult = \" \".join(jieba.cut(p))\n",
    "    return cutresult.replace(\"\\r\", \"\").replace(\"\\n\", \"\")"
   ]
  },
  {
   "cell_type": "markdown",
   "metadata": {},
   "source": [
    "載入詞向量模型與貝氏模型"
   ]
  },
  {
   "cell_type": "code",
   "execution_count": 37,
   "metadata": {},
   "outputs": [],
   "source": [
    "clg = joblib.load('clg') \n",
    "vec = joblib.load('vec') "
   ]
  },
  {
   "cell_type": "markdown",
   "metadata": {},
   "source": [
    "文章藍綠貼標分析方法:貝氏定理"
   ]
  },
  {
   "cell_type": "code",
   "execution_count": 38,
   "metadata": {},
   "outputs": [],
   "source": [
    "def label_predict(text):\n",
    "    docs_news = cutflow(text)\n",
    "    c=[{\"content\" : docs_news,\n",
    "       \"tag\" : 0}]\n",
    "    d = pd.DataFrame(c)\n",
    "    test_counts = vec.transform(d[\"content\"])\n",
    "    pre = clg.predict(test_counts)\n",
    "    label_result = list(pre)[0]\n",
    "    if label_result == '1':\n",
    "        result = \"blue\"\n",
    "    elif label_result == '0':\n",
    "        result = \"green\"\n",
    "    return result"
   ]
  },
  {
   "cell_type": "markdown",
   "metadata": {},
   "source": [
    "文章摘要分析 需要的套件"
   ]
  },
  {
   "cell_type": "code",
   "execution_count": 39,
   "metadata": {},
   "outputs": [
    {
     "name": "stdout",
     "output_type": "stream",
     "text": [
      "Requirement already satisfied: networkx in /opt/conda/lib/python3.6/site-packages (2.2)\n",
      "Requirement already satisfied: decorator>=4.3.0 in /opt/conda/lib/python3.6/site-packages (from networkx) (4.3.0)\n",
      "Requirement already satisfied: textrank4zh in /opt/conda/lib/python3.6/site-packages (0.3)\n",
      "Requirement already satisfied: numpy>=1.7.1 in /opt/conda/lib/python3.6/site-packages (from textrank4zh) (1.15.4)\n",
      "Requirement already satisfied: jieba>=0.35 in /opt/conda/lib/python3.6/site-packages (from textrank4zh) (0.39)\n",
      "Requirement already satisfied: networkx>=1.9.1 in /opt/conda/lib/python3.6/site-packages (from textrank4zh) (2.2)\n",
      "Requirement already satisfied: decorator>=4.3.0 in /opt/conda/lib/python3.6/site-packages (from networkx>=1.9.1->textrank4zh) (4.3.0)\n"
     ]
    }
   ],
   "source": [
    "!pip install networkx\n",
    "!pip install textrank4zh\n",
    "from  __future__  import print_function\n",
    "import jieba\n",
    "import numpy\n",
    "import networkx\n",
    "import sys\n",
    "import codecs \n",
    "from textrank4zh import TextRank4Keyword ,TextRank4Sentence"
   ]
  },
  {
   "cell_type": "markdown",
   "metadata": {},
   "source": [
    "文章摘要方法:TextRank"
   ]
  },
  {
   "cell_type": "code",
   "execution_count": 40,
   "metadata": {},
   "outputs": [],
   "source": [
    "def news_summary(text):\n",
    "    tr4s = TextRank4Sentence()\n",
    "    tr4s.analyze( text = text, lower = True , source = ' all_filters ' )\n",
    "    for item in tr4s.get_key_sentences( num = 1 ):\n",
    "        return item.sentence"
   ]
  },
  {
   "cell_type": "markdown",
   "metadata": {},
   "source": [
    "Elasticsearch 需要的套件"
   ]
  },
  {
   "cell_type": "code",
   "execution_count": 41,
   "metadata": {},
   "outputs": [
    {
     "name": "stdout",
     "output_type": "stream",
     "text": [
      "Requirement already satisfied: elasticsearch in /opt/conda/lib/python3.6/site-packages (6.3.1)\n",
      "Requirement already satisfied: urllib3>=1.21.1 in /opt/conda/lib/python3.6/site-packages (from elasticsearch) (1.23)\n"
     ]
    }
   ],
   "source": [
    "!pip install elasticsearch\n",
    "from elasticsearch import Elasticsearch"
   ]
  },
  {
   "cell_type": "code",
   "execution_count": 42,
   "metadata": {},
   "outputs": [],
   "source": [
    "# 建立Elasticsearch連線\n",
    "es = Elasticsearch(['elasticsearch:9200'])"
   ]
  },
  {
   "cell_type": "code",
   "execution_count": null,
   "metadata": {},
   "outputs": [],
   "source": [
    "# 在Elasticsearch建立index，亦可加入body參數先定義mapping格式\n",
    "es.indices.create(index = 'news', ignore = 400)"
   ]
  },
  {
   "cell_type": "code",
   "execution_count": null,
   "metadata": {},
   "outputs": [],
   "source": [
    "# 將Elasticsearch定義所放入的資料格式:mapping\n",
    "es.indices.put_mapping(index = \"news\",\n",
    "                       doc_type = \"politics\",                \n",
    "                       body = {\n",
    "                        \"properties\": {\n",
    "                            \"source\": {\"type\": \"text\"},\n",
    "                            \"url\": {\"type\": \"text\"},\n",
    "                            \"title\": {\"type\": \"text\"},\n",
    "                            \"date_\": {\"type\": \"text\"},\n",
    "                            \"author\": {\"type\": \"text\"},\n",
    "                            \"content\": {\"type\": \"text\"},\n",
    "                            \"kw\": {\"type\": \"text\"},\n",
    "                            \"img_url\": {\"type\": \"text\"},\n",
    "                            \"@timestamp\": {\"type\": \"date\"}\n",
    "                        }\n",
    "                    }\n",
    "                )"
   ]
  },
  {
   "cell_type": "code",
   "execution_count": 43,
   "metadata": {},
   "outputs": [],
   "source": [
    "# 為了將匯入資料的時間加入時區\n",
    "from datetime import datetime, timedelta, timezone\n",
    "tz_utc_8 = timezone(timedelta(hours=8)) # 創建時區UTC+8:00"
   ]
  },
  {
   "cell_type": "code",
   "execution_count": null,
   "metadata": {},
   "outputs": [],
   "source": []
  },
  {
   "cell_type": "code",
   "execution_count": null,
   "metadata": {},
   "outputs": [],
   "source": []
  },
  {
   "cell_type": "markdown",
   "metadata": {},
   "source": [
    "Kafka Consumer需要的套件"
   ]
  },
  {
   "cell_type": "code",
   "execution_count": 44,
   "metadata": {},
   "outputs": [
    {
     "name": "stdout",
     "output_type": "stream",
     "text": [
      "Requirement already satisfied: kafka in /opt/conda/lib/python3.6/site-packages (1.3.5)\r\n"
     ]
    }
   ],
   "source": [
    "!pip install kafka\n",
    "from kafka import KafkaConsumer, TopicPartition\n",
    "import sys\n",
    "import json, time, requests"
   ]
  },
  {
   "cell_type": "code",
   "execution_count": 60,
   "metadata": {},
   "outputs": [
    {
     "name": "stdout",
     "output_type": "stream",
     "text": [
      "Start listen incoming messages ... \n",
      "\n",
      "load default bestMainFeatures\n",
      "load default bestMainFeatures success!!\n"
     ]
    },
    {
     "name": "stderr",
     "output_type": "stream",
     "text": [
      "/opt/conda/lib/python3.6/site-packages/sklearn/base.py:251: UserWarning: Trying to unpickle estimator DictVectorizer from version 0.18.1 when using version 0.20.1. This might lead to breaking code or invalid results. Use at your own risk.\n",
      "  UserWarning)\n",
      "/opt/conda/lib/python3.6/site-packages/sklearn/base.py:251: UserWarning: Trying to unpickle estimator LabelEncoder from version 0.18.1 when using version 0.20.1. This might lead to breaking code or invalid results. Use at your own risk.\n",
      "  UserWarning)\n",
      "/opt/conda/lib/python3.6/site-packages/sklearn/base.py:251: UserWarning: Trying to unpickle estimator LogisticRegression from version 0.18.1 when using version 0.20.1. This might lead to breaking code or invalid results. Use at your own risk.\n",
      "  UserWarning)\n"
     ]
    },
    {
     "name": "stdout",
     "output_type": "stream",
     "text": [
      "load model from LogisticRegression\n",
      "topic=test, partition=0, offset=9 : (key=ettoday, value={'source': 'ETtoday', 'url': 'https://www.ettoday.net/news/20181224/1339020.htm', 'title': '同意和卓榮泰直播 館長：我歸覽趴火笑你不敢來', 'date_': '2018/12/24 12:05', 'author': ['政治中心'], 'content': '民進黨黨主席候選人、行政院秘書長卓榮泰日前曾表示，若成吉思汗健身俱樂部館長陳之漢願邀他一起直播，他很願意聊聊，盼能聽到「同溫層聽不到的聲音」。對此，館長回應，卓榮泰沒跟他聯繫，「我笑你不敢來」，「我龜懶趴火，我很想要問一些問題」，要卓榮泰別只是透過媒體放話。據《鏡週刊》報導，卓榮泰認為，想要聆聽支持者的聲音，「我可以去跟陳其邁喝咖啡，我也可以去跟館長聊一聊啊！我可以唱詹雅雯的〈深情海岸〉，我也可以找鄭進一來唱〈家後〉吧！」對此，館長在直播中表示，卓榮泰沒有與他聯絡，自己很想跟一個要做黨主席的人一起直播，「我第一個就問促轉會」、「我很想問你，你當黨主席的時候，你的立委能不能通過一些有意義的審查案」、「我笑你不敢來！你要來不用新聞叫囂、直接打電話來嘛！」館長指出，若一起直播，大家就想看新任黨主席能不能讓他問一些問題，「我龜懶趴火，我很想要問一些問題」，像是薪水都沒漲，原物料一直漲，年輕人連摩托車都快買不起，同樣的機車在國外賣三分之一的價錢，「請問我們親愛的民進黨做了嗎？你們是上來圖利財團，還是為人民做事的？」', 'kw': ['對此', '我龜', '館長', '直播', '卓榮泰', '問題', '聲音', '民進黨'], 'img_url': 'https://cdn2.ettoday.net/images/3785/d3785468.jpg', 'ariticle_emotion': 'negative', 'label': 'green', 'abstract': '」對此，館長在直播中表示，卓榮泰沒有與他聯絡，自己很想跟一個要做黨主席的人一起直播，「我第一個就問促轉會」、「我很想問你，你當黨主席的時候，你的立委能不能通過一些有意義的審查案」、「我笑你不敢來'})\n",
      "\n",
      "\n",
      "Start sending data to MySQL !!!\n",
      "<Response [200]>\n",
      "{'status_describe': 'success add News'}\n",
      "\n",
      "\n",
      "Start sending data to elasticsearch !!!\n",
      "\n",
      "\n",
      "topic=test, partition=0, offset=10 : (key=ettoday, value={'source': 'ETtoday', 'url': 'https://www.ettoday.net/news/20181224/1338982.htm', 'title': '林佳龍「成為光」與市民勉勵 網喊：我把戶籍遷回去', 'date_': '2018/12/24 11:29', 'author': ['政治中心'], 'content': '台中市長林佳龍在24日這任期最後一天，在臉書釋出《成為光》影片並表示，「當我們一起，為家的美好，感到驕傲。我們沒有停下的理由，永遠相信希望、相信光明、相信台中。」。影片一出，有網友大喊，「我把戶籍遷回去」卸任在即，林佳龍一早在臉書PO《成為光》，娓娓道出擔任台中市長的心路歷程，影片回顧綠川柳川整治、台中火車站新站平台、台中花博、捷運綠線試運轉、台中公園日月湖百年首度大清淤、興建水資源處理中心與外埔綠能生態園區等政績。林佳龍表示，經歷10年努力，他有幸在4年前獲得台中市民的付託，開啟一趟新的旅程，走在光裡，也引著光，照進台中的每個角落。\\n\\r\\n林佳龍指出，當山線不再是遙遠邊緣，當海線不再停滯不前，當屯區充滿生機朝氣，當舊城重拾昔日光榮；當山海屯城，不再隔閡，攜手前進。\\n\\r\\n林佳龍提及，「當我們一起，為家的美好，感到驕傲。我們沒有停下的理由，永遠相信希望、相信光明、相信台中。這一刻，我們成為光。」影片一出，許多網友紛紛留言「我身旁的朋友，都說林佳龍 做的很好，卻為什麼會沒選上？ 怪怪」、「謝謝市長四年的陪伴！期待再見」、「你四年後回來選，我把戶籍遷回去選你」', 'kw': ['林佳龍', '成為', '台中市長', '臉書', '我們', '相信', '台中', '影片'], 'img_url': 'https://cdn2.ettoday.net/images/3785/d3785337.jpg', 'ariticle_emotion': 'positive', 'label': 'green', 'abstract': '影片一出，有網友大喊，「我把戶籍遷回去」卸任在即，林佳龍一早在臉書PO《成為光》，娓娓道出擔任台中市長的心路歷程，影片回顧綠川柳川整治、台中火車站新站平台、台中花博、捷運綠線試運轉、台中公園日月湖百年首度大清淤、興建水資源處理中心與外埔綠能生態園區等政績'})\n",
      "\n",
      "\n",
      "Start sending data to MySQL !!!\n",
      "<Response [200]>\n",
      "{'status_describe': 'success add News'}\n",
      "\n",
      "\n",
      "Start sending data to elasticsearch !!!\n",
      "\n",
      "\n",
      "topic=test, partition=0, offset=11 : (key=ettoday, value={'source': 'ETtoday', 'url': 'https://www.ettoday.net/news/20181224/1338838.htm', 'title': '不受「小英海嘯」影響！鄭文燦漂亮連任 沈富雄：民進黨宋楚瑜', 'date_': '2018/12/24 11:03', 'author': ['政治中心'], 'content': '民進黨籍桃園市長鄭文燦以55萬2330票大勝國民黨候選人陳學聖，成功高票連任。資深媒體人陳揮文在節目上提到，鄭文燦不受到總統蔡英文執政影響，仍然能漂亮連任，所以「打鐵還是要自身硬」，不要牽拖母雞。但前民進黨立委沈富雄卻持不同意見，認為鄭文燦是「民進黨宋楚瑜」，所以票數當然多。陳輝文在23日播出的政論節目《新聞深喉嚨》中指出，鄭文燦的得票數跟得票率都往上，「你們這些民進黨的立委，很擔心海嘯來，你要看看鄭文燦，人家怎麼做，他怎麼做的？他得票都往上，他有受到中央的影響嗎？」可能也有影響，也有可能他的票會更高，但是鄭文燦連任的非常漂亮。陳輝文說，還是要認真去經營選區的話，不管總統候選人是蔡英文、賴清德，或是其他人。總統候選人對「小雞」立委有沒有影響？有影響，但是打鐵還要自身硬，自己才是關鍵。「我承認總統候選人對立委會有影響，但是你要想辦法把影響盡量降到最低，把你自己的優勢跟優點突顯出來，不要牽拖別人。」沈富雄則認為，陳揮文的說法似是而非，民進黨下次可能不是50席，也許只剩20席或30席，掉了那麼多，難道這些人都不努力嗎？他們努力得要死，怎麼會不努力？鄭文燦這一次比上一次好，他上一次連勝選的講稿都沒有準備好，上次是僥倖選上，是因為海嘯把他帶上來，所以成績當然不是那麼好，現在給他4年的機會，就變成了「民進黨的宋楚瑜」，所以票當然好。', 'kw': ['立委', '影響', '鄭文燦', '打鐵', '沈富雄', '陳揮文', '連任', '總統候選人', '民進黨'], 'img_url': 'https://cdn2.ettoday.net/images/3771/d3771098.jpg', 'ariticle_emotion': 'negative', 'label': 'green', 'abstract': '資深媒體人陳揮文在節目上提到，鄭文燦不受到總統蔡英文執政影響，仍然能漂亮連任，所以「打鐵還是要自身硬」，不要牽拖母雞'})\n",
      "\n",
      "\n",
      "Start sending data to MySQL !!!\n",
      "<Response [200]>\n",
      "{'status_describe': 'success add News'}\n",
      "\n",
      "\n",
      "Start sending data to elasticsearch !!!\n",
      "\n",
      "\n",
      "topic=test, partition=0, offset=12 : (key=ettoday, value={'source': 'ETtoday', 'url': 'https://www.ettoday.net/news/20181224/1338899.htm', 'title': '卡蛋被離職 林洲民：對遠雄放水是柯文哲政治生命結束的開始', 'date_': '2018/12/24 10:55', 'author': ['政治中心'], 'content': '大巨蛋遲遲無法復工，傳出台北市長柯文哲將撤換都發局長林洲民，改由台中市祕書長黃景茂接任，林洲民則轉任都更中心董事長，但此人事異動讓林洲民不滿，在臉書開砲市府有「趙友友」。據《聯合報》報導，林洲民被要求離職，讓他直指對遠雄放水就是柯文哲政治生命結束的開始。大巨蛋卡蛋3年半，傳出原因出在林洲民。林洲民2015年5月以遠雄未按圖施工，勒令大巨蛋停工，同年12月他在都市設計審議會上要求遠雄撤件，後來遠雄在2017年向北市府重新遞件，但都審會委員及林洲民強力要求，雙方沒達到共識，至今復工無望。柯文哲過去對遠雄態度強硬，但隨著大巨蛋遲遲無法復工，大巨蛋成為揮不去的陰影，對遠雄態度也逐漸放軟，據了解，柯文哲曾在內部會議痛罵副市長林欽榮及林洲民，也怪罪兩人讓自己選票流失。柯文哲25日連任市長當天，將宣布小內閣名單，如今卻傳出都發局長一職將異動，由黃景茂接掌，林洲民則調任到都更中心董事長。面對人事異動的傳聞，林洲民在臉書發文，以「趙友友」暗指與遠雄集團趙藤雄交好的人士，文中指出，「趙友友友友們，請適可而止！我，林洲民，在過去兩個星期，親眼看見，親耳聽到：『把林洲民移開，大巨蛋審查，比較容易通過！』。」此外，據《聯合報》報導，林洲民在和友人私人訊息中爆料，自己被副市長鄧家基、祕書長張哲揚及市長辦公室主任李文宗等人先後約談，要求離職，原因是公宅跳票、執行不力及大巨蛋審查找遠雄麻煩。據了解，鄧家基、張哲揚要求林洲民離職，並詢問是否願意調任都更中心董事長，林洲民多次問「這真的是柯文哲的意思嗎？這是你們的話，還是市長的話？」，並要求和柯文哲面談。林洲民質疑，是不是自己「卡蛋」才被拔官，但當場都否認；他還諷刺蔡壁如、李文宗是十足「趙友友」，連帶影響柯文哲的判斷，他相信對遠雄放水，就是柯文哲政治生命結束的開始。對此，張哲揚表示，當天沒提到大巨蛋三字，大家肯定林洲民在建築設計上的能力，但選舉期間，北市府公宅進度飽受外界抨擊，這是管理問題，至於轉任都更中心董事長，則是希望繼續借重林洲民的專長。李文宗也指出，北市府每周針對大巨蛋都有開會，一向公開透明，自己沒遠雄的私人電話，更沒私下見面，怎會是「趙友友」？讓林洲民轉任都更中心董事長，純粹是選後職務調動，且政務官任用是市長的人事權。', 'kw': ['遠雄', '友友', '董事長', '都更', '市長', '大巨蛋', '林洲民', '柯文哲'], 'img_url': 'https://cdn2.ettoday.net/images/3784/d3784010.jpg', 'ariticle_emotion': 'negative', 'label': 'green', 'abstract': '大巨蛋遲遲無法復工，傳出台北市長柯文哲將撤換都發局長林洲民，改由台中市祕書長黃景茂接任，林洲民則轉任都更中心董事長，但此人事異動讓林洲民不滿，在臉書開砲市府有「趙友友」'})\n",
      "\n",
      "\n",
      "Start sending data to MySQL !!!\n",
      "<Response [200]>\n",
      "{'status_describe': 'success add News'}\n",
      "\n",
      "\n",
      "Start sending data to elasticsearch !!!\n",
      "\n",
      "\n",
      "topic=test, partition=0, offset=13 : (key=ettoday, value={'source': 'ETtoday', 'url': 'https://www.ettoday.net/news/20181224/1338858.htm', 'title': '傳吳釗燮有望回鍋國安會 部長機要趙怡翔將外派副代表', 'date_': '2018/12/24 09:39', 'author': ['政治中心'], 'content': '行政院年後改組，外交部、國安會人事也將調整。據媒體報導，有黨政高層透露，外交部長吳釗燮有望回鍋國安會祕書長，而新任外交部長人選將在駐美代表高碩泰與駐歐盟代表曾厚仁擇一，此外，部長機要趙怡翔可能外派為副代表。據媒體報導，李大維擔任外交部長時，吳釗燮時任國安會祕書長，卻無法插手外交部的細部政策與人事，因此，國安會與外交部常有不同意見；直到今年2月，兩人職務互調，吳釗燮得以掌握對外宣傳力度、對內政策觀念，在人事任命上異動頻繁，拔擢年輕同仁，並勤於至各館處巡視，對外交部大幅掌握。吳釗燮上任以來，邦交國布吉納法索、多明尼加、薩爾瓦多接連與台灣斷交，在野黨多次要求吳釗燮下台以示負責，但吳釗燮仍是民進黨內少數具有國際視野人士，故極受總統蔡英文的器重，年後改組有望回鍋國安會，擔任祕書長，而李大維則結束「階段性任務」。據了解，若吳釗燮調回國安會秘書長，新任外交部長人選將在高碩泰與曾厚仁擇一；過去李大維擔任外交部長時，高碩泰有時會跳過外交部，直接向吳釗燮報告；而曾厚仁在蔡政府上任後，被延攬出任總統府副祕書長，是蔡英文重要幕僚，隨後轉任國安會副祕書長，高、曾兩人與吳釗燮都有工作默契。另一方面，據了解，吳釗燮將安排其機要趙怡翔出任公使或副代表，消息傳出在部內引發抨擊；趙怡翔現年31歲，2年前在蔡英文就職總統大典上，以一口流利英文，獲封「口譯哥」，隨後跟著吳釗燮任國安會、外交部機要，傳出趙怡翔的辦公室已清空，外派人事已在作業，去處可能是美或歐洲等館處。', 'kw': ['趙怡', '機要', '外交部', '祕書長', '趙怡翔', '高碩泰', '吳釗燮', '外交部長', '國安會'], 'img_url': 'https://cdn2.ettoday.net/images/3629/d3629336.jpg', 'ariticle_emotion': 'positive', 'label': 'green', 'abstract': '據媒體報導，有黨政高層透露，外交部長吳釗燮有望回鍋國安會祕書長，而新任外交部長人選將在駐美代表高碩泰與駐歐盟代表曾厚仁擇一，此外，部長機要趙怡翔可能外派為副代表'})\n",
      "\n",
      "\n",
      "Start sending data to MySQL !!!\n",
      "<Response [200]>\n",
      "{'status_describe': 'success add News'}\n",
      "\n",
      "\n",
      "Start sending data to elasticsearch !!!\n",
      "\n",
      "\n",
      "topic=test, partition=0, offset=14 : (key=ettoday, value={'source': 'ETtoday', 'url': 'https://www.ettoday.net/news/20181224/1338807.htm', 'title': '孫大千批國民黨老將變不出新把戲 「人民期待過更好的生活」', 'date_': '2018/12/24 08:54', 'author': ['政治中心'], 'content': '前國民黨立委孫大千24日在臉書表示，當國民黨的老將都變不出新把戲的時候，黨為什麼不能夠大公無私，為國舉才？台灣人民根本不在意國民黨能不能拿回政權，但期待能夠過更好的生活。孫大千認為，為什麼國民黨的總統候選人一定要從那幾位「老掉牙的太陽」當中，挑一位來參選？難道，這20年來國民黨沒有其他人才讓人民選擇？誰規定一定要有顯赫的從政資歷，才有資格參選總統。孫大千指出，國民黨內有意參選的諸位太陽們，除了全台走透透、出書爆料明志、成立競選辦公室、等待人民的聲音、以及坐等黃袍加身之外，卻沒有一個人，能夠勇敢提出台灣人民當前最在意的問題，以及解決的方案。孫大千表示，國民黨「老天王」和「舊太陽」們始終不願意改變和轉型，還喊著過時的口號，和擺弄著老派的身段，「那麼，為什麼國民黨不能夠本著天下為公的胸懷，向外去尋找更多適合領導台灣的總統人選呢？」孫大千強調，台灣人民不在意國民黨能不能拿回政權，但強烈期待能夠過更好的生活，2020年任何一個政黨都可以輸，但台灣不能夠再輸了。', 'kw': ['台灣人民', '參選', '不能夠', '國民黨', '能夠', '吳敦義', '馬英九', '朱立倫', '太陽', '什麼', '王金平', '孫大千'], 'img_url': 'https://cdn2.ettoday.net/images/3757/d3757352.jpg', 'ariticle_emotion': 'positive', 'label': 'blue', 'abstract': '孫大千表示，國民黨「老天王」和「舊太陽」們始終不願意改變和轉型，還喊著過時的口號，和擺弄著老派的身段，「那麼，為什麼國民黨不能夠本著天下為公的胸懷，向外去尋找更多適合領導台灣的總統人選呢'})\n",
      "\n",
      "\n",
      "Start sending data to MySQL !!!\n",
      "<Response [200]>\n",
      "{'status_describe': 'success add News'}\n",
      "\n",
      "\n",
      "Start sending data to elasticsearch !!!\n",
      "\n",
      "\n",
      "topic=test, partition=0, offset=15 : (key=ettoday, value={'source': 'ETtoday', 'url': 'https://www.ettoday.net/news/20181224/1338674.htm', 'title': '談高雄「賽馬夢」 韓國瑜：講出去我自己也嚇一跳！', 'date_': '2018/12/24 00:03', 'author': ['政治中心'], 'content': '準高雄市長韓國瑜選後的一舉一動都被放大檢視，日前談到楠梓區高雄煉油廠舊址該如何活化時，拋出在此興建「賽馬場」的點子引發外界熱議。韓國瑜23日出席維多利亞雙語學校校慶時回應，這是他跟工商界人士談的，想法尚未成熟，「結果他們講出去了我自己也嚇了一跳」。韓國瑜20日出席「與韓國瑜準市長有約－工商建研會政策建言」時，提到將已關廠的中油高雄煉油廠轉型為賽馬場，希望以賽馬產業鏈拚經濟，消息一出引發外界熱議。農委會則表示，《動物保護法》第10條規定，不得以直接、間接賭博為目的，利用動物進行競技行為，違者可罰5萬至25萬元，若韓國瑜真的要建賽馬場，以現行法規來說確實違法。法界人士也說，現行《刑法》仍有賭博罪處罰規定，要靠立博弈專法才能設賽馬場。此外，關懷生命協會創會理事長釋昭慧與動保人士不約而同抨擊韓國瑜此舉「違法又殘忍」，釋昭慧更說，若高雄發展賽馬產業，「絕對反對到底」。準新聞局長王淺秋21日澄清，這只是創意發想，還沒有具體政策，必須等團隊上任後深入討論，賽馬場也不一定要蓋在高雄煉油廠，如果有可能希望一月能赴香港考察。韓國瑜23日出席維多利亞雙語學校校慶時回應，「賽馬是我跟工商界人士談的，這是一個我自己的想法，未必完全成熟希望大家保密。不要講出去，拜託他們。結果他們講出去了我自己也嚇了一跳」。', 'kw': ['高雄煉油廠', '韓國瑜', '他們', '賽馬', '賽馬場', '引發', '熱議', '高雄', '講出去'], 'img_url': 'https://cdn2.ettoday.net/images/3735/d3735762.jpg', 'ariticle_emotion': 'negative', 'label': 'green', 'abstract': '韓國瑜23日出席維多利亞雙語學校校慶時回應，這是他跟工商界人士談的，想法尚未成熟，「結果他們講出去了我自己也嚇了一跳」'})\n",
      "\n",
      "\n",
      "Start sending data to MySQL !!!\n"
     ]
    },
    {
     "name": "stdout",
     "output_type": "stream",
     "text": [
      "<Response [200]>\n",
      "{'status_describe': 'success add News'}\n",
      "\n",
      "\n",
      "Start sending data to elasticsearch !!!\n",
      "\n",
      "\n",
      "topic=test, partition=0, offset=16 : (key=ettoday, value={'source': 'ETtoday', 'url': 'https://www.ettoday.net/news/20181223/1338704.htm', 'title': '大學姊悄轉戰台中！柯P「她沒跟我講」…盧秀燕「曝光隱瞞原因」', 'date_': '2018/12/23 23:01', 'author': ['政治中心'], 'content': '準台中市長盧秀燕23日公布第5波人事，觀光局長由台北市長柯文哲競選辦公室發言人、「大學姊」林筱淇出任，成了這波人事的最大亮點；柯文哲得知後坦言，「她（林筱淇）去台中事先沒有跟我講！」對此，盧秀燕也緩頰，表示人事在發布前有要求林筱淇保密，因此她才未事先告知柯P。「用人不分黨派！」盧秀燕表示，先前就曾注意到林筱淇的口條清晰、態度穩健，對她留下很好的印象，因此主動與她聯繫，原本屬意要讓林擔任台中市府發言人，但在知道她的專長是行銷管理後，認為是個拚經濟、拚觀光的好人才，因此改讓她出任觀光局長。面對記者提問，是否有事先告知柯市長；林筱淇表示，先前曾於臉書發文找工作，這一事有告知柯P，「他知道我在找工作，但不知道後續找到怎樣的工作，相信今天記者會後就會知道我的新工作了！」現年40歲的林筱淇已婚，先生是台中市的開業醫師。林筱淇說，台中市是她的第二故鄉，原本新工作就鎖定在台北、台中兩地，當時盧秀燕主動與她聯繫感到相當訝異，「我跟盧市長沒有見過面、也不認識，但2人聊過後感受到她的溫暖、親切，稍加評估後決定接受挑戰！」對於這一人事案，柯文哲23日晚間受訪時表示，先前有詢問林筱淇要不要去選立委，但她意願似乎不高，「後來她說要去找工作，就這樣，她去台中事先沒有跟我講。盧秀燕也幫忙緩頰，表示人事發布前都有先要求當事人保密，避免受到不必要的干擾，維持一個純淨的空間、確保發布人事順利成功，「這也是林筱淇沒有跟柯報告新工作的原因。」', 'kw': ['台中市', '觀光局', '發布', '人事', '盧秀燕', '沒有', '她的', '台中', '柯文哲', '林筱淇', '大學姊'], 'img_url': 'https://cdn2.ettoday.net/images/3783/d3783968.jpg', 'ariticle_emotion': 'positive', 'label': 'green', 'abstract': '」對於這一人事案，柯文哲23日晚間受訪時表示，先前有詢問林筱淇要不要去選立委，但她意願似乎不高，「後來她說要去找工作，就這樣，她去台中事先沒有跟我講'})\n",
      "\n",
      "\n",
      "Start sending data to MySQL !!!\n",
      "<Response [200]>\n",
      "{'status_describe': 'success add News'}\n",
      "\n",
      "\n",
      "Start sending data to elasticsearch !!!\n",
      "\n",
      "\n",
      "topic=test, partition=0, offset=17 : (key=ettoday, value={'source': 'ETtoday', 'url': 'https://www.ettoday.net/news/20181223/1338717.htm', 'title': '影／不能說假新聞男大生沒有關係！謝長廷深夜PO文回應了：為幫蘇啓誠解套', 'date_': '2018/12/23 22:58', 'author': ['政治中心'], 'content': '前大阪辦事處處長蘇啓誠遺孀日前公開聲明，強調丈夫是在完成上級交代之檢討報書後，表明「不想受到羞辱」之遺言，以死明志。對此，駐日代表謝長廷23日在臉書表示，看了蘇啓誠「願坦然受處」的檢討報告後，便「鍥而不捨」的查出假消息的散波者，目的就是要幫他解套，而非外界所指的卸責。謝長廷指出，他在9月19日看到9月10日蘇啓誠寫的「願坦然受處」的檢討報告，內容是以巴士是載到泉佐野站及guruguru的電話為真的前提而檢討，他認為，若此事為真，那麼蘇啓誠願受處分的檢討報告會變成可以處分的根據，問題只是處分輕重及是否過當的問題。謝長廷表示，關西機場事件受困旅客輸運完畢的第一天（9/6），他就在臉書指出所謂「中國領事館派車優先救出中國人」是假新聞，後來對照網路資料，更發現guruguru講說他打電話給大阪辦事處遭到冷漠嘲諷的事情，也應該是假消息。謝長廷說，自己鍥而不捨追出假新聞率先散播者guruguru的身分，以及他打電話是假的，還有坐到泉佐野車站也是假的真相，「正是為蘇處長自我檢討報告的前提解套」，因為，蘇啓誠在檢討報告中說，自己沒有前往車站關心難辭其咎，謝長廷認為，外界追究檢討報告是否被迫？上級是否受新聞誤導而處分？處分是否過當？這些問題，既然雙方都通聯記錄可查，應該很簡單可以查明。謝長廷強調，如查出蘇啓誠輕生之前有接獲上級壓力電話而不甘受辱輕生，那應該是直接促使他尋短最後一根稻草，而不能說假新聞沒有關係，現在guruguru尋求國民黨立委保護，在政黨刻意庇護下，當時利用假新聞率先攻擊阪辦事處的委員們一下子説要為蘇啓誠申寃，但一下子又要保護假新聞的造謠者，竟然說guruguru講的也都是事實。謝長廷質疑，如果這樣，那為什麼不勸他堂堂正正出來解釋清楚，他為什麼一再逃避說謊，扯什麼帳號被盜用呢？「一切都是事實」這種說法是要陷蘇前處長於不義？還是真的要為他申寃？令人費解。針對連日來外界對蘇啓誠輕生的各種揣測，謝長廷表示，媒體引用許多「知情人士、關鍵人士、消息靈通人士、可靠人士的話，講了不少猜測，情節也許引人，但多數也是不可靠的假消息」，他強調，究竟他們是誰？有多關鍵？多可靠？多靈通？講話內容的根據什麼？有什麼不能讓人知道真名的理由？「希望社會大眾冷靜思考一下，就不會隨機起舞。」', 'kw': ['ru', '處分', '假新聞', '謝長廷', '蘇啓誠', '檢討報告', '什麼', 'gu'], 'img_url': 'https://cdn2.ettoday.net/images/3727/d3727499.jpg', 'ariticle_emotion': 'negative', 'label': 'green', 'abstract': '謝長廷強調，如查出蘇啓誠輕生之前有接獲上級壓力電話而不甘受辱輕生，那應該是直接促使他尋短最後一根稻草，而不能說假新聞沒有關係，現在guruguru尋求國民黨立委保護，在政黨刻意庇護下，當時利用假新聞率先攻擊阪辦事處的委員們一下子説要為蘇啓誠申寃，但一下子又要保護假新聞的造謠者，竟然說guruguru講的也都是事實'})\n",
      "\n",
      "\n",
      "Start sending data to MySQL !!!\n",
      "<Response [200]>\n",
      "{'status_describe': 'success add News'}\n",
      "\n",
      "\n",
      "Start sending data to elasticsearch !!!\n",
      "\n",
      "\n",
      "topic=test, partition=0, offset=18 : (key=ettoday, value={'source': 'ETtoday', 'url': 'https://www.ettoday.net/news/20181223/1338585.htm', 'title': '影／9台人受困印尼海嘯找到了！ 外交部：僅擦傷、已協助就醫 ', 'date_': '2018/12/23 22:08', 'author': ['政治中心'], 'content': '印尼巽他海峽（Sunda Strait）22日晚間發生海嘯侵襲，外交部原先已協助救援6名受困的台人，後來又因為新一波海嘯的襲擊，受困人數又多了3名，共導致9人受困，我駐印尼代表持續努力聯繫後，印尼救援隊已接到上述9人，正將我國人送往當地醫院的途，外交部表示，確認相關國人均屬擦傷，並無大礙，根據印尼國家災害應變總署印尼雅加達時間23日下午5時33分發布新聞稿表示，截至本日下午4時止，計有222人死亡、843受傷、28人失蹤，傷亡慘重。外交部新聞稿指出，受困的吳女士夫婿等印尼籍親屬受限於救援隊人數限制雖未同車，但已於隨後到達醫院，駐處人員並即提供手機供家屬聯繫國內親屬報平安，驚醫生評估住院國人身體狀況許可，吳女士及親友等9人將於今晚轉院至鄰近雅加達地區的醫院。外交部表示，有關我國人因海嘯受困事，印尼中央政府各相關機關及災區萬丹省政府均表達協助意願，與我駐處密切聯繫。駐處已派員協同三輪基金會等僑社團體前往營救，雖山上大雨不斷，我駐處同仁仍將突破困難，與我國人會合，以提供更直接有效的協助。由於印尼海嘯災情重大，總統蔡英文及外交部均在推特對本案受害者表達慰問，也已整備四架運輸機待命，一旦我國人或印尼方運輸、救援有需求，可隨時準備出發；另我駐處也將持續與印尼國家災害應變總署(BNPB)等相關單位保持聯繫，以持續瞭解是否有其他國人遭受海嘯波及，同步密切掌握最新發展。外交部提到，我國駐印尼代表處啟動因大阪風災之後檢討建立的急難救助系統，結合印尼各救災資源部門及台商，以提供國人有效協助。', 'kw': ['印尼', '駐處', '印尼海嘯', '海嘯', '外交部', '協助', '我國', '受困', '持續'], 'img_url': 'https://cdn2.ettoday.net/images/3784/d3784381.jpg', 'ariticle_emotion': 'positive', 'label': 'green', 'abstract': '印尼巽他海峽（Sunda Strait）22日晚間發生海嘯侵襲，外交部原先已協助救援6名受困的台人，後來又因為新一波海嘯的襲擊，受困人數又多了3名，共導致9人受困，我駐印尼代表持續努力聯繫後，印尼救援隊已接到上述9人，正將我國人送往當地醫院的途，外交部表示，確認相關國人均屬擦傷，並無大礙，根據印尼國家災害應變總署印尼雅加達時間23日下午5時33分發布新聞稿表示，截至本日下午4時止，計有222人死亡、843受傷、28人失蹤，傷亡慘重'})\n",
      "\n",
      "\n",
      "Start sending data to MySQL !!!\n",
      "<Response [200]>\n",
      "{'status_describe': 'success add News'}\n",
      "\n",
      "\n",
      "Start sending data to elasticsearch !!!\n",
      "\n",
      "\n",
      "type ==> <class 'KeyboardInterrupt'>\n",
      "value ==> \n",
      "traceback ==> file name: <ipython-input-60-b3582b186f24>\n",
      "traceback ==> line no: 26\n",
      "traceback ==> function name: <module>\n"
     ]
    }
   ],
   "source": [
    "if __name__ == \"__main__\":\n",
    "    # 步驟1.設定要連線到Kafka集群的相關設定, 產生一個Kafka的Consumer的實例\n",
    "    consumer = KafkaConsumer(\n",
    "        # Kafka集群在那裡?\n",
    "        bootstrap_servers=[\"kafka1:29092\"],\n",
    "        # ConsumerGroup的名稱\n",
    "        group_id=\"test01\",\n",
    "        # 指定msgKey的反序列化器, 若Key為None, 無法反序列化\n",
    "        key_deserializer=bytes.decode,\n",
    "        # 指定msgValue的反序列化器\n",
    "        #value_deserializer=bytes.decode,\n",
    "        value_deserializer=lambda m: json.loads(m.decode('utf-8')),\n",
    "        # 是否從這個ConsumerGroup尚未讀取的partition / offset開始讀\n",
    "        auto_offset_reset=\"earliest\",\n",
    "    )\n",
    "    # 步驟2.指定想要訂閱訊息的topic名稱\n",
    "    topic_name = \"test\"\n",
    "    # 步驟3.讓Consumer向Kafka集群訂閱指定的topic\n",
    "    consumer.subscribe(topics = topic_name)\n",
    "\n",
    "\n",
    "    # 步驟4.持續的拉取Kafka有進來的訊息\n",
    "    try:\n",
    "        print(\"Start listen incoming messages ...\",\"\\n\")\n",
    "        # 持續監控是否有新的record進來 - 方法一\n",
    "        for record in consumer:\n",
    "            topic = record.topic\n",
    "            partition = record.partition\n",
    "            offset = record.offset\n",
    "            timestamp = record.timestamp\n",
    "        \n",
    "            # 取出msgKey與msgValue\n",
    "            msgKey = record.key\n",
    "            msgValue = record.value\n",
    "            \n",
    "            # 將新聞作者欄位做處理後再放回\n",
    "            if msgValue[\"source\"] == \"TVBS\":      \n",
    "                msgValue[\"author\"] = tvbs_author_etl(msgValue[\"author\"][0])\n",
    "            elif msgValue[\"source\"] == \"SETN\":\n",
    "                msgValue[\"author\"] = setn_author_etl(msgValue[\"author\"][0])\n",
    "            elif msgValue[\"source\"] == \"ETtoday\":\n",
    "                msgValue[\"author\"] = ettoday_author_etl(msgValue[\"author\"][0])\n",
    "            \n",
    "            # 將新聞內文做文章情緒分析並加入欄位與結果\n",
    "            msgValue[\"ariticle_emotion\"] = emo_swinger(msgValue[\"content\"])\n",
    "            # 將新聞內文做關鍵字分析再合併至新聞抓到的關鍵字列表，並把重複的篩選掉\n",
    "            content_keyword = keyword_analysis(msgValue[\"content\"])\n",
    "            for k in content_keyword:\n",
    "                msgValue[\"kw\"].append(k)\n",
    "            msgValue[\"kw\"] = list(set(msgValue[\"kw\"]))\n",
    "            # 將新聞內文做藍綠分析並加入欄位結果\n",
    "            msgValue[\"label\"] = label_predict(msgValue[\"content\"])\n",
    "            # 將新聞做文章摘要並加入欄位與結果\n",
    "            msgValue[\"abstract\"] = news_summary(msgValue[\"content\"])\n",
    "            \n",
    "            # 秀出metadata與msgKey & msgValue訊息\n",
    "            print(\"topic=%s, partition=%s, offset=%s : (key=%s, value=%s)\" % (record.topic, record.partition,\n",
    "                                                                              record.offset, record.key, msgValue))\n",
    "            print(\"\\n\")\n",
    "            \n",
    "            print(\"Start sending data to MySQL !!!\")\n",
    "            # 將資料送入MySQL\n",
    "            ip_location = 'chatbot_api'\n",
    "                         \n",
    "            News = msgValue\n",
    "            \n",
    "            # 將json傳回API Server\n",
    "            Endpoint = 'http://%s:5000/news' % (ip_location)\n",
    "\n",
    "            # header要特別註明是json格式\n",
    "            Header = {'Content-Type':'application/json'}\n",
    "            \n",
    "            # 傳送post對API server新增資料 \n",
    "            Response = requests.post(Endpoint,headers=Header,data=json.dumps(News))\n",
    "\n",
    "            # 印出Response的資料訊息\n",
    "            print(Response)\n",
    "            Response = Response.json()\n",
    "            print(Response)\n",
    "            print(\"\\n\")\n",
    "            \n",
    "        \n",
    "            print(\"Start sending data to elasticsearch !!!\")\n",
    "            # 將資料送入Elasticsearch\n",
    "            elasticsearch_data = msgValue\n",
    "            elasticsearch_data[\"@timestamp\"] = datetime.now().replace(tzinfo = tz_utc_8)            \n",
    "            # 將資料放入Elasticsearch，若沒有index，會直接建立index、type \n",
    "            es.index(index = 'news', doc_type = 'politics', body = elasticsearch_data, refresh = True )\n",
    "            print(\"\\n\")\n",
    "\n",
    "    except:\n",
    "        # 錯誤處理\n",
    "        e_type, e_value, e_traceback = sys.exc_info()\n",
    "        print(\"type ==> %s\" % (e_type))\n",
    "        print(\"value ==> %s\" % (e_value))\n",
    "        print(\"traceback ==> file name: %s\" % (e_traceback.tb_frame.f_code.co_filename))\n",
    "        print(\"traceback ==> line no: %s\" % (e_traceback.tb_lineno))\n",
    "        print(\"traceback ==> function name: %s\" % (e_traceback.tb_frame.f_code.co_name))\n",
    "    finally:\n",
    "        consumer.close()"
   ]
  },
  {
   "cell_type": "code",
   "execution_count": null,
   "metadata": {},
   "outputs": [],
   "source": []
  },
  {
   "cell_type": "code",
   "execution_count": null,
   "metadata": {},
   "outputs": [],
   "source": []
  },
  {
   "cell_type": "code",
   "execution_count": null,
   "metadata": {},
   "outputs": [],
   "source": []
  }
 ],
 "metadata": {
  "kernelspec": {
   "display_name": "Python 3",
   "language": "python",
   "name": "python3"
  },
  "language_info": {
   "codemirror_mode": {
    "name": "ipython",
    "version": 3
   },
   "file_extension": ".py",
   "mimetype": "text/x-python",
   "name": "python",
   "nbconvert_exporter": "python",
   "pygments_lexer": "ipython3",
   "version": "3.6.5"
  }
 },
 "nbformat": 4,
 "nbformat_minor": 2
}
